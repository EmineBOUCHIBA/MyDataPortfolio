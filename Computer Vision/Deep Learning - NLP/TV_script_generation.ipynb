{
 "cells": [
  {
   "cell_type": "markdown",
   "metadata": {
    "id": "9lhoRbam9--N"
   },
   "source": [
    "# TV Script Generation\n",
    "In this project, you'll generate your own [Simpsons](https://en.wikipedia.org/wiki/The_Simpsons) TV scripts using RNNs. \n",
    "\n",
    "You'll be using part of the [Simpsons dataset](https://www.kaggle.com/wcukierski/the-simpsons-by-the-data) of scripts from 27 seasons.\n",
    "\n",
    "The Neural Network you'll build will generate a new TV script for a scene at [Moe's Tavern](https://simpsonswiki.com/wiki/Moe's_Tavern).\n",
    "\n",
    "**Objectif : Generate a new episode of the Simpsons.**\n",
    "- 1 Get the Data\n",
    "- 2 Explore the Data\n",
    "- 3 Implement Preprocessing functions\n",
    "    - 3-1 Lookup Table\n",
    "    - 3-2 Tokenize Punctuation\n",
    "- 4 Build the neural network\n",
    "    - 4-1 Create Training examples and targets\n",
    "    - 4-2 Create Training batches\n",
    "- 5 Build the model\n",
    "- 6 Try the model\n",
    "- 7 Train the model\n",
    "- 8 Generate TV Scripts\n",
    "    "
   ]
  },
  {
   "cell_type": "code",
   "execution_count": null,
   "metadata": {
    "id": "1wCt6UYz9--O"
   },
   "outputs": [],
   "source": [
    "import numpy as np\n",
    "import pandas as pd\n",
    "import os\n",
    "import sys\n",
    "import warnings\n",
    "import tensorflow as tf\n",
    "from tensorflow import keras as k\n",
    "from tensorflow.keras import layers"
   ]
  },
  {
   "cell_type": "code",
   "execution_count": null,
   "metadata": {
    "id": "QFsZdl21VuwV"
   },
   "outputs": [],
   "source": [
    "import problem_unittests as tests\n",
    "import helper"
   ]
  },
  {
   "cell_type": "markdown",
   "metadata": {
    "id": "wEqfRMx_9--R"
   },
   "source": [
    "## 1 - Get the Data\n",
    "The data is already provided for you.  You'll be using a subset of the original dataset.  It consists of only the scenes in Moe's Tavern.  This doesn't include other versions of the tavern, like \"Moe's Cavern\", \"Flaming Moe's\", \"Uncle Moe's Family Feed-Bag\", etc.."
   ]
  },
  {
   "cell_type": "code",
   "execution_count": null,
   "metadata": {
    "id": "3ebmH2mt9--S"
   },
   "outputs": [],
   "source": [
    "data_dir = 'data/moes_tavern_lines.txt'\n",
    "text = helper.load_data(data_dir)\n",
    "    \n",
    "# Ignore notice, since we don't use it for analysing the data\n",
    "text = text[81:]"
   ]
  },
  {
   "cell_type": "code",
   "execution_count": null,
   "metadata": {
    "id": "OJb0PA8hEgOU"
   },
   "outputs": [],
   "source": [
    "print(text[:1000])"
   ]
  },
  {
   "cell_type": "markdown",
   "metadata": {
    "id": "x3rWEECL9--U"
   },
   "source": [
    "## 2 - Explore the Data\n",
    "Play around with `view_sentence_range` to view different parts of the data."
   ]
  },
  {
   "cell_type": "code",
   "execution_count": null,
   "metadata": {
    "id": "9GN2da_h9--V"
   },
   "outputs": [],
   "source": [
    "print('Dataset Stats')\n",
    "print('Roughly the number of unique words: {}'.format(len({word: None for word in text.split()})))"
   ]
  },
  {
   "cell_type": "code",
   "execution_count": null,
   "metadata": {
    "id": "EnOG3NUbHvSw"
   },
   "outputs": [],
   "source": [
    "# TODO Compute the number of scenes\n",
    "scenes = XXXX\n",
    "print('Number of scenes: {}'.format(len(scenes)))"
   ]
  },
  {
   "cell_type": "code",
   "execution_count": null,
   "metadata": {
    "id": "Tasm-LHbHvcP"
   },
   "outputs": [],
   "source": [
    "# TODO Compute the average number of sentence per scene\n",
    "sentence_count_scene = XXXX\n",
    "print('Average number of sentences in each scene: {}'.format(np.average(sentence_count_scene)))"
   ]
  },
  {
   "cell_type": "code",
   "execution_count": null,
   "metadata": {
    "id": "UIvSXMLJHqJg"
   },
   "outputs": [],
   "source": [
    "sentences = [sentence for scene in scenes for sentence in scene.split('\\n')]\n",
    "print('Number of lines: {}'.format(len(sentences)))"
   ]
  },
  {
   "cell_type": "code",
   "execution_count": null,
   "metadata": {
    "id": "81GP0QwmItn3"
   },
   "outputs": [],
   "source": [
    "# TODO Compute the average number of word per sentence\n",
    "word_count_sentence = XXXX\n",
    "print('Average number of words in each line: {}'.format(np.average(word_count_sentence)))"
   ]
  },
  {
   "cell_type": "code",
   "execution_count": null,
   "metadata": {
    "id": "UAfL6HUiHqUv"
   },
   "outputs": [],
   "source": [
    "view_sentence_range = (0, 10)\n",
    "\n",
    "\n",
    "print('The sentences {} to {}:'.format(*view_sentence_range))\n",
    "print('\\n'.join(text.split('\\n')[view_sentence_range[0]:view_sentence_range[1]]))"
   ]
  },
  {
   "cell_type": "markdown",
   "metadata": {
    "id": "fNwTwJoC9--Y"
   },
   "source": [
    "## 3 - Implement Preprocessing Functions\n",
    "The first thing to do to any dataset is preprocessing.  Implement the following preprocessing functions below:\n",
    "- Lookup Table\n",
    "- Tokenize Punctuation"
   ]
  },
  {
   "cell_type": "markdown",
   "metadata": {
    "id": "IM8Td47Aloyw"
   },
   "source": [
    "### 3-1 Lookup Table\n",
    "To create a word embedding, you first need to transform the words to ids.  In this function, create two dictionaries:\n",
    "- Dictionary to go from the words to an id, we'll call `vocab_to_int`\n",
    "- Dictionary to go from the id to word, we'll call `int_to_vocab`\n",
    "\n",
    "Return these dictionaries in the following tuple `(vocab_to_int, int_to_vocab)"
   ]
  },
  {
   "cell_type": "code",
   "execution_count": null,
   "metadata": {
    "id": "aTFUqifP9--Y"
   },
   "outputs": [],
   "source": [
    "def create_lookup_tables(text):\n",
    "    \"\"\"\n",
    "    Create lookup tables for vocabulary\n",
    "    :param text: The text of tv scripts split into words\n",
    "    :return: A tuple of dicts (vocab_to_int, int_to_vocab)\n",
    "    \"\"\"\n",
    "    \n",
    "    # TODO: Implement Function\n",
    "    \n",
    "    text_set = set(text)\n",
    "    vocab_to_int = XXXX\n",
    "    \n",
    "    int_to_vocab = XXXX\n",
    "    \n",
    "    return vocab_to_int, int_to_vocab\n",
    "\n",
    "\n",
    "tests.test_create_lookup_tables(create_lookup_tables)"
   ]
  },
  {
   "cell_type": "markdown",
   "metadata": {
    "id": "2DMgTwvt9--b"
   },
   "source": [
    "### 3-2 Tokenize Punctuation\n",
    "We'll be splitting the script into a word array using spaces as delimiters.  However, punctuations like periods and exclamation marks make it hard for the neural network to distinguish between the word \"bye\" and \"bye!\".\n",
    "\n",
    "Implement the function `token_lookup` to return a dict that will be used to tokenize symbols like \"!\" into \"||Exclamation_Mark||\".  Create a dictionary for the following symbols where the symbol is the key and value is the token:\n",
    "- Period ( . )\n",
    "- Comma ( , )\n",
    "- Quotation Mark ( \" )\n",
    "- Semicolon ( ; )\n",
    "- Exclamation mark ( ! )\n",
    "- Question mark ( ? )\n",
    "- Left Parentheses ( ( )\n",
    "- Right Parentheses ( ) )\n",
    "- Dash ( -- )\n",
    "- Return ( \\n )\n",
    "\n",
    "This dictionary will be used to token the symbols and add the delimiter (space) around it.  This separates the symbols as it's own word, making it easier for the neural network to predict on the next word. Make sure you don't use a token that could be confused as a word. Instead of using the token \"dash\", try using something like \"||dash||\"."
   ]
  },
  {
   "cell_type": "code",
   "execution_count": null,
   "metadata": {
    "id": "375B3BcO9--c"
   },
   "outputs": [],
   "source": [
    "def token_lookup():\n",
    "    \"\"\"\n",
    "    Generate a dict to turn punctuation into a token.\n",
    "    :return: Tokenize dictionary where the key is the punctuation and the value is the token\n",
    "    \"\"\"\n",
    "    # TODO: Implement Function\n",
    "    return {\".\":\"||Period||\",\n",
    "            XXXX\n",
    "           }\n",
    "\n",
    "tests.test_tokenize(token_lookup)"
   ]
  },
  {
   "cell_type": "markdown",
   "metadata": {
    "id": "H_ZiuSTM9--e"
   },
   "source": [
    "### 3-3 Preprocess all the data and save it\n",
    "Running the code cell below will preprocess all the data and save it to file."
   ]
  },
  {
   "cell_type": "code",
   "execution_count": null,
   "metadata": {
    "id": "AvLFs3z99--f"
   },
   "outputs": [],
   "source": [
    "# Preprocess Training, Validation, and Testing Data\n",
    "helper.preprocess_and_save_data(data_dir, token_lookup, create_lookup_tables)"
   ]
  },
  {
   "cell_type": "markdown",
   "metadata": {
    "id": "wBS7GV8v9--h"
   },
   "source": [
    "### 3-4 Check Point\n",
    "This is your first checkpoint. If you ever decide to come back to this notebook or have to restart the notebook, you can start from here. The preprocessed data has been saved to disk."
   ]
  },
  {
   "cell_type": "code",
   "execution_count": null,
   "metadata": {
    "id": "YBgEGqrQ9--i"
   },
   "outputs": [],
   "source": [
    "int_text, vocab_to_int, int_to_vocab, token_dict = helper.load_preprocess()"
   ]
  },
  {
   "cell_type": "markdown",
   "metadata": {
    "id": "4hvJRs_t9--k"
   },
   "source": [
    "## 4 - Build the Neural Network\n",
    "\n",
    "In this section, you'll build the components necessary to build a Recurrent Neural Network\n",
    "\n",
    "### Check Access to GPU"
   ]
  },
  {
   "cell_type": "code",
   "execution_count": null,
   "metadata": {
    "id": "CQBAxXWs9--k"
   },
   "outputs": [],
   "source": [
    "# Check for a GPU\n",
    "if not tf.test.gpu_device_name():\n",
    "    warnings.warn('No GPU found. Please use a GPU to train your neural network.')\n",
    "else:\n",
    "    print('Default GPU Device: {}'.format(tf.test.gpu_device_name()))"
   ]
  },
  {
   "cell_type": "markdown",
   "metadata": {
    "id": "GOB7tYuTfRHE"
   },
   "source": [
    "### 4-1 Create Training examples and targets\n",
    "Next divide the text into example sequences. Each input sequence will contain seq_length words from the text.\n",
    "\n",
    "For each input sequence, the corresponding targets contain the same length of word, except shifted one word to the right.\n",
    "\n",
    "So break the text into chunks of seq_length+1. For example, say seq_length is 9 and our text is :\n",
    "- \"Michael Jordan is the greatest basketball player of all time\". \n",
    "\n",
    "The input sequence would be :\n",
    "- \"Michael Jordan is the greatest basketball player of all\"\n",
    "\n",
    "And the target sequence would be :\n",
    "- \"Jordan is the greatest basketball player of all time\".\n",
    "\n",
    "To do this first use the tf.data.Dataset.from_tensor_slices function to convert the word int vector into a stream of word indices.\n",
    "\n",
    "The [tf.data.Dataset API](https://www.tensorflow.org/api_docs/python/tf/data/Dataset) supports writing descriptive and efficient input pipelines. Dataset usage follows a common pattern:\n",
    "\n",
    "- Create a source dataset from your input data.\n",
    "- Apply dataset transformations to preprocess the data.\n",
    "- Iterate over the dataset and process the elements.\n",
    "\n",
    "Iteration happens in a streaming fashion, so the full dataset does not need to fit into memory."
   ]
  },
  {
   "cell_type": "code",
   "execution_count": null,
   "metadata": {
    "id": "onyhn9gYg0cJ"
   },
   "outputs": [],
   "source": [
    "# The maximum length sentence we want for a single input in words\n",
    "seq_length = 16\n",
    "examples_per_epoch = len(int_text)//(seq_length)\n",
    "print(examples_per_epoch)\n",
    "\n",
    "# Create training examples / targets\n",
    "word_dataset = tf.data.Dataset.from_tensor_slices(int_text)\n",
    "\n",
    "for i in word_dataset.take(5):\n",
    "    print(int_to_vocab[i.numpy()])"
   ]
  },
  {
   "cell_type": "markdown",
   "metadata": {
    "id": "9j3-SeyQ1K9z"
   },
   "source": [
    "The `batch` method lets us easily convert these individual words to sequences of the desired size."
   ]
  },
  {
   "cell_type": "code",
   "execution_count": null,
   "metadata": {
    "id": "QTDHriZ5fcx5"
   },
   "outputs": [],
   "source": [
    "sequences = word_dataset.batch(seq_length, drop_remainder=True)\n",
    "\n",
    "for item in sequences.take(1):\n",
    "    print(np.array(item))\n",
    "    print(repr(''.join([int_to_vocab[elt] for elt in np.array(item)])))"
   ]
  },
  {
   "cell_type": "markdown",
   "metadata": {
    "id": "d8Np0XA6Ip5t"
   },
   "source": [
    "For each sequence, duplicate and shift it to form the input and target text by using the `map` method to apply a simple function to each batch:"
   ]
  },
  {
   "cell_type": "code",
   "execution_count": null,
   "metadata": {
    "id": "qMJ9fyy8ImTl"
   },
   "outputs": [],
   "source": [
    "def split_input_target(chunk):\n",
    "    input_text = chunk[:-1]\n",
    "    target_text = chunk[1:]\n",
    "    return input_text, target_text\n",
    "\n",
    "dataset = sequences.map(split_input_target)"
   ]
  },
  {
   "cell_type": "markdown",
   "metadata": {
    "id": "kak3vSgHI_6r"
   },
   "source": [
    "Print the first examples input and target values:"
   ]
  },
  {
   "cell_type": "code",
   "execution_count": null,
   "metadata": {
    "id": "TX5JzfNYJDRo"
   },
   "outputs": [],
   "source": [
    "for input_example, target_example in  dataset.take(1):\n",
    "    print ('Input data: ', repr(''.join([int_to_vocab[elt] for elt in np.array(input_example)])))\n",
    "    #TODO TO IMPLEMENT\n",
    "    print ('Target data:', XXXX)"
   ]
  },
  {
   "cell_type": "markdown",
   "metadata": {
    "id": "qfq2-bhDIonn"
   },
   "source": [
    "Each index of these vectors are processed as one time step. For the input at time step 0, the model receives the index for 'moe_szyslak:' and trys to predict the index for '||left_parentheses||' as the next word. At the next timestep, it does the same thing but the `RNN` considers the previous step context in addition to the current input word."
   ]
  },
  {
   "cell_type": "code",
   "execution_count": null,
   "metadata": {
    "id": "hjM31cEvKOIK"
   },
   "outputs": [],
   "source": [
    "for i, (input_idx, target_idx) in enumerate(zip(input_example[:5], target_example[:5])):\n",
    "    print(\"Step {:4d}\".format(i))\n",
    "    print(\"  input: {} ({:s})\".format(input_idx, repr(int_to_vocab[input_idx.numpy()])))\n",
    "    print(\"  expected output: {} ({:s})\".format(target_idx, repr(int_to_vocab[target_idx.numpy()])))"
   ]
  },
  {
   "cell_type": "markdown",
   "metadata": {
    "id": "wXWzodVALRr_"
   },
   "source": [
    "### 4-2 Create training batches\n",
    "\n",
    "We used `tf.data` to split the text into manageable sequences. But before feeding this data into the model, we need to shuffle the data and pack it into batches."
   ]
  },
  {
   "cell_type": "code",
   "execution_count": null,
   "metadata": {
    "id": "B0hVkfqpLYca"
   },
   "outputs": [],
   "source": [
    "# Batch size\n",
    "BATCH_SIZE = 128\n",
    "\n",
    "# Buffer size to shuffle the dataset\n",
    "# (TF data is designed to work with possibly infinite sequences,\n",
    "# so it doesn't attempt to shuffle the entire sequence in memory. Instead,\n",
    "# it maintains a buffer in which it shuffles elements).\n",
    "BUFFER_SIZE = 10000\n",
    "\n",
    "dataset = dataset.shuffle(BUFFER_SIZE).batch(BATCH_SIZE, drop_remainder=True)\n",
    "\n",
    "dataset"
   ]
  },
  {
   "cell_type": "markdown",
   "metadata": {
    "id": "smd6VVg-9--p"
   },
   "source": [
    "## 5 Build the model\n",
    "Use `tf.keras.Sequential` to define the model. For this simple example three layers are used to define our model:\n",
    "\n",
    "* `tf.keras.layers.Embedding`: The input layer. A trainable lookup table that will map the numbers of each word to a vector with `embedding_dim` dimensions;\n",
    "* `tf.keras.layers.GRU`: A type of RNN with size `units=rnn_units` `return_sequences=True`, `stateful=True` and `recurrent_initializer='glorot_uniform'` (You can also use a LSTM layer here.)\n",
    "* `tf.keras.layers.Dense`: The output layer, with `vocab_size` outputs."
   ]
  },
  {
   "cell_type": "code",
   "execution_count": null,
   "metadata": {
    "id": "08TtIhzxMOUd"
   },
   "outputs": [],
   "source": [
    "# Length of the vocabulary in words\n",
    "vocab_size = len(vocab_to_int)\n",
    "\n",
    "# The embedding dimension\n",
    "embedding_dim = 256\n",
    "\n",
    "# Number of RNN units\n",
    "rnn_units = 512"
   ]
  },
  {
   "cell_type": "code",
   "execution_count": null,
   "metadata": {
    "id": "yxw8L8739--q"
   },
   "outputs": [],
   "source": [
    "# TODO TO IMPLEMENT\n",
    "def build_model(vocab_size, embedding_dim, rnn_units, batch_size):\n",
    "    model = tf.keras.Sequential([\n",
    "    XXXX\n",
    "    ])\n",
    "    return model"
   ]
  },
  {
   "cell_type": "code",
   "execution_count": null,
   "metadata": {
    "id": "1RpUiUDDMSbd"
   },
   "outputs": [],
   "source": [
    "# TODO TO IMPLEMENT\n",
    "model = build_model(XXXX)"
   ]
  },
  {
   "cell_type": "markdown",
   "metadata": {
    "id": "KQtPRTODMpYk"
   },
   "source": [
    "For each word the model looks up the embedding, runs the GRU one timestep with the embedding as input, and applies the dense layer to generate logits predicting the log-likelihood of the next word:\n",
    "\n",
    "![A drawing of the data passing through the model](images/text_generation_training.png)"
   ]
  },
  {
   "cell_type": "markdown",
   "metadata": {
    "id": "8Ayvx9jEMjIQ"
   },
   "source": [
    "Please note that we choose to Keras sequential model here since all the layers in the model only have single input and produce single output. In case you want to retrieve and reuse the states from stateful RNN layer, you might want to build your model with Keras functional API or model subclassing. Please check [Keras RNN guide](https://www.tensorflow.org/guide/keras/rnn#rnn_state_reuse) for more details."
   ]
  },
  {
   "cell_type": "markdown",
   "metadata": {
    "id": "mro7b0cVOFdB"
   },
   "source": [
    "## 6 Try the model\n",
    "\n",
    "Now run the model to see that it behaves as expected.\n",
    "\n",
    "First check the shape of the output:"
   ]
  },
  {
   "cell_type": "code",
   "execution_count": null,
   "metadata": {
    "id": "Yt65ODDMNLy9"
   },
   "outputs": [],
   "source": [
    "for input_example_batch, target_example_batch in dataset.take(1):\n",
    "    example_batch_predictions = model(input_example_batch)\n",
    "    print(example_batch_predictions.shape)\n",
    "    print(( BATCH_SIZE, seq_length-1, vocab_size ))"
   ]
  },
  {
   "cell_type": "markdown",
   "metadata": {
    "id": "I2NmTV0NOMCZ"
   },
   "source": [
    "In the above example the sequence length of the input is 16 (value of seq_length variable) but the model can be run on inputs of any length:"
   ]
  },
  {
   "cell_type": "code",
   "execution_count": null,
   "metadata": {
    "id": "kGQXr_JWNL2J"
   },
   "outputs": [],
   "source": [
    "model.summary()"
   ]
  },
  {
   "cell_type": "markdown",
   "metadata": {
    "id": "7HP4I4GWQhot"
   },
   "source": [
    "To get actual predictions from the model we need to sample from the output distribution, to get actual word indices. This distribution is defined by the logits over the word vocabulary.\n",
    "\n",
    "Note: It is important to sample from this distribution as taking the argmax of the distribution can easily get the model stuck in a loop.\n",
    "\n",
    "Try it for the first example in the batch:"
   ]
  },
  {
   "cell_type": "code",
   "execution_count": null,
   "metadata": {
    "id": "KlyrBj0uNL5i"
   },
   "outputs": [],
   "source": [
    "# Generate an array of size (seq_length,1). Each value of the array is a word index\n",
    "# logits: 2-D Tensor with shape [batch_size, num_classes]. Each slice [i, :] represents the unnormalized log-probabilities for all classes.\n",
    "# num_samples = Number of independent samples to draw for each row slice.\n",
    "# Return the drawn samples (random) of shape [batch_size, num_samples].\n",
    "sampled_indices = tf.random.categorical(logits = example_batch_predictions[0], num_samples=1)\n",
    "\n",
    "# Squeeze removes dimension of size 1 from the shape of a tensor\n",
    "sampled_indices = tf.squeeze(sampled_indices,axis=-1).numpy()"
   ]
  },
  {
   "cell_type": "markdown",
   "metadata": {
    "id": "vsZehSUFQ4XJ"
   },
   "source": [
    "This gives us, at each timestep, a prediction of the next word index:"
   ]
  },
  {
   "cell_type": "code",
   "execution_count": null,
   "metadata": {
    "id": "V24aWwXfNL8n"
   },
   "outputs": [],
   "source": [
    "sampled_indices"
   ]
  },
  {
   "cell_type": "markdown",
   "metadata": {
    "id": "ekzZN1VsQ7Mf"
   },
   "source": [
    "Decode these to see the text predicted by this untrained model:"
   ]
  },
  {
   "cell_type": "code",
   "execution_count": null,
   "metadata": {
    "id": "iet2B5DaTcz4"
   },
   "outputs": [],
   "source": [
    "input_example_batch[0].numpy()"
   ]
  },
  {
   "cell_type": "code",
   "execution_count": null,
   "metadata": {
    "id": "Rrfr47fiNoH4"
   },
   "outputs": [],
   "source": [
    "print(\"Input: \\n\", repr(\" \".join([int_to_vocab[elt] for elt in input_example_batch[0].numpy()])))\n",
    "print()\n",
    "print(\"Next Word Predictions: \\n\", repr(\" \".join([int_to_vocab[idx] for idx in sampled_indices])))"
   ]
  },
  {
   "cell_type": "markdown",
   "metadata": {
    "id": "nIa8HzQe9--v"
   },
   "source": [
    "## 7 Train the model\n",
    "At this point the problem can be treated as a standard classification problem. Given the previous RNN state, and the input this time step, predict the class of the next word."
   ]
  },
  {
   "cell_type": "markdown",
   "metadata": {
    "id": "c9Uz3jOqgpcj"
   },
   "source": [
    "### 7-1 Attach an optimizer, and a loss function\n",
    "\n",
    "The standard `tf.keras.losses.sparse_categorical_crossentropy` loss function works in this case because it is applied across the last dimension of the predictions.\n",
    "\n",
    "Because our model returns logits, we need to set the `from_logits` flag."
   ]
  },
  {
   "cell_type": "code",
   "execution_count": null,
   "metadata": {
    "id": "71edx0d89--v"
   },
   "outputs": [],
   "source": [
    "def loss(labels, logits):\n",
    "    return tf.keras.losses.sparse_categorical_crossentropy(labels, logits, from_logits=True)\n",
    "\n",
    "example_batch_loss  = loss(target_example_batch, example_batch_predictions)\n",
    "print(\"Prediction shape: \", example_batch_predictions.shape, \" # (batch_size, sequence_length, vocab_size)\")\n",
    "print(\"scalar_loss:      \", example_batch_loss.numpy().mean())"
   ]
  },
  {
   "cell_type": "markdown",
   "metadata": {
    "id": "Q63vRii5f2d2"
   },
   "source": [
    "Configure the training procedure using the `tf.keras.Model.compile` method. We'll use `tf.keras.optimizers.Adam` with default arguments and the loss function."
   ]
  },
  {
   "cell_type": "code",
   "execution_count": null,
   "metadata": {
    "id": "j3EMrNeIf1ms"
   },
   "outputs": [],
   "source": [
    "# TODO TO IMPLEMENT\n"
   ]
  },
  {
   "cell_type": "markdown",
   "metadata": {
    "id": "TQ-6qXraf6aA"
   },
   "source": [
    "### 7-2 Configure Check Point\n",
    "\n",
    "Use a `tf.keras.callbacks.ModelCheckpoint` to ensure that checkpoints are saved during training:"
   ]
  },
  {
   "cell_type": "code",
   "execution_count": null,
   "metadata": {
    "id": "6xAJteDaf1vG"
   },
   "outputs": [],
   "source": [
    "# Directory where the checkpoints will be saved\n",
    "checkpoint_dir = './training_checkpoints'\n",
    "# Name of the checkpoint files\n",
    "checkpoint_prefix = os.path.join(checkpoint_dir, \"ckpt_{epoch}\")\n",
    "\n",
    "checkpoint_callback=tf.keras.callbacks.ModelCheckpoint(\n",
    "    filepath=checkpoint_prefix,\n",
    "    save_weights_only=True)"
   ]
  },
  {
   "cell_type": "markdown",
   "metadata": {
    "id": "uR3q5SifgHpn"
   },
   "source": [
    "### 7-3 Execute the training\n",
    "\n",
    "To keep training time reasonable, use 10 epochs to train the model. In Colab, set the runtime to GPU for faster training."
   ]
  },
  {
   "cell_type": "code",
   "execution_count": null,
   "metadata": {
    "id": "4VdGTf1bf10Q"
   },
   "outputs": [],
   "source": [
    "EPOCHS=100"
   ]
  },
  {
   "cell_type": "code",
   "execution_count": null,
   "metadata": {
    "id": "md6okB91f15D"
   },
   "outputs": [],
   "source": [
    "history = model.fit(dataset, epochs=EPOCHS, callbacks=[checkpoint_callback])"
   ]
  },
  {
   "cell_type": "markdown",
   "metadata": {
    "id": "_dsv_flWhP_l"
   },
   "source": [
    "## 8 - Generate TV Script\n",
    "This will generate the TV script for you."
   ]
  },
  {
   "cell_type": "markdown",
   "metadata": {
    "id": "ZeLVT8Y5hYJp"
   },
   "source": [
    "### 8-1 Restore the latest checkpoint\n",
    "\n",
    "To keep this prediction step simple, use a batch size of 1.\n",
    "\n",
    "Because of the way the RNN state is passed from timestep to timestep, the model only accepts a fixed batch size once built.\n",
    "\n",
    "To run the model with a different `batch_size`, we need to rebuild the model and restore the weights from the checkpoint."
   ]
  },
  {
   "cell_type": "code",
   "execution_count": null,
   "metadata": {
    "id": "_yExz4E7ha0G"
   },
   "outputs": [],
   "source": [
    "tf.train.latest_checkpoint(checkpoint_dir)"
   ]
  },
  {
   "cell_type": "code",
   "execution_count": null,
   "metadata": {
    "id": "fxYYNIx2hd11"
   },
   "outputs": [],
   "source": [
    "model = build_model(vocab_size, embedding_dim, rnn_units, batch_size=1)\n",
    "\n",
    "model.load_weights(tf.train.latest_checkpoint(checkpoint_dir))\n",
    "\n",
    "model.build(tf.TensorShape([1, None]))"
   ]
  },
  {
   "cell_type": "code",
   "execution_count": null,
   "metadata": {
    "id": "ypCCevtMhd9t"
   },
   "outputs": [],
   "source": [
    "model.summary()"
   ]
  },
  {
   "cell_type": "markdown",
   "metadata": {
    "id": "aO1-xjPQhh7n"
   },
   "source": [
    "### 8-2 The prediction loop\n",
    "\n",
    "The following code block generates the text:\n",
    "\n",
    "* It Starts by choosing a start string, initializing the RNN state and setting the number of words to generate.\n",
    "\n",
    "* Get the prediction distribution of the next word using the start string and the RNN state.\n",
    "\n",
    "* Then, use a categorical distribution to calculate the index of the predicted word. Use this predicted word as our next input to the model.\n",
    "\n",
    "* The RNN state returned by the model is fed back into the model so that it now has more context, instead than only one word. After predicting the next word, the modified RNN states are again fed back into the model, which is how it learns as it gets more context from the previously predicted words.\n",
    "\n",
    "\n",
    "![To generate text the model's output is fed back to the input](images/text_generation_sampling.png)\n",
    "\n",
    "\n",
    "Looking at the generated text, you'll see the model knows when to capitalize, make paragraphs and imitates a Shakespeare-like writing vocabulary. With the small number of training epochs, it has not yet learned to form coherent sentences."
   ]
  },
  {
   "cell_type": "code",
   "execution_count": null,
   "metadata": {
    "id": "gNIoa0dmiAVI"
   },
   "outputs": [],
   "source": [
    "def generate_text(model, start_string, gen_length):\n",
    "    # Evaluation step (generating text using the learned model)\n",
    "\n",
    "    # Converting our start string to numbers (vectorizing)\n",
    "    input_eval = vocab_to_int[start_string]\n",
    "    input_eval = tf.expand_dims(input_eval, 0)\n",
    "\n",
    "    # Empty string to store our results\n",
    "    text_generated = []\n",
    "\n",
    "    # Here batch size == 1\n",
    "    model.reset_states()\n",
    "    for i in range(gen_length):\n",
    "        # TODO TO IMPLEMENT : call predict\n",
    "        predictions = XXX\n",
    "        # remove the batch dimension\n",
    "        predictions = tf.squeeze(predictions, 0)\n",
    "\n",
    "        predicted_id = tf.random.categorical(predictions, num_samples=1)[-1,0].numpy()\n",
    "\n",
    "        # We pass the predicted word as the next input to the model\n",
    "        # along with the previous hidden state\n",
    "        input_eval = tf.expand_dims([predicted_id], 0)\n",
    "\n",
    "        # TODO TO IMPLEMENT Add the generated word to the generated text\n",
    "        text_generated.append(XXX)\n",
    "\n",
    "    # Remove tokens\n",
    "    tv_script = start_string + ' '.join(text_generated)\n",
    "    for key, token in token_dict.items():\n",
    "        ending = ' ' if key in ['\\n', '(', '\"'] else ''\n",
    "        tv_script = tv_script.replace(' ' + token.lower(), key)\n",
    "    tv_script = tv_script.replace('\\n ', '\\n')\n",
    "    tv_script = tv_script.replace('( ', '(')\n",
    "\n",
    "    return (tv_script)"
   ]
  },
  {
   "cell_type": "markdown",
   "metadata": {
    "id": "Q9eLjPgiitQh"
   },
   "source": [
    "Let's go to prediction:\n",
    "- Set `gen_length` to 1000 (the length of TV script you want to generate.)\n",
    "- We will use the following start string: \"moe_szyslak:\""
   ]
  },
  {
   "cell_type": "code",
   "execution_count": null,
   "metadata": {
    "id": "5IkgFQiEiKyb"
   },
   "outputs": [],
   "source": [
    "print(generate_text(model, start_string=u\"moe_szyslak:\", gen_length=1000))"
   ]
  },
  {
   "cell_type": "markdown",
   "metadata": {
    "id": "XeoUPz-2i0SN"
   },
   "source": [
    "The easiest thing you can do to improve the results it to train it for longer (try `EPOCHS=30`).\n",
    "\n",
    "You can also experiment with a different start string, or try adding another RNN layer to improve the model's accuracy, or adjusting the temperature parameter to generate more or less random predictions."
   ]
  },
  {
   "cell_type": "markdown",
   "metadata": {
    "id": "AQLkn1X-9-_K"
   },
   "source": [
    "# The TV Script is Nonsensical\n",
    "It's ok if the TV script doesn't make any sense.  We trained on less than a megabyte of text.  In order to get good results, you'll have to use a smaller vocabulary or get more data.  Luckly there's more data!  As we mentioned in the begging of this project, this is a subset of [another dataset](https://www.kaggle.com/wcukierski/the-simpsons-by-the-data).  We didn't have you train on all the data, because that would take too long.  However, you are free to train your neural network on all the data.  After you complete the project, of course.\n"
   ]
  },
  {
   "cell_type": "code",
   "execution_count": null,
   "metadata": {
    "id": "cJRWRdnc9-_L"
   },
   "outputs": [],
   "source": []
  }
 ],
 "metadata": {
  "accelerator": "GPU",
  "colab": {
   "collapsed_sections": [],
   "name": "TV_script_generation.ipynb",
   "provenance": []
  },
  "kernelspec": {
   "display_name": "Python 3 (ipykernel)",
   "language": "python",
   "name": "python3"
  },
  "language_info": {
   "codemirror_mode": {
    "name": "ipython",
    "version": 3
   },
   "file_extension": ".py",
   "mimetype": "text/x-python",
   "name": "python",
   "nbconvert_exporter": "python",
   "pygments_lexer": "ipython3",
   "version": "3.9.12"
  },
  "vscode": {
   "interpreter": {
    "hash": "31f2aee4e71d21fbe5cf8b01ff0e069b9275f58929596ceb00d14d90e3e16cd6"
   }
  }
 },
 "nbformat": 4,
 "nbformat_minor": 4
}

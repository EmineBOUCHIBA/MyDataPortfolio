{
 "cells": [
  {
   "cell_type": "markdown",
   "id": "4ce7c1f5",
   "metadata": {},
   "source": [
    "# **Installing and Importing the RDFlib library :**"
   ]
  },
  {
   "cell_type": "code",
   "execution_count": 1,
   "id": "d15ae5f0",
   "metadata": {},
   "outputs": [
    {
     "name": "stdout",
     "output_type": "stream",
     "text": [
      "Requirement already satisfied: rdflib in c:\\users\\emine\\anaconda3\\lib\\site-packages (6.2.0)\n",
      "Requirement already satisfied: isodate in c:\\users\\emine\\anaconda3\\lib\\site-packages (from rdflib) (0.6.1)\n",
      "Requirement already satisfied: setuptools in c:\\users\\emine\\anaconda3\\lib\\site-packages (from rdflib) (63.4.1)\n",
      "Requirement already satisfied: pyparsing in c:\\users\\emine\\anaconda3\\lib\\site-packages (from rdflib) (3.0.9)\n",
      "Requirement already satisfied: six in c:\\users\\emine\\anaconda3\\lib\\site-packages (from isodate->rdflib) (1.16.0)\n",
      "Requirement already satisfied: rdflib-jsonld in c:\\users\\emine\\anaconda3\\lib\\site-packages (0.6.2)\n",
      "Requirement already satisfied: rdflib>=5.0.0 in c:\\users\\emine\\anaconda3\\lib\\site-packages (from rdflib-jsonld) (6.2.0)\n",
      "Requirement already satisfied: setuptools in c:\\users\\emine\\anaconda3\\lib\\site-packages (from rdflib>=5.0.0->rdflib-jsonld) (63.4.1)\n",
      "Requirement already satisfied: isodate in c:\\users\\emine\\anaconda3\\lib\\site-packages (from rdflib>=5.0.0->rdflib-jsonld) (0.6.1)\n",
      "Requirement already satisfied: pyparsing in c:\\users\\emine\\anaconda3\\lib\\site-packages (from rdflib>=5.0.0->rdflib-jsonld) (3.0.9)\n",
      "Requirement already satisfied: six in c:\\users\\emine\\anaconda3\\lib\\site-packages (from isodate->rdflib>=5.0.0->rdflib-jsonld) (1.16.0)\n"
     ]
    }
   ],
   "source": [
    "!pip install rdflib\n",
    "!pip install rdflib-jsonld\n",
    "from rdflib import Graph, Namespace, URIRef, RDF, RDFS, Literal"
   ]
  },
  {
   "cell_type": "markdown",
   "id": "ae28f325",
   "metadata": {},
   "source": [
    "# **Creation of a Graph object and loading the .owl file into it :**"
   ]
  },
  {
   "cell_type": "code",
   "execution_count": 2,
   "id": "2c2323d2",
   "metadata": {},
   "outputs": [
    {
     "data": {
      "text/plain": [
       "<Graph identifier=N50a26a0cda9d4630b64f590650eabbdc (<class 'rdflib.graph.Graph'>)>"
      ]
     },
     "execution_count": 2,
     "metadata": {},
     "output_type": "execute_result"
    }
   ],
   "source": [
    "g = Graph()\n",
    "g.bind(\"ont\", Namespace(\"http://www.semanticweb.org/emine/ontologies/2023/2/untitled-ontology-7#\"))\n",
    "g.parse(\"Part I - Ontology.owl\")"
   ]
  },
  {
   "cell_type": "markdown",
   "id": "a08d325e",
   "metadata": {},
   "source": [
    "# **Using of the RDFlib API :**"
   ]
  },
  {
   "cell_type": "markdown",
   "id": "fd24e7d7",
   "metadata": {},
   "source": [
    "## **Displaying all the Persons (without using queries, without inference) :**"
   ]
  },
  {
   "cell_type": "code",
   "execution_count": 3,
   "id": "a8cfc7a9",
   "metadata": {},
   "outputs": [
    {
     "name": "stdout",
     "output_type": "stream",
     "text": [
      "Eric_Bana\n",
      "Lupita_Nyong'o\n",
      "Theodore_Gottlieb\n",
      "David_Leitch\n",
      "Alfie_Allen\n",
      "Scott_Derrickson\n",
      "Christian_Bale\n",
      "Antonio_Banderas\n",
      "Samuel_L._Jackson\n",
      "Joanne_Samuel\n",
      "George_Miller\n",
      "J.K._Rowling\n",
      "Louise_Lasser\n",
      "Hugh_Keays-Byrne\n",
      "Daniel_Radcliffe\n",
      "Zak_Penn\n",
      "Woody_Allen\n",
      "Quentin_Tarantino\n",
      "Tim_Roth\n",
      "Byron_Kennedy\n",
      "Scott_Derrickson\n",
      "Jeremy_Renner\n",
      "Taylor_Sheridan\n",
      "Jon_Spaihts\n",
      "David_S._Goyer\n",
      "David_Yates\n",
      "C._Robert_Cargill\n",
      "Sammi_Davis\n",
      "Scarlett_Johansson\n",
      "Kurt_Russell\n",
      "Benedict_Cumberbatch\n",
      "John_Huston\n",
      "Robert_Downey_Jr.\n",
      "Mel_Gibson\n",
      "Romeo_Muller\n",
      "Josh_Brolin\n",
      "Denis_Villeneuve\n",
      "Woody_Allen\n",
      "Alexandre_Rockwell\n",
      "Derek_Kolstad\n",
      "Allison_Anders\n",
      "Robert_Rodriguez\n",
      "Jules_Bass\n",
      "Jennifer_Connelly\n",
      "Emma_Watson\n",
      "Orson_Bean\n",
      "J.R.R._Tolkien\n",
      "Chad_Stahelski\n",
      "Eric_Heisserer\n",
      "Christopher_Nolan\n",
      "Emily_Blunt\n",
      "Aaron_Eckhart\n",
      "Mickey_Rose\n",
      "Alexandre_Rockwell\n",
      "Chris_Evans\n",
      "Danai_Gurira\n",
      "Joe_Robert_Cole\n",
      "Benicio_Del_Toro\n",
      "Christopher_Nolan\n",
      "Keanu_Reeves\n",
      "Rupert_Grint\n",
      "Carlos_Montalban\n",
      "Ted_Chiang\n",
      "James_Schamus\n",
      "Jennifer_Jason_Leigh\n",
      "Quentin_Tarantino\n",
      "Rachel_McAdams\n",
      "Michael_Nyqvist\n",
      "Ang_Lee\n",
      "Jonathan_Nolan\n",
      "Sam_Elliott\n",
      "Ryan_Coogler\n",
      "Arthur_Rankin_Jr.\n",
      "Joss_Whedon\n",
      "Letitia_Wright\n",
      "Woody_Allen\n",
      "James_McCausland\n",
      "Quentin_Tarantino\n",
      "Chiwetel_Ejiofor\n",
      "Robert_Rodriguez\n",
      "Ryan_Coogler\n",
      "Joss_Whedon\n",
      "Allison_Anders\n",
      "Heath_Ledger\n",
      "Forest_Whitaker\n",
      "Jack_Kirby\n",
      "Steve_Kloves\n",
      "Stan_Lee\n",
      "John_Travolta\n",
      "George_Miller\n",
      "Amy_Adams\n"
     ]
    }
   ],
   "source": [
    "persons = []\n",
    "for s, p, o in g:\n",
    "    if p == RDF.type and o == URIRef(\"http://www.semanticweb.org/emine/ontologies/2023/2/untitled-ontology-7#Actor\"):\n",
    "        persons.append(s)\n",
    "    if p == RDF.type and o == URIRef(\"http://www.semanticweb.org/emine/ontologies/2023/2/untitled-ontology-7#Director\"):\n",
    "        persons.append(s)\n",
    "    if p == RDF.type and o == URIRef(\"http://www.semanticweb.org/emine/ontologies/2023/2/untitled-ontology-7#Writer\"):\n",
    "        persons.append(s)\n",
    "\n",
    "\n",
    "for person in persons:\n",
    "    print(person.split('#')[1])"
   ]
  },
  {
   "cell_type": "markdown",
   "id": "cb589b50",
   "metadata": {},
   "source": [
    "## **Displaying all the Persons (using a query, without inference) :**"
   ]
  },
  {
   "cell_type": "code",
   "execution_count": 4,
   "id": "74bc0877",
   "metadata": {},
   "outputs": [
    {
     "name": "stdout",
     "output_type": "stream",
     "text": [
      "Aaron_Eckhart : actor\n",
      "Alfie_Allen : actor\n",
      "Amy_Adams : actor\n",
      "Antonio_Banderas : actor\n",
      "Benedict_Cumberbatch : actor\n",
      "Benicio_Del_Toro : actor\n",
      "Carlos_Montalban : actor\n",
      "Chiwetel_Ejiofor : actor\n",
      "Chris_Evans : actor\n",
      "Christian_Bale : actor\n",
      "Danai_Gurira : actor\n",
      "Daniel_Radcliffe : actor\n",
      "Emily_Blunt : actor\n",
      "Emma_Watson : actor\n",
      "Eric_Bana : actor\n",
      "Forest_Whitaker : actor\n",
      "Heath_Ledger : actor\n",
      "Hugh_Keays-Byrne : actor\n",
      "Jennifer_Connelly : actor\n",
      "Jennifer_Jason_Leigh : actor\n",
      "Jeremy_Renner : actor\n",
      "Joanne_Samuel : actor\n",
      "John_Huston : actor\n",
      "John_Travolta : actor\n",
      "Josh_Brolin : actor\n",
      "Keanu_Reeves : actor\n",
      "Kurt_Russell : actor\n",
      "Letitia_Wright : actor\n",
      "Louise_Lasser : actor\n",
      "Mel_Gibson : actor\n",
      "Michael_Nyqvist : actor\n",
      "Orson_Bean : actor\n",
      "Quentin_Tarantino : actor\n",
      "Rachel_McAdams : actor\n",
      "Robert_Downey_Jr. : actor\n",
      "Rupert_Grint : actor\n",
      "Sam_Elliott : actor\n",
      "Sammi_Davis : actor\n",
      "Samuel_L._Jackson : actor\n",
      "Scarlett_Johansson : actor\n",
      "Theodore_Gottlieb : actor\n",
      "Tim_Roth : actor\n",
      "Woody_Allen : actor\n",
      "Lupita_Nyong'o : actor\n",
      "Alexandre_Rockwell : director\n",
      "Allison_Anders : director\n",
      "Ang_Lee : director\n",
      "Arthur_Rankin_Jr. : director\n",
      "Chad_Stahelski : director\n",
      "Christopher_Nolan : director\n",
      "David_Leitch : director\n",
      "David_Yates : director\n",
      "Denis_Villeneuve : director\n",
      "George_Miller : director\n",
      "Joss_Whedon : director\n",
      "Jules_Bass : director\n",
      "Quentin_Tarantino : director\n",
      "Robert_Rodriguez : director\n",
      "Ryan_Coogler : director\n",
      "Scott_Derrickson : director\n",
      "Woody_Allen : director\n",
      "Alexandre_Rockwell : writer\n",
      "Allison_Anders : writer\n",
      "Byron_Kennedy : writer\n",
      "C._Robert_Cargill : writer\n",
      "Christopher_Nolan : writer\n",
      "David_S._Goyer : writer\n",
      "Derek_Kolstad : writer\n",
      "Eric_Heisserer : writer\n",
      "George_Miller : writer\n",
      "J.K._Rowling : writer\n",
      "J.R.R._Tolkien : writer\n",
      "Jack_Kirby : writer\n",
      "James_McCausland : writer\n",
      "James_Schamus : writer\n",
      "Joe_Robert_Cole : writer\n",
      "Jon_Spaihts : writer\n",
      "Jonathan_Nolan : writer\n",
      "Joss_Whedon : writer\n",
      "Mickey_Rose : writer\n",
      "Quentin_Tarantino : writer\n",
      "Robert_Rodriguez : writer\n",
      "Romeo_Muller : writer\n",
      "Ryan_Coogler : writer\n",
      "Scott_Derrickson : writer\n",
      "Stan_Lee : writer\n",
      "Steve_Kloves : writer\n",
      "Taylor_Sheridan : writer\n",
      "Ted_Chiang : writer\n",
      "Woody_Allen : writer\n",
      "Zak_Penn : writer\n"
     ]
    }
   ],
   "source": [
    "query = \"\"\"\n",
    "    PREFIX ont: <http://www.semanticweb.org/emine/ontologies/2023/2/untitled-ontology-7#>\n",
    "    SELECT ?person ?type\n",
    "    WHERE {\n",
    "        ?person rdf:type ?type .\n",
    "        FILTER (?type = ont:Actor || ?type = ont:Director || ?type = ont:Writer)\n",
    "    }\n",
    "\"\"\"\n",
    "\n",
    "results = g.query(query)\n",
    "\n",
    "for row in results:\n",
    "    person = row['person'].split(\"#\")[1]\n",
    "    person_type = row['type'].split(\"#\")[1].lower()\n",
    "    print(f\"{person} : {person_type}\")"
   ]
  },
  {
   "cell_type": "markdown",
   "id": "de37789c",
   "metadata": {},
   "source": [
    "## **Develops a program that :**"
   ]
  },
  {
   "cell_type": "markdown",
   "id": "affb87ea",
   "metadata": {},
   "source": [
    "### **Reads a name of a movie :**"
   ]
  },
  {
   "cell_type": "code",
   "execution_count": 7,
   "id": "0c3cf073",
   "metadata": {},
   "outputs": [
    {
     "name": "stdout",
     "output_type": "stream",
     "text": [
      "Type the movie titlef\n"
     ]
    }
   ],
   "source": [
    "movies_titles=[]\n",
    "movie_title=input(\"Type the movie title\")\n",
    "movie_title_query='''\n",
    "    PREFIX ont: <http://www.semanticweb.org/emine/ontologies/2023/2/untitled-ontology-7#>\n",
    "    SELECT ?title\n",
    "    WHERE {\n",
    "      ?movie rdf:type ont:Movie .\n",
    "      ?movie ont:title ?title .\n",
    "    }\n",
    "'''\n",
    "\n",
    "results = g.query(movie_title_query)\n",
    "\n",
    "for row in results:\n",
    "    movies_titles.append(row[0].value.upper())"
   ]
  },
  {
   "cell_type": "markdown",
   "id": "fdff9854",
   "metadata": {},
   "source": [
    "### **If it doesn’t exist displays an error message. Else, display its year, country, genres, actors, where and when :**"
   ]
  },
  {
   "cell_type": "code",
   "execution_count": 8,
   "id": "0b4a4ebf",
   "metadata": {},
   "outputs": [
    {
     "name": "stdout",
     "output_type": "stream",
     "text": [
      "Error: no movie found with title 'f'\n"
     ]
    }
   ],
   "source": [
    "if(not(movie_title.upper() in movies_titles)):\n",
    "    print(\"Error: no movie found with title '\"+movie_title+\"'\")\n",
    "else:\n",
    "    movie_query='''\n",
    "    PREFIX ont: <http://www.semanticweb.org/emine/ontologies/2023/2/untitled-ontology-7#>\n",
    "\n",
    "    SELECT ?year ?country ?genre ?actor ?theater ?from_date ?to_date\n",
    "    WHERE {\n",
    "      ?movie rdf:type ont:Movie .\n",
    "      ?movie ont:title \"''' +movie_title+ '''\" .\n",
    "      ?movie ont:year ?year .\n",
    "      ?movie ont:country ?country .\n",
    "      ?movie ont:hasGenre ?genre .\n",
    "      ?movie ont:hasActor ?actor .\n",
    "      ?theater rdf:type ont:Theater .\n",
    "      ?theater ont:isPlaying ?movie .\n",
    "      ?movie ont:from_date ?from_date .\n",
    "      ?movie ont:to_date ?to_date .\n",
    "    }\n",
    "    '''\n",
    "    movie_result=g.query(movie_query)\n",
    "    \n",
    "    movies={}\n",
    "    L_genres=[]\n",
    "    L_Actors=[]\n",
    "    for row in movie_result:\n",
    "        movies[\"year\"]=row[0].value\n",
    "        movies[\"country\"]=row[1].value\n",
    "        movies[\"theater\"]=row[4].split(\"#\")[1]\n",
    "        movies[\"From\"]=row[5].value\n",
    "        movies[\"To\"]=row[6].value\n",
    "        L_genres.append(row[2].split(\"#\")[1])\n",
    "        L_Actors.append(row[3].split(\"#\")[1])\n",
    "    movies[\"genre\"]=list(set(L_genres))\n",
    "    movies[\"actors\"]=list(set(L_Actors))\n",
    "\n",
    "    print(\"Year: {}\".format(movies[\"year\"]))\n",
    "    print(\"Country: {}\".format(movies[\"country\"]))\n",
    "    print(\"Genre: {}\".format(movies[\"genre\"]))\n",
    "    print(\"Actor: {}\".format(movies[\"actors\"]))\n",
    "    print(\"Theater: {}\".format(movies[\"theater\"]))\n",
    "    print(\"From: {}\".format(movies[\"From\"]))\n",
    "    print(\"To: {}\".format(movies[\"To\"]))"
   ]
  },
  {
   "cell_type": "markdown",
   "id": "c64c7e35",
   "metadata": {},
   "source": [
    "# **Displaying all persons that are actors and directors :**"
   ]
  },
  {
   "cell_type": "code",
   "execution_count": 9,
   "id": "9a144a55",
   "metadata": {},
   "outputs": [
    {
     "name": "stdout",
     "output_type": "stream",
     "text": [
      "Actor and Director of Bananas : Woody_Allen\n",
      "Actor and Director of Kill_Bill_(Volume_1) : Quentin_Tarantino\n"
     ]
    }
   ],
   "source": [
    "ActorDirector_query='''\n",
    "    PREFIX ont: <http://www.semanticweb.org/emine/ontologies/2023/2/untitled-ontology-7#>\n",
    "\n",
    "    SELECT ?actordirector ?movie\n",
    "    WHERE {\n",
    "      ?movie rdf:type ont:Movie .\n",
    "      ?actordirector ont:isActorDirectorOf ?movie .\n",
    "    }\n",
    "    '''\n",
    "ActorDirector_result=g.query(ActorDirector_query)\n",
    "\n",
    "for row in ActorDirector_result:\n",
    "    print(\"Actor and Director of \"+row[\"movie\"].split(\"#\")[1]+\" : \"+row[0].split(\"#\")[1])"
   ]
  },
  {
   "cell_type": "markdown",
   "id": "33fa7a4f",
   "metadata": {},
   "source": [
    "# **Displaying all persons that are actors and writers :**"
   ]
  },
  {
   "cell_type": "code",
   "execution_count": 10,
   "id": "209c4a1e",
   "metadata": {},
   "outputs": [
    {
     "name": "stdout",
     "output_type": "stream",
     "text": [
      "Actor and Writer of Bananas : Woody_Allen\n",
      "Actor and Writer of Kill_Bill_(Volume_1) : Quentin_Tarantino\n"
     ]
    }
   ],
   "source": [
    "ActorDirector_query='''\n",
    "    PREFIX ont: <http://www.semanticweb.org/emine/ontologies/2023/2/untitled-ontology-7#>\n",
    "\n",
    "    SELECT ?actordirector ?movie\n",
    "    WHERE {\n",
    "      ?movie rdf:type ont:Movie .\n",
    "      ?actordirector ont:isActorWriterOf ?movie .\n",
    "    }\n",
    "    '''\n",
    "ActorDirector_result=g.query(ActorDirector_query)\n",
    "\n",
    "for row in ActorDirector_result:\n",
    "    print(\"Actor and Writer of \"+row[\"movie\"].split(\"#\")[1]+\" : \"+row[0].split(\"#\")[1])"
   ]
  },
  {
   "cell_type": "markdown",
   "id": "9dfc3721",
   "metadata": {},
   "source": [
    "# **Displaying all persons that are directors and writers :**"
   ]
  },
  {
   "cell_type": "code",
   "execution_count": 11,
   "id": "8bca80d7",
   "metadata": {},
   "outputs": [
    {
     "name": "stdout",
     "output_type": "stream",
     "text": [
      "Director and Writer of Bananas : Woody_Allen\n",
      "Director and Writer of Doctor_Strange : Scott_Derrickson\n",
      "Director and Writer of Four_Rooms : Alexandre_Rockwell\n",
      "Director and Writer of Four_Rooms : Allison_Anders\n",
      "Director and Writer of Four_Rooms : Robert_Rodriguez\n",
      "Director and Writer of Mad_Max : George_Miller\n",
      "Director and Writer of Pulp_Fiction : Quentin_Tarantino\n",
      "Director and Writer of The_Avengers : Joss_Whedon\n",
      "Director and Writer of The_Dark_Knight : Christopher_Nolan\n",
      "Director and Writer of The_Hateful_Eight : Quentin_Tarantino\n",
      "Director and Writer of Black_Panther:_Wakanda_Forever : Ryan_Coogler\n",
      "Director and Writer of Kill_Bill_(Volume_1) : Quentin_Tarantino\n"
     ]
    }
   ],
   "source": [
    "ActorDirector_query='''\n",
    "    PREFIX ont: <http://www.semanticweb.org/emine/ontologies/2023/2/untitled-ontology-7#>\n",
    "\n",
    "    SELECT ?actordirector ?movie\n",
    "    WHERE {\n",
    "      ?movie rdf:type ont:Movie .\n",
    "      ?actordirector ont:isDirectorWriterOf ?movie .\n",
    "    }\n",
    "    '''\n",
    "ActorDirector_result=g.query(ActorDirector_query)\n",
    "\n",
    "for row in ActorDirector_result:\n",
    "    print(\"Director and Writer of \"+row[\"movie\"].split(\"#\")[1]+\" : \"+row[0].split(\"#\")[1])"
   ]
  },
  {
   "cell_type": "markdown",
   "id": "bee5ac03",
   "metadata": {},
   "source": [
    "# **Displaying all persons that are directors, actors and writers :**"
   ]
  },
  {
   "cell_type": "code",
   "execution_count": 12,
   "id": "95a8e799",
   "metadata": {},
   "outputs": [
    {
     "name": "stdout",
     "output_type": "stream",
     "text": [
      "Director, Actor and Writer of Bananas : Woody_Allen\n",
      "Director, Actor and Writer of Kill_Bill_(Volume_1) : Quentin_Tarantino\n"
     ]
    }
   ],
   "source": [
    "ActorDirector_query='''\n",
    "    PREFIX ont: <http://www.semanticweb.org/emine/ontologies/2023/2/untitled-ontology-7#>\n",
    "\n",
    "    SELECT ?actordirector ?movie\n",
    "    WHERE {\n",
    "      ?movie rdf:type ont:Movie .\n",
    "      ?actordirector ont:isActorDirectorWriterOf ?movie .\n",
    "    }\n",
    "    '''\n",
    "ActorDirector_result=g.query(ActorDirector_query)\n",
    "\n",
    "for row in ActorDirector_result:\n",
    "    print(\"Director, Actor and Writer of \"+row[\"movie\"].split(\"#\")[1]+\" : \"+row[0].split(\"#\")[1])"
   ]
  }
 ],
 "metadata": {
  "kernelspec": {
   "display_name": "Python 3 (ipykernel)",
   "language": "python",
   "name": "python3"
  },
  "language_info": {
   "codemirror_mode": {
    "name": "ipython",
    "version": 3
   },
   "file_extension": ".py",
   "mimetype": "text/x-python",
   "name": "python",
   "nbconvert_exporter": "python",
   "pygments_lexer": "ipython3",
   "version": "3.9.13"
  }
 },
 "nbformat": 4,
 "nbformat_minor": 5
}

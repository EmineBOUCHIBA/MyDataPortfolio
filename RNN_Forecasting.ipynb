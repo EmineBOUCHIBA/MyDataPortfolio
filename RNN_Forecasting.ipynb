{
  "cells": [
    {
      "cell_type": "markdown",
      "metadata": {
        "id": "awjToBAcbd6M"
      },
      "source": [
        "# RNNs - Forecasting"
      ]
    },
    {
      "cell_type": "markdown",
      "metadata": {
        "id": "MxAWbx0zbd6O"
      },
      "source": [
        "In this notebook you will learn how to build Recurrent Neural Networks (RNNs) for time series forecasting.\n",
        "\n",
        "\n",
        "**Objectif : build RNN models for time series forecasting.**\n",
        "- 1 - Time Series forecasting (Many to One) => from t-30 to t predict t+5\n",
        "    - Load the data: daily temperatures in Melbourne from 1981 to 1990\n",
        "    - Prepare the data: Fill the missing data\n",
        "    - Add lag columns\n",
        "    - Split the dataset\n",
        "    - Reshape the inputs for the RNN\n",
        "    - Build some basline models: naive model (predict the last known value) and linear regression\n",
        "    - Build a model with 2 simple RNN layers\n",
        "    - Evaluate & Plot\n",
        "- 2 - Forecasting the shifted sequence (Seq2Seq - Many to Many) => from t-30 to t predict temperatures for 30 days (from t-24 to t+5) instead of just one\n",
        "    - Define the 3D targets\n",
        "    - Define the mae last step metric\n",
        "    - Build a Seq2Seq model\n",
        "    - Train the model\n",
        "- 3 LSTM and GRU\n",
        "    - Build, train and evaluate a Seq2Seq LSTM\n",
        "    - Add l2 regularization\n",
        "- 4 Preprocessing with 1D-ConvNets"
      ]
    },
    {
      "cell_type": "markdown",
      "metadata": {
        "id": "kWX1iMlzbd6P"
      },
      "source": [
        "# Imports"
      ]
    },
    {
      "cell_type": "code",
      "execution_count": 1,
      "metadata": {
        "id": "8kPJ3PPnbd6T"
      },
      "outputs": [],
      "source": [
        "import matplotlib as mpl\n",
        "import matplotlib.pyplot as plt\n",
        "import numpy as np\n",
        "import os\n",
        "import pandas as pd\n",
        "import sklearn\n",
        "import sys\n",
        "import tensorflow as tf\n",
        "from tensorflow import keras\n",
        "import time"
      ]
    },
    {
      "cell_type": "code",
      "execution_count": 2,
      "metadata": {
        "colab": {
          "base_uri": "https://localhost:8080/"
        },
        "id": "MqmKaYsjUeBC",
        "outputId": "fbbcce8d-1c37-4a76-98c6-be5b842cfd25"
      },
      "outputs": [
        {
          "output_type": "execute_result",
          "data": {
            "text/plain": [
              "[PhysicalDevice(name='/physical_device:GPU:0', device_type='GPU')]"
            ]
          },
          "metadata": {},
          "execution_count": 2
        }
      ],
      "source": [
        "tf.config.list_physical_devices('GPU')"
      ]
    },
    {
      "cell_type": "markdown",
      "metadata": {
        "id": "stK4liDvbd6c"
      },
      "source": [
        "# 1 - Time series forecasting"
      ]
    },
    {
      "cell_type": "markdown",
      "metadata": {
        "id": "1Djf00fhbd6d"
      },
      "source": [
        "## 1.1) Load the data"
      ]
    },
    {
      "cell_type": "markdown",
      "metadata": {
        "id": "XD5obQeDbd6e"
      },
      "source": [
        "Let's start with a simple univariate time series: the daily temperatures in Melbourne from 1981 to 1990."
      ]
    },
    {
      "cell_type": "code",
      "execution_count": 3,
      "metadata": {
        "id": "rNmiQlMAbd6f"
      },
      "outputs": [],
      "source": [
        "data_path = 'daily-minimum-temperatures-in-me.csv'\n",
        "temps = pd.read_csv(data_path,\n",
        "                    parse_dates=[0], index_col=0)"
      ]
    },
    {
      "cell_type": "code",
      "execution_count": 4,
      "metadata": {
        "id": "VX81cx2qbd6i",
        "colab": {
          "base_uri": "https://localhost:8080/"
        },
        "outputId": "1426ff63-b5d9-4f72-feaf-648c4d5f5285"
      },
      "outputs": [
        {
          "output_type": "stream",
          "name": "stdout",
          "text": [
            "<class 'pandas.core.frame.DataFrame'>\n",
            "DatetimeIndex: 3650 entries, 1981-01-01 to 1990-12-31\n",
            "Data columns (total 1 columns):\n",
            " #   Column       Non-Null Count  Dtype  \n",
            "---  ------       --------------  -----  \n",
            " 0   Temperature  3650 non-null   float64\n",
            "dtypes: float64(1)\n",
            "memory usage: 57.0 KB\n"
          ]
        }
      ],
      "source": [
        "temps.info()"
      ]
    },
    {
      "cell_type": "code",
      "execution_count": 5,
      "metadata": {
        "id": "A6E0b-kbbd6k",
        "colab": {
          "base_uri": "https://localhost:8080/",
          "height": 238
        },
        "outputId": "fc2af6ac-a1c4-4af0-b29f-1ee22c0aeea3"
      },
      "outputs": [
        {
          "output_type": "execute_result",
          "data": {
            "text/plain": [
              "            Temperature\n",
              "Date                   \n",
              "1981-01-01         20.7\n",
              "1981-01-02         17.9\n",
              "1981-01-03         18.8\n",
              "1981-01-04         14.6\n",
              "1981-01-05         15.8"
            ],
            "text/html": [
              "\n",
              "  <div id=\"df-08c59984-d077-4017-84b3-c1f8c4bd250f\">\n",
              "    <div class=\"colab-df-container\">\n",
              "      <div>\n",
              "<style scoped>\n",
              "    .dataframe tbody tr th:only-of-type {\n",
              "        vertical-align: middle;\n",
              "    }\n",
              "\n",
              "    .dataframe tbody tr th {\n",
              "        vertical-align: top;\n",
              "    }\n",
              "\n",
              "    .dataframe thead th {\n",
              "        text-align: right;\n",
              "    }\n",
              "</style>\n",
              "<table border=\"1\" class=\"dataframe\">\n",
              "  <thead>\n",
              "    <tr style=\"text-align: right;\">\n",
              "      <th></th>\n",
              "      <th>Temperature</th>\n",
              "    </tr>\n",
              "    <tr>\n",
              "      <th>Date</th>\n",
              "      <th></th>\n",
              "    </tr>\n",
              "  </thead>\n",
              "  <tbody>\n",
              "    <tr>\n",
              "      <th>1981-01-01</th>\n",
              "      <td>20.7</td>\n",
              "    </tr>\n",
              "    <tr>\n",
              "      <th>1981-01-02</th>\n",
              "      <td>17.9</td>\n",
              "    </tr>\n",
              "    <tr>\n",
              "      <th>1981-01-03</th>\n",
              "      <td>18.8</td>\n",
              "    </tr>\n",
              "    <tr>\n",
              "      <th>1981-01-04</th>\n",
              "      <td>14.6</td>\n",
              "    </tr>\n",
              "    <tr>\n",
              "      <th>1981-01-05</th>\n",
              "      <td>15.8</td>\n",
              "    </tr>\n",
              "  </tbody>\n",
              "</table>\n",
              "</div>\n",
              "      <button class=\"colab-df-convert\" onclick=\"convertToInteractive('df-08c59984-d077-4017-84b3-c1f8c4bd250f')\"\n",
              "              title=\"Convert this dataframe to an interactive table.\"\n",
              "              style=\"display:none;\">\n",
              "        \n",
              "  <svg xmlns=\"http://www.w3.org/2000/svg\" height=\"24px\"viewBox=\"0 0 24 24\"\n",
              "       width=\"24px\">\n",
              "    <path d=\"M0 0h24v24H0V0z\" fill=\"none\"/>\n",
              "    <path d=\"M18.56 5.44l.94 2.06.94-2.06 2.06-.94-2.06-.94-.94-2.06-.94 2.06-2.06.94zm-11 1L8.5 8.5l.94-2.06 2.06-.94-2.06-.94L8.5 2.5l-.94 2.06-2.06.94zm10 10l.94 2.06.94-2.06 2.06-.94-2.06-.94-.94-2.06-.94 2.06-2.06.94z\"/><path d=\"M17.41 7.96l-1.37-1.37c-.4-.4-.92-.59-1.43-.59-.52 0-1.04.2-1.43.59L10.3 9.45l-7.72 7.72c-.78.78-.78 2.05 0 2.83L4 21.41c.39.39.9.59 1.41.59.51 0 1.02-.2 1.41-.59l7.78-7.78 2.81-2.81c.8-.78.8-2.07 0-2.86zM5.41 20L4 18.59l7.72-7.72 1.47 1.35L5.41 20z\"/>\n",
              "  </svg>\n",
              "      </button>\n",
              "      \n",
              "  <style>\n",
              "    .colab-df-container {\n",
              "      display:flex;\n",
              "      flex-wrap:wrap;\n",
              "      gap: 12px;\n",
              "    }\n",
              "\n",
              "    .colab-df-convert {\n",
              "      background-color: #E8F0FE;\n",
              "      border: none;\n",
              "      border-radius: 50%;\n",
              "      cursor: pointer;\n",
              "      display: none;\n",
              "      fill: #1967D2;\n",
              "      height: 32px;\n",
              "      padding: 0 0 0 0;\n",
              "      width: 32px;\n",
              "    }\n",
              "\n",
              "    .colab-df-convert:hover {\n",
              "      background-color: #E2EBFA;\n",
              "      box-shadow: 0px 1px 2px rgba(60, 64, 67, 0.3), 0px 1px 3px 1px rgba(60, 64, 67, 0.15);\n",
              "      fill: #174EA6;\n",
              "    }\n",
              "\n",
              "    [theme=dark] .colab-df-convert {\n",
              "      background-color: #3B4455;\n",
              "      fill: #D2E3FC;\n",
              "    }\n",
              "\n",
              "    [theme=dark] .colab-df-convert:hover {\n",
              "      background-color: #434B5C;\n",
              "      box-shadow: 0px 1px 3px 1px rgba(0, 0, 0, 0.15);\n",
              "      filter: drop-shadow(0px 1px 2px rgba(0, 0, 0, 0.3));\n",
              "      fill: #FFFFFF;\n",
              "    }\n",
              "  </style>\n",
              "\n",
              "      <script>\n",
              "        const buttonEl =\n",
              "          document.querySelector('#df-08c59984-d077-4017-84b3-c1f8c4bd250f button.colab-df-convert');\n",
              "        buttonEl.style.display =\n",
              "          google.colab.kernel.accessAllowed ? 'block' : 'none';\n",
              "\n",
              "        async function convertToInteractive(key) {\n",
              "          const element = document.querySelector('#df-08c59984-d077-4017-84b3-c1f8c4bd250f');\n",
              "          const dataTable =\n",
              "            await google.colab.kernel.invokeFunction('convertToInteractive',\n",
              "                                                     [key], {});\n",
              "          if (!dataTable) return;\n",
              "\n",
              "          const docLinkHtml = 'Like what you see? Visit the ' +\n",
              "            '<a target=\"_blank\" href=https://colab.research.google.com/notebooks/data_table.ipynb>data table notebook</a>'\n",
              "            + ' to learn more about interactive tables.';\n",
              "          element.innerHTML = '';\n",
              "          dataTable['output_type'] = 'display_data';\n",
              "          await google.colab.output.renderOutput(dataTable, element);\n",
              "          const docLink = document.createElement('div');\n",
              "          docLink.innerHTML = docLinkHtml;\n",
              "          element.appendChild(docLink);\n",
              "        }\n",
              "      </script>\n",
              "    </div>\n",
              "  </div>\n",
              "  "
            ]
          },
          "metadata": {},
          "execution_count": 5
        }
      ],
      "source": [
        "temps.head()"
      ]
    },
    {
      "cell_type": "code",
      "execution_count": 6,
      "metadata": {
        "id": "0fprJQ_vbd6n",
        "colab": {
          "base_uri": "https://localhost:8080/",
          "height": 318
        },
        "outputId": "1ee9d5ca-7d04-40c3-8bee-771acaf88bbb"
      },
      "outputs": [
        {
          "output_type": "display_data",
          "data": {
            "text/plain": [
              "<Figure size 720x360 with 1 Axes>"
            ],
            "image/png": "[encoded data removed]"
          },
          "metadata": {
            "needs_background": "light"
          }
        }
      ],
      "source": [
        "temps.plot(figsize=(10,5))\n",
        "plt.show()"
      ]
    },
    {
      "cell_type": "markdown",
      "metadata": {
        "id": "0qJMDQ2mbd6q"
      },
      "source": [
        "## 1.2) Prepare the data"
      ]
    },
    {
      "cell_type": "markdown",
      "metadata": {
        "id": "iTl92nTcbd6r"
      },
      "source": [
        "A few dates are missing, for example December 31st, 1984:"
      ]
    },
    {
      "cell_type": "code",
      "execution_count": 7,
      "metadata": {
        "id": "Fs-HzclGbd6r",
        "colab": {
          "base_uri": "https://localhost:8080/",
          "height": 206
        },
        "outputId": "9359b222-7f9c-427d-b223-ac647dca7805"
      },
      "outputs": [
        {
          "output_type": "execute_result",
          "data": {
            "text/plain": [
              "            Temperature\n",
              "Date                   \n",
              "1984-12-29         16.0\n",
              "1984-12-30         16.4\n",
              "1985-01-01         13.3\n",
              "1985-01-02         15.2"
            ],
            "text/html": [
              "\n",
              "  <div id=\"df-e21d4974-c048-4975-b1ff-acd156d65cb2\">\n",
              "    <div class=\"colab-df-container\">\n",
              "      <div>\n",
              "<style scoped>\n",
              "    .dataframe tbody tr th:only-of-type {\n",
              "        vertical-align: middle;\n",
              "    }\n",
              "\n",
              "    .dataframe tbody tr th {\n",
              "        vertical-align: top;\n",
              "    }\n",
              "\n",
              "    .dataframe thead th {\n",
              "        text-align: right;\n",
              "    }\n",
              "</style>\n",
              "<table border=\"1\" class=\"dataframe\">\n",
              "  <thead>\n",
              "    <tr style=\"text-align: right;\">\n",
              "      <th></th>\n",
              "      <th>Temperature</th>\n",
              "    </tr>\n",
              "    <tr>\n",
              "      <th>Date</th>\n",
              "      <th></th>\n",
              "    </tr>\n",
              "  </thead>\n",
              "  <tbody>\n",
              "    <tr>\n",
              "      <th>1984-12-29</th>\n",
              "      <td>16.0</td>\n",
              "    </tr>\n",
              "    <tr>\n",
              "      <th>1984-12-30</th>\n",
              "      <td>16.4</td>\n",
              "    </tr>\n",
              "    <tr>\n",
              "      <th>1985-01-01</th>\n",
              "      <td>13.3</td>\n",
              "    </tr>\n",
              "    <tr>\n",
              "      <th>1985-01-02</th>\n",
              "      <td>15.2</td>\n",
              "    </tr>\n",
              "  </tbody>\n",
              "</table>\n",
              "</div>\n",
              "      <button class=\"colab-df-convert\" onclick=\"convertToInteractive('df-e21d4974-c048-4975-b1ff-acd156d65cb2')\"\n",
              "              title=\"Convert this dataframe to an interactive table.\"\n",
              "              style=\"display:none;\">\n",
              "        \n",
              "  <svg xmlns=\"http://www.w3.org/2000/svg\" height=\"24px\"viewBox=\"0 0 24 24\"\n",
              "       width=\"24px\">\n",
              "    <path d=\"M0 0h24v24H0V0z\" fill=\"none\"/>\n",
              "    <path d=\"M18.56 5.44l.94 2.06.94-2.06 2.06-.94-2.06-.94-.94-2.06-.94 2.06-2.06.94zm-11 1L8.5 8.5l.94-2.06 2.06-.94-2.06-.94L8.5 2.5l-.94 2.06-2.06.94zm10 10l.94 2.06.94-2.06 2.06-.94-2.06-.94-.94-2.06-.94 2.06-2.06.94z\"/><path d=\"M17.41 7.96l-1.37-1.37c-.4-.4-.92-.59-1.43-.59-.52 0-1.04.2-1.43.59L10.3 9.45l-7.72 7.72c-.78.78-.78 2.05 0 2.83L4 21.41c.39.39.9.59 1.41.59.51 0 1.02-.2 1.41-.59l7.78-7.78 2.81-2.81c.8-.78.8-2.07 0-2.86zM5.41 20L4 18.59l7.72-7.72 1.47 1.35L5.41 20z\"/>\n",
              "  </svg>\n",
              "      </button>\n",
              "      \n",
              "  <style>\n",
              "    .colab-df-container {\n",
              "      display:flex;\n",
              "      flex-wrap:wrap;\n",
              "      gap: 12px;\n",
              "    }\n",
              "\n",
              "    .colab-df-convert {\n",
              "      background-color: #E8F0FE;\n",
              "      border: none;\n",
              "      border-radius: 50%;\n",
              "      cursor: pointer;\n",
              "      display: none;\n",
              "      fill: #1967D2;\n",
              "      height: 32px;\n",
              "      padding: 0 0 0 0;\n",
              "      width: 32px;\n",
              "    }\n",
              "\n",
              "    .colab-df-convert:hover {\n",
              "      background-color: #E2EBFA;\n",
              "      box-shadow: 0px 1px 2px rgba(60, 64, 67, 0.3), 0px 1px 3px 1px rgba(60, 64, 67, 0.15);\n",
              "      fill: #174EA6;\n",
              "    }\n",
              "\n",
              "    [theme=dark] .colab-df-convert {\n",
              "      background-color: #3B4455;\n",
              "      fill: #D2E3FC;\n",
              "    }\n",
              "\n",
              "    [theme=dark] .colab-df-convert:hover {\n",
              "      background-color: #434B5C;\n",
              "      box-shadow: 0px 1px 3px 1px rgba(0, 0, 0, 0.15);\n",
              "      filter: drop-shadow(0px 1px 2px rgba(0, 0, 0, 0.3));\n",
              "      fill: #FFFFFF;\n",
              "    }\n",
              "  </style>\n",
              "\n",
              "      <script>\n",
              "        const buttonEl =\n",
              "          document.querySelector('#df-e21d4974-c048-4975-b1ff-acd156d65cb2 button.colab-df-convert');\n",
              "        buttonEl.style.display =\n",
              "          google.colab.kernel.accessAllowed ? 'block' : 'none';\n",
              "\n",
              "        async function convertToInteractive(key) {\n",
              "          const element = document.querySelector('#df-e21d4974-c048-4975-b1ff-acd156d65cb2');\n",
              "          const dataTable =\n",
              "            await google.colab.kernel.invokeFunction('convertToInteractive',\n",
              "                                                     [key], {});\n",
              "          if (!dataTable) return;\n",
              "\n",
              "          const docLinkHtml = 'Like what you see? Visit the ' +\n",
              "            '<a target=\"_blank\" href=https://colab.research.google.com/notebooks/data_table.ipynb>data table notebook</a>'\n",
              "            + ' to learn more about interactive tables.';\n",
              "          element.innerHTML = '';\n",
              "          dataTable['output_type'] = 'display_data';\n",
              "          await google.colab.output.renderOutput(dataTable, element);\n",
              "          const docLink = document.createElement('div');\n",
              "          docLink.innerHTML = docLinkHtml;\n",
              "          element.appendChild(docLink);\n",
              "        }\n",
              "      </script>\n",
              "    </div>\n",
              "  </div>\n",
              "  "
            ]
          },
          "metadata": {},
          "execution_count": 7
        }
      ],
      "source": [
        "temps.loc[\"1984-12-29\":\"1985-01-02\"]"
      ]
    },
    {
      "cell_type": "markdown",
      "metadata": {
        "id": "HsOXCccnbd6u"
      },
      "source": [
        "Let's ensure there's one row per day, filling missing values with the previous valid value.\n",
        "\n",
        "Seee : [Pandas Doc](https://pandas.pydata.org/pandas-docs/stable/reference/api/pandas.DataFrame.asfreq.html#pandas.DataFrame.asfreq)"
      ]
    },
    {
      "cell_type": "code",
      "execution_count": 8,
      "metadata": {
        "id": "G4TN24webd6v",
        "colab": {
          "base_uri": "https://localhost:8080/",
          "height": 238
        },
        "outputId": "545f2750-cd23-4892-82f8-0203a16c7d05"
      },
      "outputs": [
        {
          "output_type": "execute_result",
          "data": {
            "text/plain": [
              "            Temperature\n",
              "Date                   \n",
              "1984-12-29         16.0\n",
              "1984-12-30         16.4\n",
              "1984-12-31         16.4\n",
              "1985-01-01         13.3\n",
              "1985-01-02         15.2"
            ],
            "text/html": [
              "\n",
              "  <div id=\"df-fe38cd07-4ad8-4447-b897-efd1d2fc288b\">\n",
              "    <div class=\"colab-df-container\">\n",
              "      <div>\n",
              "<style scoped>\n",
              "    .dataframe tbody tr th:only-of-type {\n",
              "        vertical-align: middle;\n",
              "    }\n",
              "\n",
              "    .dataframe tbody tr th {\n",
              "        vertical-align: top;\n",
              "    }\n",
              "\n",
              "    .dataframe thead th {\n",
              "        text-align: right;\n",
              "    }\n",
              "</style>\n",
              "<table border=\"1\" class=\"dataframe\">\n",
              "  <thead>\n",
              "    <tr style=\"text-align: right;\">\n",
              "      <th></th>\n",
              "      <th>Temperature</th>\n",
              "    </tr>\n",
              "    <tr>\n",
              "      <th>Date</th>\n",
              "      <th></th>\n",
              "    </tr>\n",
              "  </thead>\n",
              "  <tbody>\n",
              "    <tr>\n",
              "      <th>1984-12-29</th>\n",
              "      <td>16.0</td>\n",
              "    </tr>\n",
              "    <tr>\n",
              "      <th>1984-12-30</th>\n",
              "      <td>16.4</td>\n",
              "    </tr>\n",
              "    <tr>\n",
              "      <th>1984-12-31</th>\n",
              "      <td>16.4</td>\n",
              "    </tr>\n",
              "    <tr>\n",
              "      <th>1985-01-01</th>\n",
              "      <td>13.3</td>\n",
              "    </tr>\n",
              "    <tr>\n",
              "      <th>1985-01-02</th>\n",
              "      <td>15.2</td>\n",
              "    </tr>\n",
              "  </tbody>\n",
              "</table>\n",
              "</div>\n",
              "      <button class=\"colab-df-convert\" onclick=\"convertToInteractive('df-fe38cd07-4ad8-4447-b897-efd1d2fc288b')\"\n",
              "              title=\"Convert this dataframe to an interactive table.\"\n",
              "              style=\"display:none;\">\n",
              "        \n",
              "  <svg xmlns=\"http://www.w3.org/2000/svg\" height=\"24px\"viewBox=\"0 0 24 24\"\n",
              "       width=\"24px\">\n",
              "    <path d=\"M0 0h24v24H0V0z\" fill=\"none\"/>\n",
              "    <path d=\"M18.56 5.44l.94 2.06.94-2.06 2.06-.94-2.06-.94-.94-2.06-.94 2.06-2.06.94zm-11 1L8.5 8.5l.94-2.06 2.06-.94-2.06-.94L8.5 2.5l-.94 2.06-2.06.94zm10 10l.94 2.06.94-2.06 2.06-.94-2.06-.94-.94-2.06-.94 2.06-2.06.94z\"/><path d=\"M17.41 7.96l-1.37-1.37c-.4-.4-.92-.59-1.43-.59-.52 0-1.04.2-1.43.59L10.3 9.45l-7.72 7.72c-.78.78-.78 2.05 0 2.83L4 21.41c.39.39.9.59 1.41.59.51 0 1.02-.2 1.41-.59l7.78-7.78 2.81-2.81c.8-.78.8-2.07 0-2.86zM5.41 20L4 18.59l7.72-7.72 1.47 1.35L5.41 20z\"/>\n",
              "  </svg>\n",
              "      </button>\n",
              "      \n",
              "  <style>\n",
              "    .colab-df-container {\n",
              "      display:flex;\n",
              "      flex-wrap:wrap;\n",
              "      gap: 12px;\n",
              "    }\n",
              "\n",
              "    .colab-df-convert {\n",
              "      background-color: #E8F0FE;\n",
              "      border: none;\n",
              "      border-radius: 50%;\n",
              "      cursor: pointer;\n",
              "      display: none;\n",
              "      fill: #1967D2;\n",
              "      height: 32px;\n",
              "      padding: 0 0 0 0;\n",
              "      width: 32px;\n",
              "    }\n",
              "\n",
              "    .colab-df-convert:hover {\n",
              "      background-color: #E2EBFA;\n",
              "      box-shadow: 0px 1px 2px rgba(60, 64, 67, 0.3), 0px 1px 3px 1px rgba(60, 64, 67, 0.15);\n",
              "      fill: #174EA6;\n",
              "    }\n",
              "\n",
              "    [theme=dark] .colab-df-convert {\n",
              "      background-color: #3B4455;\n",
              "      fill: #D2E3FC;\n",
              "    }\n",
              "\n",
              "    [theme=dark] .colab-df-convert:hover {\n",
              "      background-color: #434B5C;\n",
              "      box-shadow: 0px 1px 3px 1px rgba(0, 0, 0, 0.15);\n",
              "      filter: drop-shadow(0px 1px 2px rgba(0, 0, 0, 0.3));\n",
              "      fill: #FFFFFF;\n",
              "    }\n",
              "  </style>\n",
              "\n",
              "      <script>\n",
              "        const buttonEl =\n",
              "          document.querySelector('#df-fe38cd07-4ad8-4447-b897-efd1d2fc288b button.colab-df-convert');\n",
              "        buttonEl.style.display =\n",
              "          google.colab.kernel.accessAllowed ? 'block' : 'none';\n",
              "\n",
              "        async function convertToInteractive(key) {\n",
              "          const element = document.querySelector('#df-fe38cd07-4ad8-4447-b897-efd1d2fc288b');\n",
              "          const dataTable =\n",
              "            await google.colab.kernel.invokeFunction('convertToInteractive',\n",
              "                                                     [key], {});\n",
              "          if (!dataTable) return;\n",
              "\n",
              "          const docLinkHtml = 'Like what you see? Visit the ' +\n",
              "            '<a target=\"_blank\" href=https://colab.research.google.com/notebooks/data_table.ipynb>data table notebook</a>'\n",
              "            + ' to learn more about interactive tables.';\n",
              "          element.innerHTML = '';\n",
              "          dataTable['output_type'] = 'display_data';\n",
              "          await google.colab.output.renderOutput(dataTable, element);\n",
              "          const docLink = document.createElement('div');\n",
              "          docLink.innerHTML = docLinkHtml;\n",
              "          element.appendChild(docLink);\n",
              "        }\n",
              "      </script>\n",
              "    </div>\n",
              "  </div>\n",
              "  "
            ]
          },
          "metadata": {},
          "execution_count": 8
        }
      ],
      "source": [
        "temps2 = temps.asfreq(\"1D\", method=\"ffill\")\n",
        "temps2.loc[\"1984-12-29\":\"1985-01-02\"]"
      ]
    },
    {
      "cell_type": "markdown",
      "metadata": {
        "id": "Kgwwzvvzbd6x"
      },
      "source": [
        "Alternatively, we could have interpolated using `temps.interpolate()`."
      ]
    },
    {
      "cell_type": "code",
      "execution_count": 9,
      "metadata": {
        "id": "nkc-h8Tk11JF",
        "colab": {
          "base_uri": "https://localhost:8080/",
          "height": 238
        },
        "outputId": "a116d6a0-f970-44ae-c6eb-aee830a1ef42"
      },
      "outputs": [
        {
          "output_type": "execute_result",
          "data": {
            "text/plain": [
              "            Temperature\n",
              "Date                   \n",
              "1984-12-29        16.00\n",
              "1984-12-30        16.40\n",
              "1984-12-31        14.85\n",
              "1985-01-01        13.30\n",
              "1985-01-02        15.20"
            ],
            "text/html": [
              "\n",
              "  <div id=\"df-3f6906dc-c747-4fe6-93d2-09cd09d8f04c\">\n",
              "    <div class=\"colab-df-container\">\n",
              "      <div>\n",
              "<style scoped>\n",
              "    .dataframe tbody tr th:only-of-type {\n",
              "        vertical-align: middle;\n",
              "    }\n",
              "\n",
              "    .dataframe tbody tr th {\n",
              "        vertical-align: top;\n",
              "    }\n",
              "\n",
              "    .dataframe thead th {\n",
              "        text-align: right;\n",
              "    }\n",
              "</style>\n",
              "<table border=\"1\" class=\"dataframe\">\n",
              "  <thead>\n",
              "    <tr style=\"text-align: right;\">\n",
              "      <th></th>\n",
              "      <th>Temperature</th>\n",
              "    </tr>\n",
              "    <tr>\n",
              "      <th>Date</th>\n",
              "      <th></th>\n",
              "    </tr>\n",
              "  </thead>\n",
              "  <tbody>\n",
              "    <tr>\n",
              "      <th>1984-12-29</th>\n",
              "      <td>16.00</td>\n",
              "    </tr>\n",
              "    <tr>\n",
              "      <th>1984-12-30</th>\n",
              "      <td>16.40</td>\n",
              "    </tr>\n",
              "    <tr>\n",
              "      <th>1984-12-31</th>\n",
              "      <td>14.85</td>\n",
              "    </tr>\n",
              "    <tr>\n",
              "      <th>1985-01-01</th>\n",
              "      <td>13.30</td>\n",
              "    </tr>\n",
              "    <tr>\n",
              "      <th>1985-01-02</th>\n",
              "      <td>15.20</td>\n",
              "    </tr>\n",
              "  </tbody>\n",
              "</table>\n",
              "</div>\n",
              "      <button class=\"colab-df-convert\" onclick=\"convertToInteractive('df-3f6906dc-c747-4fe6-93d2-09cd09d8f04c')\"\n",
              "              title=\"Convert this dataframe to an interactive table.\"\n",
              "              style=\"display:none;\">\n",
              "        \n",
              "  <svg xmlns=\"http://www.w3.org/2000/svg\" height=\"24px\"viewBox=\"0 0 24 24\"\n",
              "       width=\"24px\">\n",
              "    <path d=\"M0 0h24v24H0V0z\" fill=\"none\"/>\n",
              "    <path d=\"M18.56 5.44l.94 2.06.94-2.06 2.06-.94-2.06-.94-.94-2.06-.94 2.06-2.06.94zm-11 1L8.5 8.5l.94-2.06 2.06-.94-2.06-.94L8.5 2.5l-.94 2.06-2.06.94zm10 10l.94 2.06.94-2.06 2.06-.94-2.06-.94-.94-2.06-.94 2.06-2.06.94z\"/><path d=\"M17.41 7.96l-1.37-1.37c-.4-.4-.92-.59-1.43-.59-.52 0-1.04.2-1.43.59L10.3 9.45l-7.72 7.72c-.78.78-.78 2.05 0 2.83L4 21.41c.39.39.9.59 1.41.59.51 0 1.02-.2 1.41-.59l7.78-7.78 2.81-2.81c.8-.78.8-2.07 0-2.86zM5.41 20L4 18.59l7.72-7.72 1.47 1.35L5.41 20z\"/>\n",
              "  </svg>\n",
              "      </button>\n",
              "      \n",
              "  <style>\n",
              "    .colab-df-container {\n",
              "      display:flex;\n",
              "      flex-wrap:wrap;\n",
              "      gap: 12px;\n",
              "    }\n",
              "\n",
              "    .colab-df-convert {\n",
              "      background-color: #E8F0FE;\n",
              "      border: none;\n",
              "      border-radius: 50%;\n",
              "      cursor: pointer;\n",
              "      display: none;\n",
              "      fill: #1967D2;\n",
              "      height: 32px;\n",
              "      padding: 0 0 0 0;\n",
              "      width: 32px;\n",
              "    }\n",
              "\n",
              "    .colab-df-convert:hover {\n",
              "      background-color: #E2EBFA;\n",
              "      box-shadow: 0px 1px 2px rgba(60, 64, 67, 0.3), 0px 1px 3px 1px rgba(60, 64, 67, 0.15);\n",
              "      fill: #174EA6;\n",
              "    }\n",
              "\n",
              "    [theme=dark] .colab-df-convert {\n",
              "      background-color: #3B4455;\n",
              "      fill: #D2E3FC;\n",
              "    }\n",
              "\n",
              "    [theme=dark] .colab-df-convert:hover {\n",
              "      background-color: #434B5C;\n",
              "      box-shadow: 0px 1px 3px 1px rgba(0, 0, 0, 0.15);\n",
              "      filter: drop-shadow(0px 1px 2px rgba(0, 0, 0, 0.3));\n",
              "      fill: #FFFFFF;\n",
              "    }\n",
              "  </style>\n",
              "\n",
              "      <script>\n",
              "        const buttonEl =\n",
              "          document.querySelector('#df-3f6906dc-c747-4fe6-93d2-09cd09d8f04c button.colab-df-convert');\n",
              "        buttonEl.style.display =\n",
              "          google.colab.kernel.accessAllowed ? 'block' : 'none';\n",
              "\n",
              "        async function convertToInteractive(key) {\n",
              "          const element = document.querySelector('#df-3f6906dc-c747-4fe6-93d2-09cd09d8f04c');\n",
              "          const dataTable =\n",
              "            await google.colab.kernel.invokeFunction('convertToInteractive',\n",
              "                                                     [key], {});\n",
              "          if (!dataTable) return;\n",
              "\n",
              "          const docLinkHtml = 'Like what you see? Visit the ' +\n",
              "            '<a target=\"_blank\" href=https://colab.research.google.com/notebooks/data_table.ipynb>data table notebook</a>'\n",
              "            + ' to learn more about interactive tables.';\n",
              "          element.innerHTML = '';\n",
              "          dataTable['output_type'] = 'display_data';\n",
              "          await google.colab.output.renderOutput(dataTable, element);\n",
              "          const docLink = document.createElement('div');\n",
              "          docLink.innerHTML = docLinkHtml;\n",
              "          element.appendChild(docLink);\n",
              "        }\n",
              "      </script>\n",
              "    </div>\n",
              "  </div>\n",
              "  "
            ]
          },
          "metadata": {},
          "execution_count": 9
        }
      ],
      "source": [
        "temps = temps.resample('D').interpolate()\n",
        "temps.loc[\"1984-12-29\":\"1985-01-02\"]"
      ]
    },
    {
      "cell_type": "markdown",
      "metadata": {
        "id": "Y1JBXbsGbd6y"
      },
      "source": [
        "## 1.3) Add the shifted columns"
      ]
    },
    {
      "cell_type": "markdown",
      "metadata": {
        "id": "XDJq5SOhbd6z"
      },
      "source": [
        "Next, let's create a function to add lag columns:"
      ]
    },
    {
      "cell_type": "code",
      "execution_count": 10,
      "metadata": {
        "id": "-MNWtzuxbd60"
      },
      "outputs": [],
      "source": [
        "def add_lags(series, times):\n",
        "    cols = []\n",
        "    column_index = []\n",
        "    for time in times:\n",
        "        cols.append(series.shift(-time))\n",
        "        lag_fmt = \"t+{time}\" if time > 0 else \"t{time}\" if time < 0 else \"t\"\n",
        "        column_index += [(lag_fmt.format(time=time), col_name)\n",
        "                        for col_name in series.columns]\n",
        "    df = pd.concat(cols, axis=1)\n",
        "    df.columns = pd.MultiIndex.from_tuples(column_index)\n",
        "    return df"
      ]
    },
    {
      "cell_type": "code",
      "execution_count": 11,
      "metadata": {
        "id": "t9sfkhHqbd63",
        "colab": {
          "base_uri": "https://localhost:8080/",
          "height": 426
        },
        "outputId": "928592f2-26cb-41ea-df4f-d5c7f93216f2"
      },
      "outputs": [
        {
          "output_type": "execute_result",
          "data": {
            "text/plain": [
              "                   t-2         t-1           t         t+2\n",
              "           Temperature Temperature Temperature Temperature\n",
              "Date                                                      \n",
              "1981-01-01         NaN         NaN        20.7        18.8\n",
              "1981-01-02         NaN        20.7        17.9        14.6\n",
              "1981-01-03        20.7        17.9        18.8        15.8\n",
              "1981-01-04        17.9        18.8        14.6        15.8\n",
              "1981-01-05        18.8        14.6        15.8        15.8\n",
              "1981-01-06        14.6        15.8        15.8        17.4\n",
              "1981-01-07        15.8        15.8        15.8        21.8\n",
              "1981-01-08        15.8        15.8        17.4        20.0\n",
              "1981-01-09        15.8        17.4        21.8        16.2\n",
              "1981-01-10        17.4        21.8        20.0        13.3"
            ],
            "text/html": [
              "\n",
              "  <div id=\"df-59b869a7-3410-4c42-af9e-257e2d894913\">\n",
              "    <div class=\"colab-df-container\">\n",
              "      <div>\n",
              "<style scoped>\n",
              "    .dataframe tbody tr th:only-of-type {\n",
              "        vertical-align: middle;\n",
              "    }\n",
              "\n",
              "    .dataframe tbody tr th {\n",
              "        vertical-align: top;\n",
              "    }\n",
              "\n",
              "    .dataframe thead tr th {\n",
              "        text-align: left;\n",
              "    }\n",
              "\n",
              "    .dataframe thead tr:last-of-type th {\n",
              "        text-align: right;\n",
              "    }\n",
              "</style>\n",
              "<table border=\"1\" class=\"dataframe\">\n",
              "  <thead>\n",
              "    <tr>\n",
              "      <th></th>\n",
              "      <th>t-2</th>\n",
              "      <th>t-1</th>\n",
              "      <th>t</th>\n",
              "      <th>t+2</th>\n",
              "    </tr>\n",
              "    <tr>\n",
              "      <th></th>\n",
              "      <th>Temperature</th>\n",
              "      <th>Temperature</th>\n",
              "      <th>Temperature</th>\n",
              "      <th>Temperature</th>\n",
              "    </tr>\n",
              "    <tr>\n",
              "      <th>Date</th>\n",
              "      <th></th>\n",
              "      <th></th>\n",
              "      <th></th>\n",
              "      <th></th>\n",
              "    </tr>\n",
              "  </thead>\n",
              "  <tbody>\n",
              "    <tr>\n",
              "      <th>1981-01-01</th>\n",
              "      <td>NaN</td>\n",
              "      <td>NaN</td>\n",
              "      <td>20.7</td>\n",
              "      <td>18.8</td>\n",
              "    </tr>\n",
              "    <tr>\n",
              "      <th>1981-01-02</th>\n",
              "      <td>NaN</td>\n",
              "      <td>20.7</td>\n",
              "      <td>17.9</td>\n",
              "      <td>14.6</td>\n",
              "    </tr>\n",
              "    <tr>\n",
              "      <th>1981-01-03</th>\n",
              "      <td>20.7</td>\n",
              "      <td>17.9</td>\n",
              "      <td>18.8</td>\n",
              "      <td>15.8</td>\n",
              "    </tr>\n",
              "    <tr>\n",
              "      <th>1981-01-04</th>\n",
              "      <td>17.9</td>\n",
              "      <td>18.8</td>\n",
              "      <td>14.6</td>\n",
              "      <td>15.8</td>\n",
              "    </tr>\n",
              "    <tr>\n",
              "      <th>1981-01-05</th>\n",
              "      <td>18.8</td>\n",
              "      <td>14.6</td>\n",
              "      <td>15.8</td>\n",
              "      <td>15.8</td>\n",
              "    </tr>\n",
              "    <tr>\n",
              "      <th>1981-01-06</th>\n",
              "      <td>14.6</td>\n",
              "      <td>15.8</td>\n",
              "      <td>15.8</td>\n",
              "      <td>17.4</td>\n",
              "    </tr>\n",
              "    <tr>\n",
              "      <th>1981-01-07</th>\n",
              "      <td>15.8</td>\n",
              "      <td>15.8</td>\n",
              "      <td>15.8</td>\n",
              "      <td>21.8</td>\n",
              "    </tr>\n",
              "    <tr>\n",
              "      <th>1981-01-08</th>\n",
              "      <td>15.8</td>\n",
              "      <td>15.8</td>\n",
              "      <td>17.4</td>\n",
              "      <td>20.0</td>\n",
              "    </tr>\n",
              "    <tr>\n",
              "      <th>1981-01-09</th>\n",
              "      <td>15.8</td>\n",
              "      <td>17.4</td>\n",
              "      <td>21.8</td>\n",
              "      <td>16.2</td>\n",
              "    </tr>\n",
              "    <tr>\n",
              "      <th>1981-01-10</th>\n",
              "      <td>17.4</td>\n",
              "      <td>21.8</td>\n",
              "      <td>20.0</td>\n",
              "      <td>13.3</td>\n",
              "    </tr>\n",
              "  </tbody>\n",
              "</table>\n",
              "</div>\n",
              "      <button class=\"colab-df-convert\" onclick=\"convertToInteractive('df-59b869a7-3410-4c42-af9e-257e2d894913')\"\n",
              "              title=\"Convert this dataframe to an interactive table.\"\n",
              "              style=\"display:none;\">\n",
              "        \n",
              "  <svg xmlns=\"http://www.w3.org/2000/svg\" height=\"24px\"viewBox=\"0 0 24 24\"\n",
              "       width=\"24px\">\n",
              "    <path d=\"M0 0h24v24H0V0z\" fill=\"none\"/>\n",
              "    <path d=\"M18.56 5.44l.94 2.06.94-2.06 2.06-.94-2.06-.94-.94-2.06-.94 2.06-2.06.94zm-11 1L8.5 8.5l.94-2.06 2.06-.94-2.06-.94L8.5 2.5l-.94 2.06-2.06.94zm10 10l.94 2.06.94-2.06 2.06-.94-2.06-.94-.94-2.06-.94 2.06-2.06.94z\"/><path d=\"M17.41 7.96l-1.37-1.37c-.4-.4-.92-.59-1.43-.59-.52 0-1.04.2-1.43.59L10.3 9.45l-7.72 7.72c-.78.78-.78 2.05 0 2.83L4 21.41c.39.39.9.59 1.41.59.51 0 1.02-.2 1.41-.59l7.78-7.78 2.81-2.81c.8-.78.8-2.07 0-2.86zM5.41 20L4 18.59l7.72-7.72 1.47 1.35L5.41 20z\"/>\n",
              "  </svg>\n",
              "      </button>\n",
              "      \n",
              "  <style>\n",
              "    .colab-df-container {\n",
              "      display:flex;\n",
              "      flex-wrap:wrap;\n",
              "      gap: 12px;\n",
              "    }\n",
              "\n",
              "    .colab-df-convert {\n",
              "      background-color: #E8F0FE;\n",
              "      border: none;\n",
              "      border-radius: 50%;\n",
              "      cursor: pointer;\n",
              "      display: none;\n",
              "      fill: #1967D2;\n",
              "      height: 32px;\n",
              "      padding: 0 0 0 0;\n",
              "      width: 32px;\n",
              "    }\n",
              "\n",
              "    .colab-df-convert:hover {\n",
              "      background-color: #E2EBFA;\n",
              "      box-shadow: 0px 1px 2px rgba(60, 64, 67, 0.3), 0px 1px 3px 1px rgba(60, 64, 67, 0.15);\n",
              "      fill: #174EA6;\n",
              "    }\n",
              "\n",
              "    [theme=dark] .colab-df-convert {\n",
              "      background-color: #3B4455;\n",
              "      fill: #D2E3FC;\n",
              "    }\n",
              "\n",
              "    [theme=dark] .colab-df-convert:hover {\n",
              "      background-color: #434B5C;\n",
              "      box-shadow: 0px 1px 3px 1px rgba(0, 0, 0, 0.15);\n",
              "      filter: drop-shadow(0px 1px 2px rgba(0, 0, 0, 0.3));\n",
              "      fill: #FFFFFF;\n",
              "    }\n",
              "  </style>\n",
              "\n",
              "      <script>\n",
              "        const buttonEl =\n",
              "          document.querySelector('#df-59b869a7-3410-4c42-af9e-257e2d894913 button.colab-df-convert');\n",
              "        buttonEl.style.display =\n",
              "          google.colab.kernel.accessAllowed ? 'block' : 'none';\n",
              "\n",
              "        async function convertToInteractive(key) {\n",
              "          const element = document.querySelector('#df-59b869a7-3410-4c42-af9e-257e2d894913');\n",
              "          const dataTable =\n",
              "            await google.colab.kernel.invokeFunction('convertToInteractive',\n",
              "                                                     [key], {});\n",
              "          if (!dataTable) return;\n",
              "\n",
              "          const docLinkHtml = 'Like what you see? Visit the ' +\n",
              "            '<a target=\"_blank\" href=https://colab.research.google.com/notebooks/data_table.ipynb>data table notebook</a>'\n",
              "            + ' to learn more about interactive tables.';\n",
              "          element.innerHTML = '';\n",
              "          dataTable['output_type'] = 'display_data';\n",
              "          await google.colab.output.renderOutput(dataTable, element);\n",
              "          const docLink = document.createElement('div');\n",
              "          docLink.innerHTML = docLinkHtml;\n",
              "          element.appendChild(docLink);\n",
              "        }\n",
              "      </script>\n",
              "    </div>\n",
              "  </div>\n",
              "  "
            ]
          },
          "metadata": {},
          "execution_count": 11
        }
      ],
      "source": [
        "add_lags(temps, times=(-2, -1, 0, +2)).head(10)"
      ]
    },
    {
      "cell_type": "markdown",
      "metadata": {
        "id": "wAy6hQ-bbd6-"
      },
      "source": [
        "We will try to predict the temperature in 5 days (t+5) using the temperatures from the last 30 days (t-29 to t):"
      ]
    },
    {
      "cell_type": "code",
      "execution_count": 12,
      "metadata": {
        "id": "CNvO0mLIbd6_"
      },
      "outputs": [],
      "source": [
        "X = add_lags(temps, times=range(-30+1,1)).iloc[30:-5]\n",
        "y = add_lags(temps, times=[5]).iloc[30:-5]"
      ]
    },
    {
      "cell_type": "code",
      "execution_count": 13,
      "metadata": {
        "id": "COtRDHZ4bd7C",
        "colab": {
          "base_uri": "https://localhost:8080/",
          "height": 449
        },
        "outputId": "9d3bfdd8-e839-48bc-8168-d010a413c3bf"
      },
      "outputs": [
        {
          "output_type": "execute_result",
          "data": {
            "text/plain": [
              "                  t-29        t-28        t-27        t-26        t-25  \\\n",
              "           Temperature Temperature Temperature Temperature Temperature   \n",
              "Date                                                                     \n",
              "1981-01-31        17.9        18.8        14.6        15.8        15.8   \n",
              "1981-02-01        18.8        14.6        15.8        15.8        15.8   \n",
              "1981-02-02        14.6        15.8        15.8        15.8        17.4   \n",
              "1981-02-03        15.8        15.8        15.8        17.4        21.8   \n",
              "1981-02-04        15.8        15.8        17.4        21.8        20.0   \n",
              "\n",
              "                  t-24        t-23        t-22        t-21        t-20  ...  \\\n",
              "           Temperature Temperature Temperature Temperature Temperature  ...   \n",
              "Date                                                                    ...   \n",
              "1981-01-31        15.8        17.4        21.8        20.0        16.2  ...   \n",
              "1981-02-01        17.4        21.8        20.0        16.2        13.3  ...   \n",
              "1981-02-02        21.8        20.0        16.2        13.3        16.7  ...   \n",
              "1981-02-03        20.0        16.2        13.3        16.7        21.5  ...   \n",
              "1981-02-04        16.2        13.3        16.7        21.5        25.0  ...   \n",
              "\n",
              "                   t-9         t-8         t-7         t-6         t-5  \\\n",
              "           Temperature Temperature Temperature Temperature Temperature   \n",
              "Date                                                                     \n",
              "1981-01-31        12.1        14.4        16.0        16.5        18.7   \n",
              "1981-02-01        14.4        16.0        16.5        18.7        19.4   \n",
              "1981-02-02        16.0        16.5        18.7        19.4        17.2   \n",
              "1981-02-03        16.5        18.7        19.4        17.2        15.5   \n",
              "1981-02-04        18.7        19.4        17.2        15.5        15.1   \n",
              "\n",
              "                   t-4         t-3         t-2         t-1           t  \n",
              "           Temperature Temperature Temperature Temperature Temperature  \n",
              "Date                                                                    \n",
              "1981-01-31        19.4        17.2        15.5        15.1        15.4  \n",
              "1981-02-01        17.2        15.5        15.1        15.4        15.3  \n",
              "1981-02-02        15.5        15.1        15.4        15.3        18.8  \n",
              "1981-02-03        15.1        15.4        15.3        18.8        21.9  \n",
              "1981-02-04        15.4        15.3        18.8        21.9        19.9  \n",
              "\n",
              "[5 rows x 30 columns]"
            ],
            "text/html": [
              "\n",
              "  <div id=\"df-e8dc276b-1b7b-419b-a991-cf4084f6fb07\">\n",
              "    <div class=\"colab-df-container\">\n",
              "      <div>\n",
              "<style scoped>\n",
              "    .dataframe tbody tr th:only-of-type {\n",
              "        vertical-align: middle;\n",
              "    }\n",
              "\n",
              "    .dataframe tbody tr th {\n",
              "        vertical-align: top;\n",
              "    }\n",
              "\n",
              "    .dataframe thead tr th {\n",
              "        text-align: left;\n",
              "    }\n",
              "\n",
              "    .dataframe thead tr:last-of-type th {\n",
              "        text-align: right;\n",
              "    }\n",
              "</style>\n",
              "<table border=\"1\" class=\"dataframe\">\n",
              "  <thead>\n",
              "    <tr>\n",
              "      <th></th>\n",
              "      <th>t-29</th>\n",
              "      <th>t-28</th>\n",
              "      <th>t-27</th>\n",
              "      <th>t-26</th>\n",
              "      <th>t-25</th>\n",
              "      <th>t-24</th>\n",
              "      <th>t-23</th>\n",
              "      <th>t-22</th>\n",
              "      <th>t-21</th>\n",
              "      <th>t-20</th>\n",
              "      <th>...</th>\n",
              "      <th>t-9</th>\n",
              "      <th>t-8</th>\n",
              "      <th>t-7</th>\n",
              "      <th>t-6</th>\n",
              "      <th>t-5</th>\n",
              "      <th>t-4</th>\n",
              "      <th>t-3</th>\n",
              "      <th>t-2</th>\n",
              "      <th>t-1</th>\n",
              "      <th>t</th>\n",
              "    </tr>\n",
              "    <tr>\n",
              "      <th></th>\n",
              "      <th>Temperature</th>\n",
              "      <th>Temperature</th>\n",
              "      <th>Temperature</th>\n",
              "      <th>Temperature</th>\n",
              "      <th>Temperature</th>\n",
              "      <th>Temperature</th>\n",
              "      <th>Temperature</th>\n",
              "      <th>Temperature</th>\n",
              "      <th>Temperature</th>\n",
              "      <th>Temperature</th>\n",
              "      <th>...</th>\n",
              "      <th>Temperature</th>\n",
              "      <th>Temperature</th>\n",
              "      <th>Temperature</th>\n",
              "      <th>Temperature</th>\n",
              "      <th>Temperature</th>\n",
              "      <th>Temperature</th>\n",
              "      <th>Temperature</th>\n",
              "      <th>Temperature</th>\n",
              "      <th>Temperature</th>\n",
              "      <th>Temperature</th>\n",
              "    </tr>\n",
              "    <tr>\n",
              "      <th>Date</th>\n",
              "      <th></th>\n",
              "      <th></th>\n",
              "      <th></th>\n",
              "      <th></th>\n",
              "      <th></th>\n",
              "      <th></th>\n",
              "      <th></th>\n",
              "      <th></th>\n",
              "      <th></th>\n",
              "      <th></th>\n",
              "      <th></th>\n",
              "      <th></th>\n",
              "      <th></th>\n",
              "      <th></th>\n",
              "      <th></th>\n",
              "      <th></th>\n",
              "      <th></th>\n",
              "      <th></th>\n",
              "      <th></th>\n",
              "      <th></th>\n",
              "      <th></th>\n",
              "    </tr>\n",
              "  </thead>\n",
              "  <tbody>\n",
              "    <tr>\n",
              "      <th>1981-01-31</th>\n",
              "      <td>17.9</td>\n",
              "      <td>18.8</td>\n",
              "      <td>14.6</td>\n",
              "      <td>15.8</td>\n",
              "      <td>15.8</td>\n",
              "      <td>15.8</td>\n",
              "      <td>17.4</td>\n",
              "      <td>21.8</td>\n",
              "      <td>20.0</td>\n",
              "      <td>16.2</td>\n",
              "      <td>...</td>\n",
              "      <td>12.1</td>\n",
              "      <td>14.4</td>\n",
              "      <td>16.0</td>\n",
              "      <td>16.5</td>\n",
              "      <td>18.7</td>\n",
              "      <td>19.4</td>\n",
              "      <td>17.2</td>\n",
              "      <td>15.5</td>\n",
              "      <td>15.1</td>\n",
              "      <td>15.4</td>\n",
              "    </tr>\n",
              "    <tr>\n",
              "      <th>1981-02-01</th>\n",
              "      <td>18.8</td>\n",
              "      <td>14.6</td>\n",
              "      <td>15.8</td>\n",
              "      <td>15.8</td>\n",
              "      <td>15.8</td>\n",
              "      <td>17.4</td>\n",
              "      <td>21.8</td>\n",
              "      <td>20.0</td>\n",
              "      <td>16.2</td>\n",
              "      <td>13.3</td>\n",
              "      <td>...</td>\n",
              "      <td>14.4</td>\n",
              "      <td>16.0</td>\n",
              "      <td>16.5</td>\n",
              "      <td>18.7</td>\n",
              "      <td>19.4</td>\n",
              "      <td>17.2</td>\n",
              "      <td>15.5</td>\n",
              "      <td>15.1</td>\n",
              "      <td>15.4</td>\n",
              "      <td>15.3</td>\n",
              "    </tr>\n",
              "    <tr>\n",
              "      <th>1981-02-02</th>\n",
              "      <td>14.6</td>\n",
              "      <td>15.8</td>\n",
              "      <td>15.8</td>\n",
              "      <td>15.8</td>\n",
              "      <td>17.4</td>\n",
              "      <td>21.8</td>\n",
              "      <td>20.0</td>\n",
              "      <td>16.2</td>\n",
              "      <td>13.3</td>\n",
              "      <td>16.7</td>\n",
              "      <td>...</td>\n",
              "      <td>16.0</td>\n",
              "      <td>16.5</td>\n",
              "      <td>18.7</td>\n",
              "      <td>19.4</td>\n",
              "      <td>17.2</td>\n",
              "      <td>15.5</td>\n",
              "      <td>15.1</td>\n",
              "      <td>15.4</td>\n",
              "      <td>15.3</td>\n",
              "      <td>18.8</td>\n",
              "    </tr>\n",
              "    <tr>\n",
              "      <th>1981-02-03</th>\n",
              "      <td>15.8</td>\n",
              "      <td>15.8</td>\n",
              "      <td>15.8</td>\n",
              "      <td>17.4</td>\n",
              "      <td>21.8</td>\n",
              "      <td>20.0</td>\n",
              "      <td>16.2</td>\n",
              "      <td>13.3</td>\n",
              "      <td>16.7</td>\n",
              "      <td>21.5</td>\n",
              "      <td>...</td>\n",
              "      <td>16.5</td>\n",
              "      <td>18.7</td>\n",
              "      <td>19.4</td>\n",
              "      <td>17.2</td>\n",
              "      <td>15.5</td>\n",
              "      <td>15.1</td>\n",
              "      <td>15.4</td>\n",
              "      <td>15.3</td>\n",
              "      <td>18.8</td>\n",
              "      <td>21.9</td>\n",
              "    </tr>\n",
              "    <tr>\n",
              "      <th>1981-02-04</th>\n",
              "      <td>15.8</td>\n",
              "      <td>15.8</td>\n",
              "      <td>17.4</td>\n",
              "      <td>21.8</td>\n",
              "      <td>20.0</td>\n",
              "      <td>16.2</td>\n",
              "      <td>13.3</td>\n",
              "      <td>16.7</td>\n",
              "      <td>21.5</td>\n",
              "      <td>25.0</td>\n",
              "      <td>...</td>\n",
              "      <td>18.7</td>\n",
              "      <td>19.4</td>\n",
              "      <td>17.2</td>\n",
              "      <td>15.5</td>\n",
              "      <td>15.1</td>\n",
              "      <td>15.4</td>\n",
              "      <td>15.3</td>\n",
              "      <td>18.8</td>\n",
              "      <td>21.9</td>\n",
              "      <td>19.9</td>\n",
              "    </tr>\n",
              "  </tbody>\n",
              "</table>\n",
              "<p>5 rows × 30 columns</p>\n",
              "</div>\n",
              "      <button class=\"colab-df-convert\" onclick=\"convertToInteractive('df-e8dc276b-1b7b-419b-a991-cf4084f6fb07')\"\n",
              "              title=\"Convert this dataframe to an interactive table.\"\n",
              "              style=\"display:none;\">\n",
              "        \n",
              "  <svg xmlns=\"http://www.w3.org/2000/svg\" height=\"24px\"viewBox=\"0 0 24 24\"\n",
              "       width=\"24px\">\n",
              "    <path d=\"M0 0h24v24H0V0z\" fill=\"none\"/>\n",
              "    <path d=\"M18.56 5.44l.94 2.06.94-2.06 2.06-.94-2.06-.94-.94-2.06-.94 2.06-2.06.94zm-11 1L8.5 8.5l.94-2.06 2.06-.94-2.06-.94L8.5 2.5l-.94 2.06-2.06.94zm10 10l.94 2.06.94-2.06 2.06-.94-2.06-.94-.94-2.06-.94 2.06-2.06.94z\"/><path d=\"M17.41 7.96l-1.37-1.37c-.4-.4-.92-.59-1.43-.59-.52 0-1.04.2-1.43.59L10.3 9.45l-7.72 7.72c-.78.78-.78 2.05 0 2.83L4 21.41c.39.39.9.59 1.41.59.51 0 1.02-.2 1.41-.59l7.78-7.78 2.81-2.81c.8-.78.8-2.07 0-2.86zM5.41 20L4 18.59l7.72-7.72 1.47 1.35L5.41 20z\"/>\n",
              "  </svg>\n",
              "      </button>\n",
              "      \n",
              "  <style>\n",
              "    .colab-df-container {\n",
              "      display:flex;\n",
              "      flex-wrap:wrap;\n",
              "      gap: 12px;\n",
              "    }\n",
              "\n",
              "    .colab-df-convert {\n",
              "      background-color: #E8F0FE;\n",
              "      border: none;\n",
              "      border-radius: 50%;\n",
              "      cursor: pointer;\n",
              "      display: none;\n",
              "      fill: #1967D2;\n",
              "      height: 32px;\n",
              "      padding: 0 0 0 0;\n",
              "      width: 32px;\n",
              "    }\n",
              "\n",
              "    .colab-df-convert:hover {\n",
              "      background-color: #E2EBFA;\n",
              "      box-shadow: 0px 1px 2px rgba(60, 64, 67, 0.3), 0px 1px 3px 1px rgba(60, 64, 67, 0.15);\n",
              "      fill: #174EA6;\n",
              "    }\n",
              "\n",
              "    [theme=dark] .colab-df-convert {\n",
              "      background-color: #3B4455;\n",
              "      fill: #D2E3FC;\n",
              "    }\n",
              "\n",
              "    [theme=dark] .colab-df-convert:hover {\n",
              "      background-color: #434B5C;\n",
              "      box-shadow: 0px 1px 3px 1px rgba(0, 0, 0, 0.15);\n",
              "      filter: drop-shadow(0px 1px 2px rgba(0, 0, 0, 0.3));\n",
              "      fill: #FFFFFF;\n",
              "    }\n",
              "  </style>\n",
              "\n",
              "      <script>\n",
              "        const buttonEl =\n",
              "          document.querySelector('#df-e8dc276b-1b7b-419b-a991-cf4084f6fb07 button.colab-df-convert');\n",
              "        buttonEl.style.display =\n",
              "          google.colab.kernel.accessAllowed ? 'block' : 'none';\n",
              "\n",
              "        async function convertToInteractive(key) {\n",
              "          const element = document.querySelector('#df-e8dc276b-1b7b-419b-a991-cf4084f6fb07');\n",
              "          const dataTable =\n",
              "            await google.colab.kernel.invokeFunction('convertToInteractive',\n",
              "                                                     [key], {});\n",
              "          if (!dataTable) return;\n",
              "\n",
              "          const docLinkHtml = 'Like what you see? Visit the ' +\n",
              "            '<a target=\"_blank\" href=https://colab.research.google.com/notebooks/data_table.ipynb>data table notebook</a>'\n",
              "            + ' to learn more about interactive tables.';\n",
              "          element.innerHTML = '';\n",
              "          dataTable['output_type'] = 'display_data';\n",
              "          await google.colab.output.renderOutput(dataTable, element);\n",
              "          const docLink = document.createElement('div');\n",
              "          docLink.innerHTML = docLinkHtml;\n",
              "          element.appendChild(docLink);\n",
              "        }\n",
              "      </script>\n",
              "    </div>\n",
              "  </div>\n",
              "  "
            ]
          },
          "metadata": {},
          "execution_count": 13
        }
      ],
      "source": [
        "X.head()"
      ]
    },
    {
      "cell_type": "code",
      "execution_count": 14,
      "metadata": {
        "id": "xWyrsGRFbd7E",
        "colab": {
          "base_uri": "https://localhost:8080/",
          "height": 269
        },
        "outputId": "cfdcdc17-b8e9-4e54-f1f5-486cd28a9138"
      },
      "outputs": [
        {
          "output_type": "execute_result",
          "data": {
            "text/plain": [
              "                   t+5\n",
              "           Temperature\n",
              "Date                  \n",
              "1981-01-31        16.6\n",
              "1981-02-01        16.8\n",
              "1981-02-02        14.6\n",
              "1981-02-03        17.1\n",
              "1981-02-04        25.0"
            ],
            "text/html": [
              "\n",
              "  <div id=\"df-4110b25f-b8b4-4fcf-bd35-2da4d8fc3674\">\n",
              "    <div class=\"colab-df-container\">\n",
              "      <div>\n",
              "<style scoped>\n",
              "    .dataframe tbody tr th:only-of-type {\n",
              "        vertical-align: middle;\n",
              "    }\n",
              "\n",
              "    .dataframe tbody tr th {\n",
              "        vertical-align: top;\n",
              "    }\n",
              "\n",
              "    .dataframe thead tr th {\n",
              "        text-align: left;\n",
              "    }\n",
              "\n",
              "    .dataframe thead tr:last-of-type th {\n",
              "        text-align: right;\n",
              "    }\n",
              "</style>\n",
              "<table border=\"1\" class=\"dataframe\">\n",
              "  <thead>\n",
              "    <tr>\n",
              "      <th></th>\n",
              "      <th>t+5</th>\n",
              "    </tr>\n",
              "    <tr>\n",
              "      <th></th>\n",
              "      <th>Temperature</th>\n",
              "    </tr>\n",
              "    <tr>\n",
              "      <th>Date</th>\n",
              "      <th></th>\n",
              "    </tr>\n",
              "  </thead>\n",
              "  <tbody>\n",
              "    <tr>\n",
              "      <th>1981-01-31</th>\n",
              "      <td>16.6</td>\n",
              "    </tr>\n",
              "    <tr>\n",
              "      <th>1981-02-01</th>\n",
              "      <td>16.8</td>\n",
              "    </tr>\n",
              "    <tr>\n",
              "      <th>1981-02-02</th>\n",
              "      <td>14.6</td>\n",
              "    </tr>\n",
              "    <tr>\n",
              "      <th>1981-02-03</th>\n",
              "      <td>17.1</td>\n",
              "    </tr>\n",
              "    <tr>\n",
              "      <th>1981-02-04</th>\n",
              "      <td>25.0</td>\n",
              "    </tr>\n",
              "  </tbody>\n",
              "</table>\n",
              "</div>\n",
              "      <button class=\"colab-df-convert\" onclick=\"convertToInteractive('df-4110b25f-b8b4-4fcf-bd35-2da4d8fc3674')\"\n",
              "              title=\"Convert this dataframe to an interactive table.\"\n",
              "              style=\"display:none;\">\n",
              "        \n",
              "  <svg xmlns=\"http://www.w3.org/2000/svg\" height=\"24px\"viewBox=\"0 0 24 24\"\n",
              "       width=\"24px\">\n",
              "    <path d=\"M0 0h24v24H0V0z\" fill=\"none\"/>\n",
              "    <path d=\"M18.56 5.44l.94 2.06.94-2.06 2.06-.94-2.06-.94-.94-2.06-.94 2.06-2.06.94zm-11 1L8.5 8.5l.94-2.06 2.06-.94-2.06-.94L8.5 2.5l-.94 2.06-2.06.94zm10 10l.94 2.06.94-2.06 2.06-.94-2.06-.94-.94-2.06-.94 2.06-2.06.94z\"/><path d=\"M17.41 7.96l-1.37-1.37c-.4-.4-.92-.59-1.43-.59-.52 0-1.04.2-1.43.59L10.3 9.45l-7.72 7.72c-.78.78-.78 2.05 0 2.83L4 21.41c.39.39.9.59 1.41.59.51 0 1.02-.2 1.41-.59l7.78-7.78 2.81-2.81c.8-.78.8-2.07 0-2.86zM5.41 20L4 18.59l7.72-7.72 1.47 1.35L5.41 20z\"/>\n",
              "  </svg>\n",
              "      </button>\n",
              "      \n",
              "  <style>\n",
              "    .colab-df-container {\n",
              "      display:flex;\n",
              "      flex-wrap:wrap;\n",
              "      gap: 12px;\n",
              "    }\n",
              "\n",
              "    .colab-df-convert {\n",
              "      background-color: #E8F0FE;\n",
              "      border: none;\n",
              "      border-radius: 50%;\n",
              "      cursor: pointer;\n",
              "      display: none;\n",
              "      fill: #1967D2;\n",
              "      height: 32px;\n",
              "      padding: 0 0 0 0;\n",
              "      width: 32px;\n",
              "    }\n",
              "\n",
              "    .colab-df-convert:hover {\n",
              "      background-color: #E2EBFA;\n",
              "      box-shadow: 0px 1px 2px rgba(60, 64, 67, 0.3), 0px 1px 3px 1px rgba(60, 64, 67, 0.15);\n",
              "      fill: #174EA6;\n",
              "    }\n",
              "\n",
              "    [theme=dark] .colab-df-convert {\n",
              "      background-color: #3B4455;\n",
              "      fill: #D2E3FC;\n",
              "    }\n",
              "\n",
              "    [theme=dark] .colab-df-convert:hover {\n",
              "      background-color: #434B5C;\n",
              "      box-shadow: 0px 1px 3px 1px rgba(0, 0, 0, 0.15);\n",
              "      filter: drop-shadow(0px 1px 2px rgba(0, 0, 0, 0.3));\n",
              "      fill: #FFFFFF;\n",
              "    }\n",
              "  </style>\n",
              "\n",
              "      <script>\n",
              "        const buttonEl =\n",
              "          document.querySelector('#df-4110b25f-b8b4-4fcf-bd35-2da4d8fc3674 button.colab-df-convert');\n",
              "        buttonEl.style.display =\n",
              "          google.colab.kernel.accessAllowed ? 'block' : 'none';\n",
              "\n",
              "        async function convertToInteractive(key) {\n",
              "          const element = document.querySelector('#df-4110b25f-b8b4-4fcf-bd35-2da4d8fc3674');\n",
              "          const dataTable =\n",
              "            await google.colab.kernel.invokeFunction('convertToInteractive',\n",
              "                                                     [key], {});\n",
              "          if (!dataTable) return;\n",
              "\n",
              "          const docLinkHtml = 'Like what you see? Visit the ' +\n",
              "            '<a target=\"_blank\" href=https://colab.research.google.com/notebooks/data_table.ipynb>data table notebook</a>'\n",
              "            + ' to learn more about interactive tables.';\n",
              "          element.innerHTML = '';\n",
              "          dataTable['output_type'] = 'display_data';\n",
              "          await google.colab.output.renderOutput(dataTable, element);\n",
              "          const docLink = document.createElement('div');\n",
              "          docLink.innerHTML = docLinkHtml;\n",
              "          element.appendChild(docLink);\n",
              "        }\n",
              "      </script>\n",
              "    </div>\n",
              "  </div>\n",
              "  "
            ]
          },
          "metadata": {},
          "execution_count": 14
        }
      ],
      "source": [
        "y.head()"
      ]
    },
    {
      "cell_type": "markdown",
      "metadata": {
        "id": "3qMajtmrbd7G"
      },
      "source": [
        "Note: you may want to use `keras.preprocessing.sequence.TimeseriesGenerator` or `tf.data.Dataset.window()` instead."
      ]
    },
    {
      "cell_type": "markdown",
      "metadata": {
        "id": "PMXNCFyubd7H"
      },
      "source": [
        "## 1.4) Split the dataset"
      ]
    },
    {
      "cell_type": "markdown",
      "metadata": {
        "id": "dC_14bDObd7H"
      },
      "source": [
        "Split this dataset into three periods: training (1981-1986), validation (1987-1988) and testing (1989-1990)."
      ]
    },
    {
      "cell_type": "code",
      "execution_count": 15,
      "metadata": {
        "id": "12EZ0xxXbd7I"
      },
      "outputs": [],
      "source": [
        "train_slice = slice(None, \"1986-12-25\")\n",
        "valid_slice = slice(\"1987-01-01\", \"1988-12-25\")\n",
        "test_slice  = slice(\"1989-01-01\", None)"
      ]
    },
    {
      "cell_type": "code",
      "execution_count": 16,
      "metadata": {
        "id": "JG2QyY12bd7L"
      },
      "outputs": [],
      "source": [
        "X_train, y_train = X.loc[train_slice], y.loc[train_slice]\n",
        "X_valid, y_valid = X.loc[valid_slice], y.loc[valid_slice]\n",
        "X_test, y_test = X.loc[test_slice], y.loc[test_slice]"
      ]
    },
    {
      "cell_type": "markdown",
      "metadata": {
        "id": "3ezMe86rbd7N"
      },
      "source": [
        "## 1.5) Reshape the inputs for the RNN"
      ]
    },
    {
      "cell_type": "markdown",
      "metadata": {
        "id": "5ekS_7eybd7O"
      },
      "source": [
        "Keras and TensorFlow expect a 3D NumPy array for any sequence. Its shape should be (number of instances, number of time steps, number of features per time step). \n",
        "\n",
        "Since this is a univariate time series *(The term \"univariate time series\" refers to a time series that consists of single (scalar) observations recorded sequentially over equal time increments. Example : monthly CO2 concentrations)*, the last dimension is 1. \n",
        "\n",
        "\n",
        "![3D Structure](images/3D-targets.png)\n",
        "\n",
        "Reshape the input features to get 3D arrays:"
      ]
    },
    {
      "cell_type": "code",
      "execution_count": 17,
      "metadata": {
        "id": "MuMv8IfYbd7P"
      },
      "outputs": [],
      "source": [
        "def multilevel_df_to_ndarray(df):\n",
        "    shape = [-1] + [len(level) for level in df.columns.remove_unused_levels().levels]\n",
        "    return df.values.reshape(shape)"
      ]
    },
    {
      "cell_type": "code",
      "execution_count": 18,
      "metadata": {
        "id": "iKRC8ruVbd7R"
      },
      "outputs": [],
      "source": [
        "X_train_3D = multilevel_df_to_ndarray(X_train)\n",
        "X_valid_3D = multilevel_df_to_ndarray(X_valid)\n",
        "X_test_3D = multilevel_df_to_ndarray(X_test)"
      ]
    },
    {
      "cell_type": "code",
      "execution_count": 19,
      "metadata": {
        "id": "ywMDnamxbd7T",
        "colab": {
          "base_uri": "https://localhost:8080/"
        },
        "outputId": "752295ca-7d20-4070-c79d-f1d82a2555ed"
      },
      "outputs": [
        {
          "output_type": "execute_result",
          "data": {
            "text/plain": [
              "(2155, 30)"
            ]
          },
          "metadata": {},
          "execution_count": 19
        }
      ],
      "source": [
        "X_train.shape"
      ]
    },
    {
      "cell_type": "code",
      "execution_count": 20,
      "metadata": {
        "id": "AkJnpiiJbd7W",
        "colab": {
          "base_uri": "https://localhost:8080/"
        },
        "outputId": "1eb5a518-355f-45a5-d88b-d2ca6a71b7e2"
      },
      "outputs": [
        {
          "output_type": "execute_result",
          "data": {
            "text/plain": [
              "(2155, 30, 1)"
            ]
          },
          "metadata": {},
          "execution_count": 20
        }
      ],
      "source": [
        "X_train_3D.shape"
      ]
    },
    {
      "cell_type": "markdown",
      "metadata": {
        "id": "WZYw9Stlbd7Y"
      },
      "source": [
        "## 1.6) Build some baseline models"
      ]
    },
    {
      "cell_type": "markdown",
      "metadata": {
        "id": "GFpYltcGbd7Z"
      },
      "source": [
        "Build some baseline models (at least one) and evaluate them on the test set, using the Mean Absolute Error (MAE). For example:\n",
        "\n",
        "* a naive model, that just predicts the last known value.\n",
        "* a linear model.\n",
        "\n",
        "Now let's evaluate some basic strategies, to get some baselines:"
      ]
    },
    {
      "cell_type": "code",
      "execution_count": 21,
      "metadata": {
        "id": "JMBycCGwbd7Z"
      },
      "outputs": [],
      "source": [
        "from sklearn.metrics import mean_absolute_error"
      ]
    },
    {
      "cell_type": "code",
      "execution_count": 22,
      "metadata": {
        "id": "qlH8GZdNbd7c"
      },
      "outputs": [],
      "source": [
        "def naive(X):\n",
        "    return X.iloc[:, -1]"
      ]
    },
    {
      "cell_type": "code",
      "execution_count": 23,
      "metadata": {
        "colab": {
          "base_uri": "https://localhost:8080/"
        },
        "id": "06sJ9TgBUeBF",
        "outputId": "e24552be-6cb9-482e-b66a-739c8d46bfed"
      },
      "outputs": [
        {
          "output_type": "execute_result",
          "data": {
            "text/plain": [
              "0    21\n",
              "1    22\n",
              "2    23\n",
              "3    24\n",
              "Name: C, dtype: int64"
            ]
          },
          "metadata": {},
          "execution_count": 23
        }
      ],
      "source": [
        "df_test = pd.DataFrame({\"A\" : [1,2,3,4], \"B\" : [11,21,31,41], \"C\" : [21,22,23,24]})\n",
        "df_test.iloc[:, -1]"
      ]
    },
    {
      "cell_type": "code",
      "execution_count": 24,
      "metadata": {
        "id": "lm4FW3L0bd7f"
      },
      "outputs": [],
      "source": [
        "y_pred_naive = naive(X_test)"
      ]
    },
    {
      "cell_type": "code",
      "execution_count": 25,
      "metadata": {
        "id": "YcoCmtMebd7i",
        "colab": {
          "base_uri": "https://localhost:8080/"
        },
        "outputId": "173cff81-f3f1-401e-d4df-631ebeb5e1f0"
      },
      "outputs": [
        {
          "output_type": "execute_result",
          "data": {
            "text/plain": [
              "2.8064827586206893"
            ]
          },
          "metadata": {},
          "execution_count": 25
        }
      ],
      "source": [
        "score_naive = mean_absolute_error(y_test, y_pred_naive)\n",
        "score_naive"
      ]
    },
    {
      "cell_type": "code",
      "execution_count": 26,
      "metadata": {
        "id": "36o10LFkbd7q"
      },
      "outputs": [],
      "source": [
        "from sklearn.linear_model import LinearRegression"
      ]
    },
    {
      "cell_type": "code",
      "execution_count": 27,
      "metadata": {
        "id": "UQXqojzDbd7u",
        "colab": {
          "base_uri": "https://localhost:8080/"
        },
        "outputId": "b6d4000a-f3e4-49b8-9e1d-e5fdf501b40a"
      },
      "outputs": [
        {
          "output_type": "stream",
          "name": "stderr",
          "text": [
            "/usr/local/lib/python3.8/dist-packages/sklearn/utils/validation.py:1688: FutureWarning: Feature names only support names that are all strings. Got feature names with dtypes: ['tuple']. An error will be raised in 1.2.\n",
            "  warnings.warn(\n"
          ]
        },
        {
          "output_type": "execute_result",
          "data": {
            "text/plain": [
              "LinearRegression()"
            ]
          },
          "metadata": {},
          "execution_count": 27
        }
      ],
      "source": [
        "lin_reg = LinearRegression()\n",
        "lin_reg.fit(X_train, y_train)"
      ]
    },
    {
      "cell_type": "code",
      "execution_count": 28,
      "metadata": {
        "id": "aEslBb8Bbd7w",
        "colab": {
          "base_uri": "https://localhost:8080/"
        },
        "outputId": "48396f16-440f-4e86-e1c3-f511bdb289d8"
      },
      "outputs": [
        {
          "output_type": "stream",
          "name": "stderr",
          "text": [
            "/usr/local/lib/python3.8/dist-packages/sklearn/utils/validation.py:1688: FutureWarning: Feature names only support names that are all strings. Got feature names with dtypes: ['tuple']. An error will be raised in 1.2.\n",
            "  warnings.warn(\n"
          ]
        }
      ],
      "source": [
        "y_pred_linear = lin_reg.predict(X_test)"
      ]
    },
    {
      "cell_type": "code",
      "execution_count": 29,
      "metadata": {
        "id": "Wa2PYE9Hbd7z",
        "colab": {
          "base_uri": "https://localhost:8080/"
        },
        "outputId": "d1079b3f-fbf4-41d4-929a-22dad0c53f19"
      },
      "outputs": [
        {
          "output_type": "execute_result",
          "data": {
            "text/plain": [
              "2.109160325752547"
            ]
          },
          "metadata": {},
          "execution_count": 29
        }
      ],
      "source": [
        "score_linear = mean_absolute_error(y_test, y_pred_linear)\n",
        "score_linear"
      ]
    },
    {
      "cell_type": "markdown",
      "metadata": {
        "id": "NUGZyWzAbd71"
      },
      "source": [
        "Let's plot these predictions:"
      ]
    },
    {
      "cell_type": "code",
      "execution_count": 30,
      "metadata": {
        "id": "XcO5N6Pmbd71"
      },
      "outputs": [],
      "source": [
        "def plot_predictions(*named_predictions, start=None, end=None, **kwargs):\n",
        "    day_range = slice(start, end)\n",
        "    plt.figure(figsize=(10,5))\n",
        "    for name, y_pred in named_predictions:\n",
        "        if hasattr(y_pred, \"values\"):\n",
        "            y_pred = y_pred.values\n",
        "        plt.plot(y_pred[day_range], label=name, **kwargs)\n",
        "    plt.legend()\n",
        "    plt.show()"
      ]
    },
    {
      "cell_type": "code",
      "execution_count": 31,
      "metadata": {
        "id": "wrsWmr1Obd73",
        "colab": {
          "base_uri": "https://localhost:8080/",
          "height": 320
        },
        "outputId": "e0a3b83f-c97d-4d0a-d29d-244f88a2cb29"
      },
      "outputs": [
        {
          "output_type": "display_data",
          "data": {
            "text/plain": [
              "<Figure size 720x360 with 1 Axes>"
            ],
            "image/png": "[encoded data removed]"
          },
          "metadata": {
            "needs_background": "light"
          }
        }
      ],
      "source": [
        "plot_predictions((\"Target\", y_test),\n",
        "                 (\"Naive\", y_pred_naive),\n",
        "                 (\"Linear\", y_pred_linear),\n",
        "                 end=365)"
      ]
    },
    {
      "cell_type": "markdown",
      "metadata": {
        "id": "eHSymj_5bd74"
      },
      "source": [
        "## 1.7) Build a simple RNN"
      ]
    },
    {
      "cell_type": "markdown",
      "metadata": {
        "id": "xmk11Pj-bd75"
      },
      "source": [
        "Using Keras, build a simple 2-layer RNN with a `memory` of 100 per layer, plus a dense layer with a single neuron. \n",
        "\n",
        "Train the model for 200 epochs with a batch size of 200, using Stochastic Gradient Descent with an learning rate of 0.005.\n",
        "\n",
        "Make sure to print the validation loss during training.\n",
        "\n",
        "Hints:\n",
        "\n",
        ">* Create a `Sequential` model.\n",
        ">* Add two `SimpleRNN` layers, with 100 units each. \n",
        ">    - The first should return sequences but not the second. \n",
        ">    - The first layer should specify the input shape (i.e., the shape of a single input sequence).\n",
        ">    - Indeed, in a Seq2Vec model *(sequence of words into a fix-length representation vector.)*, the last RNN layer should not return sequences.\n",
        ">* Add a Dense layer with a single neuron\n",
        "\n",
        "![Many to One](images/many-to-one.png)\n",
        " \n",
        ">* Use the MSE as the loss.\n",
        ">* Use the MAE as the metric.\n",
        ">* Call the model's `compile()` method, passing it an `SGD` instance with `learning_rate=0.005`.\n",
        ">* Call the model's `fit()` method, with the inputs and targets, number of epochs, batch size and validation data."
      ]
    },
    {
      "cell_type": "code",
      "execution_count": 32,
      "metadata": {
        "id": "SCo9KZgrbd76",
        "colab": {
          "base_uri": "https://localhost:8080/"
        },
        "outputId": "b4a3de9c-93f4-48f4-f9a7-5223556429c6"
      },
      "outputs": [
        {
          "output_type": "execute_result",
          "data": {
            "text/plain": [
              "(30, 1)"
            ]
          },
          "metadata": {},
          "execution_count": 32
        }
      ],
      "source": [
        "input_shape = X_train_3D.shape[1:]\n",
        "input_shape"
      ]
    },
    {
      "cell_type": "code",
      "execution_count": 33,
      "metadata": {
        "id": "IR6bmYmObd78"
      },
      "outputs": [],
      "source": [
        "model_mse = keras.models.Sequential()\n",
        "model_mse.add(keras.layers.SimpleRNN(100, return_sequences=True, input_shape=input_shape))\n",
        "model_mse.add(keras.layers.SimpleRNN(100))\n",
        "model_mse.add(keras.layers.Dense(1))\n",
        "model_mse.compile(loss=\"mse\", \n",
        "                  optimizer=keras.optimizers.SGD(learning_rate=0.005), \n",
        "                  metrics=[\"mae\"])"
      ]
    },
    {
      "cell_type": "code",
      "execution_count": 34,
      "metadata": {
        "id": "sHfzW2Vvbd8A",
        "colab": {
          "base_uri": "https://localhost:8080/"
        },
        "outputId": "d341a651-ab67-440a-f3bf-9afc0bd818ca"
      },
      "outputs": [
        {
          "output_type": "stream",
          "name": "stdout",
          "text": [
            "Epoch 1/200\n",
            "11/11 [==============================] - 4s 76ms/step - loss: 28.2816 - mae: 3.9600 - val_loss: 15.7237 - val_mae: 3.1429\n",
            "Epoch 2/200\n",
            "11/11 [==============================] - 1s 57ms/step - loss: 14.1141 - mae: 2.9563 - val_loss: 10.3223 - val_mae: 2.5271\n",
            "Epoch 3/200\n",
            "11/11 [==============================] - 1s 97ms/step - loss: 14.8026 - mae: 3.0022 - val_loss: 17.0856 - val_mae: 3.3574\n",
            "Epoch 4/200\n",
            "11/11 [==============================] - 1s 113ms/step - loss: 14.3630 - mae: 2.9823 - val_loss: 11.0989 - val_mae: 2.6073\n",
            "Epoch 5/200\n",
            "11/11 [==============================] - 2s 142ms/step - loss: 12.0575 - mae: 2.7283 - val_loss: 9.8611 - val_mae: 2.4623\n",
            "Epoch 6/200\n",
            "11/11 [==============================] - 1s 123ms/step - loss: 12.2234 - mae: 2.7352 - val_loss: 9.7425 - val_mae: 2.4571\n",
            "Epoch 7/200\n",
            "11/11 [==============================] - 1s 124ms/step - loss: 11.6693 - mae: 2.6748 - val_loss: 15.0905 - val_mae: 3.1314\n",
            "Epoch 8/200\n",
            "11/11 [==============================] - 1s 116ms/step - loss: 10.6933 - mae: 2.5574 - val_loss: 10.6208 - val_mae: 2.6070\n",
            "Epoch 9/200\n",
            "11/11 [==============================] - 1s 103ms/step - loss: 11.2891 - mae: 2.6690 - val_loss: 9.1767 - val_mae: 2.3677\n",
            "Epoch 10/200\n",
            "11/11 [==============================] - 1s 119ms/step - loss: 10.3468 - mae: 2.5188 - val_loss: 12.8403 - val_mae: 2.8760\n",
            "Epoch 11/200\n",
            "11/11 [==============================] - 2s 142ms/step - loss: 9.9295 - mae: 2.4617 - val_loss: 9.2244 - val_mae: 2.3618\n",
            "Epoch 12/200\n",
            "11/11 [==============================] - 1s 116ms/step - loss: 11.0034 - mae: 2.5983 - val_loss: 9.4235 - val_mae: 2.4453\n",
            "Epoch 13/200\n",
            "11/11 [==============================] - 1s 103ms/step - loss: 9.8515 - mae: 2.4471 - val_loss: 9.1554 - val_mae: 2.3489\n",
            "Epoch 14/200\n",
            "11/11 [==============================] - 1s 111ms/step - loss: 9.4489 - mae: 2.3987 - val_loss: 8.9849 - val_mae: 2.3402\n",
            "Epoch 15/200\n",
            "11/11 [==============================] - 1s 125ms/step - loss: 10.5418 - mae: 2.5428 - val_loss: 8.9751 - val_mae: 2.3393\n",
            "Epoch 16/200\n",
            "11/11 [==============================] - 1s 46ms/step - loss: 11.5285 - mae: 2.6710 - val_loss: 8.7457 - val_mae: 2.3171\n",
            "Epoch 17/200\n",
            "11/11 [==============================] - 1s 46ms/step - loss: 9.4511 - mae: 2.3981 - val_loss: 10.9197 - val_mae: 2.6491\n",
            "Epoch 18/200\n",
            "11/11 [==============================] - 1s 49ms/step - loss: 10.3101 - mae: 2.5126 - val_loss: 8.6342 - val_mae: 2.2939\n",
            "Epoch 19/200\n",
            "11/11 [==============================] - 1s 52ms/step - loss: 9.3631 - mae: 2.3940 - val_loss: 8.6025 - val_mae: 2.3326\n",
            "Epoch 20/200\n",
            "11/11 [==============================] - 1s 104ms/step - loss: 9.9368 - mae: 2.4624 - val_loss: 11.4121 - val_mae: 2.7110\n",
            "Epoch 21/200\n",
            "11/11 [==============================] - 1s 103ms/step - loss: 10.0842 - mae: 2.4754 - val_loss: 8.6491 - val_mae: 2.3180\n",
            "Epoch 22/200\n",
            "11/11 [==============================] - 1s 51ms/step - loss: 10.0395 - mae: 2.4802 - val_loss: 8.5151 - val_mae: 2.2904\n",
            "Epoch 23/200\n",
            "11/11 [==============================] - 1s 100ms/step - loss: 9.5508 - mae: 2.4116 - val_loss: 8.5313 - val_mae: 2.2807\n",
            "Epoch 24/200\n",
            "11/11 [==============================] - 1s 49ms/step - loss: 9.9236 - mae: 2.4597 - val_loss: 8.7177 - val_mae: 2.3033\n",
            "Epoch 25/200\n",
            "11/11 [==============================] - 1s 48ms/step - loss: 9.3000 - mae: 2.3895 - val_loss: 10.7405 - val_mae: 2.6270\n",
            "Epoch 26/200\n",
            "11/11 [==============================] - 1s 55ms/step - loss: 10.1897 - mae: 2.5069 - val_loss: 8.8655 - val_mae: 2.3115\n",
            "Epoch 27/200\n",
            "11/11 [==============================] - 1s 49ms/step - loss: 9.4737 - mae: 2.4043 - val_loss: 8.6696 - val_mae: 2.3360\n",
            "Epoch 28/200\n",
            "11/11 [==============================] - 1s 51ms/step - loss: 9.1179 - mae: 2.3587 - val_loss: 9.0826 - val_mae: 2.3983\n",
            "Epoch 29/200\n",
            "11/11 [==============================] - 1s 46ms/step - loss: 9.2852 - mae: 2.3804 - val_loss: 10.3377 - val_mae: 2.4894\n",
            "Epoch 30/200\n",
            "11/11 [==============================] - 1s 49ms/step - loss: 9.8108 - mae: 2.4533 - val_loss: 8.4582 - val_mae: 2.2986\n",
            "Epoch 31/200\n",
            "11/11 [==============================] - 1s 47ms/step - loss: 9.1029 - mae: 2.3536 - val_loss: 9.3733 - val_mae: 2.3738\n",
            "Epoch 32/200\n",
            "11/11 [==============================] - 1s 52ms/step - loss: 9.4330 - mae: 2.4002 - val_loss: 8.7403 - val_mae: 2.3015\n",
            "Epoch 33/200\n",
            "11/11 [==============================] - 1s 51ms/step - loss: 9.0255 - mae: 2.3445 - val_loss: 8.9088 - val_mae: 2.3080\n",
            "Epoch 34/200\n",
            "11/11 [==============================] - 1s 46ms/step - loss: 9.4499 - mae: 2.4135 - val_loss: 9.0879 - val_mae: 2.3317\n",
            "Epoch 35/200\n",
            "11/11 [==============================] - 1s 49ms/step - loss: 9.0406 - mae: 2.3438 - val_loss: 8.3437 - val_mae: 2.2615\n",
            "Epoch 36/200\n",
            "11/11 [==============================] - 1s 52ms/step - loss: 9.0534 - mae: 2.3573 - val_loss: 8.6666 - val_mae: 2.2821\n",
            "Epoch 37/200\n",
            "11/11 [==============================] - 1s 46ms/step - loss: 9.9468 - mae: 2.4733 - val_loss: 12.3453 - val_mae: 2.7365\n",
            "Epoch 38/200\n",
            "11/11 [==============================] - 1s 49ms/step - loss: 9.4699 - mae: 2.4043 - val_loss: 8.5308 - val_mae: 2.3114\n",
            "Epoch 39/200\n",
            "11/11 [==============================] - 1s 45ms/step - loss: 9.3019 - mae: 2.3828 - val_loss: 8.6829 - val_mae: 2.2948\n",
            "Epoch 40/200\n",
            "11/11 [==============================] - 0s 46ms/step - loss: 8.9450 - mae: 2.3401 - val_loss: 8.9256 - val_mae: 2.3121\n",
            "Epoch 41/200\n",
            "11/11 [==============================] - 1s 49ms/step - loss: 9.3578 - mae: 2.3850 - val_loss: 8.3513 - val_mae: 2.2622\n",
            "Epoch 42/200\n",
            "11/11 [==============================] - 1s 50ms/step - loss: 8.8508 - mae: 2.3191 - val_loss: 8.5043 - val_mae: 2.2667\n",
            "Epoch 43/200\n",
            "11/11 [==============================] - 1s 52ms/step - loss: 9.9815 - mae: 2.4554 - val_loss: 9.7731 - val_mae: 2.4878\n",
            "Epoch 44/200\n",
            "11/11 [==============================] - 1s 50ms/step - loss: 9.3009 - mae: 2.3864 - val_loss: 8.9657 - val_mae: 2.3110\n",
            "Epoch 45/200\n",
            "11/11 [==============================] - 1s 50ms/step - loss: 9.3434 - mae: 2.4040 - val_loss: 8.3753 - val_mae: 2.2700\n",
            "Epoch 46/200\n",
            "11/11 [==============================] - 1s 75ms/step - loss: 9.0723 - mae: 2.3413 - val_loss: 8.5515 - val_mae: 2.2853\n",
            "Epoch 47/200\n",
            "11/11 [==============================] - 1s 125ms/step - loss: 8.8988 - mae: 2.3437 - val_loss: 8.8019 - val_mae: 2.3058\n",
            "Epoch 48/200\n",
            "11/11 [==============================] - 1s 96ms/step - loss: 9.5881 - mae: 2.4184 - val_loss: 8.4820 - val_mae: 2.2706\n",
            "Epoch 49/200\n",
            "11/11 [==============================] - 1s 54ms/step - loss: 8.9997 - mae: 2.3554 - val_loss: 8.7044 - val_mae: 2.2847\n",
            "Epoch 50/200\n",
            "11/11 [==============================] - 1s 47ms/step - loss: 9.3284 - mae: 2.4039 - val_loss: 9.7794 - val_mae: 2.4895\n",
            "Epoch 51/200\n",
            "11/11 [==============================] - 1s 52ms/step - loss: 9.1707 - mae: 2.3799 - val_loss: 9.3849 - val_mae: 2.3631\n",
            "Epoch 52/200\n",
            "11/11 [==============================] - 1s 53ms/step - loss: 8.9935 - mae: 2.3544 - val_loss: 8.7818 - val_mae: 2.2919\n",
            "Epoch 53/200\n",
            "11/11 [==============================] - 1s 49ms/step - loss: 9.2026 - mae: 2.3773 - val_loss: 8.5562 - val_mae: 2.3023\n",
            "Epoch 54/200\n",
            "11/11 [==============================] - 1s 48ms/step - loss: 9.4099 - mae: 2.3972 - val_loss: 8.3053 - val_mae: 2.2597\n",
            "Epoch 55/200\n",
            "11/11 [==============================] - 1s 48ms/step - loss: 8.8440 - mae: 2.3206 - val_loss: 8.4148 - val_mae: 2.2553\n",
            "Epoch 56/200\n",
            "11/11 [==============================] - 1s 49ms/step - loss: 9.3069 - mae: 2.3859 - val_loss: 8.3203 - val_mae: 2.2542\n",
            "Epoch 57/200\n",
            "11/11 [==============================] - 1s 51ms/step - loss: 9.0175 - mae: 2.3420 - val_loss: 8.5754 - val_mae: 2.2734\n",
            "Epoch 58/200\n",
            "11/11 [==============================] - 1s 50ms/step - loss: 8.9763 - mae: 2.3397 - val_loss: 8.8619 - val_mae: 2.3567\n",
            "Epoch 59/200\n",
            "11/11 [==============================] - 1s 52ms/step - loss: 8.7649 - mae: 2.3229 - val_loss: 8.4369 - val_mae: 2.2793\n",
            "Epoch 60/200\n",
            "11/11 [==============================] - 0s 46ms/step - loss: 9.0790 - mae: 2.3585 - val_loss: 8.3320 - val_mae: 2.2443\n",
            "Epoch 61/200\n",
            "11/11 [==============================] - 1s 48ms/step - loss: 8.7934 - mae: 2.3224 - val_loss: 8.4840 - val_mae: 2.2541\n",
            "Epoch 62/200\n",
            "11/11 [==============================] - 1s 49ms/step - loss: 8.9600 - mae: 2.3482 - val_loss: 8.3681 - val_mae: 2.2617\n",
            "Epoch 63/200\n",
            "11/11 [==============================] - 1s 48ms/step - loss: 9.1957 - mae: 2.3690 - val_loss: 9.6526 - val_mae: 2.4036\n",
            "Epoch 64/200\n",
            "11/11 [==============================] - 1s 48ms/step - loss: 8.9383 - mae: 2.3484 - val_loss: 8.5035 - val_mae: 2.2773\n",
            "Epoch 65/200\n",
            "11/11 [==============================] - 1s 46ms/step - loss: 9.0968 - mae: 2.3626 - val_loss: 8.4437 - val_mae: 2.2733\n",
            "Epoch 66/200\n",
            "11/11 [==============================] - 1s 51ms/step - loss: 8.8144 - mae: 2.3310 - val_loss: 8.2703 - val_mae: 2.2483\n",
            "Epoch 67/200\n",
            "11/11 [==============================] - 1s 53ms/step - loss: 9.1278 - mae: 2.3626 - val_loss: 8.4663 - val_mae: 2.2625\n",
            "Epoch 68/200\n",
            "11/11 [==============================] - 1s 46ms/step - loss: 8.7160 - mae: 2.3121 - val_loss: 8.4171 - val_mae: 2.2505\n",
            "Epoch 69/200\n",
            "11/11 [==============================] - 1s 49ms/step - loss: 8.8785 - mae: 2.3312 - val_loss: 8.9973 - val_mae: 2.3145\n",
            "Epoch 70/200\n",
            "11/11 [==============================] - 1s 49ms/step - loss: 8.7923 - mae: 2.3145 - val_loss: 9.4152 - val_mae: 2.4346\n",
            "Epoch 71/200\n",
            "11/11 [==============================] - 1s 48ms/step - loss: 8.8740 - mae: 2.3383 - val_loss: 8.3929 - val_mae: 2.2514\n",
            "Epoch 72/200\n",
            "11/11 [==============================] - 1s 50ms/step - loss: 8.7504 - mae: 2.3263 - val_loss: 8.5621 - val_mae: 2.2671\n",
            "Epoch 73/200\n",
            "11/11 [==============================] - 1s 48ms/step - loss: 9.1073 - mae: 2.3642 - val_loss: 8.6821 - val_mae: 2.2726\n",
            "Epoch 74/200\n",
            "11/11 [==============================] - 1s 49ms/step - loss: 8.7814 - mae: 2.3126 - val_loss: 9.1085 - val_mae: 2.3945\n",
            "Epoch 75/200\n",
            "11/11 [==============================] - 1s 49ms/step - loss: 9.8146 - mae: 2.4574 - val_loss: 10.0913 - val_mae: 2.5248\n",
            "Epoch 76/200\n",
            "11/11 [==============================] - 1s 49ms/step - loss: 9.7821 - mae: 2.4479 - val_loss: 8.4591 - val_mae: 2.2764\n",
            "Epoch 77/200\n",
            "11/11 [==============================] - 1s 47ms/step - loss: 8.8994 - mae: 2.3324 - val_loss: 8.4681 - val_mae: 2.2581\n",
            "Epoch 78/200\n",
            "11/11 [==============================] - 1s 48ms/step - loss: 9.0649 - mae: 2.3597 - val_loss: 9.5292 - val_mae: 2.3816\n",
            "Epoch 79/200\n",
            "11/11 [==============================] - 1s 47ms/step - loss: 9.0944 - mae: 2.3662 - val_loss: 8.4162 - val_mae: 2.2601\n",
            "Epoch 80/200\n",
            "11/11 [==============================] - 1s 49ms/step - loss: 8.7114 - mae: 2.3193 - val_loss: 8.8198 - val_mae: 2.3461\n",
            "Epoch 81/200\n",
            "11/11 [==============================] - 1s 50ms/step - loss: 8.8912 - mae: 2.3272 - val_loss: 8.3355 - val_mae: 2.2657\n",
            "Epoch 82/200\n",
            "11/11 [==============================] - 1s 47ms/step - loss: 8.8931 - mae: 2.3369 - val_loss: 8.3966 - val_mae: 2.2701\n",
            "Epoch 83/200\n",
            "11/11 [==============================] - 1s 49ms/step - loss: 9.3005 - mae: 2.3819 - val_loss: 9.2729 - val_mae: 2.3566\n",
            "Epoch 84/200\n",
            "11/11 [==============================] - 1s 55ms/step - loss: 9.1236 - mae: 2.3722 - val_loss: 8.4115 - val_mae: 2.2413\n",
            "Epoch 85/200\n",
            "11/11 [==============================] - 1s 56ms/step - loss: 8.7098 - mae: 2.3041 - val_loss: 8.4519 - val_mae: 2.2634\n",
            "Epoch 86/200\n",
            "11/11 [==============================] - 1s 52ms/step - loss: 8.9810 - mae: 2.3540 - val_loss: 9.1979 - val_mae: 2.3367\n",
            "Epoch 87/200\n",
            "11/11 [==============================] - 1s 49ms/step - loss: 8.8838 - mae: 2.3239 - val_loss: 8.6987 - val_mae: 2.3138\n",
            "Epoch 88/200\n",
            "11/11 [==============================] - 1s 50ms/step - loss: 8.7552 - mae: 2.3108 - val_loss: 8.3462 - val_mae: 2.2399\n",
            "Epoch 89/200\n",
            "11/11 [==============================] - 1s 47ms/step - loss: 8.9190 - mae: 2.3436 - val_loss: 8.5945 - val_mae: 2.2670\n",
            "Epoch 90/200\n",
            "11/11 [==============================] - 1s 50ms/step - loss: 8.9636 - mae: 2.3463 - val_loss: 8.4489 - val_mae: 2.2632\n",
            "Epoch 91/200\n",
            "11/11 [==============================] - 1s 53ms/step - loss: 8.7681 - mae: 2.3167 - val_loss: 8.6120 - val_mae: 2.2829\n",
            "Epoch 92/200\n",
            "11/11 [==============================] - 0s 46ms/step - loss: 8.7203 - mae: 2.3095 - val_loss: 8.4123 - val_mae: 2.2550\n",
            "Epoch 93/200\n",
            "11/11 [==============================] - 1s 52ms/step - loss: 8.6683 - mae: 2.2998 - val_loss: 9.1582 - val_mae: 2.3286\n",
            "Epoch 94/200\n",
            "11/11 [==============================] - 1s 49ms/step - loss: 9.0416 - mae: 2.3598 - val_loss: 8.6317 - val_mae: 2.2790\n",
            "Epoch 95/200\n",
            "11/11 [==============================] - 1s 54ms/step - loss: 9.0738 - mae: 2.3541 - val_loss: 9.9423 - val_mae: 2.5082\n",
            "Epoch 96/200\n",
            "11/11 [==============================] - 1s 49ms/step - loss: 8.9708 - mae: 2.3558 - val_loss: 9.2847 - val_mae: 2.4206\n",
            "Epoch 97/200\n",
            "11/11 [==============================] - 1s 49ms/step - loss: 8.9248 - mae: 2.3383 - val_loss: 8.8009 - val_mae: 2.2851\n",
            "Epoch 98/200\n",
            "11/11 [==============================] - 1s 47ms/step - loss: 8.8614 - mae: 2.3332 - val_loss: 8.4392 - val_mae: 2.2677\n",
            "Epoch 99/200\n",
            "11/11 [==============================] - 1s 50ms/step - loss: 8.6757 - mae: 2.3264 - val_loss: 8.7612 - val_mae: 2.2851\n",
            "Epoch 100/200\n",
            "11/11 [==============================] - 1s 56ms/step - loss: 8.7503 - mae: 2.3165 - val_loss: 8.5678 - val_mae: 2.2689\n",
            "Epoch 101/200\n",
            "11/11 [==============================] - 1s 48ms/step - loss: 8.5898 - mae: 2.2980 - val_loss: 8.6272 - val_mae: 2.2787\n",
            "Epoch 102/200\n",
            "11/11 [==============================] - 1s 50ms/step - loss: 8.7102 - mae: 2.3235 - val_loss: 13.2877 - val_mae: 2.8303\n",
            "Epoch 103/200\n",
            "11/11 [==============================] - 1s 49ms/step - loss: 9.1789 - mae: 2.3739 - val_loss: 8.3795 - val_mae: 2.2355\n",
            "Epoch 104/200\n",
            "11/11 [==============================] - 1s 50ms/step - loss: 8.6342 - mae: 2.2904 - val_loss: 8.4878 - val_mae: 2.2612\n",
            "Epoch 105/200\n",
            "11/11 [==============================] - 1s 50ms/step - loss: 8.9436 - mae: 2.3415 - val_loss: 8.8284 - val_mae: 2.2946\n",
            "Epoch 106/200\n",
            "11/11 [==============================] - 1s 51ms/step - loss: 8.8038 - mae: 2.3300 - val_loss: 8.5142 - val_mae: 2.2712\n",
            "Epoch 107/200\n",
            "11/11 [==============================] - 1s 48ms/step - loss: 9.3360 - mae: 2.4040 - val_loss: 8.4448 - val_mae: 2.2747\n",
            "Epoch 108/200\n",
            "11/11 [==============================] - 1s 48ms/step - loss: 8.7177 - mae: 2.3048 - val_loss: 8.4831 - val_mae: 2.2609\n",
            "Epoch 109/200\n",
            "11/11 [==============================] - 1s 51ms/step - loss: 8.7730 - mae: 2.3185 - val_loss: 9.8646 - val_mae: 2.4261\n",
            "Epoch 110/200\n",
            "11/11 [==============================] - 1s 54ms/step - loss: 8.8805 - mae: 2.3286 - val_loss: 8.5699 - val_mae: 2.2976\n",
            "Epoch 111/200\n",
            "11/11 [==============================] - 1s 47ms/step - loss: 8.8819 - mae: 2.3309 - val_loss: 8.6831 - val_mae: 2.3278\n",
            "Epoch 112/200\n",
            "11/11 [==============================] - 1s 51ms/step - loss: 8.5949 - mae: 2.2888 - val_loss: 8.8948 - val_mae: 2.3036\n",
            "Epoch 113/200\n",
            "11/11 [==============================] - 1s 49ms/step - loss: 8.6894 - mae: 2.3036 - val_loss: 8.3450 - val_mae: 2.2369\n",
            "Epoch 114/200\n",
            "11/11 [==============================] - 1s 49ms/step - loss: 8.6477 - mae: 2.3058 - val_loss: 8.4890 - val_mae: 2.2737\n",
            "Epoch 115/200\n",
            "11/11 [==============================] - 1s 49ms/step - loss: 8.7732 - mae: 2.3196 - val_loss: 8.6399 - val_mae: 2.2666\n",
            "Epoch 116/200\n",
            "11/11 [==============================] - 1s 49ms/step - loss: 8.7638 - mae: 2.3233 - val_loss: 8.7354 - val_mae: 2.3148\n",
            "Epoch 117/200\n",
            "11/11 [==============================] - 1s 48ms/step - loss: 8.9269 - mae: 2.3364 - val_loss: 9.2856 - val_mae: 2.4054\n",
            "Epoch 118/200\n",
            "11/11 [==============================] - 1s 46ms/step - loss: 9.0324 - mae: 2.3498 - val_loss: 8.3970 - val_mae: 2.2653\n",
            "Epoch 119/200\n",
            "11/11 [==============================] - 1s 50ms/step - loss: 8.7256 - mae: 2.3282 - val_loss: 8.5254 - val_mae: 2.2713\n",
            "Epoch 120/200\n",
            "11/11 [==============================] - 1s 47ms/step - loss: 8.6723 - mae: 2.3023 - val_loss: 8.3646 - val_mae: 2.2421\n",
            "Epoch 121/200\n",
            "11/11 [==============================] - 1s 53ms/step - loss: 8.5935 - mae: 2.2870 - val_loss: 8.5755 - val_mae: 2.2853\n",
            "Epoch 122/200\n",
            "11/11 [==============================] - 1s 50ms/step - loss: 8.7207 - mae: 2.3143 - val_loss: 8.5444 - val_mae: 2.2632\n",
            "Epoch 123/200\n",
            "11/11 [==============================] - 1s 49ms/step - loss: 8.9097 - mae: 2.3350 - val_loss: 8.4187 - val_mae: 2.2542\n",
            "Epoch 124/200\n",
            "11/11 [==============================] - 1s 53ms/step - loss: 8.5487 - mae: 2.2936 - val_loss: 9.3732 - val_mae: 2.3573\n",
            "Epoch 125/200\n",
            "11/11 [==============================] - 1s 52ms/step - loss: 8.8699 - mae: 2.3265 - val_loss: 8.5758 - val_mae: 2.2891\n",
            "Epoch 126/200\n",
            "11/11 [==============================] - 1s 49ms/step - loss: 8.7647 - mae: 2.3148 - val_loss: 8.4319 - val_mae: 2.2511\n",
            "Epoch 127/200\n",
            "11/11 [==============================] - 1s 50ms/step - loss: 8.7831 - mae: 2.3298 - val_loss: 8.3186 - val_mae: 2.2408\n",
            "Epoch 128/200\n",
            "11/11 [==============================] - 1s 53ms/step - loss: 8.5867 - mae: 2.2979 - val_loss: 8.4424 - val_mae: 2.2732\n",
            "Epoch 129/200\n",
            "11/11 [==============================] - 1s 47ms/step - loss: 8.8377 - mae: 2.3389 - val_loss: 9.0141 - val_mae: 2.3104\n",
            "Epoch 130/200\n",
            "11/11 [==============================] - 1s 54ms/step - loss: 9.0511 - mae: 2.3596 - val_loss: 8.3334 - val_mae: 2.2349\n",
            "Epoch 131/200\n",
            "11/11 [==============================] - 1s 49ms/step - loss: 8.6818 - mae: 2.3184 - val_loss: 8.6296 - val_mae: 2.3162\n",
            "Epoch 132/200\n",
            "11/11 [==============================] - 1s 53ms/step - loss: 8.6238 - mae: 2.3119 - val_loss: 8.7129 - val_mae: 2.3114\n",
            "Epoch 133/200\n",
            "11/11 [==============================] - 1s 53ms/step - loss: 8.8023 - mae: 2.3192 - val_loss: 8.5008 - val_mae: 2.2897\n",
            "Epoch 134/200\n",
            "11/11 [==============================] - 1s 47ms/step - loss: 8.8313 - mae: 2.3277 - val_loss: 8.8254 - val_mae: 2.3459\n",
            "Epoch 135/200\n",
            "11/11 [==============================] - 1s 56ms/step - loss: 8.9007 - mae: 2.3495 - val_loss: 8.5487 - val_mae: 2.2971\n",
            "Epoch 136/200\n",
            "11/11 [==============================] - 1s 48ms/step - loss: 8.7451 - mae: 2.3158 - val_loss: 8.4127 - val_mae: 2.2506\n",
            "Epoch 137/200\n",
            "11/11 [==============================] - 1s 50ms/step - loss: 8.9079 - mae: 2.3530 - val_loss: 8.6473 - val_mae: 2.2708\n",
            "Epoch 138/200\n",
            "11/11 [==============================] - 1s 48ms/step - loss: 8.6631 - mae: 2.3075 - val_loss: 8.4039 - val_mae: 2.2747\n",
            "Epoch 139/200\n",
            "11/11 [==============================] - 1s 55ms/step - loss: 8.5084 - mae: 2.2839 - val_loss: 9.0377 - val_mae: 2.3058\n",
            "Epoch 140/200\n",
            "11/11 [==============================] - 1s 49ms/step - loss: 8.8169 - mae: 2.3247 - val_loss: 8.6136 - val_mae: 2.3128\n",
            "Epoch 141/200\n",
            "11/11 [==============================] - 1s 49ms/step - loss: 8.8950 - mae: 2.3399 - val_loss: 9.0021 - val_mae: 2.3111\n",
            "Epoch 142/200\n",
            "11/11 [==============================] - 1s 52ms/step - loss: 9.1779 - mae: 2.3839 - val_loss: 8.5147 - val_mae: 2.2807\n",
            "Epoch 143/200\n",
            "11/11 [==============================] - 1s 51ms/step - loss: 9.2885 - mae: 2.3955 - val_loss: 8.5864 - val_mae: 2.3018\n",
            "Epoch 144/200\n",
            "11/11 [==============================] - 1s 50ms/step - loss: 9.1922 - mae: 2.3634 - val_loss: 8.8717 - val_mae: 2.3116\n",
            "Epoch 145/200\n",
            "11/11 [==============================] - 1s 49ms/step - loss: 9.8730 - mae: 2.4642 - val_loss: 9.1067 - val_mae: 2.3401\n",
            "Epoch 146/200\n",
            "11/11 [==============================] - 1s 51ms/step - loss: 9.2284 - mae: 2.3872 - val_loss: 8.5068 - val_mae: 2.3091\n",
            "Epoch 147/200\n",
            "11/11 [==============================] - 1s 50ms/step - loss: 8.8431 - mae: 2.3310 - val_loss: 8.4901 - val_mae: 2.2808\n",
            "Epoch 148/200\n",
            "11/11 [==============================] - 1s 51ms/step - loss: 8.7883 - mae: 2.3178 - val_loss: 8.7572 - val_mae: 2.2947\n",
            "Epoch 149/200\n",
            "11/11 [==============================] - 1s 48ms/step - loss: 8.8100 - mae: 2.3201 - val_loss: 8.5480 - val_mae: 2.2914\n",
            "Epoch 150/200\n",
            "11/11 [==============================] - 1s 48ms/step - loss: 8.9345 - mae: 2.3359 - val_loss: 8.4629 - val_mae: 2.2560\n",
            "Epoch 151/200\n",
            "11/11 [==============================] - 1s 51ms/step - loss: 8.5561 - mae: 2.2908 - val_loss: 8.9655 - val_mae: 2.3064\n",
            "Epoch 152/200\n",
            "11/11 [==============================] - 1s 52ms/step - loss: 9.0929 - mae: 2.3592 - val_loss: 8.3741 - val_mae: 2.2704\n",
            "Epoch 153/200\n",
            "11/11 [==============================] - 1s 50ms/step - loss: 8.6758 - mae: 2.3056 - val_loss: 9.1311 - val_mae: 2.3161\n",
            "Epoch 154/200\n",
            "11/11 [==============================] - 1s 51ms/step - loss: 8.7476 - mae: 2.3192 - val_loss: 8.4911 - val_mae: 2.2489\n",
            "Epoch 155/200\n",
            "11/11 [==============================] - 1s 47ms/step - loss: 8.8794 - mae: 2.3472 - val_loss: 8.4098 - val_mae: 2.2513\n",
            "Epoch 156/200\n",
            "11/11 [==============================] - 1s 47ms/step - loss: 8.6855 - mae: 2.2948 - val_loss: 9.3283 - val_mae: 2.3909\n",
            "Epoch 157/200\n",
            "11/11 [==============================] - 1s 48ms/step - loss: 8.6727 - mae: 2.3129 - val_loss: 8.4362 - val_mae: 2.2488\n",
            "Epoch 158/200\n",
            "11/11 [==============================] - 1s 51ms/step - loss: 8.8350 - mae: 2.3278 - val_loss: 8.5932 - val_mae: 2.3127\n",
            "Epoch 159/200\n",
            "11/11 [==============================] - 1s 51ms/step - loss: 9.2015 - mae: 2.3641 - val_loss: 10.5317 - val_mae: 2.4735\n",
            "Epoch 160/200\n",
            "11/11 [==============================] - 1s 48ms/step - loss: 9.5612 - mae: 2.4022 - val_loss: 8.4773 - val_mae: 2.2799\n",
            "Epoch 161/200\n",
            "11/11 [==============================] - 1s 49ms/step - loss: 9.5114 - mae: 2.4100 - val_loss: 8.7512 - val_mae: 2.3515\n",
            "Epoch 162/200\n",
            "11/11 [==============================] - 1s 50ms/step - loss: 8.9267 - mae: 2.3331 - val_loss: 8.3982 - val_mae: 2.2725\n",
            "Epoch 163/200\n",
            "11/11 [==============================] - 1s 51ms/step - loss: 8.8396 - mae: 2.3259 - val_loss: 8.8837 - val_mae: 2.3115\n",
            "Epoch 164/200\n",
            "11/11 [==============================] - 1s 48ms/step - loss: 9.7668 - mae: 2.4469 - val_loss: 10.7056 - val_mae: 2.5204\n",
            "Epoch 165/200\n",
            "11/11 [==============================] - 1s 49ms/step - loss: 8.9567 - mae: 2.3470 - val_loss: 8.6969 - val_mae: 2.3393\n",
            "Epoch 166/200\n",
            "11/11 [==============================] - 1s 55ms/step - loss: 9.0138 - mae: 2.3462 - val_loss: 8.4100 - val_mae: 2.2868\n",
            "Epoch 167/200\n",
            "11/11 [==============================] - 1s 52ms/step - loss: 8.9092 - mae: 2.3455 - val_loss: 8.6063 - val_mae: 2.2708\n",
            "Epoch 168/200\n",
            "11/11 [==============================] - 1s 54ms/step - loss: 8.6764 - mae: 2.2967 - val_loss: 8.5490 - val_mae: 2.2958\n",
            "Epoch 169/200\n",
            "11/11 [==============================] - 1s 50ms/step - loss: 8.7334 - mae: 2.3137 - val_loss: 8.3225 - val_mae: 2.2621\n",
            "Epoch 170/200\n",
            "11/11 [==============================] - 1s 54ms/step - loss: 8.8262 - mae: 2.3151 - val_loss: 8.7572 - val_mae: 2.2990\n",
            "Epoch 171/200\n",
            "11/11 [==============================] - 1s 49ms/step - loss: 8.6519 - mae: 2.3047 - val_loss: 8.6119 - val_mae: 2.2771\n",
            "Epoch 172/200\n",
            "11/11 [==============================] - 1s 48ms/step - loss: 8.7516 - mae: 2.3182 - val_loss: 8.5711 - val_mae: 2.2794\n",
            "Epoch 173/200\n",
            "11/11 [==============================] - 1s 48ms/step - loss: 8.6329 - mae: 2.2961 - val_loss: 8.4918 - val_mae: 2.2557\n",
            "Epoch 174/200\n",
            "11/11 [==============================] - 1s 53ms/step - loss: 8.5985 - mae: 2.2948 - val_loss: 8.4106 - val_mae: 2.2474\n",
            "Epoch 175/200\n",
            "11/11 [==============================] - 1s 47ms/step - loss: 8.6795 - mae: 2.3226 - val_loss: 8.6562 - val_mae: 2.3015\n",
            "Epoch 176/200\n",
            "11/11 [==============================] - 1s 49ms/step - loss: 8.6912 - mae: 2.3048 - val_loss: 8.5807 - val_mae: 2.2848\n",
            "Epoch 177/200\n",
            "11/11 [==============================] - 1s 49ms/step - loss: 8.6971 - mae: 2.3228 - val_loss: 8.6899 - val_mae: 2.3199\n",
            "Epoch 178/200\n",
            "11/11 [==============================] - 1s 56ms/step - loss: 8.6715 - mae: 2.3191 - val_loss: 8.5217 - val_mae: 2.2603\n",
            "Epoch 179/200\n",
            "11/11 [==============================] - 1s 49ms/step - loss: 8.8523 - mae: 2.3341 - val_loss: 8.5064 - val_mae: 2.2624\n",
            "Epoch 180/200\n",
            "11/11 [==============================] - 1s 52ms/step - loss: 8.7119 - mae: 2.3249 - val_loss: 8.3481 - val_mae: 2.2617\n",
            "Epoch 181/200\n",
            "11/11 [==============================] - 1s 48ms/step - loss: 8.9373 - mae: 2.3438 - val_loss: 8.5957 - val_mae: 2.2747\n",
            "Epoch 182/200\n",
            "11/11 [==============================] - 1s 48ms/step - loss: 8.5974 - mae: 2.2913 - val_loss: 9.7723 - val_mae: 2.4723\n",
            "Epoch 183/200\n",
            "11/11 [==============================] - 1s 48ms/step - loss: 11.1855 - mae: 2.6296 - val_loss: 8.7417 - val_mae: 2.3267\n",
            "Epoch 184/200\n",
            "11/11 [==============================] - 1s 48ms/step - loss: 9.2023 - mae: 2.3710 - val_loss: 8.6804 - val_mae: 2.3294\n",
            "Epoch 185/200\n",
            "11/11 [==============================] - 1s 49ms/step - loss: 10.5390 - mae: 2.5221 - val_loss: 9.4090 - val_mae: 2.4397\n",
            "Epoch 186/200\n",
            "11/11 [==============================] - 1s 66ms/step - loss: 9.2174 - mae: 2.3633 - val_loss: 8.6057 - val_mae: 2.2901\n",
            "Epoch 187/200\n",
            "11/11 [==============================] - 1s 63ms/step - loss: 9.3939 - mae: 2.3953 - val_loss: 9.8263 - val_mae: 2.4883\n",
            "Epoch 188/200\n",
            "11/11 [==============================] - 1s 47ms/step - loss: 9.3148 - mae: 2.3880 - val_loss: 11.1630 - val_mae: 2.5786\n",
            "Epoch 189/200\n",
            "11/11 [==============================] - 1s 51ms/step - loss: 9.5910 - mae: 2.4223 - val_loss: 9.5740 - val_mae: 2.4618\n",
            "Epoch 190/200\n",
            "11/11 [==============================] - 1s 53ms/step - loss: 9.3614 - mae: 2.3944 - val_loss: 9.8501 - val_mae: 2.5005\n",
            "Epoch 191/200\n",
            "11/11 [==============================] - 1s 47ms/step - loss: 10.0177 - mae: 2.4677 - val_loss: 8.7350 - val_mae: 2.3117\n",
            "Epoch 192/200\n",
            "11/11 [==============================] - 1s 48ms/step - loss: 8.8554 - mae: 2.3287 - val_loss: 8.7300 - val_mae: 2.3427\n",
            "Epoch 193/200\n",
            "11/11 [==============================] - 1s 48ms/step - loss: 9.1375 - mae: 2.3632 - val_loss: 11.3171 - val_mae: 2.6090\n",
            "Epoch 194/200\n",
            "11/11 [==============================] - 1s 48ms/step - loss: 9.1327 - mae: 2.3492 - val_loss: 8.6306 - val_mae: 2.3071\n",
            "Epoch 195/200\n",
            "11/11 [==============================] - 1s 50ms/step - loss: 9.2506 - mae: 2.3951 - val_loss: 9.9521 - val_mae: 2.4100\n",
            "Epoch 196/200\n",
            "11/11 [==============================] - 1s 50ms/step - loss: 9.1982 - mae: 2.3582 - val_loss: 8.6350 - val_mae: 2.2910\n",
            "Epoch 197/200\n",
            "11/11 [==============================] - 1s 50ms/step - loss: 9.2247 - mae: 2.3812 - val_loss: 15.3418 - val_mae: 3.0733\n",
            "Epoch 198/200\n",
            "11/11 [==============================] - 1s 50ms/step - loss: 9.5374 - mae: 2.4173 - val_loss: 8.4625 - val_mae: 2.2827\n",
            "Epoch 199/200\n",
            "11/11 [==============================] - 1s 53ms/step - loss: 9.0416 - mae: 2.3554 - val_loss: 9.7919 - val_mae: 2.4844\n",
            "Epoch 200/200\n",
            "11/11 [==============================] - 1s 48ms/step - loss: 9.2288 - mae: 2.3928 - val_loss: 8.9120 - val_mae: 2.3104\n"
          ]
        }
      ],
      "source": [
        "history_mse = model_mse.fit(X_train_3D, \n",
        "                         y_train, \n",
        "                         epochs=200, \n",
        "                         batch_size=200,\n",
        "                         validation_data=(X_valid_3D, y_valid))"
      ]
    },
    {
      "cell_type": "code",
      "execution_count": 35,
      "metadata": {
        "colab": {
          "base_uri": "https://localhost:8080/"
        },
        "id": "sH-EzxknUeBF",
        "outputId": "a345d965-653d-41c1-c1c7-f1d57a035c36"
      },
      "outputs": [
        {
          "output_type": "execute_result",
          "data": {
            "text/plain": [
              "(2155, 30, 1)"
            ]
          },
          "metadata": {},
          "execution_count": 35
        }
      ],
      "source": [
        "X_train_3D.shape"
      ]
    },
    {
      "cell_type": "markdown",
      "metadata": {
        "id": "DOofUKKtbd8B"
      },
      "source": [
        "## 1.8) Plot the history\n",
        "\n",
        "You can simply use `pd.DataFrame(history.history).plot()`."
      ]
    },
    {
      "cell_type": "code",
      "execution_count": 36,
      "metadata": {
        "colab": {
          "base_uri": "https://localhost:8080/",
          "height": 282
        },
        "id": "HguIVGJYUeBF",
        "outputId": "6aa08182-07c5-48fc-f3e2-78d3afb2ba48"
      },
      "outputs": [
        {
          "output_type": "execute_result",
          "data": {
            "text/plain": [
              "<matplotlib.axes._subplots.AxesSubplot at 0x7fde265db4f0>"
            ]
          },
          "metadata": {},
          "execution_count": 36
        },
        {
          "output_type": "display_data",
          "data": {
            "text/plain": [
              "<Figure size 432x288 with 1 Axes>"
            ],
            "image/png": "[encoded data removed]"
          },
          "metadata": {
            "needs_background": "light"
          }
        }
      ],
      "source": [
        "pd.DataFrame(history_mse.history).plot()"
      ]
    },
    {
      "cell_type": "markdown",
      "metadata": {
        "id": "8G2u2mdNUeBF"
      },
      "source": [
        "If you want to add some legends, colors, etc. or select only loss, you have to specify that!"
      ]
    },
    {
      "cell_type": "code",
      "execution_count": null,
      "metadata": {
        "id": "Y7q4LJxsbd8D"
      },
      "outputs": [],
      "source": [
        "def plot_history(history, variable=\"loss\"):\n",
        "    train_var = history.history[variable]\n",
        "    valid_var = history.history[\"val_\" + variable]\n",
        "    n_epochs = len(history.epoch)\n",
        "    min_var = np.min(valid_var)\n",
        "    max_var = np.max(history.history[variable] + history.history[\"val_\" + variable]) + 2\n",
        "    \n",
        "    plt.plot(train_var, color=\"b\", label=\"Train\")\n",
        "    plt.plot(valid_var, color=\"r\", label=\"Validation\")\n",
        "    plt.plot([0, n_epochs], [min_var, min_var], \"k--\",\n",
        "             label=\"Min val: {:.2f}\".format(min_var))\n",
        "    plt.axis([0, n_epochs, 0, max_var])\n",
        "    plt.legend()\n",
        "    plt.show()"
      ]
    },
    {
      "cell_type": "code",
      "execution_count": null,
      "metadata": {
        "id": "erZyg46Qbd8F",
        "colab": {
          "base_uri": "https://localhost:8080/",
          "height": 265
        },
        "outputId": "16100412-0939-4f88-d5be-deb08afc7be7"
      },
      "outputs": [
        {
          "output_type": "display_data",
          "data": {
            "text/plain": [
              "<Figure size 432x288 with 1 Axes>"
            ],
            "image/png": "[encoded data removed]"
          },
          "metadata": {
            "needs_background": "light"
          }
        }
      ],
      "source": [
        "plot_history(history_mse)"
      ]
    },
    {
      "cell_type": "markdown",
      "metadata": {
        "id": "09_tAcxAbd8I"
      },
      "source": [
        "## 1.9) Evaluate the model\n",
        "\n",
        "Evaluate your RNN on the test set, using the MAE. Try training your model again using the Huber loss and see if you get better performance.\n",
        "\n",
        "*In statistics, the Huber loss is a loss function used in robust regression, that is less sensitive to outliers in data than the squared error loss.*"
      ]
    },
    {
      "cell_type": "code",
      "execution_count": null,
      "metadata": {
        "id": "_ReK0clubd8I",
        "colab": {
          "base_uri": "https://localhost:8080/"
        },
        "outputId": "9ed65122-92ac-493c-98ff-245bd7af9449"
      },
      "outputs": [
        {
          "output_type": "stream",
          "name": "stdout",
          "text": [
            "23/23 [==============================] - 0s 7ms/step - loss: 7.4405 - mae: 2.1254\n"
          ]
        },
        {
          "output_type": "execute_result",
          "data": {
            "text/plain": [
              "[7.440540313720703, 2.125441074371338]"
            ]
          },
          "metadata": {},
          "execution_count": 57
        }
      ],
      "source": [
        "score_mse = model_mse.evaluate(X_test_3D, y_test)\n",
        "score_mse"
      ]
    },
    {
      "cell_type": "code",
      "execution_count": null,
      "metadata": {
        "id": "jKJjdjjEbd8L"
      },
      "outputs": [],
      "source": [
        "def huber_loss(y_true, y_pred, max_grad=1.):\n",
        "    err = tf.abs(y_true - y_pred, name='abs')\n",
        "    mg = tf.constant(max_grad, name='max_grad')\n",
        "    lin = mg * (err - 0.5 * mg)\n",
        "    quad = 0.5 * err * err\n",
        "    return tf.where(err < mg, quad, lin)"
      ]
    },
    {
      "cell_type": "code",
      "execution_count": null,
      "metadata": {
        "id": "MaPqi8KGbd8M"
      },
      "outputs": [],
      "source": [
        "model_huber = keras.models.Sequential()\n",
        "model_huber.add(keras.layers.SimpleRNN(100, return_sequences=True, input_shape=input_shape))\n",
        "model_huber.add(keras.layers.SimpleRNN(100))\n",
        "model_huber.add(keras.layers.Dense(1))\n",
        "model_huber.compile(loss=huber_loss, optimizer=keras.optimizers.SGD(learning_rate=0.005), metrics=[\"mae\"])"
      ]
    },
    {
      "cell_type": "code",
      "execution_count": null,
      "metadata": {
        "id": "LZF2DR8cbd8O",
        "colab": {
          "base_uri": "https://localhost:8080/"
        },
        "outputId": "322f5e9f-bc08-4c38-ec92-1fb726f9157c"
      },
      "outputs": [
        {
          "output_type": "stream",
          "name": "stdout",
          "text": [
            "Epoch 1/200\n",
            "11/11 [==============================] - 3s 126ms/step - loss: 6.1282 - mae: 6.6170 - val_loss: 3.6400 - val_mae: 4.1196\n",
            "Epoch 2/200\n",
            "11/11 [==============================] - 1s 91ms/step - loss: 3.0373 - mae: 3.5076 - val_loss: 2.5823 - val_mae: 3.0463\n",
            "Epoch 3/200\n",
            "11/11 [==============================] - 1s 51ms/step - loss: 2.6526 - mae: 3.1174 - val_loss: 2.4174 - val_mae: 2.8770\n",
            "Epoch 4/200\n",
            "11/11 [==============================] - 1s 47ms/step - loss: 2.5683 - mae: 3.0296 - val_loss: 2.3509 - val_mae: 2.8091\n",
            "Epoch 5/200\n",
            "11/11 [==============================] - 1s 46ms/step - loss: 2.4968 - mae: 2.9571 - val_loss: 2.2932 - val_mae: 2.7520\n",
            "Epoch 6/200\n",
            "11/11 [==============================] - 1s 48ms/step - loss: 2.4174 - mae: 2.8791 - val_loss: 2.2213 - val_mae: 2.6794\n",
            "Epoch 7/200\n",
            "11/11 [==============================] - 1s 51ms/step - loss: 2.3345 - mae: 2.7964 - val_loss: 2.1436 - val_mae: 2.6011\n",
            "Epoch 8/200\n",
            "11/11 [==============================] - 1s 51ms/step - loss: 2.2511 - mae: 2.7122 - val_loss: 2.0726 - val_mae: 2.5296\n",
            "Epoch 9/200\n",
            "11/11 [==============================] - 1s 48ms/step - loss: 2.1758 - mae: 2.6367 - val_loss: 2.0141 - val_mae: 2.4740\n",
            "Epoch 10/200\n",
            "11/11 [==============================] - 1s 110ms/step - loss: 2.1115 - mae: 2.5696 - val_loss: 1.9678 - val_mae: 2.4268\n",
            "Epoch 11/200\n",
            "11/11 [==============================] - 1s 49ms/step - loss: 2.0681 - mae: 2.5277 - val_loss: 1.9453 - val_mae: 2.4018\n",
            "Epoch 12/200\n",
            "11/11 [==============================] - 1s 49ms/step - loss: 2.0253 - mae: 2.4829 - val_loss: 1.9107 - val_mae: 2.3701\n",
            "Epoch 13/200\n",
            "11/11 [==============================] - 1s 47ms/step - loss: 1.9929 - mae: 2.4467 - val_loss: 1.8967 - val_mae: 2.3551\n",
            "Epoch 14/200\n",
            "11/11 [==============================] - 1s 52ms/step - loss: 1.9919 - mae: 2.4463 - val_loss: 1.8791 - val_mae: 2.3392\n",
            "Epoch 15/200\n",
            "11/11 [==============================] - 1s 52ms/step - loss: 1.9698 - mae: 2.4220 - val_loss: 1.9188 - val_mae: 2.3734\n",
            "Epoch 16/200\n",
            "11/11 [==============================] - 1s 49ms/step - loss: 1.9719 - mae: 2.4257 - val_loss: 1.8662 - val_mae: 2.3254\n",
            "Epoch 17/200\n",
            "11/11 [==============================] - 1s 48ms/step - loss: 1.9309 - mae: 2.3836 - val_loss: 1.8718 - val_mae: 2.3304\n",
            "Epoch 18/200\n",
            "11/11 [==============================] - 1s 53ms/step - loss: 1.9518 - mae: 2.4044 - val_loss: 1.9027 - val_mae: 2.3584\n",
            "Epoch 19/200\n",
            "11/11 [==============================] - 0s 45ms/step - loss: 1.9421 - mae: 2.3960 - val_loss: 2.0252 - val_mae: 2.4850\n",
            "Epoch 20/200\n",
            "11/11 [==============================] - 1s 46ms/step - loss: 1.9387 - mae: 2.3943 - val_loss: 1.8476 - val_mae: 2.3075\n",
            "Epoch 21/200\n",
            "11/11 [==============================] - 1s 51ms/step - loss: 1.9322 - mae: 2.3875 - val_loss: 1.8885 - val_mae: 2.3436\n",
            "Epoch 22/200\n",
            "11/11 [==============================] - 1s 48ms/step - loss: 1.9362 - mae: 2.3912 - val_loss: 1.8657 - val_mae: 2.3215\n",
            "Epoch 23/200\n",
            "11/11 [==============================] - 1s 47ms/step - loss: 1.9030 - mae: 2.3557 - val_loss: 1.8397 - val_mae: 2.2987\n",
            "Epoch 24/200\n",
            "11/11 [==============================] - 1s 52ms/step - loss: 1.9012 - mae: 2.3571 - val_loss: 1.8500 - val_mae: 2.3055\n",
            "Epoch 25/200\n",
            "11/11 [==============================] - 0s 45ms/step - loss: 1.9608 - mae: 2.4151 - val_loss: 1.8599 - val_mae: 2.3155\n",
            "Epoch 26/200\n",
            "11/11 [==============================] - 1s 50ms/step - loss: 1.8999 - mae: 2.3547 - val_loss: 1.8344 - val_mae: 2.2927\n",
            "Epoch 27/200\n",
            "11/11 [==============================] - 1s 49ms/step - loss: 1.9035 - mae: 2.3548 - val_loss: 2.0057 - val_mae: 2.4634\n",
            "Epoch 28/200\n",
            "11/11 [==============================] - 1s 52ms/step - loss: 1.9210 - mae: 2.3766 - val_loss: 1.8531 - val_mae: 2.3082\n",
            "Epoch 29/200\n",
            "11/11 [==============================] - 1s 50ms/step - loss: 1.9709 - mae: 2.4271 - val_loss: 1.8567 - val_mae: 2.3122\n",
            "Epoch 30/200\n",
            "11/11 [==============================] - 1s 47ms/step - loss: 1.8991 - mae: 2.3555 - val_loss: 1.8509 - val_mae: 2.3048\n",
            "Epoch 31/200\n",
            "11/11 [==============================] - 1s 47ms/step - loss: 1.9211 - mae: 2.3730 - val_loss: 1.8293 - val_mae: 2.2856\n",
            "Epoch 32/200\n",
            "11/11 [==============================] - 1s 48ms/step - loss: 1.8927 - mae: 2.3450 - val_loss: 1.8860 - val_mae: 2.3394\n",
            "Epoch 33/200\n",
            "11/11 [==============================] - 1s 52ms/step - loss: 1.9027 - mae: 2.3550 - val_loss: 1.9215 - val_mae: 2.3747\n",
            "Epoch 34/200\n",
            "11/11 [==============================] - 1s 46ms/step - loss: 1.9366 - mae: 2.3900 - val_loss: 1.8246 - val_mae: 2.2825\n",
            "Epoch 35/200\n",
            "11/11 [==============================] - 1s 50ms/step - loss: 1.8994 - mae: 2.3521 - val_loss: 1.8549 - val_mae: 2.3092\n",
            "Epoch 36/200\n",
            "11/11 [==============================] - 1s 45ms/step - loss: 1.9192 - mae: 2.3725 - val_loss: 1.8229 - val_mae: 2.2806\n",
            "Epoch 37/200\n",
            "11/11 [==============================] - 1s 49ms/step - loss: 1.8927 - mae: 2.3473 - val_loss: 1.8390 - val_mae: 2.2945\n",
            "Epoch 38/200\n",
            "11/11 [==============================] - 1s 46ms/step - loss: 1.9216 - mae: 2.3735 - val_loss: 1.8248 - val_mae: 2.2822\n",
            "Epoch 39/200\n",
            "11/11 [==============================] - 1s 53ms/step - loss: 1.9040 - mae: 2.3567 - val_loss: 1.8257 - val_mae: 2.2811\n",
            "Epoch 40/200\n",
            "11/11 [==============================] - 0s 45ms/step - loss: 1.8761 - mae: 2.3289 - val_loss: 1.8203 - val_mae: 2.2755\n",
            "Epoch 41/200\n",
            "11/11 [==============================] - 1s 47ms/step - loss: 1.9038 - mae: 2.3574 - val_loss: 1.8173 - val_mae: 2.2744\n",
            "Epoch 42/200\n",
            "11/11 [==============================] - 1s 49ms/step - loss: 1.8937 - mae: 2.3459 - val_loss: 1.8129 - val_mae: 2.2703\n",
            "Epoch 43/200\n",
            "11/11 [==============================] - 1s 51ms/step - loss: 1.8870 - mae: 2.3414 - val_loss: 1.8873 - val_mae: 2.3411\n",
            "Epoch 44/200\n",
            "11/11 [==============================] - 1s 47ms/step - loss: 1.9605 - mae: 2.4164 - val_loss: 1.8408 - val_mae: 2.2958\n",
            "Epoch 45/200\n",
            "11/11 [==============================] - 1s 48ms/step - loss: 1.9058 - mae: 2.3589 - val_loss: 1.8824 - val_mae: 2.3391\n",
            "Epoch 46/200\n",
            "11/11 [==============================] - 1s 45ms/step - loss: 1.8752 - mae: 2.3301 - val_loss: 1.8278 - val_mae: 2.2822\n",
            "Epoch 47/200\n",
            "11/11 [==============================] - 1s 46ms/step - loss: 1.9133 - mae: 2.3655 - val_loss: 1.8111 - val_mae: 2.2675\n",
            "Epoch 48/200\n",
            "11/11 [==============================] - 1s 48ms/step - loss: 1.9060 - mae: 2.3607 - val_loss: 1.8191 - val_mae: 2.2741\n",
            "Epoch 49/200\n",
            "11/11 [==============================] - 1s 54ms/step - loss: 1.8696 - mae: 2.3236 - val_loss: 1.8194 - val_mae: 2.2745\n",
            "Epoch 50/200\n",
            "11/11 [==============================] - 1s 46ms/step - loss: 1.8928 - mae: 2.3472 - val_loss: 1.8088 - val_mae: 2.2655\n",
            "Epoch 51/200\n",
            "11/11 [==============================] - 1s 49ms/step - loss: 1.8970 - mae: 2.3515 - val_loss: 1.8091 - val_mae: 2.2654\n",
            "Epoch 52/200\n",
            "11/11 [==============================] - 1s 48ms/step - loss: 1.8707 - mae: 2.3238 - val_loss: 1.8305 - val_mae: 2.2865\n",
            "Epoch 53/200\n",
            "11/11 [==============================] - 0s 45ms/step - loss: 1.8697 - mae: 2.3217 - val_loss: 1.8197 - val_mae: 2.2741\n",
            "Epoch 54/200\n",
            "11/11 [==============================] - 1s 48ms/step - loss: 1.8989 - mae: 2.3523 - val_loss: 1.8060 - val_mae: 2.2625\n",
            "Epoch 55/200\n",
            "11/11 [==============================] - 1s 48ms/step - loss: 1.9197 - mae: 2.3730 - val_loss: 1.8101 - val_mae: 2.2655\n",
            "Epoch 56/200\n",
            "11/11 [==============================] - 1s 46ms/step - loss: 1.8689 - mae: 2.3213 - val_loss: 1.8105 - val_mae: 2.2662\n",
            "Epoch 57/200\n",
            "11/11 [==============================] - 1s 110ms/step - loss: 1.8707 - mae: 2.3244 - val_loss: 1.8050 - val_mae: 2.2623\n",
            "Epoch 58/200\n",
            "11/11 [==============================] - 1s 51ms/step - loss: 1.8772 - mae: 2.3279 - val_loss: 1.8154 - val_mae: 2.2713\n",
            "Epoch 59/200\n",
            "11/11 [==============================] - 1s 49ms/step - loss: 1.8642 - mae: 2.3190 - val_loss: 1.8201 - val_mae: 2.2750\n",
            "Epoch 60/200\n",
            "11/11 [==============================] - 1s 48ms/step - loss: 1.8670 - mae: 2.3187 - val_loss: 1.8450 - val_mae: 2.3018\n",
            "Epoch 61/200\n",
            "11/11 [==============================] - 1s 49ms/step - loss: 1.8690 - mae: 2.3224 - val_loss: 1.8630 - val_mae: 2.3196\n",
            "Epoch 62/200\n",
            "11/11 [==============================] - 1s 52ms/step - loss: 1.9010 - mae: 2.3552 - val_loss: 1.8999 - val_mae: 2.3551\n",
            "Epoch 63/200\n",
            "11/11 [==============================] - 1s 53ms/step - loss: 1.8727 - mae: 2.3249 - val_loss: 1.8037 - val_mae: 2.2613\n",
            "Epoch 64/200\n",
            "11/11 [==============================] - 1s 47ms/step - loss: 1.8907 - mae: 2.3440 - val_loss: 1.8169 - val_mae: 2.2739\n",
            "Epoch 65/200\n",
            "11/11 [==============================] - 1s 50ms/step - loss: 1.8690 - mae: 2.3226 - val_loss: 1.7970 - val_mae: 2.2534\n",
            "Epoch 66/200\n",
            "11/11 [==============================] - 1s 47ms/step - loss: 1.9233 - mae: 2.3776 - val_loss: 1.8318 - val_mae: 2.2887\n",
            "Epoch 67/200\n",
            "11/11 [==============================] - 1s 49ms/step - loss: 1.8635 - mae: 2.3161 - val_loss: 1.7985 - val_mae: 2.2541\n",
            "Epoch 68/200\n",
            "11/11 [==============================] - 1s 51ms/step - loss: 1.8761 - mae: 2.3291 - val_loss: 1.7933 - val_mae: 2.2508\n",
            "Epoch 69/200\n",
            "11/11 [==============================] - 1s 45ms/step - loss: 1.8663 - mae: 2.3186 - val_loss: 1.7953 - val_mae: 2.2529\n",
            "Epoch 70/200\n",
            "11/11 [==============================] - 1s 48ms/step - loss: 1.8631 - mae: 2.3161 - val_loss: 1.8803 - val_mae: 2.3359\n",
            "Epoch 71/200\n",
            "11/11 [==============================] - 1s 48ms/step - loss: 1.8974 - mae: 2.3533 - val_loss: 1.8471 - val_mae: 2.3023\n",
            "Epoch 72/200\n",
            "11/11 [==============================] - 1s 48ms/step - loss: 1.9139 - mae: 2.3650 - val_loss: 1.7935 - val_mae: 2.2502\n",
            "Epoch 73/200\n",
            "11/11 [==============================] - 1s 46ms/step - loss: 1.8899 - mae: 2.3471 - val_loss: 1.7922 - val_mae: 2.2493\n",
            "Epoch 74/200\n",
            "11/11 [==============================] - 1s 52ms/step - loss: 1.8847 - mae: 2.3381 - val_loss: 1.7945 - val_mae: 2.2497\n",
            "Epoch 75/200\n",
            "11/11 [==============================] - 1s 46ms/step - loss: 1.8586 - mae: 2.3110 - val_loss: 1.8023 - val_mae: 2.2599\n",
            "Epoch 76/200\n",
            "11/11 [==============================] - 1s 49ms/step - loss: 1.8643 - mae: 2.3174 - val_loss: 1.8019 - val_mae: 2.2598\n",
            "Epoch 77/200\n",
            "11/11 [==============================] - 1s 51ms/step - loss: 1.8564 - mae: 2.3114 - val_loss: 1.7988 - val_mae: 2.2523\n",
            "Epoch 78/200\n",
            "11/11 [==============================] - 1s 48ms/step - loss: 1.8764 - mae: 2.3299 - val_loss: 1.8308 - val_mae: 2.2897\n",
            "Epoch 79/200\n",
            "11/11 [==============================] - 1s 47ms/step - loss: 1.8547 - mae: 2.3087 - val_loss: 1.7926 - val_mae: 2.2461\n",
            "Epoch 80/200\n",
            "11/11 [==============================] - 1s 49ms/step - loss: 1.8924 - mae: 2.3501 - val_loss: 1.8061 - val_mae: 2.2643\n",
            "Epoch 81/200\n",
            "11/11 [==============================] - 1s 46ms/step - loss: 1.8985 - mae: 2.3524 - val_loss: 1.8210 - val_mae: 2.2746\n",
            "Epoch 82/200\n",
            "11/11 [==============================] - 1s 48ms/step - loss: 1.8652 - mae: 2.3201 - val_loss: 1.8169 - val_mae: 2.2716\n",
            "Epoch 83/200\n",
            "11/11 [==============================] - 1s 47ms/step - loss: 1.8591 - mae: 2.3130 - val_loss: 1.8995 - val_mae: 2.3547\n",
            "Epoch 84/200\n",
            "11/11 [==============================] - 1s 51ms/step - loss: 1.8757 - mae: 2.3288 - val_loss: 1.8006 - val_mae: 2.2525\n",
            "Epoch 85/200\n",
            "11/11 [==============================] - 0s 45ms/step - loss: 1.8856 - mae: 2.3396 - val_loss: 1.7951 - val_mae: 2.2534\n",
            "Epoch 86/200\n",
            "11/11 [==============================] - 1s 52ms/step - loss: 1.8721 - mae: 2.3244 - val_loss: 1.7869 - val_mae: 2.2447\n",
            "Epoch 87/200\n",
            "11/11 [==============================] - 1s 51ms/step - loss: 1.8668 - mae: 2.3213 - val_loss: 1.7837 - val_mae: 2.2397\n",
            "Epoch 88/200\n",
            "11/11 [==============================] - 1s 50ms/step - loss: 1.8495 - mae: 2.3033 - val_loss: 1.7921 - val_mae: 2.2444\n",
            "Epoch 89/200\n",
            "11/11 [==============================] - 1s 51ms/step - loss: 1.8668 - mae: 2.3195 - val_loss: 1.7969 - val_mae: 2.2556\n",
            "Epoch 90/200\n",
            "11/11 [==============================] - 1s 50ms/step - loss: 1.8732 - mae: 2.3249 - val_loss: 1.8065 - val_mae: 2.2579\n",
            "Epoch 91/200\n",
            "11/11 [==============================] - 1s 53ms/step - loss: 1.8932 - mae: 2.3472 - val_loss: 1.8163 - val_mae: 2.2689\n",
            "Epoch 92/200\n",
            "11/11 [==============================] - 1s 48ms/step - loss: 1.8862 - mae: 2.3360 - val_loss: 1.7869 - val_mae: 2.2403\n",
            "Epoch 93/200\n",
            "11/11 [==============================] - 1s 52ms/step - loss: 1.8488 - mae: 2.2994 - val_loss: 1.7985 - val_mae: 2.2580\n",
            "Epoch 94/200\n",
            "11/11 [==============================] - 1s 48ms/step - loss: 1.8974 - mae: 2.3504 - val_loss: 1.7969 - val_mae: 2.2474\n",
            "Epoch 95/200\n",
            "11/11 [==============================] - 1s 48ms/step - loss: 1.8649 - mae: 2.3183 - val_loss: 1.9071 - val_mae: 2.3588\n",
            "Epoch 96/200\n",
            "11/11 [==============================] - 1s 48ms/step - loss: 1.8537 - mae: 2.3070 - val_loss: 1.7778 - val_mae: 2.2335\n",
            "Epoch 97/200\n",
            "11/11 [==============================] - 1s 49ms/step - loss: 1.8572 - mae: 2.3086 - val_loss: 1.7907 - val_mae: 2.2458\n",
            "Epoch 98/200\n",
            "11/11 [==============================] - 1s 49ms/step - loss: 1.8798 - mae: 2.3326 - val_loss: 1.8822 - val_mae: 2.3364\n",
            "Epoch 99/200\n",
            "11/11 [==============================] - 1s 51ms/step - loss: 1.8563 - mae: 2.3076 - val_loss: 1.7917 - val_mae: 2.2431\n",
            "Epoch 100/200\n",
            "11/11 [==============================] - 1s 47ms/step - loss: 1.8918 - mae: 2.3452 - val_loss: 1.8192 - val_mae: 2.2780\n",
            "Epoch 101/200\n",
            "11/11 [==============================] - 1s 51ms/step - loss: 1.8814 - mae: 2.3342 - val_loss: 1.7973 - val_mae: 2.2474\n",
            "Epoch 102/200\n",
            "11/11 [==============================] - 1s 49ms/step - loss: 1.8616 - mae: 2.3157 - val_loss: 1.8135 - val_mae: 2.2715\n",
            "Epoch 103/200\n",
            "11/11 [==============================] - 0s 46ms/step - loss: 1.8848 - mae: 2.3405 - val_loss: 1.8001 - val_mae: 2.2523\n",
            "Epoch 104/200\n",
            "11/11 [==============================] - 1s 51ms/step - loss: 1.8537 - mae: 2.3052 - val_loss: 1.8847 - val_mae: 2.3362\n",
            "Epoch 105/200\n",
            "11/11 [==============================] - 1s 47ms/step - loss: 1.8680 - mae: 2.3204 - val_loss: 1.7846 - val_mae: 2.2363\n",
            "Epoch 106/200\n",
            "11/11 [==============================] - 1s 49ms/step - loss: 1.8525 - mae: 2.3056 - val_loss: 1.7813 - val_mae: 2.2401\n",
            "Epoch 107/200\n",
            "11/11 [==============================] - 1s 51ms/step - loss: 1.8463 - mae: 2.2986 - val_loss: 1.7856 - val_mae: 2.2438\n",
            "Epoch 108/200\n",
            "11/11 [==============================] - 1s 48ms/step - loss: 1.8552 - mae: 2.3068 - val_loss: 1.7753 - val_mae: 2.2309\n",
            "Epoch 109/200\n",
            "11/11 [==============================] - 1s 53ms/step - loss: 1.8458 - mae: 2.2996 - val_loss: 1.7739 - val_mae: 2.2314\n",
            "Epoch 110/200\n",
            "11/11 [==============================] - 1s 50ms/step - loss: 1.8437 - mae: 2.2973 - val_loss: 1.7731 - val_mae: 2.2275\n",
            "Epoch 111/200\n",
            "11/11 [==============================] - 1s 47ms/step - loss: 1.8701 - mae: 2.3219 - val_loss: 1.7954 - val_mae: 2.2501\n",
            "Epoch 112/200\n",
            "11/11 [==============================] - 1s 47ms/step - loss: 1.8500 - mae: 2.3020 - val_loss: 1.7771 - val_mae: 2.2284\n",
            "Epoch 113/200\n",
            "11/11 [==============================] - 1s 48ms/step - loss: 1.8454 - mae: 2.2965 - val_loss: 1.7713 - val_mae: 2.2236\n",
            "Epoch 114/200\n",
            "11/11 [==============================] - 1s 49ms/step - loss: 1.8498 - mae: 2.3007 - val_loss: 1.7703 - val_mae: 2.2276\n",
            "Epoch 115/200\n",
            "11/11 [==============================] - 1s 51ms/step - loss: 1.9008 - mae: 2.3544 - val_loss: 1.7798 - val_mae: 2.2308\n",
            "Epoch 116/200\n",
            "11/11 [==============================] - 1s 54ms/step - loss: 1.8722 - mae: 2.3233 - val_loss: 1.7987 - val_mae: 2.2527\n",
            "Epoch 117/200\n",
            "11/11 [==============================] - 1s 50ms/step - loss: 1.8760 - mae: 2.3285 - val_loss: 1.7806 - val_mae: 2.2375\n",
            "Epoch 118/200\n",
            "11/11 [==============================] - 1s 49ms/step - loss: 1.8431 - mae: 2.2959 - val_loss: 1.7714 - val_mae: 2.2279\n",
            "Epoch 119/200\n",
            "11/11 [==============================] - 1s 47ms/step - loss: 1.8370 - mae: 2.2896 - val_loss: 1.8275 - val_mae: 2.2794\n",
            "Epoch 120/200\n",
            "11/11 [==============================] - 1s 53ms/step - loss: 1.8649 - mae: 2.3176 - val_loss: 1.8391 - val_mae: 2.2948\n",
            "Epoch 121/200\n",
            "11/11 [==============================] - 1s 48ms/step - loss: 1.8530 - mae: 2.3057 - val_loss: 1.7785 - val_mae: 2.2315\n",
            "Epoch 122/200\n",
            "11/11 [==============================] - 1s 53ms/step - loss: 1.8623 - mae: 2.3130 - val_loss: 1.7734 - val_mae: 2.2307\n",
            "Epoch 123/200\n",
            "11/11 [==============================] - 1s 51ms/step - loss: 1.8424 - mae: 2.2957 - val_loss: 1.7828 - val_mae: 2.2413\n",
            "Epoch 124/200\n",
            "11/11 [==============================] - 1s 47ms/step - loss: 1.8745 - mae: 2.3265 - val_loss: 1.8591 - val_mae: 2.3119\n",
            "Epoch 125/200\n",
            "11/11 [==============================] - 1s 53ms/step - loss: 1.8575 - mae: 2.3088 - val_loss: 1.7971 - val_mae: 2.2514\n",
            "Epoch 126/200\n",
            "11/11 [==============================] - 1s 46ms/step - loss: 1.8471 - mae: 2.3001 - val_loss: 1.7846 - val_mae: 2.2358\n",
            "Epoch 127/200\n",
            "11/11 [==============================] - 1s 51ms/step - loss: 1.8659 - mae: 2.3186 - val_loss: 1.7686 - val_mae: 2.2246\n",
            "Epoch 128/200\n",
            "11/11 [==============================] - 1s 49ms/step - loss: 1.8856 - mae: 2.3387 - val_loss: 1.9404 - val_mae: 2.3930\n",
            "Epoch 129/200\n",
            "11/11 [==============================] - 1s 49ms/step - loss: 1.8656 - mae: 2.3202 - val_loss: 1.7913 - val_mae: 2.2503\n",
            "Epoch 130/200\n",
            "11/11 [==============================] - 1s 47ms/step - loss: 1.8729 - mae: 2.3243 - val_loss: 1.7706 - val_mae: 2.2276\n",
            "Epoch 131/200\n",
            "11/11 [==============================] - 1s 49ms/step - loss: 1.8629 - mae: 2.3162 - val_loss: 1.7770 - val_mae: 2.2277\n",
            "Epoch 132/200\n",
            "11/11 [==============================] - 1s 51ms/step - loss: 1.8582 - mae: 2.3111 - val_loss: 1.7705 - val_mae: 2.2266\n",
            "Epoch 133/200\n",
            "11/11 [==============================] - 1s 50ms/step - loss: 1.8447 - mae: 2.2952 - val_loss: 1.7715 - val_mae: 2.2258\n",
            "Epoch 134/200\n",
            "11/11 [==============================] - 1s 49ms/step - loss: 1.8468 - mae: 2.2993 - val_loss: 1.9826 - val_mae: 2.4412\n",
            "Epoch 135/200\n",
            "11/11 [==============================] - 1s 46ms/step - loss: 1.8578 - mae: 2.3113 - val_loss: 1.7775 - val_mae: 2.2288\n",
            "Epoch 136/200\n",
            "11/11 [==============================] - 1s 46ms/step - loss: 1.8853 - mae: 2.3375 - val_loss: 1.7819 - val_mae: 2.2321\n",
            "Epoch 137/200\n",
            "11/11 [==============================] - 1s 47ms/step - loss: 1.8521 - mae: 2.3030 - val_loss: 1.8447 - val_mae: 2.3007\n",
            "Epoch 138/200\n",
            "11/11 [==============================] - 1s 49ms/step - loss: 1.8427 - mae: 2.2966 - val_loss: 1.7684 - val_mae: 2.2228\n",
            "Epoch 139/200\n",
            "11/11 [==============================] - 1s 50ms/step - loss: 1.8962 - mae: 2.3511 - val_loss: 1.8048 - val_mae: 2.2626\n",
            "Epoch 140/200\n",
            "11/11 [==============================] - 1s 47ms/step - loss: 1.8643 - mae: 2.3175 - val_loss: 1.7677 - val_mae: 2.2241\n",
            "Epoch 141/200\n",
            "11/11 [==============================] - 1s 47ms/step - loss: 1.8408 - mae: 2.2930 - val_loss: 1.7713 - val_mae: 2.2271\n",
            "Epoch 142/200\n",
            "11/11 [==============================] - 1s 50ms/step - loss: 1.8464 - mae: 2.2982 - val_loss: 1.8143 - val_mae: 2.2700\n",
            "Epoch 143/200\n",
            "11/11 [==============================] - 1s 51ms/step - loss: 1.8603 - mae: 2.3137 - val_loss: 1.7666 - val_mae: 2.2226\n",
            "Epoch 144/200\n",
            "11/11 [==============================] - 1s 55ms/step - loss: 1.8394 - mae: 2.2910 - val_loss: 1.7798 - val_mae: 2.2358\n",
            "Epoch 145/200\n",
            "11/11 [==============================] - 1s 50ms/step - loss: 1.8549 - mae: 2.3092 - val_loss: 1.7691 - val_mae: 2.2231\n",
            "Epoch 146/200\n",
            "11/11 [==============================] - 1s 46ms/step - loss: 1.8426 - mae: 2.2942 - val_loss: 1.8054 - val_mae: 2.2577\n",
            "Epoch 147/200\n",
            "11/11 [==============================] - 1s 49ms/step - loss: 1.8409 - mae: 2.2909 - val_loss: 1.7853 - val_mae: 2.2427\n",
            "Epoch 148/200\n",
            "11/11 [==============================] - 1s 46ms/step - loss: 1.8400 - mae: 2.2902 - val_loss: 1.7779 - val_mae: 2.2339\n",
            "Epoch 149/200\n",
            "11/11 [==============================] - 1s 47ms/step - loss: 1.8579 - mae: 2.3098 - val_loss: 1.7674 - val_mae: 2.2217\n",
            "Epoch 150/200\n",
            "11/11 [==============================] - 1s 48ms/step - loss: 1.8502 - mae: 2.3027 - val_loss: 1.7670 - val_mae: 2.2227\n",
            "Epoch 151/200\n",
            "11/11 [==============================] - 1s 48ms/step - loss: 1.8435 - mae: 2.2983 - val_loss: 1.9189 - val_mae: 2.3711\n",
            "Epoch 152/200\n",
            "11/11 [==============================] - 1s 50ms/step - loss: 1.8763 - mae: 2.3296 - val_loss: 1.7738 - val_mae: 2.2282\n",
            "Epoch 153/200\n",
            "11/11 [==============================] - 1s 52ms/step - loss: 1.8329 - mae: 2.2858 - val_loss: 1.8116 - val_mae: 2.2667\n",
            "Epoch 154/200\n",
            "11/11 [==============================] - 1s 51ms/step - loss: 1.8503 - mae: 2.3023 - val_loss: 1.7759 - val_mae: 2.2329\n",
            "Epoch 155/200\n",
            "11/11 [==============================] - 1s 51ms/step - loss: 1.8355 - mae: 2.2872 - val_loss: 1.8506 - val_mae: 2.3025\n",
            "Epoch 156/200\n",
            "11/11 [==============================] - 1s 55ms/step - loss: 1.8556 - mae: 2.3080 - val_loss: 1.7797 - val_mae: 2.2330\n",
            "Epoch 157/200\n",
            "11/11 [==============================] - 1s 50ms/step - loss: 1.8471 - mae: 2.2969 - val_loss: 1.8179 - val_mae: 2.2720\n",
            "Epoch 158/200\n",
            "11/11 [==============================] - 1s 50ms/step - loss: 1.8417 - mae: 2.2940 - val_loss: 1.7703 - val_mae: 2.2264\n",
            "Epoch 159/200\n",
            "11/11 [==============================] - 1s 60ms/step - loss: 1.8295 - mae: 2.2823 - val_loss: 1.8567 - val_mae: 2.3122\n",
            "Epoch 160/200\n",
            "11/11 [==============================] - 1s 122ms/step - loss: 1.8507 - mae: 2.3015 - val_loss: 1.7662 - val_mae: 2.2197\n",
            "Epoch 161/200\n",
            "11/11 [==============================] - 1s 100ms/step - loss: 1.8446 - mae: 2.2973 - val_loss: 1.7721 - val_mae: 2.2274\n",
            "Epoch 162/200\n",
            "11/11 [==============================] - 1s 46ms/step - loss: 1.8295 - mae: 2.2793 - val_loss: 1.7820 - val_mae: 2.2387\n",
            "Epoch 163/200\n",
            "11/11 [==============================] - 1s 48ms/step - loss: 1.9147 - mae: 2.3675 - val_loss: 1.8190 - val_mae: 2.2757\n",
            "Epoch 164/200\n",
            "11/11 [==============================] - 1s 46ms/step - loss: 1.8543 - mae: 2.3071 - val_loss: 1.7857 - val_mae: 2.2436\n",
            "Epoch 165/200\n",
            "11/11 [==============================] - 1s 47ms/step - loss: 1.8459 - mae: 2.3005 - val_loss: 1.7749 - val_mae: 2.2310\n",
            "Epoch 166/200\n",
            "11/11 [==============================] - 1s 50ms/step - loss: 1.8467 - mae: 2.3001 - val_loss: 1.7735 - val_mae: 2.2279\n",
            "Epoch 167/200\n",
            "11/11 [==============================] - 1s 47ms/step - loss: 1.8467 - mae: 2.2983 - val_loss: 1.9195 - val_mae: 2.3731\n",
            "Epoch 168/200\n",
            "11/11 [==============================] - 1s 50ms/step - loss: 1.8598 - mae: 2.3127 - val_loss: 1.8095 - val_mae: 2.2653\n",
            "Epoch 169/200\n",
            "11/11 [==============================] - 1s 51ms/step - loss: 1.8585 - mae: 2.3089 - val_loss: 1.7764 - val_mae: 2.2300\n",
            "Epoch 170/200\n",
            "11/11 [==============================] - 1s 48ms/step - loss: 1.8402 - mae: 2.2933 - val_loss: 1.7781 - val_mae: 2.2340\n",
            "Epoch 171/200\n",
            "11/11 [==============================] - 1s 48ms/step - loss: 1.8607 - mae: 2.3118 - val_loss: 1.7710 - val_mae: 2.2275\n",
            "Epoch 172/200\n",
            "11/11 [==============================] - 1s 46ms/step - loss: 1.8574 - mae: 2.3089 - val_loss: 1.8230 - val_mae: 2.2793\n",
            "Epoch 173/200\n",
            "11/11 [==============================] - 1s 49ms/step - loss: 1.8699 - mae: 2.3217 - val_loss: 1.7868 - val_mae: 2.2395\n",
            "Epoch 174/200\n",
            "11/11 [==============================] - 1s 51ms/step - loss: 1.8491 - mae: 2.3005 - val_loss: 1.7683 - val_mae: 2.2222\n",
            "Epoch 175/200\n",
            "11/11 [==============================] - 1s 51ms/step - loss: 1.8446 - mae: 2.2971 - val_loss: 1.7729 - val_mae: 2.2284\n",
            "Epoch 176/200\n",
            "11/11 [==============================] - 0s 46ms/step - loss: 1.8812 - mae: 2.3351 - val_loss: 1.7725 - val_mae: 2.2280\n",
            "Epoch 177/200\n",
            "11/11 [==============================] - 1s 48ms/step - loss: 1.8407 - mae: 2.2922 - val_loss: 1.7786 - val_mae: 2.2353\n",
            "Epoch 178/200\n",
            "11/11 [==============================] - 0s 45ms/step - loss: 1.8385 - mae: 2.2871 - val_loss: 1.8107 - val_mae: 2.2674\n",
            "Epoch 179/200\n",
            "11/11 [==============================] - 1s 54ms/step - loss: 1.8471 - mae: 2.2995 - val_loss: 1.7804 - val_mae: 2.2353\n",
            "Epoch 180/200\n",
            "11/11 [==============================] - 1s 46ms/step - loss: 1.8399 - mae: 2.2934 - val_loss: 1.7653 - val_mae: 2.2180\n",
            "Epoch 181/200\n",
            "11/11 [==============================] - 1s 53ms/step - loss: 1.8367 - mae: 2.2858 - val_loss: 1.7786 - val_mae: 2.2338\n",
            "Epoch 182/200\n",
            "11/11 [==============================] - 1s 47ms/step - loss: 1.8406 - mae: 2.2913 - val_loss: 1.7811 - val_mae: 2.2365\n",
            "Epoch 183/200\n",
            "11/11 [==============================] - 1s 46ms/step - loss: 1.8356 - mae: 2.2879 - val_loss: 1.7650 - val_mae: 2.2152\n",
            "Epoch 184/200\n",
            "11/11 [==============================] - 1s 48ms/step - loss: 1.8446 - mae: 2.2960 - val_loss: 1.7764 - val_mae: 2.2309\n",
            "Epoch 185/200\n",
            "11/11 [==============================] - 1s 47ms/step - loss: 1.8387 - mae: 2.2922 - val_loss: 1.7725 - val_mae: 2.2272\n",
            "Epoch 186/200\n",
            "11/11 [==============================] - 1s 47ms/step - loss: 1.8544 - mae: 2.3072 - val_loss: 2.0926 - val_mae: 2.5502\n",
            "Epoch 187/200\n",
            "11/11 [==============================] - 0s 46ms/step - loss: 1.8778 - mae: 2.3301 - val_loss: 1.7800 - val_mae: 2.2334\n",
            "Epoch 188/200\n",
            "11/11 [==============================] - 1s 47ms/step - loss: 1.8413 - mae: 2.2919 - val_loss: 1.7863 - val_mae: 2.2430\n",
            "Epoch 189/200\n",
            "11/11 [==============================] - 1s 55ms/step - loss: 1.8412 - mae: 2.2941 - val_loss: 1.7840 - val_mae: 2.2346\n",
            "Epoch 190/200\n",
            "11/11 [==============================] - 1s 46ms/step - loss: 1.8670 - mae: 2.3172 - val_loss: 1.7908 - val_mae: 2.2470\n",
            "Epoch 191/200\n",
            "11/11 [==============================] - 1s 46ms/step - loss: 1.8345 - mae: 2.2850 - val_loss: 1.7688 - val_mae: 2.2234\n",
            "Epoch 192/200\n",
            "11/11 [==============================] - 1s 53ms/step - loss: 1.8412 - mae: 2.2931 - val_loss: 1.7781 - val_mae: 2.2319\n",
            "Epoch 193/200\n",
            "11/11 [==============================] - 1s 49ms/step - loss: 1.8368 - mae: 2.2877 - val_loss: 1.8003 - val_mae: 2.2558\n",
            "Epoch 194/200\n",
            "11/11 [==============================] - 1s 50ms/step - loss: 1.8301 - mae: 2.2823 - val_loss: 1.7702 - val_mae: 2.2236\n",
            "Epoch 195/200\n",
            "11/11 [==============================] - 1s 52ms/step - loss: 1.8380 - mae: 2.2891 - val_loss: 1.7738 - val_mae: 2.2270\n",
            "Epoch 196/200\n",
            "11/11 [==============================] - 1s 50ms/step - loss: 1.8461 - mae: 2.2964 - val_loss: 1.7690 - val_mae: 2.2236\n",
            "Epoch 197/200\n",
            "11/11 [==============================] - 1s 47ms/step - loss: 1.8552 - mae: 2.3060 - val_loss: 1.7869 - val_mae: 2.2422\n",
            "Epoch 198/200\n",
            "11/11 [==============================] - 1s 56ms/step - loss: 1.8463 - mae: 2.2971 - val_loss: 1.7708 - val_mae: 2.2237\n",
            "Epoch 199/200\n",
            "11/11 [==============================] - 1s 48ms/step - loss: 1.8381 - mae: 2.2896 - val_loss: 1.7681 - val_mae: 2.2211\n",
            "Epoch 200/200\n",
            "11/11 [==============================] - 1s 54ms/step - loss: 1.8499 - mae: 2.3012 - val_loss: 1.7661 - val_mae: 2.2191\n"
          ]
        }
      ],
      "source": [
        "history_huber = model_huber.fit(X_train_3D, y_train, epochs=200, batch_size=200,\n",
        "                      validation_data=(X_valid_3D, y_valid))"
      ]
    },
    {
      "cell_type": "code",
      "execution_count": null,
      "metadata": {
        "id": "YieiQouDbd8Q",
        "colab": {
          "base_uri": "https://localhost:8080/"
        },
        "outputId": "c443f2c0-013d-4166-c30e-0c9e0c42f34f"
      },
      "outputs": [
        {
          "output_type": "stream",
          "name": "stdout",
          "text": [
            "23/23 [==============================] - 0s 6ms/step - loss: 1.6662 - mae: 2.1068\n"
          ]
        },
        {
          "output_type": "execute_result",
          "data": {
            "text/plain": [
              "[1.6661920547485352, 2.106822967529297]"
            ]
          },
          "metadata": {},
          "execution_count": 61
        }
      ],
      "source": [
        "score_huber = model_huber.evaluate(X_test_3D, y_test)\n",
        "score_huber"
      ]
    },
    {
      "cell_type": "markdown",
      "metadata": {
        "id": "Wy3U4jpDbd8S"
      },
      "source": [
        "## 1.10) Plot the predictions\n",
        "\n",
        "Make predictions on the test set and plot them. Compare them to the targets and the baseline predictions."
      ]
    },
    {
      "cell_type": "code",
      "execution_count": null,
      "metadata": {
        "id": "W1tcYV0-bd8T",
        "colab": {
          "base_uri": "https://localhost:8080/"
        },
        "outputId": "cdd928a1-9e67-4d9e-c918-fb9dadacb366"
      },
      "outputs": [
        {
          "output_type": "stream",
          "name": "stdout",
          "text": [
            "23/23 [==============================] - 0s 6ms/step\n",
            "23/23 [==============================] - 0s 6ms/step\n"
          ]
        }
      ],
      "source": [
        "y_pred_rnn_huber = model_huber.predict(X_test_3D)\n",
        "y_pred_rnn_mse = model_mse.predict(X_test_3D)"
      ]
    },
    {
      "cell_type": "code",
      "execution_count": null,
      "metadata": {
        "id": "Bc3xE5Habd8W",
        "scrolled": true,
        "colab": {
          "base_uri": "https://localhost:8080/",
          "height": 320
        },
        "outputId": "eadaa924-adbd-41ba-c5b7-90805a2a6a04"
      },
      "outputs": [
        {
          "output_type": "display_data",
          "data": {
            "text/plain": [
              "<Figure size 720x360 with 1 Axes>"
            ],
            "image/png": "[encoded data removed]"
          },
          "metadata": {
            "needs_background": "light"
          }
        }
      ],
      "source": [
        "plot_predictions((\"Target\", y_test),\n",
        "                 (\"Linear\", y_pred_linear),\n",
        "                 (\"RNN_Huber\", y_pred_rnn_huber),\n",
        "                 (\"RNN_MSE\", y_pred_rnn_mse),\n",
        "                 end=365)"
      ]
    },
    {
      "cell_type": "markdown",
      "metadata": {
        "id": "Eq6wYR9Wbd8X"
      },
      "source": [
        "# 2 - Forecasting the shifted sequence (Seq2Seq)\n",
        "Now let's predict temperatures for 30 days (from t-24 to t+5) instead of just one.\n",
        "\n",
        "![Many to Many](images/many-to-many.png)"
      ]
    },
    {
      "cell_type": "markdown",
      "metadata": {
        "id": "4aWH_hIcbd8Y"
      },
      "source": [
        "## 2.1) Define the 3D targets for training, validation and testing"
      ]
    },
    {
      "cell_type": "code",
      "execution_count": null,
      "metadata": {
        "id": "K3_bq_v_bd8Y",
        "colab": {
          "base_uri": "https://localhost:8080/"
        },
        "outputId": "1bda33f8-cd7d-4ffe-da70-5ac6b3f9fed9"
      },
      "outputs": [
        {
          "output_type": "execute_result",
          "data": {
            "text/plain": [
              "(725, 30, 1)"
            ]
          },
          "metadata": {},
          "execution_count": 64
        }
      ],
      "source": [
        "Y = add_lags(temps, times=range(-24, 5+1)).iloc[30:-5]\n",
        "Y_train = Y.loc[train_slice]\n",
        "Y_valid = Y.loc[valid_slice]\n",
        "Y_test = Y.loc[test_slice]\n",
        "Y_train_3D = multilevel_df_to_ndarray(Y_train)\n",
        "Y_valid_3D = multilevel_df_to_ndarray(Y_valid)\n",
        "Y_test_3D = multilevel_df_to_ndarray(Y_test)\n",
        "Y_test_3D.shape"
      ]
    },
    {
      "cell_type": "markdown",
      "metadata": {
        "id": "zFh2hD1Ubd8a"
      },
      "source": [
        "## 2.2) Define an `mae_last_step()` function"
      ]
    },
    {
      "cell_type": "markdown",
      "metadata": {
        "id": "YAr2ZogTbd8a"
      },
      "source": [
        "For the final evaluation, we only want to look at the final time step (t+5). Create an `mae_last_step()` function that computes the MAE based on the final time step."
      ]
    },
    {
      "cell_type": "code",
      "execution_count": null,
      "metadata": {
        "id": "U-0JCIOSbd8b"
      },
      "outputs": [],
      "source": [
        "K = keras.backend\n",
        "\n",
        "def mae_last_step(Y_true, Y_pred):\n",
        "    return K.mean(K.abs(Y_pred[:, -1] - Y_true[:, -1]))"
      ]
    },
    {
      "cell_type": "markdown",
      "metadata": {
        "id": "m6fBSk-Dbd8c"
      },
      "source": [
        "## 2.3) Build a Seq2Seq model\n",
        "\n",
        "Build a Seq2Seq model and compile it, using the Huber Loss, and using the last step MAE as the metric. Use SGD with a learning rate of 0.01. \n",
        "\n",
        ">Hint: the layers are the same as earlier, except that the last RNN layer has `return_sequences=True`."
      ]
    },
    {
      "cell_type": "code",
      "execution_count": null,
      "metadata": {
        "id": "eoVdaUpsbd8c",
        "colab": {
          "base_uri": "https://localhost:8080/"
        },
        "outputId": "3b447281-17d2-44f4-a23d-62e528a0188e"
      },
      "outputs": [
        {
          "output_type": "stream",
          "name": "stdout",
          "text": [
            "Model: \"sequential_3\"\n",
            "_________________________________________________________________\n",
            " Layer (type)                Output Shape              Param #   \n",
            "=================================================================\n",
            " simple_rnn_4 (SimpleRNN)    (None, 30, 100)           10200     \n",
            "                                                                 \n",
            " simple_rnn_5 (SimpleRNN)    (None, 30, 100)           20100     \n",
            "                                                                 \n",
            " dense_2 (Dense)             (None, 30, 1)             101       \n",
            "                                                                 \n",
            "=================================================================\n",
            "Total params: 30,401\n",
            "Trainable params: 30,401\n",
            "Non-trainable params: 0\n",
            "_________________________________________________________________\n"
          ]
        }
      ],
      "source": [
        "modelSeq2Seq = keras.models.Sequential()\n",
        "modelSeq2Seq.add(keras.layers.SimpleRNN(100, return_sequences=True, input_shape=input_shape))\n",
        "modelSeq2Seq.add(keras.layers.SimpleRNN(100, return_sequences=True))\n",
        "modelSeq2Seq.add(keras.layers.Dense(1))\n",
        "modelSeq2Seq.compile(loss=huber_loss, optimizer=keras.optimizers.SGD(learning_rate=0.01),\n",
        "               metrics=[mae_last_step])\n",
        "modelSeq2Seq.summary()"
      ]
    },
    {
      "cell_type": "markdown",
      "metadata": {
        "id": "fsqSnjw_bd8d"
      },
      "source": [
        "## 2.4) Train the model\n",
        "\n",
        "Fit the model as earlier (but with the 3D targets). Again, evaluate the model and plot the predictions."
      ]
    },
    {
      "cell_type": "code",
      "execution_count": null,
      "metadata": {
        "id": "0yM7GVXubd8e",
        "colab": {
          "base_uri": "https://localhost:8080/"
        },
        "outputId": "8a1f6c3e-a55d-4d7f-82c1-8b7f87dc44f9"
      },
      "outputs": [
        {
          "output_type": "stream",
          "name": "stdout",
          "text": [
            "Epoch 1/200\n",
            "11/11 [==============================] - 2s 78ms/step - loss: 4.6905 - mae_last_step: 4.9934 - val_loss: 2.5706 - val_mae_last_step: 2.9562\n",
            "Epoch 2/200\n",
            "11/11 [==============================] - 1s 46ms/step - loss: 2.7008 - mae_last_step: 3.0461 - val_loss: 2.3712 - val_mae_last_step: 2.7796\n",
            "Epoch 3/200\n",
            "11/11 [==============================] - 1s 50ms/step - loss: 2.5614 - mae_last_step: 2.9348 - val_loss: 2.2605 - val_mae_last_step: 2.6854\n",
            "Epoch 4/200\n",
            "11/11 [==============================] - 1s 47ms/step - loss: 2.4286 - mae_last_step: 2.8115 - val_loss: 2.1515 - val_mae_last_step: 2.5871\n",
            "Epoch 5/200\n",
            "11/11 [==============================] - 1s 47ms/step - loss: 2.3015 - mae_last_step: 2.6826 - val_loss: 2.0711 - val_mae_last_step: 2.5163\n",
            "Epoch 6/200\n",
            "11/11 [==============================] - 1s 48ms/step - loss: 2.1933 - mae_last_step: 2.5834 - val_loss: 1.9964 - val_mae_last_step: 2.4383\n",
            "Epoch 7/200\n",
            "11/11 [==============================] - 1s 51ms/step - loss: 2.1187 - mae_last_step: 2.5080 - val_loss: 1.9636 - val_mae_last_step: 2.4053\n",
            "Epoch 8/200\n",
            "11/11 [==============================] - 1s 49ms/step - loss: 2.1359 - mae_last_step: 2.5289 - val_loss: 2.0342 - val_mae_last_step: 2.4996\n",
            "Epoch 9/200\n",
            "11/11 [==============================] - 1s 47ms/step - loss: 2.1366 - mae_last_step: 2.4995 - val_loss: 1.9373 - val_mae_last_step: 2.3800\n",
            "Epoch 10/200\n",
            "11/11 [==============================] - 1s 51ms/step - loss: 2.0767 - mae_last_step: 2.4696 - val_loss: 2.0615 - val_mae_last_step: 2.5424\n",
            "Epoch 11/200\n",
            "11/11 [==============================] - 1s 47ms/step - loss: 2.0373 - mae_last_step: 2.4097 - val_loss: 1.9360 - val_mae_last_step: 2.3908\n",
            "Epoch 12/200\n",
            "11/11 [==============================] - 1s 48ms/step - loss: 2.0000 - mae_last_step: 2.3783 - val_loss: 1.9479 - val_mae_last_step: 2.4039\n",
            "Epoch 13/200\n",
            "11/11 [==============================] - 1s 51ms/step - loss: 2.1213 - mae_last_step: 2.5449 - val_loss: 1.9684 - val_mae_last_step: 2.4030\n",
            "Epoch 14/200\n",
            "11/11 [==============================] - 1s 53ms/step - loss: 2.0070 - mae_last_step: 2.3745 - val_loss: 1.9136 - val_mae_last_step: 2.3696\n",
            "Epoch 15/200\n",
            "11/11 [==============================] - 1s 52ms/step - loss: 2.0117 - mae_last_step: 2.4082 - val_loss: 1.9203 - val_mae_last_step: 2.3616\n",
            "Epoch 16/200\n",
            "11/11 [==============================] - 1s 51ms/step - loss: 2.0358 - mae_last_step: 2.4512 - val_loss: 1.9973 - val_mae_last_step: 2.4702\n",
            "Epoch 17/200\n",
            "11/11 [==============================] - 1s 50ms/step - loss: 2.0000 - mae_last_step: 2.3865 - val_loss: 1.8960 - val_mae_last_step: 2.3535\n",
            "Epoch 18/200\n",
            "11/11 [==============================] - 1s 53ms/step - loss: 1.9651 - mae_last_step: 2.3606 - val_loss: 1.8981 - val_mae_last_step: 2.3560\n",
            "Epoch 19/200\n",
            "11/11 [==============================] - 1s 52ms/step - loss: 1.9816 - mae_last_step: 2.3940 - val_loss: 2.0437 - val_mae_last_step: 2.5320\n",
            "Epoch 20/200\n",
            "11/11 [==============================] - 1s 49ms/step - loss: 2.0111 - mae_last_step: 2.3801 - val_loss: 1.8893 - val_mae_last_step: 2.3386\n",
            "Epoch 21/200\n",
            "11/11 [==============================] - 1s 52ms/step - loss: 1.9781 - mae_last_step: 2.3728 - val_loss: 1.8852 - val_mae_last_step: 2.3444\n",
            "Epoch 22/200\n",
            "11/11 [==============================] - 1s 47ms/step - loss: 1.9543 - mae_last_step: 2.3450 - val_loss: 1.8869 - val_mae_last_step: 2.3368\n",
            "Epoch 23/200\n",
            "11/11 [==============================] - 1s 47ms/step - loss: 2.0667 - mae_last_step: 2.4682 - val_loss: 1.9434 - val_mae_last_step: 2.4061\n",
            "Epoch 24/200\n",
            "11/11 [==============================] - 1s 49ms/step - loss: 1.9711 - mae_last_step: 2.3491 - val_loss: 1.8800 - val_mae_last_step: 2.3387\n",
            "Epoch 25/200\n",
            "11/11 [==============================] - 1s 50ms/step - loss: 1.9453 - mae_last_step: 2.3341 - val_loss: 1.8872 - val_mae_last_step: 2.3456\n",
            "Epoch 26/200\n",
            "11/11 [==============================] - 1s 46ms/step - loss: 1.9472 - mae_last_step: 2.3320 - val_loss: 1.9019 - val_mae_last_step: 2.3588\n",
            "Epoch 27/200\n",
            "11/11 [==============================] - 1s 48ms/step - loss: 2.0682 - mae_last_step: 2.4536 - val_loss: 1.9001 - val_mae_last_step: 2.3464\n",
            "Epoch 28/200\n",
            "11/11 [==============================] - 1s 50ms/step - loss: 1.9926 - mae_last_step: 2.3928 - val_loss: 1.8846 - val_mae_last_step: 2.3443\n",
            "Epoch 29/200\n",
            "11/11 [==============================] - 1s 50ms/step - loss: 1.9679 - mae_last_step: 2.3520 - val_loss: 1.8751 - val_mae_last_step: 2.3273\n",
            "Epoch 30/200\n",
            "11/11 [==============================] - 1s 48ms/step - loss: 1.9433 - mae_last_step: 2.3328 - val_loss: 1.8968 - val_mae_last_step: 2.3557\n",
            "Epoch 31/200\n",
            "11/11 [==============================] - 1s 52ms/step - loss: 1.9578 - mae_last_step: 2.3566 - val_loss: 1.9104 - val_mae_last_step: 2.3563\n",
            "Epoch 32/200\n",
            "11/11 [==============================] - 1s 50ms/step - loss: 2.0101 - mae_last_step: 2.4086 - val_loss: 1.8963 - val_mae_last_step: 2.3548\n",
            "Epoch 33/200\n",
            "11/11 [==============================] - 1s 49ms/step - loss: 1.9407 - mae_last_step: 2.3231 - val_loss: 1.8818 - val_mae_last_step: 2.3405\n",
            "Epoch 34/200\n",
            "11/11 [==============================] - 1s 47ms/step - loss: 1.9599 - mae_last_step: 2.3454 - val_loss: 1.9115 - val_mae_last_step: 2.3583\n",
            "Epoch 35/200\n",
            "11/11 [==============================] - 1s 55ms/step - loss: 1.9959 - mae_last_step: 2.4175 - val_loss: 1.8806 - val_mae_last_step: 2.3398\n",
            "Epoch 36/200\n",
            "11/11 [==============================] - 1s 47ms/step - loss: 1.9443 - mae_last_step: 2.3344 - val_loss: 1.9413 - val_mae_last_step: 2.4040\n",
            "Epoch 37/200\n",
            "11/11 [==============================] - 1s 47ms/step - loss: 1.9490 - mae_last_step: 2.3444 - val_loss: 1.8827 - val_mae_last_step: 2.3331\n",
            "Epoch 38/200\n",
            "11/11 [==============================] - 1s 52ms/step - loss: 1.9719 - mae_last_step: 2.3269 - val_loss: 1.9407 - val_mae_last_step: 2.4037\n",
            "Epoch 39/200\n",
            "11/11 [==============================] - 1s 51ms/step - loss: 1.9455 - mae_last_step: 2.3416 - val_loss: 1.8595 - val_mae_last_step: 2.3163\n",
            "Epoch 40/200\n",
            "11/11 [==============================] - 1s 49ms/step - loss: 1.9310 - mae_last_step: 2.3338 - val_loss: 1.8640 - val_mae_last_step: 2.3204\n",
            "Epoch 41/200\n",
            "11/11 [==============================] - 1s 48ms/step - loss: 1.9307 - mae_last_step: 2.3286 - val_loss: 1.8840 - val_mae_last_step: 2.3412\n",
            "Epoch 42/200\n",
            "11/11 [==============================] - 1s 73ms/step - loss: 1.9463 - mae_last_step: 2.3500 - val_loss: 1.8622 - val_mae_last_step: 2.3144\n",
            "Epoch 43/200\n",
            "11/11 [==============================] - 1s 91ms/step - loss: 1.9502 - mae_last_step: 2.3515 - val_loss: 1.8649 - val_mae_last_step: 2.3174\n",
            "Epoch 44/200\n",
            "11/11 [==============================] - 1s 79ms/step - loss: 1.9697 - mae_last_step: 2.3710 - val_loss: 1.8736 - val_mae_last_step: 2.3244\n",
            "Epoch 45/200\n",
            "11/11 [==============================] - 1s 48ms/step - loss: 2.0025 - mae_last_step: 2.4215 - val_loss: 1.8835 - val_mae_last_step: 2.3401\n",
            "Epoch 46/200\n",
            "11/11 [==============================] - 1s 46ms/step - loss: 1.9493 - mae_last_step: 2.3498 - val_loss: 1.8589 - val_mae_last_step: 2.3109\n",
            "Epoch 47/200\n",
            "11/11 [==============================] - 0s 45ms/step - loss: 1.9324 - mae_last_step: 2.3349 - val_loss: 1.8845 - val_mae_last_step: 2.3417\n",
            "Epoch 48/200\n",
            "11/11 [==============================] - 1s 48ms/step - loss: 1.9313 - mae_last_step: 2.3272 - val_loss: 1.8711 - val_mae_last_step: 2.3254\n",
            "Epoch 49/200\n",
            "11/11 [==============================] - 1s 50ms/step - loss: 1.9653 - mae_last_step: 2.3601 - val_loss: 1.9401 - val_mae_last_step: 2.3853\n",
            "Epoch 50/200\n",
            "11/11 [==============================] - 1s 51ms/step - loss: 1.9781 - mae_last_step: 2.3791 - val_loss: 1.8522 - val_mae_last_step: 2.3079\n",
            "Epoch 51/200\n",
            "11/11 [==============================] - 1s 48ms/step - loss: 1.9276 - mae_last_step: 2.3122 - val_loss: 1.9033 - val_mae_last_step: 2.3517\n",
            "Epoch 52/200\n",
            "11/11 [==============================] - 1s 46ms/step - loss: 1.9786 - mae_last_step: 2.3844 - val_loss: 1.8813 - val_mae_last_step: 2.3380\n",
            "Epoch 53/200\n",
            "11/11 [==============================] - 1s 46ms/step - loss: 1.9643 - mae_last_step: 2.3713 - val_loss: 1.8509 - val_mae_last_step: 2.3059\n",
            "Epoch 54/200\n",
            "11/11 [==============================] - 0s 45ms/step - loss: 1.9237 - mae_last_step: 2.3146 - val_loss: 1.8442 - val_mae_last_step: 2.2990\n",
            "Epoch 55/200\n",
            "11/11 [==============================] - 1s 47ms/step - loss: 1.9267 - mae_last_step: 2.3248 - val_loss: 1.8887 - val_mae_last_step: 2.3420\n",
            "Epoch 56/200\n",
            "11/11 [==============================] - 1s 49ms/step - loss: 1.9743 - mae_last_step: 2.3755 - val_loss: 1.9191 - val_mae_last_step: 2.3651\n",
            "Epoch 57/200\n",
            "11/11 [==============================] - 1s 49ms/step - loss: 1.9717 - mae_last_step: 2.3594 - val_loss: 1.8653 - val_mae_last_step: 2.3215\n",
            "Epoch 58/200\n",
            "11/11 [==============================] - 1s 47ms/step - loss: 1.9223 - mae_last_step: 2.3134 - val_loss: 1.8541 - val_mae_last_step: 2.3079\n",
            "Epoch 59/200\n",
            "11/11 [==============================] - 1s 49ms/step - loss: 1.9210 - mae_last_step: 2.3285 - val_loss: 1.8723 - val_mae_last_step: 2.3245\n",
            "Epoch 60/200\n",
            "11/11 [==============================] - 1s 48ms/step - loss: 1.9292 - mae_last_step: 2.3299 - val_loss: 1.8386 - val_mae_last_step: 2.2926\n",
            "Epoch 61/200\n",
            "11/11 [==============================] - 1s 48ms/step - loss: 1.9701 - mae_last_step: 2.3618 - val_loss: 1.8563 - val_mae_last_step: 2.3078\n",
            "Epoch 62/200\n",
            "11/11 [==============================] - 1s 47ms/step - loss: 1.9191 - mae_last_step: 2.3093 - val_loss: 1.8441 - val_mae_last_step: 2.2964\n",
            "Epoch 63/200\n",
            "11/11 [==============================] - 1s 48ms/step - loss: 1.9178 - mae_last_step: 2.3246 - val_loss: 1.8385 - val_mae_last_step: 2.2890\n",
            "Epoch 64/200\n",
            "11/11 [==============================] - 1s 47ms/step - loss: 1.9307 - mae_last_step: 2.3131 - val_loss: 1.8485 - val_mae_last_step: 2.2987\n",
            "Epoch 65/200\n",
            "11/11 [==============================] - 1s 47ms/step - loss: 1.9249 - mae_last_step: 2.3261 - val_loss: 1.9011 - val_mae_last_step: 2.3519\n",
            "Epoch 66/200\n",
            "11/11 [==============================] - 1s 47ms/step - loss: 1.9593 - mae_last_step: 2.3800 - val_loss: 1.8361 - val_mae_last_step: 2.2897\n",
            "Epoch 67/200\n",
            "11/11 [==============================] - 1s 46ms/step - loss: 1.9151 - mae_last_step: 2.3151 - val_loss: 1.8349 - val_mae_last_step: 2.2879\n",
            "Epoch 68/200\n",
            "11/11 [==============================] - 1s 46ms/step - loss: 1.9111 - mae_last_step: 2.3086 - val_loss: 1.8488 - val_mae_last_step: 2.2989\n",
            "Epoch 69/200\n",
            "11/11 [==============================] - 1s 55ms/step - loss: 1.9759 - mae_last_step: 2.3825 - val_loss: 1.9071 - val_mae_last_step: 2.3636\n",
            "Epoch 70/200\n",
            "11/11 [==============================] - 1s 48ms/step - loss: 1.9346 - mae_last_step: 2.3311 - val_loss: 1.8365 - val_mae_last_step: 2.2904\n",
            "Epoch 71/200\n",
            "11/11 [==============================] - 1s 51ms/step - loss: 1.9237 - mae_last_step: 2.3186 - val_loss: 1.8860 - val_mae_last_step: 2.3366\n",
            "Epoch 72/200\n",
            "11/11 [==============================] - 1s 47ms/step - loss: 1.9724 - mae_last_step: 2.3880 - val_loss: 1.8476 - val_mae_last_step: 2.2967\n",
            "Epoch 73/200\n",
            "11/11 [==============================] - 1s 49ms/step - loss: 1.9257 - mae_last_step: 2.3192 - val_loss: 1.8339 - val_mae_last_step: 2.2872\n",
            "Epoch 74/200\n",
            "11/11 [==============================] - 1s 48ms/step - loss: 1.9125 - mae_last_step: 2.3080 - val_loss: 1.8505 - val_mae_last_step: 2.2989\n",
            "Epoch 75/200\n",
            "11/11 [==============================] - 1s 48ms/step - loss: 1.9427 - mae_last_step: 2.3671 - val_loss: 1.8523 - val_mae_last_step: 2.3027\n",
            "Epoch 76/200\n",
            "11/11 [==============================] - 1s 47ms/step - loss: 1.9129 - mae_last_step: 2.3184 - val_loss: 1.8413 - val_mae_last_step: 2.2904\n",
            "Epoch 77/200\n",
            "11/11 [==============================] - 1s 51ms/step - loss: 1.9341 - mae_last_step: 2.3336 - val_loss: 1.8718 - val_mae_last_step: 2.3208\n",
            "Epoch 78/200\n",
            "11/11 [==============================] - 1s 49ms/step - loss: 1.9619 - mae_last_step: 2.3719 - val_loss: 1.8450 - val_mae_last_step: 2.2948\n",
            "Epoch 79/200\n",
            "11/11 [==============================] - 1s 49ms/step - loss: 1.9362 - mae_last_step: 2.3394 - val_loss: 1.8297 - val_mae_last_step: 2.2813\n",
            "Epoch 80/200\n",
            "11/11 [==============================] - 1s 50ms/step - loss: 1.9093 - mae_last_step: 2.3034 - val_loss: 1.8375 - val_mae_last_step: 2.2858\n",
            "Epoch 81/200\n",
            "11/11 [==============================] - 1s 49ms/step - loss: 1.9155 - mae_last_step: 2.3164 - val_loss: 1.8316 - val_mae_last_step: 2.2795\n",
            "Epoch 82/200\n",
            "11/11 [==============================] - 1s 49ms/step - loss: 1.9204 - mae_last_step: 2.3072 - val_loss: 1.8650 - val_mae_last_step: 2.3112\n",
            "Epoch 83/200\n",
            "11/11 [==============================] - 1s 50ms/step - loss: 1.9736 - mae_last_step: 2.3867 - val_loss: 1.8627 - val_mae_last_step: 2.3134\n",
            "Epoch 84/200\n",
            "11/11 [==============================] - 1s 47ms/step - loss: 1.9127 - mae_last_step: 2.3148 - val_loss: 1.8267 - val_mae_last_step: 2.2748\n",
            "Epoch 85/200\n",
            "11/11 [==============================] - 1s 48ms/step - loss: 1.9075 - mae_last_step: 2.3145 - val_loss: 1.8260 - val_mae_last_step: 2.2752\n",
            "Epoch 86/200\n",
            "11/11 [==============================] - 1s 49ms/step - loss: 1.9069 - mae_last_step: 2.3036 - val_loss: 1.8355 - val_mae_last_step: 2.2807\n",
            "Epoch 87/200\n",
            "11/11 [==============================] - 1s 46ms/step - loss: 1.9336 - mae_last_step: 2.3275 - val_loss: 1.8853 - val_mae_last_step: 2.3317\n",
            "Epoch 88/200\n",
            "11/11 [==============================] - 1s 48ms/step - loss: 1.9528 - mae_last_step: 2.3225 - val_loss: 1.8483 - val_mae_last_step: 2.2987\n",
            "Epoch 89/200\n",
            "11/11 [==============================] - 1s 53ms/step - loss: 1.9105 - mae_last_step: 2.3084 - val_loss: 1.8268 - val_mae_last_step: 2.2747\n",
            "Epoch 90/200\n",
            "11/11 [==============================] - 1s 51ms/step - loss: 1.9075 - mae_last_step: 2.3020 - val_loss: 1.8461 - val_mae_last_step: 2.2919\n",
            "Epoch 91/200\n",
            "11/11 [==============================] - 0s 45ms/step - loss: 1.9502 - mae_last_step: 2.3459 - val_loss: 1.8236 - val_mae_last_step: 2.2709\n",
            "Epoch 92/200\n",
            "11/11 [==============================] - 1s 47ms/step - loss: 1.9092 - mae_last_step: 2.3096 - val_loss: 1.8379 - val_mae_last_step: 2.2818\n",
            "Epoch 93/200\n",
            "11/11 [==============================] - 1s 48ms/step - loss: 1.9285 - mae_last_step: 2.3361 - val_loss: 1.8360 - val_mae_last_step: 2.2842\n",
            "Epoch 94/200\n",
            "11/11 [==============================] - 1s 46ms/step - loss: 1.9111 - mae_last_step: 2.3083 - val_loss: 1.8223 - val_mae_last_step: 2.2666\n",
            "Epoch 95/200\n",
            "11/11 [==============================] - 1s 47ms/step - loss: 1.9044 - mae_last_step: 2.3102 - val_loss: 1.8486 - val_mae_last_step: 2.2932\n",
            "Epoch 96/200\n",
            "11/11 [==============================] - 1s 48ms/step - loss: 1.9494 - mae_last_step: 2.3596 - val_loss: 1.8717 - val_mae_last_step: 2.3226\n",
            "Epoch 97/200\n",
            "11/11 [==============================] - 1s 50ms/step - loss: 1.9354 - mae_last_step: 2.3227 - val_loss: 1.8442 - val_mae_last_step: 2.2930\n",
            "Epoch 98/200\n",
            "11/11 [==============================] - 1s 47ms/step - loss: 1.9216 - mae_last_step: 2.3296 - val_loss: 1.8496 - val_mae_last_step: 2.2956\n",
            "Epoch 99/200\n",
            "11/11 [==============================] - 1s 47ms/step - loss: 1.9073 - mae_last_step: 2.3090 - val_loss: 1.8204 - val_mae_last_step: 2.2668\n",
            "Epoch 100/200\n",
            "11/11 [==============================] - 0s 46ms/step - loss: 1.9149 - mae_last_step: 2.3195 - val_loss: 1.8810 - val_mae_last_step: 2.3310\n",
            "Epoch 101/200\n",
            "11/11 [==============================] - 1s 48ms/step - loss: 1.9540 - mae_last_step: 2.3555 - val_loss: 1.8264 - val_mae_last_step: 2.2705\n",
            "Epoch 102/200\n",
            "11/11 [==============================] - 1s 48ms/step - loss: 1.9064 - mae_last_step: 2.2965 - val_loss: 1.8209 - val_mae_last_step: 2.2642\n",
            "Epoch 103/200\n",
            "11/11 [==============================] - 1s 49ms/step - loss: 1.9091 - mae_last_step: 2.3196 - val_loss: 1.8571 - val_mae_last_step: 2.3029\n",
            "Epoch 104/200\n",
            "11/11 [==============================] - 1s 50ms/step - loss: 1.9459 - mae_last_step: 2.3373 - val_loss: 1.8383 - val_mae_last_step: 2.2844\n",
            "Epoch 105/200\n",
            "11/11 [==============================] - 1s 50ms/step - loss: 1.9079 - mae_last_step: 2.3202 - val_loss: 1.8181 - val_mae_last_step: 2.2631\n",
            "Epoch 106/200\n",
            "11/11 [==============================] - 1s 48ms/step - loss: 1.8999 - mae_last_step: 2.2933 - val_loss: 1.8557 - val_mae_last_step: 2.3012\n",
            "Epoch 107/200\n",
            "11/11 [==============================] - 1s 48ms/step - loss: 1.9074 - mae_last_step: 2.3165 - val_loss: 1.8210 - val_mae_last_step: 2.2657\n",
            "Epoch 108/200\n",
            "11/11 [==============================] - 1s 53ms/step - loss: 1.9222 - mae_last_step: 2.3053 - val_loss: 1.8625 - val_mae_last_step: 2.3089\n",
            "Epoch 109/200\n",
            "11/11 [==============================] - 1s 74ms/step - loss: 1.9043 - mae_last_step: 2.3000 - val_loss: 1.8232 - val_mae_last_step: 2.2660\n",
            "Epoch 110/200\n",
            "11/11 [==============================] - 1s 111ms/step - loss: 1.9238 - mae_last_step: 2.3209 - val_loss: 1.8657 - val_mae_last_step: 2.3134\n",
            "Epoch 111/200\n",
            "11/11 [==============================] - 1s 73ms/step - loss: 1.9255 - mae_last_step: 2.3312 - val_loss: 1.8203 - val_mae_last_step: 2.2658\n",
            "Epoch 112/200\n",
            "11/11 [==============================] - 1s 49ms/step - loss: 1.8977 - mae_last_step: 2.2987 - val_loss: 1.8252 - val_mae_last_step: 2.2652\n",
            "Epoch 113/200\n",
            "11/11 [==============================] - 1s 51ms/step - loss: 1.8962 - mae_last_step: 2.2960 - val_loss: 1.8146 - val_mae_last_step: 2.2572\n",
            "Epoch 114/200\n",
            "11/11 [==============================] - 1s 48ms/step - loss: 1.9483 - mae_last_step: 2.3348 - val_loss: 1.8709 - val_mae_last_step: 2.3207\n",
            "Epoch 115/200\n",
            "11/11 [==============================] - 1s 49ms/step - loss: 1.9025 - mae_last_step: 2.3007 - val_loss: 1.8646 - val_mae_last_step: 2.3078\n",
            "Epoch 116/200\n",
            "11/11 [==============================] - 1s 53ms/step - loss: 1.9119 - mae_last_step: 2.3050 - val_loss: 1.8462 - val_mae_last_step: 2.2916\n",
            "Epoch 117/200\n",
            "11/11 [==============================] - 1s 49ms/step - loss: 1.9053 - mae_last_step: 2.3018 - val_loss: 1.8218 - val_mae_last_step: 2.2653\n",
            "Epoch 118/200\n",
            "11/11 [==============================] - 1s 52ms/step - loss: 1.8977 - mae_last_step: 2.3004 - val_loss: 1.8138 - val_mae_last_step: 2.2546\n",
            "Epoch 119/200\n",
            "11/11 [==============================] - 1s 47ms/step - loss: 1.9035 - mae_last_step: 2.2945 - val_loss: 1.9087 - val_mae_last_step: 2.3520\n",
            "Epoch 120/200\n",
            "11/11 [==============================] - 1s 51ms/step - loss: 1.9601 - mae_last_step: 2.3406 - val_loss: 1.8344 - val_mae_last_step: 2.2787\n",
            "Epoch 121/200\n",
            "11/11 [==============================] - 1s 47ms/step - loss: 1.8972 - mae_last_step: 2.2934 - val_loss: 1.8125 - val_mae_last_step: 2.2523\n",
            "Epoch 122/200\n",
            "11/11 [==============================] - 1s 51ms/step - loss: 1.9010 - mae_last_step: 2.2899 - val_loss: 1.8380 - val_mae_last_step: 2.2806\n",
            "Epoch 123/200\n",
            "11/11 [==============================] - 1s 47ms/step - loss: 1.8970 - mae_last_step: 2.3013 - val_loss: 1.8158 - val_mae_last_step: 2.2566\n",
            "Epoch 124/200\n",
            "11/11 [==============================] - 1s 48ms/step - loss: 1.9045 - mae_last_step: 2.2937 - val_loss: 1.9467 - val_mae_last_step: 2.4081\n",
            "Epoch 125/200\n",
            "11/11 [==============================] - 1s 53ms/step - loss: 1.9699 - mae_last_step: 2.3641 - val_loss: 1.8121 - val_mae_last_step: 2.2537\n",
            "Epoch 126/200\n",
            "11/11 [==============================] - 1s 48ms/step - loss: 1.9025 - mae_last_step: 2.3120 - val_loss: 1.8338 - val_mae_last_step: 2.2734\n",
            "Epoch 127/200\n",
            "11/11 [==============================] - 1s 49ms/step - loss: 1.8994 - mae_last_step: 2.3039 - val_loss: 1.8366 - val_mae_last_step: 2.2789\n",
            "Epoch 128/200\n",
            "11/11 [==============================] - 1s 50ms/step - loss: 1.9470 - mae_last_step: 2.3668 - val_loss: 1.8422 - val_mae_last_step: 2.2840\n",
            "Epoch 129/200\n",
            "11/11 [==============================] - 1s 50ms/step - loss: 1.9101 - mae_last_step: 2.3158 - val_loss: 1.8352 - val_mae_last_step: 2.2782\n",
            "Epoch 130/200\n",
            "11/11 [==============================] - 1s 53ms/step - loss: 1.9216 - mae_last_step: 2.3171 - val_loss: 1.8408 - val_mae_last_step: 2.2794\n",
            "Epoch 131/200\n",
            "11/11 [==============================] - 1s 52ms/step - loss: 1.9143 - mae_last_step: 2.3286 - val_loss: 1.8130 - val_mae_last_step: 2.2534\n",
            "Epoch 132/200\n",
            "11/11 [==============================] - 1s 46ms/step - loss: 1.9101 - mae_last_step: 2.3063 - val_loss: 1.8150 - val_mae_last_step: 2.2532\n",
            "Epoch 133/200\n",
            "11/11 [==============================] - 1s 52ms/step - loss: 1.8986 - mae_last_step: 2.2894 - val_loss: 1.8317 - val_mae_last_step: 2.2732\n",
            "Epoch 134/200\n",
            "11/11 [==============================] - 1s 49ms/step - loss: 1.8926 - mae_last_step: 2.2968 - val_loss: 1.8133 - val_mae_last_step: 2.2531\n",
            "Epoch 135/200\n",
            "11/11 [==============================] - 1s 49ms/step - loss: 1.8925 - mae_last_step: 2.2878 - val_loss: 1.8079 - val_mae_last_step: 2.2432\n",
            "Epoch 136/200\n",
            "11/11 [==============================] - 1s 48ms/step - loss: 1.9111 - mae_last_step: 2.3207 - val_loss: 1.8592 - val_mae_last_step: 2.3062\n",
            "Epoch 137/200\n",
            "11/11 [==============================] - 1s 48ms/step - loss: 1.9178 - mae_last_step: 2.2991 - val_loss: 1.8360 - val_mae_last_step: 2.2776\n",
            "Epoch 138/200\n",
            "11/11 [==============================] - 1s 50ms/step - loss: 1.9208 - mae_last_step: 2.3233 - val_loss: 1.8743 - val_mae_last_step: 2.3290\n",
            "Epoch 139/200\n",
            "11/11 [==============================] - 1s 48ms/step - loss: 1.9046 - mae_last_step: 2.3119 - val_loss: 1.8086 - val_mae_last_step: 2.2467\n",
            "Epoch 140/200\n",
            "11/11 [==============================] - 1s 56ms/step - loss: 1.8993 - mae_last_step: 2.3026 - val_loss: 1.8216 - val_mae_last_step: 2.2612\n",
            "Epoch 141/200\n",
            "11/11 [==============================] - 1s 51ms/step - loss: 1.9067 - mae_last_step: 2.2884 - val_loss: 1.9333 - val_mae_last_step: 2.3709\n",
            "Epoch 142/200\n",
            "11/11 [==============================] - 1s 57ms/step - loss: 1.9462 - mae_last_step: 2.3319 - val_loss: 1.8119 - val_mae_last_step: 2.2529\n",
            "Epoch 143/200\n",
            "11/11 [==============================] - 1s 53ms/step - loss: 1.8906 - mae_last_step: 2.2900 - val_loss: 1.8093 - val_mae_last_step: 2.2483\n",
            "Epoch 144/200\n",
            "11/11 [==============================] - 1s 52ms/step - loss: 1.9140 - mae_last_step: 2.3115 - val_loss: 1.8734 - val_mae_last_step: 2.3230\n",
            "Epoch 145/200\n",
            "11/11 [==============================] - 1s 47ms/step - loss: 1.9365 - mae_last_step: 2.3295 - val_loss: 1.8201 - val_mae_last_step: 2.2594\n",
            "Epoch 146/200\n",
            "11/11 [==============================] - 1s 46ms/step - loss: 1.8995 - mae_last_step: 2.2925 - val_loss: 1.8250 - val_mae_last_step: 2.2674\n",
            "Epoch 147/200\n",
            "11/11 [==============================] - 1s 50ms/step - loss: 1.9126 - mae_last_step: 2.3074 - val_loss: 1.9189 - val_mae_last_step: 2.3574\n",
            "Epoch 148/200\n",
            "11/11 [==============================] - 1s 46ms/step - loss: 1.9185 - mae_last_step: 2.3107 - val_loss: 1.8253 - val_mae_last_step: 2.2675\n",
            "Epoch 149/200\n",
            "11/11 [==============================] - 1s 52ms/step - loss: 1.8944 - mae_last_step: 2.2912 - val_loss: 1.8082 - val_mae_last_step: 2.2458\n",
            "Epoch 150/200\n",
            "11/11 [==============================] - 1s 49ms/step - loss: 1.8948 - mae_last_step: 2.3058 - val_loss: 1.8155 - val_mae_last_step: 2.2511\n",
            "Epoch 151/200\n",
            "11/11 [==============================] - 1s 48ms/step - loss: 1.9100 - mae_last_step: 2.3081 - val_loss: 1.8266 - val_mae_last_step: 2.2688\n",
            "Epoch 152/200\n",
            "11/11 [==============================] - 1s 47ms/step - loss: 1.8922 - mae_last_step: 2.2887 - val_loss: 1.8087 - val_mae_last_step: 2.2478\n",
            "Epoch 153/200\n",
            "11/11 [==============================] - 1s 56ms/step - loss: 1.9034 - mae_last_step: 2.3006 - val_loss: 1.8732 - val_mae_last_step: 2.3118\n",
            "Epoch 154/200\n",
            "11/11 [==============================] - 1s 54ms/step - loss: 1.9358 - mae_last_step: 2.3471 - val_loss: 1.8157 - val_mae_last_step: 2.2572\n",
            "Epoch 155/200\n",
            "11/11 [==============================] - 1s 51ms/step - loss: 1.8919 - mae_last_step: 2.2932 - val_loss: 1.8065 - val_mae_last_step: 2.2440\n",
            "Epoch 156/200\n",
            "11/11 [==============================] - 1s 102ms/step - loss: 1.9099 - mae_last_step: 2.3042 - val_loss: 1.8804 - val_mae_last_step: 2.3325\n",
            "Epoch 157/200\n",
            "11/11 [==============================] - 1s 49ms/step - loss: 1.9062 - mae_last_step: 2.3082 - val_loss: 1.8441 - val_mae_last_step: 2.2853\n",
            "Epoch 158/200\n",
            "11/11 [==============================] - 1s 47ms/step - loss: 1.9019 - mae_last_step: 2.2939 - val_loss: 1.8116 - val_mae_last_step: 2.2507\n",
            "Epoch 159/200\n",
            "11/11 [==============================] - 1s 51ms/step - loss: 1.8984 - mae_last_step: 2.2909 - val_loss: 1.8315 - val_mae_last_step: 2.2766\n",
            "Epoch 160/200\n",
            "11/11 [==============================] - 1s 49ms/step - loss: 1.8985 - mae_last_step: 2.2993 - val_loss: 1.8332 - val_mae_last_step: 2.2766\n",
            "Epoch 161/200\n",
            "11/11 [==============================] - 1s 84ms/step - loss: 1.9376 - mae_last_step: 2.3345 - val_loss: 1.8062 - val_mae_last_step: 2.2452\n",
            "Epoch 162/200\n",
            "11/11 [==============================] - 1s 86ms/step - loss: 1.8906 - mae_last_step: 2.2899 - val_loss: 1.8150 - val_mae_last_step: 2.2529\n",
            "Epoch 163/200\n",
            "11/11 [==============================] - 1s 71ms/step - loss: 1.9460 - mae_last_step: 2.3291 - val_loss: 1.8109 - val_mae_last_step: 2.2512\n",
            "Epoch 164/200\n",
            "11/11 [==============================] - 1s 48ms/step - loss: 1.8995 - mae_last_step: 2.2859 - val_loss: 1.8318 - val_mae_last_step: 2.2741\n",
            "Epoch 165/200\n",
            "11/11 [==============================] - 1s 50ms/step - loss: 1.9163 - mae_last_step: 2.3133 - val_loss: 1.8377 - val_mae_last_step: 2.2753\n",
            "Epoch 166/200\n",
            "11/11 [==============================] - 1s 53ms/step - loss: 1.9044 - mae_last_step: 2.3036 - val_loss: 1.8213 - val_mae_last_step: 2.2614\n",
            "Epoch 167/200\n",
            "11/11 [==============================] - 1s 93ms/step - loss: 1.8981 - mae_last_step: 2.3014 - val_loss: 1.8074 - val_mae_last_step: 2.2444\n",
            "Epoch 168/200\n",
            "11/11 [==============================] - 1s 99ms/step - loss: 1.8903 - mae_last_step: 2.2811 - val_loss: 1.8271 - val_mae_last_step: 2.2650\n",
            "Epoch 169/200\n",
            "11/11 [==============================] - 1s 49ms/step - loss: 1.8941 - mae_last_step: 2.2953 - val_loss: 1.8126 - val_mae_last_step: 2.2474\n",
            "Epoch 170/200\n",
            "11/11 [==============================] - 1s 58ms/step - loss: 1.8968 - mae_last_step: 2.2980 - val_loss: 1.8592 - val_mae_last_step: 2.3069\n",
            "Epoch 171/200\n",
            "11/11 [==============================] - 1s 48ms/step - loss: 1.9237 - mae_last_step: 2.3241 - val_loss: 1.8051 - val_mae_last_step: 2.2419\n",
            "Epoch 172/200\n",
            "11/11 [==============================] - 1s 50ms/step - loss: 1.8975 - mae_last_step: 2.2842 - val_loss: 1.8047 - val_mae_last_step: 2.2411\n",
            "Epoch 173/200\n",
            "11/11 [==============================] - 1s 47ms/step - loss: 1.8891 - mae_last_step: 2.2840 - val_loss: 1.8411 - val_mae_last_step: 2.2776\n",
            "Epoch 174/200\n",
            "11/11 [==============================] - 1s 54ms/step - loss: 1.9056 - mae_last_step: 2.2811 - val_loss: 1.8566 - val_mae_last_step: 2.3053\n",
            "Epoch 175/200\n",
            "11/11 [==============================] - 1s 48ms/step - loss: 1.8951 - mae_last_step: 2.2768 - val_loss: 1.8274 - val_mae_last_step: 2.2636\n",
            "Epoch 176/200\n",
            "11/11 [==============================] - 1s 49ms/step - loss: 1.9280 - mae_last_step: 2.3362 - val_loss: 1.8214 - val_mae_last_step: 2.2622\n",
            "Epoch 177/200\n",
            "11/11 [==============================] - 1s 49ms/step - loss: 1.9051 - mae_last_step: 2.3115 - val_loss: 1.8295 - val_mae_last_step: 2.2684\n",
            "Epoch 178/200\n",
            "11/11 [==============================] - 1s 56ms/step - loss: 1.8935 - mae_last_step: 2.2900 - val_loss: 1.8104 - val_mae_last_step: 2.2485\n",
            "Epoch 179/200\n",
            "11/11 [==============================] - 1s 49ms/step - loss: 1.9134 - mae_last_step: 2.3140 - val_loss: 1.8164 - val_mae_last_step: 2.2580\n",
            "Epoch 180/200\n",
            "11/11 [==============================] - 1s 50ms/step - loss: 1.8991 - mae_last_step: 2.2935 - val_loss: 1.8047 - val_mae_last_step: 2.2421\n",
            "Epoch 181/200\n",
            "11/11 [==============================] - 1s 51ms/step - loss: 1.9042 - mae_last_step: 2.3114 - val_loss: 1.8198 - val_mae_last_step: 2.2600\n",
            "Epoch 182/200\n",
            "11/11 [==============================] - 1s 47ms/step - loss: 1.8852 - mae_last_step: 2.2770 - val_loss: 1.8044 - val_mae_last_step: 2.2417\n",
            "Epoch 183/200\n",
            "11/11 [==============================] - 1s 54ms/step - loss: 1.8851 - mae_last_step: 2.2785 - val_loss: 1.8080 - val_mae_last_step: 2.2466\n",
            "Epoch 184/200\n",
            "11/11 [==============================] - 1s 52ms/step - loss: 1.9260 - mae_last_step: 2.3182 - val_loss: 1.8114 - val_mae_last_step: 2.2422\n",
            "Epoch 185/200\n",
            "11/11 [==============================] - 1s 50ms/step - loss: 1.8944 - mae_last_step: 2.2946 - val_loss: 1.8056 - val_mae_last_step: 2.2402\n",
            "Epoch 186/200\n",
            "11/11 [==============================] - 1s 52ms/step - loss: 1.8898 - mae_last_step: 2.2837 - val_loss: 1.8341 - val_mae_last_step: 2.2719\n",
            "Epoch 187/200\n",
            "11/11 [==============================] - 1s 51ms/step - loss: 1.9043 - mae_last_step: 2.2956 - val_loss: 1.8084 - val_mae_last_step: 2.2462\n",
            "Epoch 188/200\n",
            "11/11 [==============================] - 1s 50ms/step - loss: 1.8982 - mae_last_step: 2.2925 - val_loss: 1.8763 - val_mae_last_step: 2.3317\n",
            "Epoch 189/200\n",
            "11/11 [==============================] - 1s 52ms/step - loss: 1.8944 - mae_last_step: 2.2890 - val_loss: 1.8048 - val_mae_last_step: 2.2392\n",
            "Epoch 190/200\n",
            "11/11 [==============================] - 1s 50ms/step - loss: 1.9122 - mae_last_step: 2.3105 - val_loss: 1.8044 - val_mae_last_step: 2.2410\n",
            "Epoch 191/200\n",
            "11/11 [==============================] - 1s 48ms/step - loss: 1.9001 - mae_last_step: 2.3008 - val_loss: 1.8160 - val_mae_last_step: 2.2560\n",
            "Epoch 192/200\n",
            "11/11 [==============================] - 1s 49ms/step - loss: 1.8869 - mae_last_step: 2.2805 - val_loss: 1.8071 - val_mae_last_step: 2.2457\n",
            "Epoch 193/200\n",
            "11/11 [==============================] - 1s 49ms/step - loss: 1.9043 - mae_last_step: 2.2949 - val_loss: 1.8343 - val_mae_last_step: 2.2719\n",
            "Epoch 194/200\n",
            "11/11 [==============================] - 1s 52ms/step - loss: 1.8989 - mae_last_step: 2.2938 - val_loss: 1.8439 - val_mae_last_step: 2.2765\n",
            "Epoch 195/200\n",
            "11/11 [==============================] - 1s 48ms/step - loss: 1.9268 - mae_last_step: 2.3025 - val_loss: 1.8205 - val_mae_last_step: 2.2628\n",
            "Epoch 196/200\n",
            "11/11 [==============================] - 1s 51ms/step - loss: 1.8876 - mae_last_step: 2.2847 - val_loss: 1.8040 - val_mae_last_step: 2.2373\n",
            "Epoch 197/200\n",
            "11/11 [==============================] - 1s 48ms/step - loss: 1.8931 - mae_last_step: 2.2880 - val_loss: 1.8418 - val_mae_last_step: 2.2861\n",
            "Epoch 198/200\n",
            "11/11 [==============================] - 1s 51ms/step - loss: 1.9464 - mae_last_step: 2.3388 - val_loss: 1.8120 - val_mae_last_step: 2.2493\n",
            "Epoch 199/200\n",
            "11/11 [==============================] - 1s 48ms/step - loss: 1.8941 - mae_last_step: 2.2854 - val_loss: 1.8120 - val_mae_last_step: 2.2479\n",
            "Epoch 200/200\n",
            "11/11 [==============================] - 1s 50ms/step - loss: 1.8894 - mae_last_step: 2.2857 - val_loss: 1.8099 - val_mae_last_step: 2.2502\n"
          ]
        }
      ],
      "source": [
        "historySeq2Seq = modelSeq2Seq.fit(X_train_3D, \n",
        "                                  Y_train_3D, \n",
        "                                  epochs=200, \n",
        "                                  batch_size=200,\n",
        "                                  validation_data=(X_valid_3D, Y_valid_3D))"
      ]
    },
    {
      "cell_type": "code",
      "execution_count": null,
      "metadata": {
        "id": "meEio8yybd8f",
        "colab": {
          "base_uri": "https://localhost:8080/",
          "height": 265
        },
        "outputId": "5e15b0d7-1a10-4245-caeb-c19f4ff0aed4"
      },
      "outputs": [
        {
          "output_type": "display_data",
          "data": {
            "text/plain": [
              "<Figure size 432x288 with 1 Axes>"
            ],
            "image/png": "[encoded data removed]"
          },
          "metadata": {
            "needs_background": "light"
          }
        }
      ],
      "source": [
        "plot_history(historySeq2Seq, variable=\"mae_last_step\")"
      ]
    },
    {
      "cell_type": "code",
      "execution_count": null,
      "metadata": {
        "id": "Y5I3bgQfbd8l",
        "colab": {
          "base_uri": "https://localhost:8080/"
        },
        "outputId": "4e37e66a-1012-4d55-f638-b6bf8d4f979b"
      },
      "outputs": [
        {
          "output_type": "stream",
          "name": "stdout",
          "text": [
            "23/23 [==============================] - 0s 7ms/step - loss: 1.8883 - mae_last_step: 2.1029\n"
          ]
        },
        {
          "output_type": "execute_result",
          "data": {
            "text/plain": [
              "[1.8883044719696045, 2.1029014587402344]"
            ]
          },
          "metadata": {},
          "execution_count": 69
        }
      ],
      "source": [
        "score_seq2seq = modelSeq2Seq.evaluate(X_test_3D, y_test)\n",
        "score_seq2seq"
      ]
    },
    {
      "cell_type": "code",
      "execution_count": null,
      "metadata": {
        "id": "YwK2sabEbd8n",
        "colab": {
          "base_uri": "https://localhost:8080/"
        },
        "outputId": "bba3ce7a-a4d8-4d25-f592-a66c7519ce43"
      },
      "outputs": [
        {
          "output_type": "stream",
          "name": "stdout",
          "text": [
            "23/23 [==============================] - 0s 6ms/step\n"
          ]
        }
      ],
      "source": [
        "y_pred_seq2seq = modelSeq2Seq.predict(X_test_3D)[:, -1]"
      ]
    },
    {
      "cell_type": "code",
      "execution_count": null,
      "metadata": {
        "id": "fHMU7NcMlJvp",
        "colab": {
          "base_uri": "https://localhost:8080/"
        },
        "outputId": "54efb7fc-3715-48b5-9b85-9b5c8cb9977c"
      },
      "outputs": [
        {
          "output_type": "stream",
          "name": "stdout",
          "text": [
            "23/23 [==============================] - 0s 7ms/step\n"
          ]
        },
        {
          "output_type": "execute_result",
          "data": {
            "text/plain": [
              "(725, 30, 1)"
            ]
          },
          "metadata": {},
          "execution_count": 71
        }
      ],
      "source": [
        "modelSeq2Seq.predict(X_test_3D).shape"
      ]
    },
    {
      "cell_type": "code",
      "execution_count": null,
      "metadata": {
        "id": "OcfxWkR4lPcR",
        "colab": {
          "base_uri": "https://localhost:8080/"
        },
        "outputId": "28aebda1-2afd-4d0e-841a-0d98e65333d9"
      },
      "outputs": [
        {
          "output_type": "execute_result",
          "data": {
            "text/plain": [
              "(725, 1)"
            ]
          },
          "metadata": {},
          "execution_count": 72
        }
      ],
      "source": [
        "y_pred_seq2seq.shape"
      ]
    },
    {
      "cell_type": "code",
      "execution_count": null,
      "metadata": {
        "id": "2ppPNF7mbd8o",
        "colab": {
          "base_uri": "https://localhost:8080/",
          "height": 320
        },
        "outputId": "47c8973d-5d9a-4112-bdf8-8dada88d9565"
      },
      "outputs": [
        {
          "output_type": "display_data",
          "data": {
            "text/plain": [
              "<Figure size 720x360 with 1 Axes>"
            ],
            "image/png": "[encoded data removed]"
          },
          "metadata": {
            "needs_background": "light"
          }
        }
      ],
      "source": [
        "plot_predictions((\"Target\", y_test),\n",
        "                 (\"Linear\", y_pred_linear),\n",
        "                 (\"RNN Seq2Seq\", y_pred_seq2seq),\n",
        "                 end=365)"
      ]
    },
    {
      "cell_type": "markdown",
      "metadata": {
        "id": "db-xTnvYbd8q"
      },
      "source": [
        "# 3 – LSTM and GRU"
      ]
    },
    {
      "cell_type": "markdown",
      "metadata": {
        "id": "g3slzQqybd8q"
      },
      "source": [
        "## 3.1) Build, train and evaluate a Seq2Seq LSTM"
      ]
    },
    {
      "cell_type": "markdown",
      "metadata": {
        "id": "YP_NCCmmbd8q"
      },
      "source": [
        "Train the same model as earlier but using `LSTM` or `GRU` instead of `SimpleRNN`. You can also try reducing the learning rate when the validation loss reaches a plateau, using the `ReduceLROnPlateau` callback.\n",
        "\n",
        "You can try replacing `LSTM` with `GRU`."
      ]
    },
    {
      "cell_type": "code",
      "execution_count": null,
      "metadata": {
        "id": "0nXJs06Bbd8r"
      },
      "outputs": [],
      "source": [
        "modelSeq2SeqLSTM = keras.models.Sequential()\n",
        "modelSeq2SeqLSTM.add(keras.layers.LSTM(100, return_sequences=True, input_shape=input_shape))\n",
        "modelSeq2SeqLSTM.add(keras.layers.LSTM(100, return_sequences=True))\n",
        "modelSeq2SeqLSTM.add(keras.layers.Dense(1))\n",
        "modelSeq2SeqLSTM.compile(loss=huber_loss, optimizer=keras.optimizers.SGD(learning_rate=0.01),\n",
        "               metrics=[mae_last_step])"
      ]
    },
    {
      "cell_type": "code",
      "execution_count": null,
      "metadata": {
        "id": "kPGcwn-xbd8s",
        "colab": {
          "base_uri": "https://localhost:8080/"
        },
        "outputId": "561a50b0-62bc-4d37-dd8f-e60b133ec356"
      },
      "outputs": [
        {
          "output_type": "stream",
          "name": "stdout",
          "text": [
            "Epoch 1/200\n",
            "11/11 [==============================] - 6s 86ms/step - loss: 9.0792 - mae_last_step: 9.2399 - val_loss: 7.8042 - val_mae_last_step: 7.8715 - lr: 0.0100\n",
            "Epoch 2/200\n",
            "11/11 [==============================] - 0s 16ms/step - loss: 6.2983 - mae_last_step: 6.0975 - val_loss: 5.1654 - val_mae_last_step: 4.9661 - lr: 0.0100\n",
            "Epoch 3/200\n",
            "11/11 [==============================] - 0s 15ms/step - loss: 4.2715 - mae_last_step: 3.9841 - val_loss: 3.5721 - val_mae_last_step: 3.3604 - lr: 0.0100\n",
            "Epoch 4/200\n",
            "11/11 [==============================] - 0s 13ms/step - loss: 3.3871 - mae_last_step: 3.2317 - val_loss: 3.0345 - val_mae_last_step: 2.9272 - lr: 0.0100\n",
            "Epoch 5/200\n",
            "11/11 [==============================] - 0s 12ms/step - loss: 3.1570 - mae_last_step: 3.1189 - val_loss: 2.8961 - val_mae_last_step: 2.8593 - lr: 0.0100\n",
            "Epoch 6/200\n",
            "11/11 [==============================] - 0s 12ms/step - loss: 3.0932 - mae_last_step: 3.1245 - val_loss: 2.8425 - val_mae_last_step: 2.8343 - lr: 0.0100\n",
            "Epoch 7/200\n",
            "11/11 [==============================] - 0s 11ms/step - loss: 3.0451 - mae_last_step: 3.0872 - val_loss: 2.7894 - val_mae_last_step: 2.7905 - lr: 0.0100\n",
            "Epoch 8/200\n",
            "11/11 [==============================] - 0s 11ms/step - loss: 2.9888 - mae_last_step: 3.0285 - val_loss: 2.7424 - val_mae_last_step: 2.7564 - lr: 0.0100\n",
            "Epoch 9/200\n",
            "11/11 [==============================] - 0s 12ms/step - loss: 2.9165 - mae_last_step: 2.9433 - val_loss: 2.6710 - val_mae_last_step: 2.6660 - lr: 0.0100\n",
            "Epoch 10/200\n",
            "11/11 [==============================] - 0s 12ms/step - loss: 2.8523 - mae_last_step: 2.8823 - val_loss: 2.5795 - val_mae_last_step: 2.5782 - lr: 0.0100\n",
            "Epoch 11/200\n",
            "11/11 [==============================] - 0s 11ms/step - loss: 2.7597 - mae_last_step: 2.7679 - val_loss: 2.5847 - val_mae_last_step: 2.6266 - lr: 0.0100\n",
            "Epoch 12/200\n",
            "11/11 [==============================] - 0s 11ms/step - loss: 2.6664 - mae_last_step: 2.6727 - val_loss: 2.4169 - val_mae_last_step: 2.3845 - lr: 0.0100\n",
            "Epoch 13/200\n",
            "11/11 [==============================] - 0s 11ms/step - loss: 2.5608 - mae_last_step: 2.5364 - val_loss: 2.3675 - val_mae_last_step: 2.5462 - lr: 0.0100\n",
            "Epoch 14/200\n",
            "11/11 [==============================] - 0s 10ms/step - loss: 2.5308 - mae_last_step: 2.5597 - val_loss: 2.2831 - val_mae_last_step: 2.3418 - lr: 0.0100\n",
            "Epoch 15/200\n",
            "11/11 [==============================] - 0s 11ms/step - loss: 2.4261 - mae_last_step: 2.4362 - val_loss: 2.2516 - val_mae_last_step: 2.3809 - lr: 0.0100\n",
            "Epoch 16/200\n",
            "11/11 [==============================] - 0s 11ms/step - loss: 2.4144 - mae_last_step: 2.4856 - val_loss: 2.2097 - val_mae_last_step: 2.2433 - lr: 0.0100\n",
            "Epoch 17/200\n",
            "11/11 [==============================] - 0s 11ms/step - loss: 2.4067 - mae_last_step: 2.5095 - val_loss: 2.2084 - val_mae_last_step: 2.3686 - lr: 0.0100\n",
            "Epoch 18/200\n",
            "11/11 [==============================] - 0s 10ms/step - loss: 2.3668 - mae_last_step: 2.4157 - val_loss: 2.1725 - val_mae_last_step: 2.2407 - lr: 0.0100\n",
            "Epoch 19/200\n",
            "11/11 [==============================] - 0s 11ms/step - loss: 2.3265 - mae_last_step: 2.4256 - val_loss: 2.1682 - val_mae_last_step: 2.3433 - lr: 0.0100\n",
            "Epoch 20/200\n",
            "11/11 [==============================] - 0s 12ms/step - loss: 2.2945 - mae_last_step: 2.3606 - val_loss: 2.1409 - val_mae_last_step: 2.2419 - lr: 0.0100\n",
            "Epoch 21/200\n",
            "11/11 [==============================] - 0s 11ms/step - loss: 2.2574 - mae_last_step: 2.3585 - val_loss: 2.2250 - val_mae_last_step: 2.5362 - lr: 0.0100\n",
            "Epoch 22/200\n",
            "11/11 [==============================] - 0s 10ms/step - loss: 2.2961 - mae_last_step: 2.4139 - val_loss: 2.1176 - val_mae_last_step: 2.2501 - lr: 0.0100\n",
            "Epoch 23/200\n",
            "11/11 [==============================] - 0s 12ms/step - loss: 2.2587 - mae_last_step: 2.3491 - val_loss: 2.1520 - val_mae_last_step: 2.3817 - lr: 0.0100\n",
            "Epoch 24/200\n",
            "11/11 [==============================] - 0s 11ms/step - loss: 2.2409 - mae_last_step: 2.3627 - val_loss: 2.1279 - val_mae_last_step: 2.2422 - lr: 0.0100\n",
            "Epoch 25/200\n",
            "11/11 [==============================] - 0s 11ms/step - loss: 2.2301 - mae_last_step: 2.3355 - val_loss: 2.1064 - val_mae_last_step: 2.2989 - lr: 0.0100\n",
            "Epoch 26/200\n",
            "11/11 [==============================] - 0s 11ms/step - loss: 2.1917 - mae_last_step: 2.3090 - val_loss: 2.0898 - val_mae_last_step: 2.2607 - lr: 0.0100\n",
            "Epoch 27/200\n",
            "11/11 [==============================] - 0s 11ms/step - loss: 2.2006 - mae_last_step: 2.3451 - val_loss: 2.1772 - val_mae_last_step: 2.4717 - lr: 0.0100\n",
            "Epoch 28/200\n",
            "11/11 [==============================] - 0s 12ms/step - loss: 2.2318 - mae_last_step: 2.4000 - val_loss: 2.1043 - val_mae_last_step: 2.2427 - lr: 0.0100\n",
            "Epoch 29/200\n",
            "11/11 [==============================] - 0s 11ms/step - loss: 2.1924 - mae_last_step: 2.3297 - val_loss: 2.0705 - val_mae_last_step: 2.2550 - lr: 0.0100\n",
            "Epoch 30/200\n",
            "11/11 [==============================] - 0s 10ms/step - loss: 2.1655 - mae_last_step: 2.3134 - val_loss: 2.0703 - val_mae_last_step: 2.2715 - lr: 0.0100\n",
            "Epoch 31/200\n",
            "11/11 [==============================] - 0s 11ms/step - loss: 2.1618 - mae_last_step: 2.3163 - val_loss: 2.0779 - val_mae_last_step: 2.3011 - lr: 0.0100\n",
            "Epoch 32/200\n",
            "11/11 [==============================] - 0s 11ms/step - loss: 2.1685 - mae_last_step: 2.3182 - val_loss: 2.1216 - val_mae_last_step: 2.2811 - lr: 0.0100\n",
            "Epoch 33/200\n",
            "11/11 [==============================] - 0s 11ms/step - loss: 2.1691 - mae_last_step: 2.3261 - val_loss: 2.0513 - val_mae_last_step: 2.2552 - lr: 0.0100\n",
            "Epoch 34/200\n",
            "11/11 [==============================] - 0s 11ms/step - loss: 2.1440 - mae_last_step: 2.3138 - val_loss: 2.0496 - val_mae_last_step: 2.2430 - lr: 0.0100\n",
            "Epoch 35/200\n",
            "11/11 [==============================] - 0s 11ms/step - loss: 2.1449 - mae_last_step: 2.3103 - val_loss: 2.0976 - val_mae_last_step: 2.3631 - lr: 0.0100\n",
            "Epoch 36/200\n",
            "11/11 [==============================] - 0s 11ms/step - loss: 2.1549 - mae_last_step: 2.3593 - val_loss: 2.0588 - val_mae_last_step: 2.2489 - lr: 0.0100\n",
            "Epoch 37/200\n",
            "11/11 [==============================] - 0s 11ms/step - loss: 2.1415 - mae_last_step: 2.3203 - val_loss: 2.1173 - val_mae_last_step: 2.4039 - lr: 0.0100\n",
            "Epoch 38/200\n",
            "11/11 [==============================] - 0s 11ms/step - loss: 2.1217 - mae_last_step: 2.3106 - val_loss: 2.0299 - val_mae_last_step: 2.2512 - lr: 0.0100\n",
            "Epoch 39/200\n",
            "11/11 [==============================] - 0s 12ms/step - loss: 2.1156 - mae_last_step: 2.2937 - val_loss: 2.0249 - val_mae_last_step: 2.2484 - lr: 0.0100\n",
            "Epoch 40/200\n",
            "11/11 [==============================] - 0s 11ms/step - loss: 2.1341 - mae_last_step: 2.3019 - val_loss: 2.0366 - val_mae_last_step: 2.2772 - lr: 0.0100\n",
            "Epoch 41/200\n",
            "11/11 [==============================] - 0s 12ms/step - loss: 2.1078 - mae_last_step: 2.2985 - val_loss: 2.0374 - val_mae_last_step: 2.2560 - lr: 0.0100\n",
            "Epoch 42/200\n",
            "11/11 [==============================] - 0s 11ms/step - loss: 2.1058 - mae_last_step: 2.3024 - val_loss: 2.0235 - val_mae_last_step: 2.2627 - lr: 0.0100\n",
            "Epoch 43/200\n",
            "11/11 [==============================] - 0s 11ms/step - loss: 2.1223 - mae_last_step: 2.3070 - val_loss: 2.0208 - val_mae_last_step: 2.2500 - lr: 0.0100\n",
            "Epoch 44/200\n",
            "11/11 [==============================] - 0s 12ms/step - loss: 2.1174 - mae_last_step: 2.3049 - val_loss: 2.0348 - val_mae_last_step: 2.2891 - lr: 0.0100\n",
            "Epoch 45/200\n",
            "11/11 [==============================] - 0s 11ms/step - loss: 2.1229 - mae_last_step: 2.3340 - val_loss: 2.0086 - val_mae_last_step: 2.2467 - lr: 0.0100\n",
            "Epoch 46/200\n",
            "11/11 [==============================] - 0s 11ms/step - loss: 2.1029 - mae_last_step: 2.3118 - val_loss: 2.0130 - val_mae_last_step: 2.2630 - lr: 0.0100\n",
            "Epoch 47/200\n",
            "11/11 [==============================] - 0s 12ms/step - loss: 2.0973 - mae_last_step: 2.2935 - val_loss: 1.9982 - val_mae_last_step: 2.2475 - lr: 0.0100\n",
            "Epoch 48/200\n",
            "11/11 [==============================] - 0s 11ms/step - loss: 2.0802 - mae_last_step: 2.2952 - val_loss: 2.0326 - val_mae_last_step: 2.2915 - lr: 0.0100\n",
            "Epoch 49/200\n",
            "11/11 [==============================] - 0s 11ms/step - loss: 2.1024 - mae_last_step: 2.3038 - val_loss: 2.0206 - val_mae_last_step: 2.2723 - lr: 0.0100\n",
            "Epoch 50/200\n",
            "11/11 [==============================] - 0s 11ms/step - loss: 2.0807 - mae_last_step: 2.2915 - val_loss: 1.9885 - val_mae_last_step: 2.2436 - lr: 0.0100\n",
            "Epoch 51/200\n",
            "11/11 [==============================] - 0s 11ms/step - loss: 2.0911 - mae_last_step: 2.3135 - val_loss: 2.0761 - val_mae_last_step: 2.3623 - lr: 0.0100\n",
            "Epoch 52/200\n",
            "11/11 [==============================] - 0s 11ms/step - loss: 2.0884 - mae_last_step: 2.3090 - val_loss: 1.9835 - val_mae_last_step: 2.2448 - lr: 0.0100\n",
            "Epoch 53/200\n",
            "11/11 [==============================] - 0s 12ms/step - loss: 2.0650 - mae_last_step: 2.2904 - val_loss: 1.9832 - val_mae_last_step: 2.2489 - lr: 0.0100\n",
            "Epoch 54/200\n",
            "11/11 [==============================] - 0s 11ms/step - loss: 2.0771 - mae_last_step: 2.2971 - val_loss: 1.9860 - val_mae_last_step: 2.2500 - lr: 0.0100\n",
            "Epoch 55/200\n",
            "11/11 [==============================] - 0s 12ms/step - loss: 2.0613 - mae_last_step: 2.2853 - val_loss: 1.9901 - val_mae_last_step: 2.2548 - lr: 0.0100\n",
            "Epoch 56/200\n",
            "11/11 [==============================] - 0s 10ms/step - loss: 2.0733 - mae_last_step: 2.3070 - val_loss: 2.0069 - val_mae_last_step: 2.2813 - lr: 0.0100\n",
            "Epoch 57/200\n",
            "11/11 [==============================] - 0s 11ms/step - loss: 2.0793 - mae_last_step: 2.3161 - val_loss: 1.9870 - val_mae_last_step: 2.2624 - lr: 0.0100\n",
            "Epoch 58/200\n",
            "11/11 [==============================] - 0s 11ms/step - loss: 2.0525 - mae_last_step: 2.2808 - val_loss: 1.9704 - val_mae_last_step: 2.2472 - lr: 0.0100\n",
            "Epoch 59/200\n",
            "11/11 [==============================] - 0s 12ms/step - loss: 2.0492 - mae_last_step: 2.2936 - val_loss: 1.9694 - val_mae_last_step: 2.2478 - lr: 0.0100\n",
            "Epoch 60/200\n",
            "11/11 [==============================] - 0s 12ms/step - loss: 2.0493 - mae_last_step: 2.2940 - val_loss: 1.9729 - val_mae_last_step: 2.2469 - lr: 0.0100\n",
            "Epoch 61/200\n",
            "11/11 [==============================] - 0s 11ms/step - loss: 2.0913 - mae_last_step: 2.3238 - val_loss: 1.9805 - val_mae_last_step: 2.2642 - lr: 0.0100\n",
            "Epoch 62/200\n",
            "11/11 [==============================] - 0s 11ms/step - loss: 2.0531 - mae_last_step: 2.3002 - val_loss: 1.9620 - val_mae_last_step: 2.2428 - lr: 0.0100\n",
            "Epoch 63/200\n",
            "11/11 [==============================] - 0s 11ms/step - loss: 2.0389 - mae_last_step: 2.2876 - val_loss: 1.9826 - val_mae_last_step: 2.2565 - lr: 0.0100\n",
            "Epoch 64/200\n",
            "11/11 [==============================] - 0s 11ms/step - loss: 2.0399 - mae_last_step: 2.2865 - val_loss: 1.9606 - val_mae_last_step: 2.2507 - lr: 0.0100\n",
            "Epoch 65/200\n",
            "11/11 [==============================] - 0s 12ms/step - loss: 2.0442 - mae_last_step: 2.2981 - val_loss: 1.9604 - val_mae_last_step: 2.2463 - lr: 0.0100\n",
            "Epoch 66/200\n",
            "11/11 [==============================] - 0s 11ms/step - loss: 2.0392 - mae_last_step: 2.2907 - val_loss: 1.9608 - val_mae_last_step: 2.2437 - lr: 0.0100\n",
            "Epoch 67/200\n",
            "11/11 [==============================] - 0s 11ms/step - loss: 2.0480 - mae_last_step: 2.2970 - val_loss: 1.9556 - val_mae_last_step: 2.2495 - lr: 0.0100\n",
            "Epoch 68/200\n",
            "11/11 [==============================] - 0s 11ms/step - loss: 2.0362 - mae_last_step: 2.2945 - val_loss: 1.9805 - val_mae_last_step: 2.2616 - lr: 0.0100\n",
            "Epoch 69/200\n",
            "11/11 [==============================] - 0s 11ms/step - loss: 2.0292 - mae_last_step: 2.2820 - val_loss: 1.9538 - val_mae_last_step: 2.2445 - lr: 0.0100\n",
            "Epoch 70/200\n",
            "11/11 [==============================] - 0s 11ms/step - loss: 2.0408 - mae_last_step: 2.2944 - val_loss: 2.0058 - val_mae_last_step: 2.3002 - lr: 0.0100\n",
            "Epoch 71/200\n",
            "11/11 [==============================] - 0s 10ms/step - loss: 2.0529 - mae_last_step: 2.3217 - val_loss: 1.9525 - val_mae_last_step: 2.2516 - lr: 0.0100\n",
            "Epoch 72/200\n",
            "11/11 [==============================] - 0s 10ms/step - loss: 2.0251 - mae_last_step: 2.2807 - val_loss: 1.9449 - val_mae_last_step: 2.2423 - lr: 0.0100\n",
            "Epoch 73/200\n",
            "11/11 [==============================] - 0s 12ms/step - loss: 2.0243 - mae_last_step: 2.2832 - val_loss: 1.9467 - val_mae_last_step: 2.2509 - lr: 0.0100\n",
            "Epoch 74/200\n",
            "11/11 [==============================] - 0s 11ms/step - loss: 2.0540 - mae_last_step: 2.2956 - val_loss: 1.9587 - val_mae_last_step: 2.2504 - lr: 0.0100\n",
            "Epoch 75/200\n",
            "11/11 [==============================] - 0s 12ms/step - loss: 2.0224 - mae_last_step: 2.2812 - val_loss: 1.9402 - val_mae_last_step: 2.2441 - lr: 0.0100\n",
            "Epoch 76/200\n",
            "11/11 [==============================] - 0s 12ms/step - loss: 2.0370 - mae_last_step: 2.3165 - val_loss: 1.9569 - val_mae_last_step: 2.2518 - lr: 0.0100\n",
            "Epoch 77/200\n",
            "11/11 [==============================] - 0s 11ms/step - loss: 2.0170 - mae_last_step: 2.2737 - val_loss: 1.9340 - val_mae_last_step: 2.2388 - lr: 0.0100\n",
            "Epoch 78/200\n",
            "11/11 [==============================] - 0s 11ms/step - loss: 2.0291 - mae_last_step: 2.3127 - val_loss: 1.9891 - val_mae_last_step: 2.2823 - lr: 0.0100\n",
            "Epoch 79/200\n",
            "11/11 [==============================] - 0s 12ms/step - loss: 2.0283 - mae_last_step: 2.3146 - val_loss: 1.9304 - val_mae_last_step: 2.2380 - lr: 0.0100\n",
            "Epoch 80/200\n",
            "11/11 [==============================] - 0s 12ms/step - loss: 2.0120 - mae_last_step: 2.2819 - val_loss: 1.9519 - val_mae_last_step: 2.2720 - lr: 0.0100\n",
            "Epoch 81/200\n",
            "11/11 [==============================] - 0s 12ms/step - loss: 2.0228 - mae_last_step: 2.2919 - val_loss: 1.9502 - val_mae_last_step: 2.2473 - lr: 0.0100\n",
            "Epoch 82/200\n",
            "11/11 [==============================] - 0s 11ms/step - loss: 2.0089 - mae_last_step: 2.2776 - val_loss: 1.9284 - val_mae_last_step: 2.2351 - lr: 0.0100\n",
            "Epoch 83/200\n",
            "11/11 [==============================] - 0s 11ms/step - loss: 2.0097 - mae_last_step: 2.2824 - val_loss: 1.9288 - val_mae_last_step: 2.2389 - lr: 0.0100\n",
            "Epoch 84/200\n",
            "11/11 [==============================] - 0s 11ms/step - loss: 2.0057 - mae_last_step: 2.2874 - val_loss: 1.9549 - val_mae_last_step: 2.2813 - lr: 0.0100\n",
            "Epoch 85/200\n",
            "11/11 [==============================] - 0s 12ms/step - loss: 2.0334 - mae_last_step: 2.3267 - val_loss: 1.9267 - val_mae_last_step: 2.2377 - lr: 0.0100\n",
            "Epoch 86/200\n",
            "11/11 [==============================] - 0s 11ms/step - loss: 2.0203 - mae_last_step: 2.3018 - val_loss: 1.9427 - val_mae_last_step: 2.2663 - lr: 0.0100\n",
            "Epoch 87/200\n",
            "11/11 [==============================] - 0s 11ms/step - loss: 2.0061 - mae_last_step: 2.2859 - val_loss: 1.9235 - val_mae_last_step: 2.2436 - lr: 0.0100\n",
            "Epoch 88/200\n",
            "11/11 [==============================] - 0s 11ms/step - loss: 2.0009 - mae_last_step: 2.2700 - val_loss: 1.9258 - val_mae_last_step: 2.2493 - lr: 0.0100\n",
            "Epoch 89/200\n",
            "11/11 [==============================] - 0s 12ms/step - loss: 2.0003 - mae_last_step: 2.2898 - val_loss: 1.9213 - val_mae_last_step: 2.2377 - lr: 0.0100\n",
            "Epoch 90/200\n",
            "11/11 [==============================] - 0s 11ms/step - loss: 2.0025 - mae_last_step: 2.3036 - val_loss: 1.9233 - val_mae_last_step: 2.2355 - lr: 0.0100\n",
            "Epoch 91/200\n",
            "11/11 [==============================] - 0s 12ms/step - loss: 2.0036 - mae_last_step: 2.2916 - val_loss: 1.9163 - val_mae_last_step: 2.2376 - lr: 0.0100\n",
            "Epoch 92/200\n",
            "11/11 [==============================] - 0s 11ms/step - loss: 1.9965 - mae_last_step: 2.2851 - val_loss: 1.9134 - val_mae_last_step: 2.2336 - lr: 0.0100\n",
            "Epoch 93/200\n",
            "11/11 [==============================] - 0s 11ms/step - loss: 1.9979 - mae_last_step: 2.2827 - val_loss: 1.9359 - val_mae_last_step: 2.2436 - lr: 0.0100\n",
            "Epoch 94/200\n",
            "11/11 [==============================] - 0s 11ms/step - loss: 2.0035 - mae_last_step: 2.2846 - val_loss: 1.9256 - val_mae_last_step: 2.2435 - lr: 0.0100\n",
            "Epoch 95/200\n",
            "11/11 [==============================] - 0s 11ms/step - loss: 2.0053 - mae_last_step: 2.2932 - val_loss: 1.9272 - val_mae_last_step: 2.2645 - lr: 0.0100\n",
            "Epoch 96/200\n",
            "11/11 [==============================] - 0s 12ms/step - loss: 2.0170 - mae_last_step: 2.3213 - val_loss: 1.9419 - val_mae_last_step: 2.2547 - lr: 0.0100\n",
            "Epoch 97/200\n",
            "11/11 [==============================] - 0s 12ms/step - loss: 2.0033 - mae_last_step: 2.2957 - val_loss: 1.9145 - val_mae_last_step: 2.2462 - lr: 0.0100\n",
            "Epoch 98/200\n",
            "11/11 [==============================] - 0s 12ms/step - loss: 1.9904 - mae_last_step: 2.2910 - val_loss: 1.9125 - val_mae_last_step: 2.2318 - lr: 0.0100\n",
            "Epoch 99/200\n",
            "11/11 [==============================] - 0s 12ms/step - loss: 1.9887 - mae_last_step: 2.2829 - val_loss: 1.9074 - val_mae_last_step: 2.2324 - lr: 0.0100\n",
            "Epoch 100/200\n",
            "11/11 [==============================] - 0s 12ms/step - loss: 1.9869 - mae_last_step: 2.2772 - val_loss: 1.9556 - val_mae_last_step: 2.3117 - lr: 0.0100\n",
            "Epoch 101/200\n",
            "11/11 [==============================] - 0s 11ms/step - loss: 2.0082 - mae_last_step: 2.3188 - val_loss: 1.9290 - val_mae_last_step: 2.2448 - lr: 0.0100\n",
            "Epoch 102/200\n",
            "11/11 [==============================] - 0s 11ms/step - loss: 1.9935 - mae_last_step: 2.2826 - val_loss: 1.9142 - val_mae_last_step: 2.2519 - lr: 0.0100\n",
            "Epoch 103/200\n",
            "11/11 [==============================] - 0s 11ms/step - loss: 1.9936 - mae_last_step: 2.2938 - val_loss: 1.9420 - val_mae_last_step: 2.2555 - lr: 0.0100\n",
            "Epoch 104/200\n",
            "11/11 [==============================] - 0s 12ms/step - loss: 1.9851 - mae_last_step: 2.2723 - val_loss: 1.9030 - val_mae_last_step: 2.2372 - lr: 0.0100\n",
            "Epoch 105/200\n",
            "11/11 [==============================] - 0s 11ms/step - loss: 1.9837 - mae_last_step: 2.2857 - val_loss: 1.9010 - val_mae_last_step: 2.2348 - lr: 0.0100\n",
            "Epoch 106/200\n",
            "11/11 [==============================] - 0s 11ms/step - loss: 1.9779 - mae_last_step: 2.2655 - val_loss: 1.9043 - val_mae_last_step: 2.2312 - lr: 0.0100\n",
            "Epoch 107/200\n",
            "11/11 [==============================] - 0s 11ms/step - loss: 1.9937 - mae_last_step: 2.2946 - val_loss: 1.9524 - val_mae_last_step: 2.2767 - lr: 0.0100\n",
            "Epoch 108/200\n",
            "11/11 [==============================] - 0s 12ms/step - loss: 1.9858 - mae_last_step: 2.2781 - val_loss: 1.8991 - val_mae_last_step: 2.2370 - lr: 0.0100\n",
            "Epoch 109/200\n",
            "11/11 [==============================] - 0s 11ms/step - loss: 1.9820 - mae_last_step: 2.2714 - val_loss: 1.8991 - val_mae_last_step: 2.2354 - lr: 0.0100\n",
            "Epoch 110/200\n",
            "11/11 [==============================] - 0s 11ms/step - loss: 1.9929 - mae_last_step: 2.2926 - val_loss: 1.9169 - val_mae_last_step: 2.2455 - lr: 0.0100\n",
            "Epoch 111/200\n",
            "11/11 [==============================] - 0s 11ms/step - loss: 1.9804 - mae_last_step: 2.2821 - val_loss: 1.9150 - val_mae_last_step: 2.2419 - lr: 0.0100\n",
            "Epoch 112/200\n",
            "11/11 [==============================] - 0s 12ms/step - loss: 1.9802 - mae_last_step: 2.2830 - val_loss: 1.9085 - val_mae_last_step: 2.2391 - lr: 0.0100\n",
            "Epoch 113/200\n",
            "11/11 [==============================] - 0s 11ms/step - loss: 1.9834 - mae_last_step: 2.2912 - val_loss: 1.8986 - val_mae_last_step: 2.2436 - lr: 0.0100\n",
            "Epoch 114/200\n",
            "11/11 [==============================] - 0s 12ms/step - loss: 1.9791 - mae_last_step: 2.2907 - val_loss: 1.9201 - val_mae_last_step: 2.2528 - lr: 0.0100\n",
            "Epoch 115/200\n",
            "11/11 [==============================] - 0s 11ms/step - loss: 1.9808 - mae_last_step: 2.2835 - val_loss: 1.8932 - val_mae_last_step: 2.2288 - lr: 0.0100\n",
            "Epoch 116/200\n",
            "11/11 [==============================] - 0s 12ms/step - loss: 1.9709 - mae_last_step: 2.2663 - val_loss: 1.9051 - val_mae_last_step: 2.2579 - lr: 0.0100\n",
            "Epoch 117/200\n",
            "11/11 [==============================] - 0s 13ms/step - loss: 1.9777 - mae_last_step: 2.2855 - val_loss: 1.8934 - val_mae_last_step: 2.2313 - lr: 0.0100\n",
            "Epoch 118/200\n",
            "11/11 [==============================] - 0s 11ms/step - loss: 1.9741 - mae_last_step: 2.2824 - val_loss: 1.9127 - val_mae_last_step: 2.2413 - lr: 0.0100\n",
            "Epoch 119/200\n",
            "11/11 [==============================] - 0s 11ms/step - loss: 1.9824 - mae_last_step: 2.3081 - val_loss: 1.8955 - val_mae_last_step: 2.2470 - lr: 0.0100\n",
            "Epoch 120/200\n",
            "11/11 [==============================] - 0s 12ms/step - loss: 1.9712 - mae_last_step: 2.2799 - val_loss: 1.8899 - val_mae_last_step: 2.2374 - lr: 0.0100\n",
            "Epoch 121/200\n",
            "11/11 [==============================] - 0s 11ms/step - loss: 1.9722 - mae_last_step: 2.2863 - val_loss: 1.8996 - val_mae_last_step: 2.2359 - lr: 0.0100\n",
            "Epoch 122/200\n",
            "11/11 [==============================] - 0s 11ms/step - loss: 1.9805 - mae_last_step: 2.2931 - val_loss: 1.8855 - val_mae_last_step: 2.2306 - lr: 0.0100\n",
            "Epoch 123/200\n",
            "11/11 [==============================] - 0s 11ms/step - loss: 1.9643 - mae_last_step: 2.2719 - val_loss: 1.8871 - val_mae_last_step: 2.2332 - lr: 0.0100\n",
            "Epoch 124/200\n",
            "11/11 [==============================] - 0s 12ms/step - loss: 1.9956 - mae_last_step: 2.2968 - val_loss: 1.9220 - val_mae_last_step: 2.2881 - lr: 0.0100\n",
            "Epoch 125/200\n",
            "11/11 [==============================] - 0s 11ms/step - loss: 1.9679 - mae_last_step: 2.2802 - val_loss: 1.8890 - val_mae_last_step: 2.2304 - lr: 0.0100\n",
            "Epoch 126/200\n",
            "11/11 [==============================] - 0s 11ms/step - loss: 1.9621 - mae_last_step: 2.2686 - val_loss: 1.8873 - val_mae_last_step: 2.2276 - lr: 0.0100\n",
            "Epoch 127/200\n",
            "11/11 [==============================] - 0s 12ms/step - loss: 1.9674 - mae_last_step: 2.2879 - val_loss: 1.8953 - val_mae_last_step: 2.2518 - lr: 0.0100\n",
            "Epoch 128/200\n",
            "11/11 [==============================] - 0s 13ms/step - loss: 1.9709 - mae_last_step: 2.2925 - val_loss: 1.8943 - val_mae_last_step: 2.2356 - lr: 0.0100\n",
            "Epoch 129/200\n",
            "11/11 [==============================] - 0s 11ms/step - loss: 1.9678 - mae_last_step: 2.2835 - val_loss: 1.8876 - val_mae_last_step: 2.2433 - lr: 0.0100\n",
            "Epoch 130/200\n",
            "11/11 [==============================] - 0s 11ms/step - loss: 1.9674 - mae_last_step: 2.2796 - val_loss: 1.8832 - val_mae_last_step: 2.2285 - lr: 0.0100\n",
            "Epoch 131/200\n",
            "11/11 [==============================] - 0s 11ms/step - loss: 1.9598 - mae_last_step: 2.2737 - val_loss: 1.8950 - val_mae_last_step: 2.2362 - lr: 0.0100\n",
            "Epoch 132/200\n",
            "11/11 [==============================] - 0s 11ms/step - loss: 1.9710 - mae_last_step: 2.2954 - val_loss: 1.8924 - val_mae_last_step: 2.2360 - lr: 0.0100\n",
            "Epoch 133/200\n",
            "11/11 [==============================] - 0s 11ms/step - loss: 1.9609 - mae_last_step: 2.2806 - val_loss: 1.8860 - val_mae_last_step: 2.2312 - lr: 0.0100\n",
            "Epoch 134/200\n",
            "11/11 [==============================] - 0s 11ms/step - loss: 1.9806 - mae_last_step: 2.3007 - val_loss: 1.8935 - val_mae_last_step: 2.2580 - lr: 0.0100\n",
            "Epoch 135/200\n",
            "11/11 [==============================] - 0s 11ms/step - loss: 1.9635 - mae_last_step: 2.2901 - val_loss: 1.8960 - val_mae_last_step: 2.2400 - lr: 0.0100\n",
            "Epoch 136/200\n",
            "11/11 [==============================] - 0s 12ms/step - loss: 1.9563 - mae_last_step: 2.2691 - val_loss: 1.8928 - val_mae_last_step: 2.2382 - lr: 0.0100\n",
            "Epoch 137/200\n",
            "11/11 [==============================] - 0s 12ms/step - loss: 1.9713 - mae_last_step: 2.2756 - val_loss: 1.8869 - val_mae_last_step: 2.2349 - lr: 0.0100\n",
            "Epoch 138/200\n",
            "11/11 [==============================] - 0s 11ms/step - loss: 1.9549 - mae_last_step: 2.2696 - val_loss: 1.8743 - val_mae_last_step: 2.2293 - lr: 0.0100\n",
            "Epoch 139/200\n",
            "11/11 [==============================] - 0s 11ms/step - loss: 1.9578 - mae_last_step: 2.2806 - val_loss: 1.8758 - val_mae_last_step: 2.2332 - lr: 0.0100\n",
            "Epoch 140/200\n",
            "11/11 [==============================] - 0s 12ms/step - loss: 1.9527 - mae_last_step: 2.2796 - val_loss: 1.8845 - val_mae_last_step: 2.2310 - lr: 0.0100\n",
            "Epoch 141/200\n",
            "11/11 [==============================] - 0s 12ms/step - loss: 1.9742 - mae_last_step: 2.2939 - val_loss: 1.8796 - val_mae_last_step: 2.2408 - lr: 0.0100\n",
            "Epoch 142/200\n",
            "11/11 [==============================] - 0s 11ms/step - loss: 1.9596 - mae_last_step: 2.2844 - val_loss: 1.8832 - val_mae_last_step: 2.2327 - lr: 0.0100\n",
            "Epoch 143/200\n",
            "11/11 [==============================] - 0s 12ms/step - loss: 1.9507 - mae_last_step: 2.2777 - val_loss: 1.8735 - val_mae_last_step: 2.2314 - lr: 0.0100\n",
            "Epoch 144/200\n",
            "11/11 [==============================] - 0s 12ms/step - loss: 1.9589 - mae_last_step: 2.2833 - val_loss: 1.8884 - val_mae_last_step: 2.2621 - lr: 0.0100\n",
            "Epoch 145/200\n",
            "11/11 [==============================] - 0s 12ms/step - loss: 1.9579 - mae_last_step: 2.2787 - val_loss: 1.8721 - val_mae_last_step: 2.2333 - lr: 0.0100\n",
            "Epoch 146/200\n",
            "11/11 [==============================] - 0s 11ms/step - loss: 1.9699 - mae_last_step: 2.2995 - val_loss: 1.8946 - val_mae_last_step: 2.2497 - lr: 0.0100\n",
            "Epoch 147/200\n",
            "11/11 [==============================] - 0s 11ms/step - loss: 1.9691 - mae_last_step: 2.3064 - val_loss: 1.8786 - val_mae_last_step: 2.2485 - lr: 0.0100\n",
            "Epoch 148/200\n",
            "11/11 [==============================] - 0s 12ms/step - loss: 1.9639 - mae_last_step: 2.2839 - val_loss: 1.8685 - val_mae_last_step: 2.2263 - lr: 0.0100\n",
            "Epoch 149/200\n",
            "11/11 [==============================] - 0s 11ms/step - loss: 1.9475 - mae_last_step: 2.2717 - val_loss: 1.8934 - val_mae_last_step: 2.2478 - lr: 0.0100\n",
            "Epoch 150/200\n",
            "11/11 [==============================] - 0s 11ms/step - loss: 1.9640 - mae_last_step: 2.2859 - val_loss: 1.8735 - val_mae_last_step: 2.2341 - lr: 0.0100\n",
            "Epoch 151/200\n",
            "11/11 [==============================] - 0s 12ms/step - loss: 1.9466 - mae_last_step: 2.2725 - val_loss: 1.8738 - val_mae_last_step: 2.2323 - lr: 0.0100\n",
            "Epoch 152/200\n",
            "11/11 [==============================] - 0s 12ms/step - loss: 1.9768 - mae_last_step: 2.3071 - val_loss: 1.8815 - val_mae_last_step: 2.2556 - lr: 0.0100\n",
            "Epoch 153/200\n",
            "11/11 [==============================] - 0s 11ms/step - loss: 1.9503 - mae_last_step: 2.2767 - val_loss: 1.8668 - val_mae_last_step: 2.2296 - lr: 0.0100\n",
            "Epoch 154/200\n",
            "11/11 [==============================] - 0s 12ms/step - loss: 1.9445 - mae_last_step: 2.2711 - val_loss: 1.8671 - val_mae_last_step: 2.2278 - lr: 0.0100\n",
            "Epoch 155/200\n",
            "11/11 [==============================] - 0s 11ms/step - loss: 1.9509 - mae_last_step: 2.2816 - val_loss: 1.8867 - val_mae_last_step: 2.2422 - lr: 0.0100\n",
            "Epoch 156/200\n",
            "11/11 [==============================] - 0s 11ms/step - loss: 1.9507 - mae_last_step: 2.2888 - val_loss: 1.8899 - val_mae_last_step: 2.2675 - lr: 0.0100\n",
            "Epoch 157/200\n",
            "11/11 [==============================] - 0s 11ms/step - loss: 1.9571 - mae_last_step: 2.2740 - val_loss: 1.8644 - val_mae_last_step: 2.2283 - lr: 0.0100\n",
            "Epoch 158/200\n",
            "11/11 [==============================] - 0s 11ms/step - loss: 1.9477 - mae_last_step: 2.2741 - val_loss: 1.8913 - val_mae_last_step: 2.2715 - lr: 0.0100\n",
            "Epoch 159/200\n",
            "11/11 [==============================] - 0s 11ms/step - loss: 1.9637 - mae_last_step: 2.2897 - val_loss: 1.8623 - val_mae_last_step: 2.2284 - lr: 0.0100\n",
            "Epoch 160/200\n",
            "11/11 [==============================] - 0s 12ms/step - loss: 1.9428 - mae_last_step: 2.2701 - val_loss: 1.8645 - val_mae_last_step: 2.2280 - lr: 0.0100\n",
            "Epoch 161/200\n",
            "11/11 [==============================] - 0s 11ms/step - loss: 1.9606 - mae_last_step: 2.2989 - val_loss: 1.8660 - val_mae_last_step: 2.2378 - lr: 0.0100\n",
            "Epoch 162/200\n",
            "11/11 [==============================] - 0s 11ms/step - loss: 1.9451 - mae_last_step: 2.2738 - val_loss: 1.9035 - val_mae_last_step: 2.2665 - lr: 0.0100\n",
            "Epoch 163/200\n",
            "11/11 [==============================] - 0s 11ms/step - loss: 1.9560 - mae_last_step: 2.3111 - val_loss: 1.8648 - val_mae_last_step: 2.2279 - lr: 0.0100\n",
            "Epoch 164/200\n",
            "11/11 [==============================] - 0s 11ms/step - loss: 1.9411 - mae_last_step: 2.2759 - val_loss: 1.8612 - val_mae_last_step: 2.2298 - lr: 0.0100\n",
            "Epoch 165/200\n",
            "11/11 [==============================] - 0s 11ms/step - loss: 1.9417 - mae_last_step: 2.2719 - val_loss: 1.8755 - val_mae_last_step: 2.2567 - lr: 0.0100\n",
            "Epoch 166/200\n",
            "11/11 [==============================] - 0s 11ms/step - loss: 1.9464 - mae_last_step: 2.2930 - val_loss: 1.8851 - val_mae_last_step: 2.2438 - lr: 0.0100\n",
            "Epoch 167/200\n",
            "11/11 [==============================] - 0s 12ms/step - loss: 1.9522 - mae_last_step: 2.2937 - val_loss: 1.8948 - val_mae_last_step: 2.2555 - lr: 0.0100\n",
            "Epoch 168/200\n",
            "11/11 [==============================] - 0s 12ms/step - loss: 1.9476 - mae_last_step: 2.2842 - val_loss: 1.8629 - val_mae_last_step: 2.2357 - lr: 0.0100\n",
            "Epoch 169/200\n",
            "11/11 [==============================] - 0s 11ms/step - loss: 1.9427 - mae_last_step: 2.2807 - val_loss: 1.8595 - val_mae_last_step: 2.2257 - lr: 0.0100\n",
            "Epoch 170/200\n",
            "11/11 [==============================] - 0s 11ms/step - loss: 1.9368 - mae_last_step: 2.2689 - val_loss: 1.8584 - val_mae_last_step: 2.2252 - lr: 0.0100\n",
            "Epoch 171/200\n",
            "11/11 [==============================] - 0s 11ms/step - loss: 1.9552 - mae_last_step: 2.2932 - val_loss: 1.8868 - val_mae_last_step: 2.2735 - lr: 0.0100\n",
            "Epoch 172/200\n",
            "11/11 [==============================] - 0s 11ms/step - loss: 1.9425 - mae_last_step: 2.2709 - val_loss: 1.8702 - val_mae_last_step: 2.2352 - lr: 0.0100\n",
            "Epoch 173/200\n",
            "11/11 [==============================] - 0s 11ms/step - loss: 1.9378 - mae_last_step: 2.2713 - val_loss: 1.8576 - val_mae_last_step: 2.2248 - lr: 0.0100\n",
            "Epoch 174/200\n",
            "11/11 [==============================] - 0s 12ms/step - loss: 1.9356 - mae_last_step: 2.2688 - val_loss: 1.8680 - val_mae_last_step: 2.2492 - lr: 0.0100\n",
            "Epoch 175/200\n",
            "11/11 [==============================] - 0s 12ms/step - loss: 1.9391 - mae_last_step: 2.2686 - val_loss: 1.8650 - val_mae_last_step: 2.2318 - lr: 0.0100\n",
            "Epoch 176/200\n",
            "11/11 [==============================] - 0s 12ms/step - loss: 1.9372 - mae_last_step: 2.2845 - val_loss: 1.8613 - val_mae_last_step: 2.2313 - lr: 0.0100\n",
            "Epoch 177/200\n",
            "11/11 [==============================] - 0s 11ms/step - loss: 1.9351 - mae_last_step: 2.2751 - val_loss: 1.8601 - val_mae_last_step: 2.2374 - lr: 0.0100\n",
            "Epoch 178/200\n",
            "11/11 [==============================] - 0s 11ms/step - loss: 1.9372 - mae_last_step: 2.2771 - val_loss: 1.8725 - val_mae_last_step: 2.2589 - lr: 0.0100\n",
            "Epoch 179/200\n",
            "11/11 [==============================] - 0s 11ms/step - loss: 1.9447 - mae_last_step: 2.2812 - val_loss: 1.8551 - val_mae_last_step: 2.2256 - lr: 0.0100\n",
            "Epoch 180/200\n",
            "11/11 [==============================] - 0s 12ms/step - loss: 1.9428 - mae_last_step: 2.2716 - val_loss: 1.8545 - val_mae_last_step: 2.2310 - lr: 0.0100\n",
            "Epoch 181/200\n",
            "11/11 [==============================] - 0s 11ms/step - loss: 1.9411 - mae_last_step: 2.2757 - val_loss: 1.8575 - val_mae_last_step: 2.2392 - lr: 0.0100\n",
            "Epoch 182/200\n",
            "11/11 [==============================] - 0s 12ms/step - loss: 1.9446 - mae_last_step: 2.2913 - val_loss: 1.8604 - val_mae_last_step: 2.2420 - lr: 0.0100\n",
            "Epoch 183/200\n",
            "11/11 [==============================] - 0s 12ms/step - loss: 1.9386 - mae_last_step: 2.2765 - val_loss: 1.8606 - val_mae_last_step: 2.2353 - lr: 0.0100\n",
            "Epoch 184/200\n",
            "11/11 [==============================] - 0s 12ms/step - loss: 1.9370 - mae_last_step: 2.2715 - val_loss: 1.8536 - val_mae_last_step: 2.2283 - lr: 0.0100\n",
            "Epoch 185/200\n",
            "11/11 [==============================] - 0s 11ms/step - loss: 1.9308 - mae_last_step: 2.2740 - val_loss: 1.8594 - val_mae_last_step: 2.2311 - lr: 0.0100\n",
            "Epoch 186/200\n",
            "11/11 [==============================] - 0s 11ms/step - loss: 1.9316 - mae_last_step: 2.2722 - val_loss: 1.8511 - val_mae_last_step: 2.2259 - lr: 0.0100\n",
            "Epoch 187/200\n",
            "11/11 [==============================] - 0s 11ms/step - loss: 1.9356 - mae_last_step: 2.2760 - val_loss: 1.8530 - val_mae_last_step: 2.2315 - lr: 0.0100\n",
            "Epoch 188/200\n",
            "11/11 [==============================] - 0s 12ms/step - loss: 1.9349 - mae_last_step: 2.2761 - val_loss: 1.8605 - val_mae_last_step: 2.2342 - lr: 0.0100\n",
            "Epoch 189/200\n",
            "11/11 [==============================] - 0s 11ms/step - loss: 1.9366 - mae_last_step: 2.2834 - val_loss: 1.8611 - val_mae_last_step: 2.2426 - lr: 0.0100\n",
            "Epoch 190/200\n",
            "11/11 [==============================] - 0s 13ms/step - loss: 1.9298 - mae_last_step: 2.2761 - val_loss: 1.8493 - val_mae_last_step: 2.2249 - lr: 0.0100\n",
            "Epoch 191/200\n",
            "11/11 [==============================] - 0s 11ms/step - loss: 1.9304 - mae_last_step: 2.2729 - val_loss: 1.8654 - val_mae_last_step: 2.2380 - lr: 0.0100\n",
            "Epoch 192/200\n",
            "11/11 [==============================] - 0s 11ms/step - loss: 1.9348 - mae_last_step: 2.2789 - val_loss: 1.8803 - val_mae_last_step: 2.2760 - lr: 0.0100\n",
            "Epoch 193/200\n",
            "11/11 [==============================] - 0s 11ms/step - loss: 1.9327 - mae_last_step: 2.2808 - val_loss: 1.8490 - val_mae_last_step: 2.2296 - lr: 0.0100\n",
            "Epoch 194/200\n",
            "11/11 [==============================] - 0s 11ms/step - loss: 1.9342 - mae_last_step: 2.2759 - val_loss: 1.8593 - val_mae_last_step: 2.2355 - lr: 0.0100\n",
            "Epoch 195/200\n",
            "11/11 [==============================] - 0s 12ms/step - loss: 1.9298 - mae_last_step: 2.2722 - val_loss: 1.8525 - val_mae_last_step: 2.2340 - lr: 0.0100\n",
            "Epoch 196/200\n",
            "11/11 [==============================] - 0s 16ms/step - loss: 1.9295 - mae_last_step: 2.2680 - val_loss: 1.8531 - val_mae_last_step: 2.2358 - lr: 0.0100\n",
            "Epoch 197/200\n",
            "11/11 [==============================] - 0s 16ms/step - loss: 1.9280 - mae_last_step: 2.2731 - val_loss: 1.8505 - val_mae_last_step: 2.2330 - lr: 0.0100\n",
            "Epoch 198/200\n",
            "11/11 [==============================] - 0s 12ms/step - loss: 1.9298 - mae_last_step: 2.2830 - val_loss: 1.8501 - val_mae_last_step: 2.2301 - lr: 0.0100\n",
            "Epoch 199/200\n",
            "11/11 [==============================] - 0s 12ms/step - loss: 1.9294 - mae_last_step: 2.2732 - val_loss: 1.8497 - val_mae_last_step: 2.2303 - lr: 0.0100\n",
            "Epoch 200/200\n",
            "11/11 [==============================] - 0s 11ms/step - loss: 1.9267 - mae_last_step: 2.2692 - val_loss: 1.8624 - val_mae_last_step: 2.2400 - lr: 0.0100\n"
          ]
        }
      ],
      "source": [
        "historySeq2SeqLSTM = modelSeq2SeqLSTM.fit(X_train_3D, \n",
        "                                          Y_train_3D, \n",
        "                                          epochs=200, \n",
        "                                          batch_size=200,\n",
        "                                          validation_data=(X_valid_3D, Y_valid_3D),\n",
        "                                          callbacks=[keras.callbacks.ReduceLROnPlateau(verbose=1)])"
      ]
    },
    {
      "cell_type": "code",
      "execution_count": null,
      "metadata": {
        "id": "p8q-hgzSbd8u",
        "colab": {
          "base_uri": "https://localhost:8080/"
        },
        "outputId": "ae8138a7-d7ee-4d22-d9fa-b3e8ac697f58"
      },
      "outputs": [
        {
          "output_type": "stream",
          "name": "stdout",
          "text": [
            "23/23 [==============================] - 0s 4ms/step - loss: 1.7881 - mae_last_step: 2.1116\n"
          ]
        },
        {
          "output_type": "execute_result",
          "data": {
            "text/plain": [
              "[1.7881419658660889, 2.111649990081787]"
            ]
          },
          "metadata": {},
          "execution_count": 76
        }
      ],
      "source": [
        "score_seq2seq_LSTM = modelSeq2SeqLSTM.evaluate(X_test_3D, Y_test_3D)\n",
        "score_seq2seq_LSTM"
      ]
    },
    {
      "cell_type": "code",
      "execution_count": null,
      "metadata": {
        "id": "q9cA6Y4dbd8x",
        "scrolled": true,
        "colab": {
          "base_uri": "https://localhost:8080/",
          "height": 265
        },
        "outputId": "abd1da1a-562d-48d3-b53b-4b541be97ce1"
      },
      "outputs": [
        {
          "output_type": "display_data",
          "data": {
            "text/plain": [
              "<Figure size 432x288 with 1 Axes>"
            ],
            "image/png": "[encoded data removed]"
          },
          "metadata": {
            "needs_background": "light"
          }
        }
      ],
      "source": [
        "plot_history(historySeq2SeqLSTM, variable=\"mae_last_step\")"
      ]
    },
    {
      "cell_type": "code",
      "execution_count": null,
      "metadata": {
        "id": "WEgRY8ckbd8y",
        "colab": {
          "base_uri": "https://localhost:8080/"
        },
        "outputId": "875a225b-fa5b-410f-a502-71d15fb49c31"
      },
      "outputs": [
        {
          "output_type": "stream",
          "name": "stdout",
          "text": [
            "23/23 [==============================] - 1s 4ms/step\n"
          ]
        }
      ],
      "source": [
        "y_pred_Seq2SeqLSTM = modelSeq2SeqLSTM.predict(X_test_3D)[:, -1]"
      ]
    },
    {
      "cell_type": "code",
      "execution_count": null,
      "metadata": {
        "id": "s3mwiKubbd80",
        "colab": {
          "base_uri": "https://localhost:8080/",
          "height": 320
        },
        "outputId": "d7b0ee7f-4264-40dc-e467-94cf642fe48e"
      },
      "outputs": [
        {
          "output_type": "display_data",
          "data": {
            "text/plain": [
              "<Figure size 720x360 with 1 Axes>"
            ],
            "image/png": "[encoded data removed]"
          },
          "metadata": {
            "needs_background": "light"
          }
        }
      ],
      "source": [
        "plot_predictions((\"Target\", y_test),\n",
        "                 (\"Linear\", y_pred_linear),\n",
        "                 (\"RNN Seq2Seq LSTM\", y_pred_Seq2SeqLSTM),\n",
        "                 end=365)"
      ]
    },
    {
      "cell_type": "markdown",
      "metadata": {
        "id": "q1gQG0h5bd81"
      },
      "source": [
        "## 3.2) Add $\\ell_2$ regularization\n",
        "\n",
        "Add $\\ell_2$ regularization to your RNN, using the layers' `kernel_regularizer` and `recurrent_regularizer` arguments, and the `l2()` function in `keras.regularizers`. Tip: use the `partial()` function in the `functools` package to avoid repeating the same arguments again and again.\n",
        "\n",
        "[More information on $\\ell_1$ and $\\ell_2$ regularization](https://inside-machinelearning.com/regularization-deep-learning/)"
      ]
    },
    {
      "cell_type": "code",
      "execution_count": null,
      "metadata": {
        "id": "9O8SZNHFbd81"
      },
      "outputs": [],
      "source": [
        "from functools import partial"
      ]
    },
    {
      "cell_type": "code",
      "execution_count": null,
      "metadata": {
        "id": "wVO7OgzPbd84"
      },
      "outputs": [],
      "source": [
        "RegularizedLSTM = partial(keras.layers.LSTM,\n",
        "                          return_sequences=True,\n",
        "                          kernel_regularizer=keras.regularizers.l2(1e-4),\n",
        "                          recurrent_regularizer=keras.regularizers.l2(1e-4))\n",
        "\n",
        "#reg_lstm_layer = keras.layers.LSTM(units= 100,\n",
        "#                                   return_sequences=True,\n",
        "#                                   kernel_regularizer=keras.regularizers.l2(1e-4),\n",
        "#                                   recurrent_regularizer=keras.regularizers.l2(1e-4))"
      ]
    },
    {
      "cell_type": "code",
      "execution_count": null,
      "metadata": {
        "id": "e_52B2n8bd85"
      },
      "outputs": [],
      "source": [
        "modelSeq2SeqLSTM_reg = keras.models.Sequential()\n",
        "modelSeq2SeqLSTM_reg.add(RegularizedLSTM(100, input_shape=input_shape))\n",
        "modelSeq2SeqLSTM_reg.add(RegularizedLSTM(100))\n",
        "modelSeq2SeqLSTM_reg.add(keras.layers.Dense(1))\n",
        "modelSeq2SeqLSTM_reg.compile(loss=huber_loss, \n",
        "                             optimizer=keras.optimizers.SGD(learning_rate=0.01),\n",
        "                             metrics=[mae_last_step])"
      ]
    },
    {
      "cell_type": "code",
      "execution_count": null,
      "metadata": {
        "id": "gmzcg_nmbd87",
        "colab": {
          "base_uri": "https://localhost:8080/"
        },
        "outputId": "c2934b0f-a8a4-4671-9c2d-c6164bc85676"
      },
      "outputs": [
        {
          "output_type": "stream",
          "name": "stdout",
          "text": [
            "Epoch 1/200\n",
            "22/22 [==============================] - 5s 87ms/step - loss: 7.3886 - mae_last_step: 7.2022 - val_loss: 5.0470 - val_mae_last_step: 5.1273\n",
            "Epoch 2/200\n",
            "22/22 [==============================] - 0s 11ms/step - loss: 3.8186 - mae_last_step: 3.5906 - val_loss: 3.0520 - val_mae_last_step: 3.1021\n",
            "Epoch 3/200\n",
            "22/22 [==============================] - 0s 11ms/step - loss: 3.1362 - mae_last_step: 3.1002 - val_loss: 2.8476 - val_mae_last_step: 2.9494\n",
            "Epoch 4/200\n",
            "22/22 [==============================] - 0s 10ms/step - loss: 3.0401 - mae_last_step: 3.0677 - val_loss: 2.7674 - val_mae_last_step: 2.8835\n",
            "Epoch 5/200\n",
            "22/22 [==============================] - 0s 11ms/step - loss: 2.9196 - mae_last_step: 2.9336 - val_loss: 2.6098 - val_mae_last_step: 2.6844\n",
            "Epoch 6/200\n",
            "22/22 [==============================] - 0s 10ms/step - loss: 2.6972 - mae_last_step: 2.6562 - val_loss: 2.4932 - val_mae_last_step: 2.7528\n",
            "Epoch 7/200\n",
            "22/22 [==============================] - 0s 11ms/step - loss: 2.5544 - mae_last_step: 2.5567 - val_loss: 2.2725 - val_mae_last_step: 2.3075\n",
            "Epoch 8/200\n",
            "22/22 [==============================] - 0s 10ms/step - loss: 2.4456 - mae_last_step: 2.4630 - val_loss: 2.2432 - val_mae_last_step: 2.3982\n",
            "Epoch 9/200\n",
            "22/22 [==============================] - 0s 11ms/step - loss: 2.3750 - mae_last_step: 2.4225 - val_loss: 2.1854 - val_mae_last_step: 2.2854\n",
            "Epoch 10/200\n",
            "22/22 [==============================] - 0s 11ms/step - loss: 2.3076 - mae_last_step: 2.3627 - val_loss: 2.1759 - val_mae_last_step: 2.3548\n",
            "Epoch 11/200\n",
            "22/22 [==============================] - 0s 10ms/step - loss: 2.2864 - mae_last_step: 2.3613 - val_loss: 2.1709 - val_mae_last_step: 2.2675\n",
            "Epoch 12/200\n",
            "22/22 [==============================] - 0s 11ms/step - loss: 2.2381 - mae_last_step: 2.3212 - val_loss: 2.1376 - val_mae_last_step: 2.2636\n",
            "Epoch 13/200\n",
            "22/22 [==============================] - 0s 13ms/step - loss: 2.2296 - mae_last_step: 2.3149 - val_loss: 2.1179 - val_mae_last_step: 2.2934\n",
            "Epoch 14/200\n",
            "22/22 [==============================] - 0s 11ms/step - loss: 2.2319 - mae_last_step: 2.3474 - val_loss: 2.1154 - val_mae_last_step: 2.2648\n",
            "Epoch 15/200\n",
            "22/22 [==============================] - 0s 11ms/step - loss: 2.1987 - mae_last_step: 2.3303 - val_loss: 2.0899 - val_mae_last_step: 2.2722\n",
            "Epoch 16/200\n",
            "22/22 [==============================] - 0s 12ms/step - loss: 2.1917 - mae_last_step: 2.3134 - val_loss: 2.1276 - val_mae_last_step: 2.3958\n",
            "Epoch 17/200\n",
            "22/22 [==============================] - 0s 12ms/step - loss: 2.1759 - mae_last_step: 2.3238 - val_loss: 2.0736 - val_mae_last_step: 2.2720\n",
            "Epoch 18/200\n",
            "22/22 [==============================] - 0s 11ms/step - loss: 2.1711 - mae_last_step: 2.3104 - val_loss: 2.0806 - val_mae_last_step: 2.3237\n",
            "Epoch 19/200\n",
            "22/22 [==============================] - 0s 10ms/step - loss: 2.1533 - mae_last_step: 2.3021 - val_loss: 2.0796 - val_mae_last_step: 2.3341\n",
            "Epoch 20/200\n",
            "22/22 [==============================] - 0s 11ms/step - loss: 2.1450 - mae_last_step: 2.2948 - val_loss: 2.0574 - val_mae_last_step: 2.2876\n",
            "Epoch 21/200\n",
            "22/22 [==============================] - 0s 11ms/step - loss: 2.1417 - mae_last_step: 2.3021 - val_loss: 2.0527 - val_mae_last_step: 2.2992\n",
            "Epoch 22/200\n",
            "22/22 [==============================] - 0s 11ms/step - loss: 2.1375 - mae_last_step: 2.3212 - val_loss: 2.0550 - val_mae_last_step: 2.2720\n",
            "Epoch 23/200\n",
            "22/22 [==============================] - 0s 11ms/step - loss: 2.1327 - mae_last_step: 2.3050 - val_loss: 2.0588 - val_mae_last_step: 2.3278\n",
            "Epoch 24/200\n",
            "22/22 [==============================] - 0s 10ms/step - loss: 2.1243 - mae_last_step: 2.3154 - val_loss: 2.0321 - val_mae_last_step: 2.2655\n",
            "Epoch 25/200\n",
            "22/22 [==============================] - 0s 11ms/step - loss: 2.1169 - mae_last_step: 2.3023 - val_loss: 2.0317 - val_mae_last_step: 2.2891\n",
            "Epoch 26/200\n",
            "22/22 [==============================] - 0s 11ms/step - loss: 2.1117 - mae_last_step: 2.3001 - val_loss: 2.0226 - val_mae_last_step: 2.2791\n",
            "Epoch 27/200\n",
            "22/22 [==============================] - 0s 10ms/step - loss: 2.0982 - mae_last_step: 2.2915 - val_loss: 2.0248 - val_mae_last_step: 2.2688\n",
            "Epoch 28/200\n",
            "22/22 [==============================] - 0s 11ms/step - loss: 2.0963 - mae_last_step: 2.2965 - val_loss: 2.0458 - val_mae_last_step: 2.3526\n",
            "Epoch 29/200\n",
            "22/22 [==============================] - 0s 10ms/step - loss: 2.0929 - mae_last_step: 2.3017 - val_loss: 2.0340 - val_mae_last_step: 2.3307\n",
            "Epoch 30/200\n",
            "22/22 [==============================] - 0s 11ms/step - loss: 2.0900 - mae_last_step: 2.3088 - val_loss: 2.0195 - val_mae_last_step: 2.2776\n",
            "Epoch 31/200\n",
            "22/22 [==============================] - 0s 11ms/step - loss: 2.0806 - mae_last_step: 2.2998 - val_loss: 2.0004 - val_mae_last_step: 2.2667\n",
            "Epoch 32/200\n",
            "22/22 [==============================] - 0s 12ms/step - loss: 2.0835 - mae_last_step: 2.3158 - val_loss: 1.9935 - val_mae_last_step: 2.2652\n",
            "Epoch 33/200\n",
            "22/22 [==============================] - 0s 10ms/step - loss: 2.0793 - mae_last_step: 2.2813 - val_loss: 1.9919 - val_mae_last_step: 2.2656\n",
            "Epoch 34/200\n",
            "22/22 [==============================] - 0s 11ms/step - loss: 2.0747 - mae_last_step: 2.3115 - val_loss: 1.9912 - val_mae_last_step: 2.2717\n",
            "Epoch 35/200\n",
            "22/22 [==============================] - 0s 11ms/step - loss: 2.0743 - mae_last_step: 2.3061 - val_loss: 1.9863 - val_mae_last_step: 2.2659\n",
            "Epoch 36/200\n",
            "22/22 [==============================] - 0s 12ms/step - loss: 2.0646 - mae_last_step: 2.3014 - val_loss: 1.9995 - val_mae_last_step: 2.2864\n",
            "Epoch 37/200\n",
            "22/22 [==============================] - 0s 10ms/step - loss: 2.0674 - mae_last_step: 2.3017 - val_loss: 1.9861 - val_mae_last_step: 2.2830\n",
            "Epoch 38/200\n",
            "22/22 [==============================] - 0s 11ms/step - loss: 2.0570 - mae_last_step: 2.2870 - val_loss: 1.9982 - val_mae_last_step: 2.3210\n",
            "Epoch 39/200\n",
            "22/22 [==============================] - 0s 11ms/step - loss: 2.0626 - mae_last_step: 2.2895 - val_loss: 1.9799 - val_mae_last_step: 2.2761\n",
            "Epoch 40/200\n",
            "22/22 [==============================] - 0s 12ms/step - loss: 2.0607 - mae_last_step: 2.3199 - val_loss: 1.9788 - val_mae_last_step: 2.2700\n",
            "Epoch 41/200\n",
            "22/22 [==============================] - 0s 11ms/step - loss: 2.0617 - mae_last_step: 2.3146 - val_loss: 1.9851 - val_mae_last_step: 2.2813\n",
            "Epoch 42/200\n",
            "22/22 [==============================] - 0s 12ms/step - loss: 2.0503 - mae_last_step: 2.3174 - val_loss: 1.9840 - val_mae_last_step: 2.2869\n",
            "Epoch 43/200\n",
            "22/22 [==============================] - 0s 10ms/step - loss: 2.0502 - mae_last_step: 2.3034 - val_loss: 1.9632 - val_mae_last_step: 2.2637\n",
            "Epoch 44/200\n",
            "22/22 [==============================] - 0s 12ms/step - loss: 2.0403 - mae_last_step: 2.2964 - val_loss: 1.9852 - val_mae_last_step: 2.3033\n",
            "Epoch 45/200\n",
            "22/22 [==============================] - 0s 10ms/step - loss: 2.0475 - mae_last_step: 2.2973 - val_loss: 1.9931 - val_mae_last_step: 2.3330\n",
            "Epoch 46/200\n",
            "22/22 [==============================] - 0s 12ms/step - loss: 2.0423 - mae_last_step: 2.3078 - val_loss: 1.9866 - val_mae_last_step: 2.2980\n",
            "Epoch 47/200\n",
            "22/22 [==============================] - 0s 12ms/step - loss: 2.0458 - mae_last_step: 2.3065 - val_loss: 1.9539 - val_mae_last_step: 2.2616\n",
            "Epoch 48/200\n",
            "22/22 [==============================] - 0s 10ms/step - loss: 2.0325 - mae_last_step: 2.3035 - val_loss: 1.9708 - val_mae_last_step: 2.2849\n",
            "Epoch 49/200\n",
            "22/22 [==============================] - 0s 12ms/step - loss: 2.0292 - mae_last_step: 2.2823 - val_loss: 1.9518 - val_mae_last_step: 2.2624\n",
            "Epoch 50/200\n",
            "22/22 [==============================] - 0s 12ms/step - loss: 2.0343 - mae_last_step: 2.3076 - val_loss: 1.9752 - val_mae_last_step: 2.2982\n",
            "Epoch 51/200\n",
            "22/22 [==============================] - 0s 11ms/step - loss: 2.0354 - mae_last_step: 2.3075 - val_loss: 1.9929 - val_mae_last_step: 2.3102\n",
            "Epoch 52/200\n",
            "22/22 [==============================] - 0s 10ms/step - loss: 2.0293 - mae_last_step: 2.2855 - val_loss: 1.9436 - val_mae_last_step: 2.2622\n",
            "Epoch 53/200\n",
            "22/22 [==============================] - 0s 11ms/step - loss: 2.0180 - mae_last_step: 2.2802 - val_loss: 1.9471 - val_mae_last_step: 2.2693\n",
            "Epoch 54/200\n",
            "22/22 [==============================] - 0s 12ms/step - loss: 2.0290 - mae_last_step: 2.2904 - val_loss: 1.9438 - val_mae_last_step: 2.2622\n",
            "Epoch 55/200\n",
            "22/22 [==============================] - 0s 11ms/step - loss: 2.0214 - mae_last_step: 2.2846 - val_loss: 2.0579 - val_mae_last_step: 2.4395\n",
            "Epoch 56/200\n",
            "22/22 [==============================] - 0s 11ms/step - loss: 2.0270 - mae_last_step: 2.2912 - val_loss: 1.9379 - val_mae_last_step: 2.2600\n",
            "Epoch 57/200\n",
            "22/22 [==============================] - 0s 11ms/step - loss: 2.0179 - mae_last_step: 2.2944 - val_loss: 1.9371 - val_mae_last_step: 2.2615\n",
            "Epoch 58/200\n",
            "22/22 [==============================] - 0s 11ms/step - loss: 2.0065 - mae_last_step: 2.2938 - val_loss: 1.9352 - val_mae_last_step: 2.2615\n",
            "Epoch 59/200\n",
            "22/22 [==============================] - 0s 10ms/step - loss: 2.0165 - mae_last_step: 2.3130 - val_loss: 1.9346 - val_mae_last_step: 2.2672\n",
            "Epoch 60/200\n",
            "22/22 [==============================] - 0s 10ms/step - loss: 2.0117 - mae_last_step: 2.2895 - val_loss: 1.9338 - val_mae_last_step: 2.2696\n",
            "Epoch 61/200\n",
            "22/22 [==============================] - 0s 11ms/step - loss: 2.0134 - mae_last_step: 2.2921 - val_loss: 1.9306 - val_mae_last_step: 2.2598\n",
            "Epoch 62/200\n",
            "22/22 [==============================] - 0s 11ms/step - loss: 2.0152 - mae_last_step: 2.2941 - val_loss: 1.9499 - val_mae_last_step: 2.2903\n",
            "Epoch 63/200\n",
            "22/22 [==============================] - 0s 11ms/step - loss: 2.0131 - mae_last_step: 2.3079 - val_loss: 1.9288 - val_mae_last_step: 2.2813\n",
            "Epoch 64/200\n",
            "22/22 [==============================] - 0s 10ms/step - loss: 2.0013 - mae_last_step: 2.2840 - val_loss: 1.9496 - val_mae_last_step: 2.2852\n",
            "Epoch 65/200\n",
            "22/22 [==============================] - 0s 11ms/step - loss: 2.0098 - mae_last_step: 2.2934 - val_loss: 1.9255 - val_mae_last_step: 2.2649\n",
            "Epoch 66/200\n",
            "22/22 [==============================] - 0s 11ms/step - loss: 2.0069 - mae_last_step: 2.3061 - val_loss: 1.9274 - val_mae_last_step: 2.2612\n",
            "Epoch 67/200\n",
            "22/22 [==============================] - 0s 11ms/step - loss: 2.0141 - mae_last_step: 2.2999 - val_loss: 1.9245 - val_mae_last_step: 2.2656\n",
            "Epoch 68/200\n",
            "22/22 [==============================] - 0s 10ms/step - loss: 1.9947 - mae_last_step: 2.2665 - val_loss: 1.9308 - val_mae_last_step: 2.2815\n",
            "Epoch 69/200\n",
            "22/22 [==============================] - 0s 10ms/step - loss: 2.0111 - mae_last_step: 2.2895 - val_loss: 1.9263 - val_mae_last_step: 2.2684\n",
            "Epoch 70/200\n",
            "22/22 [==============================] - 0s 11ms/step - loss: 1.9965 - mae_last_step: 2.2901 - val_loss: 1.9199 - val_mae_last_step: 2.2589\n",
            "Epoch 71/200\n",
            "22/22 [==============================] - 0s 11ms/step - loss: 1.9947 - mae_last_step: 2.2872 - val_loss: 1.9378 - val_mae_last_step: 2.3057\n",
            "Epoch 72/200\n",
            "22/22 [==============================] - 0s 10ms/step - loss: 2.0069 - mae_last_step: 2.2971 - val_loss: 1.9186 - val_mae_last_step: 2.2835\n",
            "Epoch 73/200\n",
            "22/22 [==============================] - 0s 10ms/step - loss: 1.9936 - mae_last_step: 2.2825 - val_loss: 1.9320 - val_mae_last_step: 2.3122\n",
            "Epoch 74/200\n",
            "22/22 [==============================] - 0s 11ms/step - loss: 1.9867 - mae_last_step: 2.2863 - val_loss: 1.9292 - val_mae_last_step: 2.2840\n",
            "Epoch 75/200\n",
            "22/22 [==============================] - 0s 11ms/step - loss: 1.9970 - mae_last_step: 2.2957 - val_loss: 1.9333 - val_mae_last_step: 2.2788\n",
            "Epoch 76/200\n",
            "22/22 [==============================] - 0s 10ms/step - loss: 1.9859 - mae_last_step: 2.2850 - val_loss: 1.9217 - val_mae_last_step: 2.2730\n",
            "Epoch 77/200\n",
            "22/22 [==============================] - 0s 11ms/step - loss: 1.9931 - mae_last_step: 2.2849 - val_loss: 1.9149 - val_mae_last_step: 2.2643\n",
            "Epoch 78/200\n",
            "22/22 [==============================] - 0s 12ms/step - loss: 1.9849 - mae_last_step: 2.2944 - val_loss: 1.9407 - val_mae_last_step: 2.2871\n",
            "Epoch 79/200\n",
            "22/22 [==============================] - 0s 10ms/step - loss: 1.9874 - mae_last_step: 2.2874 - val_loss: 1.9270 - val_mae_last_step: 2.2971\n",
            "Epoch 80/200\n",
            "22/22 [==============================] - 0s 10ms/step - loss: 1.9898 - mae_last_step: 2.3021 - val_loss: 1.9105 - val_mae_last_step: 2.2792\n",
            "Epoch 81/200\n",
            "22/22 [==============================] - 0s 10ms/step - loss: 1.9915 - mae_last_step: 2.2991 - val_loss: 1.9070 - val_mae_last_step: 2.2633\n",
            "Epoch 82/200\n",
            "22/22 [==============================] - 0s 11ms/step - loss: 1.9865 - mae_last_step: 2.2899 - val_loss: 1.9212 - val_mae_last_step: 2.2812\n",
            "Epoch 83/200\n",
            "22/22 [==============================] - 0s 10ms/step - loss: 1.9792 - mae_last_step: 2.2810 - val_loss: 1.9068 - val_mae_last_step: 2.2614\n",
            "Epoch 84/200\n",
            "22/22 [==============================] - 0s 11ms/step - loss: 1.9806 - mae_last_step: 2.2843 - val_loss: 1.9142 - val_mae_last_step: 2.2673\n",
            "Epoch 85/200\n",
            "22/22 [==============================] - 0s 12ms/step - loss: 1.9828 - mae_last_step: 2.2842 - val_loss: 1.9033 - val_mae_last_step: 2.2633\n",
            "Epoch 86/200\n",
            "22/22 [==============================] - 0s 10ms/step - loss: 1.9777 - mae_last_step: 2.2836 - val_loss: 1.9098 - val_mae_last_step: 2.2729\n",
            "Epoch 87/200\n",
            "22/22 [==============================] - 0s 11ms/step - loss: 1.9850 - mae_last_step: 2.2897 - val_loss: 1.9045 - val_mae_last_step: 2.2596\n",
            "Epoch 88/200\n",
            "22/22 [==============================] - 0s 11ms/step - loss: 1.9762 - mae_last_step: 2.2788 - val_loss: 1.9076 - val_mae_last_step: 2.2657\n",
            "Epoch 89/200\n",
            "22/22 [==============================] - 0s 11ms/step - loss: 1.9860 - mae_last_step: 2.3044 - val_loss: 1.8994 - val_mae_last_step: 2.2699\n",
            "Epoch 90/200\n",
            "22/22 [==============================] - 0s 11ms/step - loss: 1.9756 - mae_last_step: 2.2792 - val_loss: 1.9058 - val_mae_last_step: 2.2774\n",
            "Epoch 91/200\n",
            "22/22 [==============================] - 0s 11ms/step - loss: 1.9732 - mae_last_step: 2.2890 - val_loss: 1.8967 - val_mae_last_step: 2.2655\n",
            "Epoch 92/200\n",
            "22/22 [==============================] - 0s 18ms/step - loss: 1.9675 - mae_last_step: 2.2663 - val_loss: 1.8975 - val_mae_last_step: 2.2681\n",
            "Epoch 93/200\n",
            "22/22 [==============================] - 0s 20ms/step - loss: 1.9817 - mae_last_step: 2.2989 - val_loss: 1.9138 - val_mae_last_step: 2.2940\n",
            "Epoch 94/200\n",
            "22/22 [==============================] - 0s 20ms/step - loss: 1.9704 - mae_last_step: 2.2697 - val_loss: 1.8971 - val_mae_last_step: 2.2658\n",
            "Epoch 95/200\n",
            "22/22 [==============================] - 0s 17ms/step - loss: 1.9714 - mae_last_step: 2.2690 - val_loss: 1.9044 - val_mae_last_step: 2.2700\n",
            "Epoch 96/200\n",
            "22/22 [==============================] - 0s 11ms/step - loss: 1.9717 - mae_last_step: 2.2854 - val_loss: 1.8932 - val_mae_last_step: 2.2635\n",
            "Epoch 97/200\n",
            "22/22 [==============================] - 0s 12ms/step - loss: 1.9752 - mae_last_step: 2.2727 - val_loss: 1.9038 - val_mae_last_step: 2.2702\n",
            "Epoch 98/200\n",
            "22/22 [==============================] - 0s 11ms/step - loss: 1.9758 - mae_last_step: 2.2906 - val_loss: 1.8946 - val_mae_last_step: 2.2658\n",
            "Epoch 99/200\n",
            "22/22 [==============================] - 0s 12ms/step - loss: 1.9689 - mae_last_step: 2.2831 - val_loss: 1.8916 - val_mae_last_step: 2.2671\n",
            "Epoch 100/200\n",
            "22/22 [==============================] - 0s 11ms/step - loss: 1.9635 - mae_last_step: 2.2946 - val_loss: 1.8930 - val_mae_last_step: 2.2590\n",
            "Epoch 101/200\n",
            "22/22 [==============================] - 0s 11ms/step - loss: 1.9637 - mae_last_step: 2.2828 - val_loss: 1.8913 - val_mae_last_step: 2.2563\n",
            "Epoch 102/200\n",
            "22/22 [==============================] - 0s 10ms/step - loss: 1.9624 - mae_last_step: 2.2732 - val_loss: 1.9128 - val_mae_last_step: 2.2919\n",
            "Epoch 103/200\n",
            "22/22 [==============================] - 0s 10ms/step - loss: 1.9693 - mae_last_step: 2.2804 - val_loss: 1.9104 - val_mae_last_step: 2.3181\n",
            "Epoch 104/200\n",
            "22/22 [==============================] - 0s 10ms/step - loss: 1.9638 - mae_last_step: 2.2933 - val_loss: 1.9137 - val_mae_last_step: 2.2935\n",
            "Epoch 105/200\n",
            "22/22 [==============================] - 0s 11ms/step - loss: 1.9629 - mae_last_step: 2.2704 - val_loss: 1.9004 - val_mae_last_step: 2.2973\n",
            "Epoch 106/200\n",
            "22/22 [==============================] - 0s 11ms/step - loss: 1.9589 - mae_last_step: 2.2823 - val_loss: 1.8935 - val_mae_last_step: 2.2638\n",
            "Epoch 107/200\n",
            "22/22 [==============================] - 0s 10ms/step - loss: 1.9634 - mae_last_step: 2.2954 - val_loss: 1.8904 - val_mae_last_step: 2.2582\n",
            "Epoch 108/200\n",
            "22/22 [==============================] - 0s 10ms/step - loss: 1.9600 - mae_last_step: 2.2639 - val_loss: 1.9061 - val_mae_last_step: 2.2832\n",
            "Epoch 109/200\n",
            "22/22 [==============================] - 0s 12ms/step - loss: 1.9601 - mae_last_step: 2.2880 - val_loss: 1.9068 - val_mae_last_step: 2.3134\n",
            "Epoch 110/200\n",
            "22/22 [==============================] - 0s 11ms/step - loss: 1.9716 - mae_last_step: 2.2939 - val_loss: 1.9155 - val_mae_last_step: 2.3047\n",
            "Epoch 111/200\n",
            "22/22 [==============================] - 0s 11ms/step - loss: 1.9641 - mae_last_step: 2.2837 - val_loss: 1.8915 - val_mae_last_step: 2.2626\n",
            "Epoch 112/200\n",
            "22/22 [==============================] - 0s 11ms/step - loss: 1.9586 - mae_last_step: 2.2844 - val_loss: 1.8870 - val_mae_last_step: 2.2612\n",
            "Epoch 113/200\n",
            "22/22 [==============================] - 0s 10ms/step - loss: 1.9540 - mae_last_step: 2.2809 - val_loss: 1.8868 - val_mae_last_step: 2.2550\n",
            "Epoch 114/200\n",
            "22/22 [==============================] - 0s 11ms/step - loss: 1.9588 - mae_last_step: 2.2704 - val_loss: 1.9113 - val_mae_last_step: 2.2963\n",
            "Epoch 115/200\n",
            "22/22 [==============================] - 0s 11ms/step - loss: 1.9667 - mae_last_step: 2.2867 - val_loss: 1.8871 - val_mae_last_step: 2.2601\n",
            "Epoch 116/200\n",
            "22/22 [==============================] - 0s 10ms/step - loss: 1.9592 - mae_last_step: 2.2752 - val_loss: 1.9626 - val_mae_last_step: 2.3578\n",
            "Epoch 117/200\n",
            "22/22 [==============================] - 0s 11ms/step - loss: 1.9572 - mae_last_step: 2.2697 - val_loss: 1.8888 - val_mae_last_step: 2.2612\n",
            "Epoch 118/200\n",
            "22/22 [==============================] - 0s 12ms/step - loss: 1.9605 - mae_last_step: 2.2856 - val_loss: 1.8902 - val_mae_last_step: 2.2671\n",
            "Epoch 119/200\n",
            "22/22 [==============================] - 0s 11ms/step - loss: 1.9550 - mae_last_step: 2.2813 - val_loss: 1.8826 - val_mae_last_step: 2.2585\n",
            "Epoch 120/200\n",
            "22/22 [==============================] - 0s 10ms/step - loss: 1.9623 - mae_last_step: 2.2724 - val_loss: 1.8794 - val_mae_last_step: 2.2646\n",
            "Epoch 121/200\n",
            "22/22 [==============================] - 0s 10ms/step - loss: 1.9590 - mae_last_step: 2.2813 - val_loss: 1.8887 - val_mae_last_step: 2.2658\n",
            "Epoch 122/200\n",
            "22/22 [==============================] - 0s 11ms/step - loss: 1.9569 - mae_last_step: 2.2829 - val_loss: 1.9061 - val_mae_last_step: 2.2846\n",
            "Epoch 123/200\n",
            "22/22 [==============================] - 0s 11ms/step - loss: 1.9538 - mae_last_step: 2.2863 - val_loss: 1.8823 - val_mae_last_step: 2.2619\n",
            "Epoch 124/200\n",
            "22/22 [==============================] - 0s 11ms/step - loss: 1.9573 - mae_last_step: 2.2887 - val_loss: 1.9008 - val_mae_last_step: 2.2890\n",
            "Epoch 125/200\n",
            "22/22 [==============================] - 0s 10ms/step - loss: 1.9539 - mae_last_step: 2.2791 - val_loss: 1.8769 - val_mae_last_step: 2.2692\n",
            "Epoch 126/200\n",
            "22/22 [==============================] - 0s 12ms/step - loss: 1.9545 - mae_last_step: 2.2867 - val_loss: 1.8858 - val_mae_last_step: 2.2687\n",
            "Epoch 127/200\n",
            "22/22 [==============================] - 0s 11ms/step - loss: 1.9501 - mae_last_step: 2.2769 - val_loss: 1.9084 - val_mae_last_step: 2.3057\n",
            "Epoch 128/200\n",
            "22/22 [==============================] - 0s 12ms/step - loss: 1.9476 - mae_last_step: 2.2688 - val_loss: 1.8749 - val_mae_last_step: 2.2591\n",
            "Epoch 129/200\n",
            "22/22 [==============================] - 0s 11ms/step - loss: 1.9531 - mae_last_step: 2.3029 - val_loss: 1.8792 - val_mae_last_step: 2.2639\n",
            "Epoch 130/200\n",
            "22/22 [==============================] - 0s 11ms/step - loss: 1.9569 - mae_last_step: 2.2729 - val_loss: 1.8779 - val_mae_last_step: 2.2637\n",
            "Epoch 131/200\n",
            "22/22 [==============================] - 0s 11ms/step - loss: 1.9555 - mae_last_step: 2.2715 - val_loss: 1.8775 - val_mae_last_step: 2.2560\n",
            "Epoch 132/200\n",
            "22/22 [==============================] - 0s 10ms/step - loss: 1.9458 - mae_last_step: 2.2707 - val_loss: 1.8801 - val_mae_last_step: 2.2829\n",
            "Epoch 133/200\n",
            "22/22 [==============================] - 0s 11ms/step - loss: 1.9526 - mae_last_step: 2.2823 - val_loss: 1.8832 - val_mae_last_step: 2.2643\n",
            "Epoch 134/200\n",
            "22/22 [==============================] - 0s 11ms/step - loss: 1.9433 - mae_last_step: 2.2710 - val_loss: 1.8801 - val_mae_last_step: 2.2596\n",
            "Epoch 135/200\n",
            "22/22 [==============================] - 0s 12ms/step - loss: 1.9486 - mae_last_step: 2.2798 - val_loss: 1.8713 - val_mae_last_step: 2.2587\n",
            "Epoch 136/200\n",
            "22/22 [==============================] - 0s 14ms/step - loss: 1.9455 - mae_last_step: 2.2679 - val_loss: 1.8730 - val_mae_last_step: 2.2760\n",
            "Epoch 137/200\n",
            "22/22 [==============================] - 0s 14ms/step - loss: 1.9474 - mae_last_step: 2.2701 - val_loss: 1.8720 - val_mae_last_step: 2.2645\n",
            "Epoch 138/200\n",
            "22/22 [==============================] - 0s 14ms/step - loss: 1.9513 - mae_last_step: 2.2904 - val_loss: 1.9385 - val_mae_last_step: 2.3388\n",
            "Epoch 139/200\n",
            "22/22 [==============================] - 0s 14ms/step - loss: 1.9477 - mae_last_step: 2.2875 - val_loss: 1.8855 - val_mae_last_step: 2.2783\n",
            "Epoch 140/200\n",
            "22/22 [==============================] - 0s 14ms/step - loss: 1.9482 - mae_last_step: 2.2840 - val_loss: 1.8760 - val_mae_last_step: 2.2584\n",
            "Epoch 141/200\n",
            "22/22 [==============================] - 0s 14ms/step - loss: 1.9436 - mae_last_step: 2.2698 - val_loss: 1.8740 - val_mae_last_step: 2.2569\n",
            "Epoch 142/200\n",
            "22/22 [==============================] - 0s 15ms/step - loss: 1.9405 - mae_last_step: 2.2813 - val_loss: 1.8841 - val_mae_last_step: 2.2805\n",
            "Epoch 143/200\n",
            "22/22 [==============================] - 0s 14ms/step - loss: 1.9410 - mae_last_step: 2.2634 - val_loss: 1.8747 - val_mae_last_step: 2.2628\n",
            "Epoch 144/200\n",
            "22/22 [==============================] - 0s 11ms/step - loss: 1.9408 - mae_last_step: 2.2768 - val_loss: 1.8908 - val_mae_last_step: 2.2893\n",
            "Epoch 145/200\n",
            "22/22 [==============================] - 0s 11ms/step - loss: 1.9457 - mae_last_step: 2.2929 - val_loss: 1.8701 - val_mae_last_step: 2.2595\n",
            "Epoch 146/200\n",
            "22/22 [==============================] - 0s 10ms/step - loss: 1.9382 - mae_last_step: 2.2731 - val_loss: 1.8843 - val_mae_last_step: 2.2806\n",
            "Epoch 147/200\n",
            "22/22 [==============================] - 0s 11ms/step - loss: 1.9411 - mae_last_step: 2.2782 - val_loss: 1.8764 - val_mae_last_step: 2.2688\n",
            "Epoch 148/200\n",
            "22/22 [==============================] - 0s 11ms/step - loss: 1.9450 - mae_last_step: 2.2748 - val_loss: 1.8726 - val_mae_last_step: 2.2584\n",
            "Epoch 149/200\n",
            "22/22 [==============================] - 0s 11ms/step - loss: 1.9449 - mae_last_step: 2.2857 - val_loss: 1.8711 - val_mae_last_step: 2.2564\n",
            "Epoch 150/200\n",
            "22/22 [==============================] - 0s 11ms/step - loss: 1.9388 - mae_last_step: 2.2633 - val_loss: 1.8672 - val_mae_last_step: 2.2600\n",
            "Epoch 151/200\n",
            "22/22 [==============================] - 0s 10ms/step - loss: 1.9395 - mae_last_step: 2.2708 - val_loss: 1.9631 - val_mae_last_step: 2.3867\n",
            "Epoch 152/200\n",
            "22/22 [==============================] - 0s 11ms/step - loss: 1.9485 - mae_last_step: 2.2717 - val_loss: 1.8683 - val_mae_last_step: 2.2603\n",
            "Epoch 153/200\n",
            "22/22 [==============================] - 0s 11ms/step - loss: 1.9382 - mae_last_step: 2.2786 - val_loss: 1.8717 - val_mae_last_step: 2.2601\n",
            "Epoch 154/200\n",
            "22/22 [==============================] - 0s 13ms/step - loss: 1.9356 - mae_last_step: 2.2706 - val_loss: 1.8864 - val_mae_last_step: 2.3006\n",
            "Epoch 155/200\n",
            "22/22 [==============================] - 0s 10ms/step - loss: 1.9384 - mae_last_step: 2.2762 - val_loss: 1.8902 - val_mae_last_step: 2.3203\n",
            "Epoch 156/200\n",
            "22/22 [==============================] - 0s 11ms/step - loss: 1.9467 - mae_last_step: 2.2760 - val_loss: 1.8676 - val_mae_last_step: 2.2582\n",
            "Epoch 157/200\n",
            "22/22 [==============================] - 0s 10ms/step - loss: 1.9427 - mae_last_step: 2.2856 - val_loss: 1.8647 - val_mae_last_step: 2.2646\n",
            "Epoch 158/200\n",
            "22/22 [==============================] - 0s 11ms/step - loss: 1.9373 - mae_last_step: 2.2711 - val_loss: 1.8645 - val_mae_last_step: 2.2618\n",
            "Epoch 159/200\n",
            "22/22 [==============================] - 0s 14ms/step - loss: 1.9406 - mae_last_step: 2.2786 - val_loss: 1.8663 - val_mae_last_step: 2.2576\n",
            "Epoch 160/200\n",
            "22/22 [==============================] - 0s 19ms/step - loss: 1.9441 - mae_last_step: 2.2868 - val_loss: 1.8643 - val_mae_last_step: 2.2560\n",
            "Epoch 161/200\n",
            "22/22 [==============================] - 0s 13ms/step - loss: 1.9457 - mae_last_step: 2.2912 - val_loss: 1.9530 - val_mae_last_step: 2.3946\n",
            "Epoch 162/200\n",
            "22/22 [==============================] - 0s 11ms/step - loss: 1.9369 - mae_last_step: 2.2847 - val_loss: 1.8689 - val_mae_last_step: 2.2540\n",
            "Epoch 163/200\n",
            "22/22 [==============================] - 0s 11ms/step - loss: 1.9380 - mae_last_step: 2.2855 - val_loss: 1.8695 - val_mae_last_step: 2.2650\n",
            "Epoch 164/200\n",
            "22/22 [==============================] - 0s 11ms/step - loss: 1.9369 - mae_last_step: 2.2661 - val_loss: 1.8801 - val_mae_last_step: 2.2862\n",
            "Epoch 165/200\n",
            "22/22 [==============================] - 0s 20ms/step - loss: 1.9367 - mae_last_step: 2.2701 - val_loss: 1.9289 - val_mae_last_step: 2.3467\n",
            "Epoch 166/200\n",
            "22/22 [==============================] - 0s 16ms/step - loss: 1.9408 - mae_last_step: 2.2829 - val_loss: 1.8796 - val_mae_last_step: 2.2903\n",
            "Epoch 167/200\n",
            "22/22 [==============================] - 0s 17ms/step - loss: 1.9337 - mae_last_step: 2.2758 - val_loss: 1.8673 - val_mae_last_step: 2.2706\n",
            "Epoch 168/200\n",
            "22/22 [==============================] - 0s 12ms/step - loss: 1.9334 - mae_last_step: 2.2612 - val_loss: 1.8751 - val_mae_last_step: 2.2715\n",
            "Epoch 169/200\n",
            "22/22 [==============================] - 0s 11ms/step - loss: 1.9394 - mae_last_step: 2.2823 - val_loss: 1.8698 - val_mae_last_step: 2.2701\n",
            "Epoch 170/200\n",
            "22/22 [==============================] - 0s 15ms/step - loss: 1.9347 - mae_last_step: 2.2752 - val_loss: 1.9013 - val_mae_last_step: 2.3038\n",
            "Epoch 171/200\n",
            "22/22 [==============================] - 0s 17ms/step - loss: 1.9342 - mae_last_step: 2.2782 - val_loss: 1.9122 - val_mae_last_step: 2.3237\n",
            "Epoch 172/200\n",
            "22/22 [==============================] - 0s 21ms/step - loss: 1.9342 - mae_last_step: 2.2792 - val_loss: 1.8747 - val_mae_last_step: 2.2710\n",
            "Epoch 173/200\n",
            "22/22 [==============================] - 0s 11ms/step - loss: 1.9342 - mae_last_step: 2.2744 - val_loss: 1.8645 - val_mae_last_step: 2.2730\n",
            "Epoch 174/200\n",
            "22/22 [==============================] - 0s 11ms/step - loss: 1.9316 - mae_last_step: 2.2600 - val_loss: 1.8617 - val_mae_last_step: 2.2568\n",
            "Epoch 175/200\n",
            "22/22 [==============================] - 0s 11ms/step - loss: 1.9295 - mae_last_step: 2.2692 - val_loss: 1.8697 - val_mae_last_step: 2.2772\n",
            "Epoch 176/200\n",
            "22/22 [==============================] - 0s 11ms/step - loss: 1.9298 - mae_last_step: 2.2811 - val_loss: 1.8685 - val_mae_last_step: 2.2864\n",
            "Epoch 177/200\n",
            "22/22 [==============================] - 0s 12ms/step - loss: 1.9326 - mae_last_step: 2.2655 - val_loss: 1.8662 - val_mae_last_step: 2.2643\n",
            "Epoch 178/200\n",
            "22/22 [==============================] - 0s 11ms/step - loss: 1.9383 - mae_last_step: 2.2800 - val_loss: 1.8649 - val_mae_last_step: 2.2632\n",
            "Epoch 179/200\n",
            "22/22 [==============================] - 0s 11ms/step - loss: 1.9322 - mae_last_step: 2.2781 - val_loss: 1.8810 - val_mae_last_step: 2.2789\n",
            "Epoch 180/200\n",
            "22/22 [==============================] - 0s 10ms/step - loss: 1.9302 - mae_last_step: 2.2803 - val_loss: 1.8627 - val_mae_last_step: 2.2584\n",
            "Epoch 181/200\n",
            "22/22 [==============================] - 0s 11ms/step - loss: 1.9341 - mae_last_step: 2.2800 - val_loss: 1.8690 - val_mae_last_step: 2.2642\n",
            "Epoch 182/200\n",
            "22/22 [==============================] - 0s 11ms/step - loss: 1.9291 - mae_last_step: 2.2634 - val_loss: 1.8627 - val_mae_last_step: 2.2551\n",
            "Epoch 183/200\n",
            "22/22 [==============================] - 0s 11ms/step - loss: 1.9291 - mae_last_step: 2.2669 - val_loss: 1.8680 - val_mae_last_step: 2.2584\n",
            "Epoch 184/200\n",
            "22/22 [==============================] - 0s 11ms/step - loss: 1.9369 - mae_last_step: 2.2742 - val_loss: 1.8705 - val_mae_last_step: 2.2819\n",
            "Epoch 185/200\n",
            "22/22 [==============================] - 0s 11ms/step - loss: 1.9266 - mae_last_step: 2.2745 - val_loss: 1.8605 - val_mae_last_step: 2.2751\n",
            "Epoch 186/200\n",
            "22/22 [==============================] - 0s 11ms/step - loss: 1.9361 - mae_last_step: 2.2849 - val_loss: 1.8633 - val_mae_last_step: 2.2544\n",
            "Epoch 187/200\n",
            "22/22 [==============================] - 0s 11ms/step - loss: 1.9285 - mae_last_step: 2.2685 - val_loss: 1.8627 - val_mae_last_step: 2.2558\n",
            "Epoch 188/200\n",
            "22/22 [==============================] - 0s 11ms/step - loss: 1.9353 - mae_last_step: 2.2738 - val_loss: 1.8626 - val_mae_last_step: 2.2718\n",
            "Epoch 189/200\n",
            "22/22 [==============================] - 0s 11ms/step - loss: 1.9280 - mae_last_step: 2.2793 - val_loss: 1.8634 - val_mae_last_step: 2.2555\n",
            "Epoch 190/200\n",
            "22/22 [==============================] - 0s 11ms/step - loss: 1.9339 - mae_last_step: 2.2840 - val_loss: 1.9054 - val_mae_last_step: 2.3445\n",
            "Epoch 191/200\n",
            "22/22 [==============================] - 0s 10ms/step - loss: 1.9338 - mae_last_step: 2.2714 - val_loss: 1.8575 - val_mae_last_step: 2.2591\n",
            "Epoch 192/200\n",
            "22/22 [==============================] - 0s 11ms/step - loss: 1.9264 - mae_last_step: 2.2697 - val_loss: 1.8669 - val_mae_last_step: 2.2794\n",
            "Epoch 193/200\n",
            "22/22 [==============================] - 0s 12ms/step - loss: 1.9333 - mae_last_step: 2.2759 - val_loss: 1.8559 - val_mae_last_step: 2.2554\n",
            "Epoch 194/200\n",
            "22/22 [==============================] - 0s 11ms/step - loss: 1.9289 - mae_last_step: 2.2727 - val_loss: 1.8593 - val_mae_last_step: 2.2541\n",
            "Epoch 195/200\n",
            "22/22 [==============================] - 0s 10ms/step - loss: 1.9272 - mae_last_step: 2.2650 - val_loss: 1.8599 - val_mae_last_step: 2.2557\n",
            "Epoch 196/200\n",
            "22/22 [==============================] - 0s 10ms/step - loss: 1.9356 - mae_last_step: 2.2971 - val_loss: 1.8686 - val_mae_last_step: 2.2616\n",
            "Epoch 197/200\n",
            "22/22 [==============================] - 0s 11ms/step - loss: 1.9281 - mae_last_step: 2.2600 - val_loss: 1.8565 - val_mae_last_step: 2.2602\n",
            "Epoch 198/200\n",
            "22/22 [==============================] - 0s 12ms/step - loss: 1.9280 - mae_last_step: 2.2739 - val_loss: 1.8656 - val_mae_last_step: 2.2807\n",
            "Epoch 199/200\n",
            "22/22 [==============================] - 0s 11ms/step - loss: 1.9256 - mae_last_step: 2.2794 - val_loss: 1.8606 - val_mae_last_step: 2.2588\n",
            "Epoch 200/200\n",
            "22/22 [==============================] - 0s 10ms/step - loss: 1.9254 - mae_last_step: 2.2697 - val_loss: 1.8664 - val_mae_last_step: 2.2656\n"
          ]
        }
      ],
      "source": [
        "historySeq2SeqLSTM_reg = modelSeq2SeqLSTM_reg.fit(X_train_3D, \n",
        "                                    Y_train_3D, \n",
        "                                    epochs=200, \n",
        "                                    batch_size=100,\n",
        "                                    validation_data=(X_valid_3D, Y_valid_3D))"
      ]
    },
    {
      "cell_type": "code",
      "execution_count": null,
      "metadata": {
        "id": "J9KnkKExbd88",
        "colab": {
          "base_uri": "https://localhost:8080/"
        },
        "outputId": "c88866e4-c817-4296-c92d-2e8ed6e2aed8"
      },
      "outputs": [
        {
          "output_type": "stream",
          "name": "stdout",
          "text": [
            "23/23 [==============================] - 0s 4ms/step - loss: 1.7941 - mae_last_step: 2.1227\n"
          ]
        },
        {
          "output_type": "execute_result",
          "data": {
            "text/plain": [
              "[1.794054627418518, 2.1226987838745117]"
            ]
          },
          "metadata": {},
          "execution_count": 84
        }
      ],
      "source": [
        "score_seq2seq_LSTM_reg = modelSeq2SeqLSTM_reg.evaluate(X_test_3D, Y_test_3D)\n",
        "score_seq2seq_LSTM_reg"
      ]
    },
    {
      "cell_type": "code",
      "execution_count": null,
      "metadata": {
        "id": "xpqma3MCbd8-",
        "colab": {
          "base_uri": "https://localhost:8080/",
          "height": 265
        },
        "outputId": "fcf0ccb7-55bc-4176-9276-acabb296f711"
      },
      "outputs": [
        {
          "output_type": "display_data",
          "data": {
            "text/plain": [
              "<Figure size 432x288 with 1 Axes>"
            ],
            "image/png": "[encoded data removed]"
          },
          "metadata": {
            "needs_background": "light"
          }
        }
      ],
      "source": [
        "plot_history(historySeq2SeqLSTM_reg)"
      ]
    },
    {
      "cell_type": "code",
      "execution_count": null,
      "metadata": {
        "id": "jG64P6tDbd8_",
        "colab": {
          "base_uri": "https://localhost:8080/"
        },
        "outputId": "6b9724dd-cb5b-46d1-f955-cef24620ec34"
      },
      "outputs": [
        {
          "output_type": "stream",
          "name": "stdout",
          "text": [
            "23/23 [==============================] - 1s 4ms/step\n"
          ]
        }
      ],
      "source": [
        "y_pred_seq2seq_lstm_reg = modelSeq2SeqLSTM_reg.predict(X_test_3D)[:, -1]"
      ]
    },
    {
      "cell_type": "code",
      "execution_count": null,
      "metadata": {
        "id": "yURlOeycbd9C",
        "colab": {
          "base_uri": "https://localhost:8080/",
          "height": 320
        },
        "outputId": "66056be5-a7fd-46a6-d093-6142124a4931"
      },
      "outputs": [
        {
          "output_type": "display_data",
          "data": {
            "text/plain": [
              "<Figure size 720x360 with 1 Axes>"
            ],
            "image/png": "[encoded data removed]"
          },
          "metadata": {
            "needs_background": "light"
          }
        }
      ],
      "source": [
        "plot_predictions((\"Target\", y_test),\n",
        "                 (\"Linear\", y_pred_linear),\n",
        "                 (\"RNN\", y_pred_seq2seq_lstm_reg),\n",
        "                 end=365)"
      ]
    },
    {
      "cell_type": "markdown",
      "metadata": {
        "id": "qiqYzvnNbd9E"
      },
      "source": [
        "# 4 – Preprocessing with 1D-ConvNets\n",
        "\n",
        "At the beginning of your sequential model, add a `Conv1D` layer with 32 kernels of size 5, a `MaxPool1D` layer with pool size 5 and strides 2. Train and evaluate the model."
      ]
    },
    {
      "cell_type": "code",
      "execution_count": null,
      "metadata": {
        "id": "mYHSXjR6bd9E"
      },
      "outputs": [],
      "source": [
        "model_conv1D_lstm = keras.models.Sequential()\n",
        "model_conv1D_lstm.add(keras.layers.Conv1D(32, kernel_size=5, input_shape=input_shape))\n",
        "model_conv1D_lstm.add(keras.layers.MaxPool1D(pool_size=5, strides=2))\n",
        "model_conv1D_lstm.add(keras.layers.LSTM(32, return_sequences=True))\n",
        "model_conv1D_lstm.add(keras.layers.LSTM(32))\n",
        "model_conv1D_lstm.add(keras.layers.Dense(1))\n",
        "model_conv1D_lstm.compile(loss=huber_loss, optimizer=keras.optimizers.SGD(learning_rate=0.005))"
      ]
    },
    {
      "cell_type": "code",
      "execution_count": null,
      "metadata": {
        "id": "i69B2OXdbd9F",
        "colab": {
          "base_uri": "https://localhost:8080/"
        },
        "outputId": "f745deea-7ac2-41d6-c3cf-1751395781b0"
      },
      "outputs": [
        {
          "output_type": "stream",
          "name": "stdout",
          "text": [
            "Model: \"sequential_6\"\n",
            "_________________________________________________________________\n",
            " Layer (type)                Output Shape              Param #   \n",
            "=================================================================\n",
            " conv1d (Conv1D)             (None, 26, 32)            192       \n",
            "                                                                 \n",
            " max_pooling1d (MaxPooling1D  (None, 11, 32)           0         \n",
            " )                                                               \n",
            "                                                                 \n",
            " lstm_4 (LSTM)               (None, 11, 32)            8320      \n",
            "                                                                 \n",
            " lstm_5 (LSTM)               (None, 32)                8320      \n",
            "                                                                 \n",
            " dense_5 (Dense)             (None, 1)                 33        \n",
            "                                                                 \n",
            "=================================================================\n",
            "Total params: 16,865\n",
            "Trainable params: 16,865\n",
            "Non-trainable params: 0\n",
            "_________________________________________________________________\n"
          ]
        }
      ],
      "source": [
        "model_conv1D_lstm.summary()"
      ]
    },
    {
      "cell_type": "code",
      "execution_count": null,
      "metadata": {
        "id": "O3bCFRVJbd9H",
        "scrolled": true,
        "colab": {
          "base_uri": "https://localhost:8080/"
        },
        "outputId": "bbfbde69-610c-472f-f000-be0dcd9d9f49"
      },
      "outputs": [
        {
          "output_type": "stream",
          "name": "stdout",
          "text": [
            "Epoch 1/200\n",
            "22/22 [==============================] - 7s 50ms/step - loss: 9.6992 - val_loss: 9.1665\n",
            "Epoch 2/200\n",
            "22/22 [==============================] - 0s 7ms/step - loss: 8.0356 - val_loss: 7.6793\n",
            "Epoch 3/200\n",
            "22/22 [==============================] - 0s 9ms/step - loss: 6.6212 - val_loss: 6.2328\n",
            "Epoch 4/200\n",
            "22/22 [==============================] - 0s 7ms/step - loss: 5.2584 - val_loss: 4.8277\n",
            "Epoch 5/200\n",
            "22/22 [==============================] - 0s 9ms/step - loss: 4.0884 - val_loss: 3.7310\n",
            "Epoch 6/200\n",
            "22/22 [==============================] - 0s 7ms/step - loss: 3.3315 - val_loss: 3.0561\n",
            "Epoch 7/200\n",
            "22/22 [==============================] - 0s 7ms/step - loss: 2.9413 - val_loss: 2.7192\n",
            "Epoch 8/200\n",
            "22/22 [==============================] - 0s 8ms/step - loss: 2.7518 - val_loss: 2.5379\n",
            "Epoch 9/200\n",
            "22/22 [==============================] - 0s 7ms/step - loss: 2.6233 - val_loss: 2.4060\n",
            "Epoch 10/200\n",
            "22/22 [==============================] - 0s 9ms/step - loss: 2.5591 - val_loss: 2.4077\n",
            "Epoch 11/200\n",
            "22/22 [==============================] - 0s 8ms/step - loss: 2.4900 - val_loss: 2.2791\n",
            "Epoch 12/200\n",
            "22/22 [==============================] - 0s 7ms/step - loss: 2.4232 - val_loss: 2.2568\n",
            "Epoch 13/200\n",
            "22/22 [==============================] - 0s 7ms/step - loss: 2.3830 - val_loss: 2.2120\n",
            "Epoch 14/200\n",
            "22/22 [==============================] - 0s 7ms/step - loss: 2.3341 - val_loss: 2.2294\n",
            "Epoch 15/200\n",
            "22/22 [==============================] - 0s 7ms/step - loss: 2.2137 - val_loss: 1.9881\n",
            "Epoch 16/200\n",
            "22/22 [==============================] - 0s 7ms/step - loss: 2.2023 - val_loss: 1.9938\n",
            "Epoch 17/200\n",
            "22/22 [==============================] - 0s 8ms/step - loss: 2.1666 - val_loss: 1.9211\n",
            "Epoch 18/200\n",
            "22/22 [==============================] - 0s 9ms/step - loss: 2.0858 - val_loss: 1.9087\n",
            "Epoch 19/200\n",
            "22/22 [==============================] - 0s 9ms/step - loss: 2.1198 - val_loss: 2.0372\n",
            "Epoch 20/200\n",
            "22/22 [==============================] - 0s 7ms/step - loss: 2.0950 - val_loss: 1.8757\n",
            "Epoch 21/200\n",
            "22/22 [==============================] - 0s 7ms/step - loss: 2.0424 - val_loss: 1.9208\n",
            "Epoch 22/200\n",
            "22/22 [==============================] - 0s 7ms/step - loss: 2.0860 - val_loss: 1.8738\n",
            "Epoch 23/200\n",
            "22/22 [==============================] - 0s 8ms/step - loss: 2.0316 - val_loss: 1.8444\n",
            "Epoch 24/200\n",
            "22/22 [==============================] - 0s 7ms/step - loss: 1.9973 - val_loss: 1.8552\n",
            "Epoch 25/200\n",
            "22/22 [==============================] - 0s 7ms/step - loss: 1.9891 - val_loss: 1.8372\n",
            "Epoch 26/200\n",
            "22/22 [==============================] - 0s 8ms/step - loss: 1.9859 - val_loss: 1.8312\n",
            "Epoch 27/200\n",
            "22/22 [==============================] - 0s 7ms/step - loss: 1.9945 - val_loss: 1.8299\n",
            "Epoch 28/200\n",
            "22/22 [==============================] - 0s 7ms/step - loss: 1.9581 - val_loss: 1.8177\n",
            "Epoch 29/200\n",
            "22/22 [==============================] - 0s 10ms/step - loss: 1.9900 - val_loss: 1.8132\n",
            "Epoch 30/200\n",
            "22/22 [==============================] - 0s 7ms/step - loss: 1.9891 - val_loss: 1.8212\n",
            "Epoch 31/200\n",
            "22/22 [==============================] - 0s 7ms/step - loss: 1.9563 - val_loss: 1.8854\n",
            "Epoch 32/200\n",
            "22/22 [==============================] - 0s 9ms/step - loss: 1.9550 - val_loss: 1.8894\n",
            "Epoch 33/200\n",
            "22/22 [==============================] - 0s 7ms/step - loss: 1.9494 - val_loss: 1.8043\n",
            "Epoch 34/200\n",
            "22/22 [==============================] - 0s 7ms/step - loss: 1.9401 - val_loss: 1.8016\n",
            "Epoch 35/200\n",
            "22/22 [==============================] - 0s 8ms/step - loss: 1.9318 - val_loss: 1.8997\n",
            "Epoch 36/200\n",
            "22/22 [==============================] - 0s 8ms/step - loss: 1.9398 - val_loss: 1.8181\n",
            "Epoch 37/200\n",
            "22/22 [==============================] - 0s 7ms/step - loss: 1.9194 - val_loss: 1.7943\n",
            "Epoch 38/200\n",
            "22/22 [==============================] - 0s 8ms/step - loss: 1.9452 - val_loss: 1.8504\n",
            "Epoch 39/200\n",
            "22/22 [==============================] - 0s 8ms/step - loss: 1.9420 - val_loss: 1.8214\n",
            "Epoch 40/200\n",
            "22/22 [==============================] - 0s 8ms/step - loss: 1.9028 - val_loss: 1.8345\n",
            "Epoch 41/200\n",
            "22/22 [==============================] - 0s 9ms/step - loss: 1.9826 - val_loss: 1.9464\n",
            "Epoch 42/200\n",
            "22/22 [==============================] - 0s 8ms/step - loss: 1.9745 - val_loss: 1.8103\n",
            "Epoch 43/200\n",
            "22/22 [==============================] - 0s 7ms/step - loss: 1.9322 - val_loss: 1.8422\n",
            "Epoch 44/200\n",
            "22/22 [==============================] - 0s 7ms/step - loss: 1.9428 - val_loss: 1.9274\n",
            "Epoch 45/200\n",
            "22/22 [==============================] - 0s 7ms/step - loss: 1.9136 - val_loss: 1.8239\n",
            "Epoch 46/200\n",
            "22/22 [==============================] - 0s 8ms/step - loss: 1.9158 - val_loss: 1.8743\n",
            "Epoch 47/200\n",
            "22/22 [==============================] - 0s 8ms/step - loss: 1.8814 - val_loss: 1.8762\n",
            "Epoch 48/200\n",
            "22/22 [==============================] - 0s 8ms/step - loss: 1.9382 - val_loss: 1.8624\n",
            "Epoch 49/200\n",
            "22/22 [==============================] - 0s 9ms/step - loss: 1.9188 - val_loss: 1.8461\n",
            "Epoch 50/200\n",
            "22/22 [==============================] - 0s 8ms/step - loss: 1.9276 - val_loss: 1.8087\n",
            "Epoch 51/200\n",
            "22/22 [==============================] - 0s 8ms/step - loss: 1.9211 - val_loss: 1.8204\n",
            "Epoch 52/200\n",
            "22/22 [==============================] - 0s 8ms/step - loss: 1.9389 - val_loss: 1.8096\n",
            "Epoch 53/200\n",
            "22/22 [==============================] - 0s 7ms/step - loss: 1.9326 - val_loss: 1.7776\n",
            "Epoch 54/200\n",
            "22/22 [==============================] - 0s 8ms/step - loss: 1.9104 - val_loss: 1.9500\n",
            "Epoch 55/200\n",
            "22/22 [==============================] - 0s 8ms/step - loss: 1.9094 - val_loss: 1.7895\n",
            "Epoch 56/200\n",
            "22/22 [==============================] - 0s 7ms/step - loss: 1.8774 - val_loss: 1.8068\n",
            "Epoch 57/200\n",
            "22/22 [==============================] - 0s 9ms/step - loss: 1.9104 - val_loss: 1.8394\n",
            "Epoch 58/200\n",
            "22/22 [==============================] - 0s 8ms/step - loss: 1.9163 - val_loss: 1.7991\n",
            "Epoch 59/200\n",
            "22/22 [==============================] - 0s 9ms/step - loss: 1.8870 - val_loss: 1.7780\n",
            "Epoch 60/200\n",
            "22/22 [==============================] - 0s 10ms/step - loss: 1.8856 - val_loss: 1.7697\n",
            "Epoch 61/200\n",
            "22/22 [==============================] - 0s 8ms/step - loss: 1.8945 - val_loss: 1.7885\n",
            "Epoch 62/200\n",
            "22/22 [==============================] - 0s 8ms/step - loss: 1.9238 - val_loss: 1.7918\n",
            "Epoch 63/200\n",
            "22/22 [==============================] - 0s 8ms/step - loss: 1.8851 - val_loss: 1.8418\n",
            "Epoch 64/200\n",
            "22/22 [==============================] - 0s 9ms/step - loss: 1.9041 - val_loss: 1.7751\n",
            "Epoch 65/200\n",
            "22/22 [==============================] - 0s 8ms/step - loss: 1.8652 - val_loss: 1.8353\n",
            "Epoch 66/200\n",
            "22/22 [==============================] - 0s 7ms/step - loss: 1.9185 - val_loss: 1.8678\n",
            "Epoch 67/200\n",
            "22/22 [==============================] - 0s 8ms/step - loss: 1.8663 - val_loss: 1.9002\n",
            "Epoch 68/200\n",
            "22/22 [==============================] - 0s 9ms/step - loss: 1.8938 - val_loss: 1.7916\n",
            "Epoch 69/200\n",
            "22/22 [==============================] - 0s 7ms/step - loss: 1.8884 - val_loss: 1.7663\n",
            "Epoch 70/200\n",
            "22/22 [==============================] - 0s 9ms/step - loss: 1.8603 - val_loss: 1.8471\n",
            "Epoch 71/200\n",
            "22/22 [==============================] - 0s 8ms/step - loss: 1.9287 - val_loss: 1.7616\n",
            "Epoch 72/200\n",
            "22/22 [==============================] - 0s 7ms/step - loss: 1.8716 - val_loss: 1.7678\n",
            "Epoch 73/200\n",
            "22/22 [==============================] - 0s 9ms/step - loss: 1.8568 - val_loss: 2.2594\n",
            "Epoch 74/200\n",
            "22/22 [==============================] - 0s 10ms/step - loss: 1.8922 - val_loss: 1.7617\n",
            "Epoch 75/200\n",
            "22/22 [==============================] - 0s 9ms/step - loss: 1.8595 - val_loss: 1.7969\n",
            "Epoch 76/200\n",
            "22/22 [==============================] - 0s 9ms/step - loss: 1.8666 - val_loss: 1.7832\n",
            "Epoch 77/200\n",
            "22/22 [==============================] - 0s 7ms/step - loss: 1.9075 - val_loss: 1.8614\n",
            "Epoch 78/200\n",
            "22/22 [==============================] - 0s 7ms/step - loss: 1.8688 - val_loss: 2.2043\n",
            "Epoch 79/200\n",
            "22/22 [==============================] - 0s 10ms/step - loss: 1.8734 - val_loss: 1.8252\n",
            "Epoch 80/200\n",
            "22/22 [==============================] - 0s 7ms/step - loss: 1.8628 - val_loss: 1.7749\n",
            "Epoch 81/200\n",
            "22/22 [==============================] - 0s 8ms/step - loss: 1.8777 - val_loss: 1.7669\n",
            "Epoch 82/200\n",
            "22/22 [==============================] - 0s 9ms/step - loss: 1.8659 - val_loss: 1.7886\n",
            "Epoch 83/200\n",
            "22/22 [==============================] - 0s 7ms/step - loss: 1.8610 - val_loss: 1.7578\n",
            "Epoch 84/200\n",
            "22/22 [==============================] - 0s 7ms/step - loss: 1.8944 - val_loss: 1.7717\n",
            "Epoch 85/200\n",
            "22/22 [==============================] - 0s 8ms/step - loss: 1.8874 - val_loss: 1.7624\n",
            "Epoch 86/200\n",
            "22/22 [==============================] - 0s 8ms/step - loss: 1.8647 - val_loss: 2.0104\n",
            "Epoch 87/200\n",
            "22/22 [==============================] - 0s 9ms/step - loss: 1.8609 - val_loss: 1.7653\n",
            "Epoch 88/200\n",
            "22/22 [==============================] - 0s 8ms/step - loss: 1.8532 - val_loss: 2.4177\n",
            "Epoch 89/200\n",
            "22/22 [==============================] - 0s 7ms/step - loss: 1.8717 - val_loss: 1.9348\n",
            "Epoch 90/200\n",
            "22/22 [==============================] - 0s 9ms/step - loss: 1.8876 - val_loss: 1.7622\n",
            "Epoch 91/200\n",
            "22/22 [==============================] - 0s 8ms/step - loss: 1.8485 - val_loss: 1.7845\n",
            "Epoch 92/200\n",
            "22/22 [==============================] - 0s 10ms/step - loss: 1.8409 - val_loss: 1.8679\n",
            "Epoch 93/200\n",
            "22/22 [==============================] - 0s 9ms/step - loss: 1.8450 - val_loss: 1.7627\n",
            "Epoch 94/200\n",
            "22/22 [==============================] - 0s 8ms/step - loss: 1.8666 - val_loss: 1.7944\n",
            "Epoch 95/200\n",
            "22/22 [==============================] - 0s 7ms/step - loss: 1.8576 - val_loss: 1.8419\n",
            "Epoch 96/200\n",
            "22/22 [==============================] - 0s 7ms/step - loss: 1.8441 - val_loss: 1.7913\n",
            "Epoch 97/200\n",
            "22/22 [==============================] - 0s 8ms/step - loss: 1.8549 - val_loss: 1.8102\n",
            "Epoch 98/200\n",
            "22/22 [==============================] - 0s 7ms/step - loss: 1.8535 - val_loss: 1.8689\n",
            "Epoch 99/200\n",
            "22/22 [==============================] - 0s 9ms/step - loss: 1.8579 - val_loss: 2.3294\n",
            "Epoch 100/200\n",
            "22/22 [==============================] - 0s 8ms/step - loss: 1.8889 - val_loss: 1.7504\n",
            "Epoch 101/200\n",
            "22/22 [==============================] - 0s 8ms/step - loss: 1.8588 - val_loss: 1.8475\n",
            "Epoch 102/200\n",
            "22/22 [==============================] - 0s 8ms/step - loss: 1.8488 - val_loss: 1.7971\n",
            "Epoch 103/200\n",
            "22/22 [==============================] - 0s 7ms/step - loss: 1.8439 - val_loss: 1.7908\n",
            "Epoch 104/200\n",
            "22/22 [==============================] - 0s 7ms/step - loss: 1.8560 - val_loss: 1.7592\n",
            "Epoch 105/200\n",
            "22/22 [==============================] - 0s 7ms/step - loss: 1.8447 - val_loss: 1.9028\n",
            "Epoch 106/200\n",
            "22/22 [==============================] - 0s 7ms/step - loss: 1.8492 - val_loss: 1.8356\n",
            "Epoch 107/200\n",
            "22/22 [==============================] - 0s 8ms/step - loss: 1.8959 - val_loss: 1.7473\n",
            "Epoch 108/200\n",
            "22/22 [==============================] - 0s 8ms/step - loss: 1.8340 - val_loss: 1.7928\n",
            "Epoch 109/200\n",
            "22/22 [==============================] - 0s 8ms/step - loss: 1.8401 - val_loss: 1.7836\n",
            "Epoch 110/200\n",
            "22/22 [==============================] - 0s 7ms/step - loss: 1.8285 - val_loss: 1.8124\n",
            "Epoch 111/200\n",
            "22/22 [==============================] - 0s 7ms/step - loss: 1.8275 - val_loss: 1.7822\n",
            "Epoch 112/200\n",
            "22/22 [==============================] - 0s 8ms/step - loss: 1.8269 - val_loss: 1.7451\n",
            "Epoch 113/200\n",
            "22/22 [==============================] - 0s 8ms/step - loss: 1.8358 - val_loss: 1.8420\n",
            "Epoch 114/200\n",
            "22/22 [==============================] - 0s 7ms/step - loss: 1.8476 - val_loss: 1.7487\n",
            "Epoch 115/200\n",
            "22/22 [==============================] - 0s 7ms/step - loss: 1.8500 - val_loss: 1.7656\n",
            "Epoch 116/200\n",
            "22/22 [==============================] - 0s 7ms/step - loss: 1.8229 - val_loss: 1.7973\n",
            "Epoch 117/200\n",
            "22/22 [==============================] - 0s 9ms/step - loss: 1.8260 - val_loss: 1.9151\n",
            "Epoch 118/200\n",
            "22/22 [==============================] - 0s 8ms/step - loss: 1.8617 - val_loss: 1.8297\n",
            "Epoch 119/200\n",
            "22/22 [==============================] - 0s 8ms/step - loss: 1.8296 - val_loss: 1.7569\n",
            "Epoch 120/200\n",
            "22/22 [==============================] - 0s 10ms/step - loss: 1.8489 - val_loss: 1.7546\n",
            "Epoch 121/200\n",
            "22/22 [==============================] - 0s 9ms/step - loss: 1.8564 - val_loss: 1.7556\n",
            "Epoch 122/200\n",
            "22/22 [==============================] - 0s 7ms/step - loss: 1.8127 - val_loss: 1.8573\n",
            "Epoch 123/200\n",
            "22/22 [==============================] - 0s 7ms/step - loss: 1.8368 - val_loss: 1.9045\n",
            "Epoch 124/200\n",
            "22/22 [==============================] - 0s 8ms/step - loss: 1.8584 - val_loss: 1.7762\n",
            "Epoch 125/200\n",
            "22/22 [==============================] - 0s 7ms/step - loss: 1.8425 - val_loss: 1.8379\n",
            "Epoch 126/200\n",
            "22/22 [==============================] - 0s 8ms/step - loss: 1.8364 - val_loss: 1.7722\n",
            "Epoch 127/200\n",
            "22/22 [==============================] - 0s 9ms/step - loss: 1.8080 - val_loss: 1.7382\n",
            "Epoch 128/200\n",
            "22/22 [==============================] - 0s 7ms/step - loss: 1.8573 - val_loss: 1.7506\n",
            "Epoch 129/200\n",
            "22/22 [==============================] - 0s 8ms/step - loss: 1.8236 - val_loss: 2.1293\n",
            "Epoch 130/200\n",
            "22/22 [==============================] - 0s 8ms/step - loss: 1.8991 - val_loss: 1.8720\n",
            "Epoch 131/200\n",
            "22/22 [==============================] - 0s 9ms/step - loss: 1.8399 - val_loss: 1.7877\n",
            "Epoch 132/200\n",
            "22/22 [==============================] - 0s 7ms/step - loss: 1.8384 - val_loss: 1.8463\n",
            "Epoch 133/200\n",
            "22/22 [==============================] - 0s 9ms/step - loss: 1.8432 - val_loss: 1.7486\n",
            "Epoch 134/200\n",
            "22/22 [==============================] - 0s 7ms/step - loss: 1.8364 - val_loss: 1.7398\n",
            "Epoch 135/200\n",
            "22/22 [==============================] - 0s 8ms/step - loss: 1.8515 - val_loss: 1.8177\n",
            "Epoch 136/200\n",
            "22/22 [==============================] - 0s 9ms/step - loss: 1.8336 - val_loss: 1.7439\n",
            "Epoch 137/200\n",
            "22/22 [==============================] - 0s 7ms/step - loss: 1.8195 - val_loss: 1.8339\n",
            "Epoch 138/200\n",
            "22/22 [==============================] - 0s 8ms/step - loss: 1.8383 - val_loss: 1.7541\n",
            "Epoch 139/200\n",
            "22/22 [==============================] - 0s 7ms/step - loss: 1.8170 - val_loss: 1.7392\n",
            "Epoch 140/200\n",
            "22/22 [==============================] - 0s 7ms/step - loss: 1.8459 - val_loss: 1.8119\n",
            "Epoch 141/200\n",
            "22/22 [==============================] - 0s 8ms/step - loss: 1.8369 - val_loss: 1.7603\n",
            "Epoch 142/200\n",
            "22/22 [==============================] - 0s 8ms/step - loss: 1.8131 - val_loss: 1.7893\n",
            "Epoch 143/200\n",
            "22/22 [==============================] - 0s 7ms/step - loss: 1.8060 - val_loss: 1.8457\n",
            "Epoch 144/200\n",
            "22/22 [==============================] - 0s 9ms/step - loss: 1.8524 - val_loss: 1.7710\n",
            "Epoch 145/200\n",
            "22/22 [==============================] - 0s 8ms/step - loss: 1.8212 - val_loss: 1.8124\n",
            "Epoch 146/200\n",
            "22/22 [==============================] - 0s 7ms/step - loss: 1.8337 - val_loss: 2.0258\n",
            "Epoch 147/200\n",
            "22/22 [==============================] - 0s 8ms/step - loss: 1.8196 - val_loss: 1.7781\n",
            "Epoch 148/200\n",
            "22/22 [==============================] - 0s 8ms/step - loss: 1.8350 - val_loss: 1.7325\n",
            "Epoch 149/200\n",
            "22/22 [==============================] - 0s 9ms/step - loss: 1.8173 - val_loss: 1.7669\n",
            "Epoch 150/200\n",
            "22/22 [==============================] - 0s 8ms/step - loss: 1.8161 - val_loss: 1.7813\n",
            "Epoch 151/200\n",
            "22/22 [==============================] - 0s 9ms/step - loss: 1.8130 - val_loss: 1.8088\n",
            "Epoch 152/200\n",
            "22/22 [==============================] - 0s 9ms/step - loss: 1.8048 - val_loss: 1.8596\n",
            "Epoch 153/200\n",
            "22/22 [==============================] - 0s 8ms/step - loss: 1.8498 - val_loss: 1.7578\n",
            "Epoch 154/200\n",
            "22/22 [==============================] - 0s 9ms/step - loss: 1.8243 - val_loss: 1.7420\n",
            "Epoch 155/200\n",
            "22/22 [==============================] - 0s 7ms/step - loss: 1.8295 - val_loss: 1.7704\n",
            "Epoch 156/200\n",
            "22/22 [==============================] - 0s 7ms/step - loss: 1.8320 - val_loss: 1.7522\n",
            "Epoch 157/200\n",
            "22/22 [==============================] - 0s 9ms/step - loss: 1.8634 - val_loss: 1.7758\n",
            "Epoch 158/200\n",
            "22/22 [==============================] - 0s 8ms/step - loss: 1.8067 - val_loss: 1.7718\n",
            "Epoch 159/200\n",
            "22/22 [==============================] - 0s 8ms/step - loss: 1.8074 - val_loss: 1.7942\n",
            "Epoch 160/200\n",
            "22/22 [==============================] - 0s 7ms/step - loss: 1.8098 - val_loss: 1.7798\n",
            "Epoch 161/200\n",
            "22/22 [==============================] - 0s 8ms/step - loss: 1.8138 - val_loss: 1.7897\n",
            "Epoch 162/200\n",
            "22/22 [==============================] - 0s 8ms/step - loss: 1.8373 - val_loss: 1.7463\n",
            "Epoch 163/200\n",
            "22/22 [==============================] - 0s 10ms/step - loss: 1.8279 - val_loss: 1.7949\n",
            "Epoch 164/200\n",
            "22/22 [==============================] - 0s 8ms/step - loss: 1.8048 - val_loss: 1.7707\n",
            "Epoch 165/200\n",
            "22/22 [==============================] - 0s 9ms/step - loss: 1.8262 - val_loss: 1.8619\n",
            "Epoch 166/200\n",
            "22/22 [==============================] - 0s 8ms/step - loss: 1.8058 - val_loss: 1.7672\n",
            "Epoch 167/200\n",
            "22/22 [==============================] - 0s 8ms/step - loss: 1.8068 - val_loss: 1.7438\n",
            "Epoch 168/200\n",
            "22/22 [==============================] - 0s 9ms/step - loss: 1.8140 - val_loss: 1.7873\n",
            "Epoch 169/200\n",
            "22/22 [==============================] - 0s 8ms/step - loss: 1.8142 - val_loss: 1.8015\n",
            "Epoch 170/200\n",
            "22/22 [==============================] - 0s 7ms/step - loss: 1.8013 - val_loss: 1.9411\n",
            "Epoch 171/200\n",
            "22/22 [==============================] - 0s 7ms/step - loss: 1.8217 - val_loss: 1.7697\n",
            "Epoch 172/200\n",
            "22/22 [==============================] - 0s 7ms/step - loss: 1.8223 - val_loss: 1.7797\n",
            "Epoch 173/200\n",
            "22/22 [==============================] - 0s 7ms/step - loss: 1.8017 - val_loss: 1.7647\n",
            "Epoch 174/200\n",
            "22/22 [==============================] - 0s 7ms/step - loss: 1.7934 - val_loss: 1.7451\n",
            "Epoch 175/200\n",
            "22/22 [==============================] - 0s 8ms/step - loss: 1.8147 - val_loss: 1.7465\n",
            "Epoch 176/200\n",
            "22/22 [==============================] - 0s 8ms/step - loss: 1.8549 - val_loss: 1.8238\n",
            "Epoch 177/200\n",
            "22/22 [==============================] - 0s 7ms/step - loss: 1.8117 - val_loss: 1.7419\n",
            "Epoch 178/200\n",
            "22/22 [==============================] - 0s 9ms/step - loss: 1.7926 - val_loss: 1.8387\n",
            "Epoch 179/200\n",
            "22/22 [==============================] - 0s 10ms/step - loss: 1.7915 - val_loss: 1.7572\n",
            "Epoch 180/200\n",
            "22/22 [==============================] - 0s 7ms/step - loss: 1.7976 - val_loss: 1.9642\n",
            "Epoch 181/200\n",
            "22/22 [==============================] - 0s 8ms/step - loss: 1.8462 - val_loss: 1.7339\n",
            "Epoch 182/200\n",
            "22/22 [==============================] - 0s 10ms/step - loss: 1.8244 - val_loss: 1.7878\n",
            "Epoch 183/200\n",
            "22/22 [==============================] - 0s 7ms/step - loss: 1.8280 - val_loss: 1.7558\n",
            "Epoch 184/200\n",
            "22/22 [==============================] - 0s 7ms/step - loss: 1.8073 - val_loss: 1.7660\n",
            "Epoch 185/200\n",
            "22/22 [==============================] - 0s 7ms/step - loss: 1.7908 - val_loss: 1.7527\n",
            "Epoch 186/200\n",
            "22/22 [==============================] - 0s 9ms/step - loss: 1.8200 - val_loss: 1.7657\n",
            "Epoch 187/200\n",
            "22/22 [==============================] - 0s 7ms/step - loss: 1.8248 - val_loss: 1.7438\n",
            "Epoch 188/200\n",
            "22/22 [==============================] - 0s 7ms/step - loss: 1.8172 - val_loss: 1.7365\n",
            "Epoch 189/200\n",
            "22/22 [==============================] - 0s 7ms/step - loss: 1.7828 - val_loss: 1.8463\n",
            "Epoch 190/200\n",
            "22/22 [==============================] - 0s 8ms/step - loss: 1.7942 - val_loss: 1.7340\n",
            "Epoch 191/200\n",
            "22/22 [==============================] - 0s 9ms/step - loss: 1.8253 - val_loss: 1.7328\n",
            "Epoch 192/200\n",
            "22/22 [==============================] - 0s 8ms/step - loss: 1.8037 - val_loss: 1.8173\n",
            "Epoch 193/200\n",
            "22/22 [==============================] - 0s 9ms/step - loss: 1.7881 - val_loss: 1.7500\n",
            "Epoch 194/200\n",
            "22/22 [==============================] - 0s 8ms/step - loss: 1.7850 - val_loss: 1.9687\n",
            "Epoch 195/200\n",
            "22/22 [==============================] - 0s 7ms/step - loss: 1.8063 - val_loss: 1.9769\n",
            "Epoch 196/200\n",
            "22/22 [==============================] - 0s 9ms/step - loss: 1.8006 - val_loss: 1.8113\n",
            "Epoch 197/200\n",
            "22/22 [==============================] - 0s 8ms/step - loss: 1.8315 - val_loss: 1.7789\n",
            "Epoch 198/200\n",
            "22/22 [==============================] - 0s 8ms/step - loss: 1.8152 - val_loss: 1.7526\n",
            "Epoch 199/200\n",
            "22/22 [==============================] - 0s 8ms/step - loss: 1.8019 - val_loss: 1.8070\n",
            "Epoch 200/200\n",
            "22/22 [==============================] - 0s 7ms/step - loss: 1.8052 - val_loss: 1.8425\n"
          ]
        }
      ],
      "source": [
        "history4 = model_conv1D_lstm.fit(X_train_3D, \n",
        "                                 y_train, \n",
        "                                 epochs=200, \n",
        "                                 batch_size=100,\n",
        "                                 validation_data=(X_valid_3D, y_valid))"
      ]
    },
    {
      "cell_type": "code",
      "execution_count": null,
      "metadata": {
        "colab": {
          "base_uri": "https://localhost:8080/"
        },
        "id": "JXR-yGXyUeBI",
        "outputId": "b7534425-a18c-4711-f0cd-bdfb4a4d6248"
      },
      "outputs": [
        {
          "output_type": "stream",
          "name": "stdout",
          "text": [
            "23/23 [==============================] - 0s 4ms/step - loss: 1.7938\n"
          ]
        },
        {
          "output_type": "execute_result",
          "data": {
            "text/plain": [
              "1.7937922477722168"
            ]
          },
          "metadata": {},
          "execution_count": 91
        }
      ],
      "source": [
        "score_conv1D_lstm = model_conv1D_lstm.evaluate(X_test_3D, y_test)\n",
        "score_conv1D_lstm"
      ]
    },
    {
      "cell_type": "markdown",
      "metadata": {
        "id": "Zc2JJBZXUeBI"
      },
      "source": [
        "# 5 – Comparaison des modeles"
      ]
    },
    {
      "cell_type": "code",
      "execution_count": null,
      "metadata": {
        "colab": {
          "base_uri": "https://localhost:8080/",
          "height": 300
        },
        "id": "xAfdCz5eUeBI",
        "outputId": "0f23a82a-35b6-4cb3-8802-2394065c76b3"
      },
      "outputs": [
        {
          "output_type": "execute_result",
          "data": {
            "text/plain": [
              "              Model      Loss\n",
              "0             Naive  2.806483\n",
              "1            Linear  2.109160\n",
              "2         RNN Huber  2.106823\n",
              "3           RNN MSE  2.125441\n",
              "4           Seq2Seq  2.102901\n",
              "5      Seq2Seq LSTM  2.111650\n",
              "6  Seq2Seq LSTM Reg  2.122699\n",
              "7            Conv1D  1.793792"
            ],
            "text/html": [
              "\n",
              "  <div id=\"df-af630836-c7fa-426b-8d78-c4bc2986bc97\">\n",
              "    <div class=\"colab-df-container\">\n",
              "      <div>\n",
              "<style scoped>\n",
              "    .dataframe tbody tr th:only-of-type {\n",
              "        vertical-align: middle;\n",
              "    }\n",
              "\n",
              "    .dataframe tbody tr th {\n",
              "        vertical-align: top;\n",
              "    }\n",
              "\n",
              "    .dataframe thead th {\n",
              "        text-align: right;\n",
              "    }\n",
              "</style>\n",
              "<table border=\"1\" class=\"dataframe\">\n",
              "  <thead>\n",
              "    <tr style=\"text-align: right;\">\n",
              "      <th></th>\n",
              "      <th>Model</th>\n",
              "      <th>Loss</th>\n",
              "    </tr>\n",
              "  </thead>\n",
              "  <tbody>\n",
              "    <tr>\n",
              "      <th>0</th>\n",
              "      <td>Naive</td>\n",
              "      <td>2.806483</td>\n",
              "    </tr>\n",
              "    <tr>\n",
              "      <th>1</th>\n",
              "      <td>Linear</td>\n",
              "      <td>2.109160</td>\n",
              "    </tr>\n",
              "    <tr>\n",
              "      <th>2</th>\n",
              "      <td>RNN Huber</td>\n",
              "      <td>2.106823</td>\n",
              "    </tr>\n",
              "    <tr>\n",
              "      <th>3</th>\n",
              "      <td>RNN MSE</td>\n",
              "      <td>2.125441</td>\n",
              "    </tr>\n",
              "    <tr>\n",
              "      <th>4</th>\n",
              "      <td>Seq2Seq</td>\n",
              "      <td>2.102901</td>\n",
              "    </tr>\n",
              "    <tr>\n",
              "      <th>5</th>\n",
              "      <td>Seq2Seq LSTM</td>\n",
              "      <td>2.111650</td>\n",
              "    </tr>\n",
              "    <tr>\n",
              "      <th>6</th>\n",
              "      <td>Seq2Seq LSTM Reg</td>\n",
              "      <td>2.122699</td>\n",
              "    </tr>\n",
              "    <tr>\n",
              "      <th>7</th>\n",
              "      <td>Conv1D</td>\n",
              "      <td>1.793792</td>\n",
              "    </tr>\n",
              "  </tbody>\n",
              "</table>\n",
              "</div>\n",
              "      <button class=\"colab-df-convert\" onclick=\"convertToInteractive('df-af630836-c7fa-426b-8d78-c4bc2986bc97')\"\n",
              "              title=\"Convert this dataframe to an interactive table.\"\n",
              "              style=\"display:none;\">\n",
              "        \n",
              "  <svg xmlns=\"http://www.w3.org/2000/svg\" height=\"24px\"viewBox=\"0 0 24 24\"\n",
              "       width=\"24px\">\n",
              "    <path d=\"M0 0h24v24H0V0z\" fill=\"none\"/>\n",
              "    <path d=\"M18.56 5.44l.94 2.06.94-2.06 2.06-.94-2.06-.94-.94-2.06-.94 2.06-2.06.94zm-11 1L8.5 8.5l.94-2.06 2.06-.94-2.06-.94L8.5 2.5l-.94 2.06-2.06.94zm10 10l.94 2.06.94-2.06 2.06-.94-2.06-.94-.94-2.06-.94 2.06-2.06.94z\"/><path d=\"M17.41 7.96l-1.37-1.37c-.4-.4-.92-.59-1.43-.59-.52 0-1.04.2-1.43.59L10.3 9.45l-7.72 7.72c-.78.78-.78 2.05 0 2.83L4 21.41c.39.39.9.59 1.41.59.51 0 1.02-.2 1.41-.59l7.78-7.78 2.81-2.81c.8-.78.8-2.07 0-2.86zM5.41 20L4 18.59l7.72-7.72 1.47 1.35L5.41 20z\"/>\n",
              "  </svg>\n",
              "      </button>\n",
              "      \n",
              "  <style>\n",
              "    .colab-df-container {\n",
              "      display:flex;\n",
              "      flex-wrap:wrap;\n",
              "      gap: 12px;\n",
              "    }\n",
              "\n",
              "    .colab-df-convert {\n",
              "      background-color: #E8F0FE;\n",
              "      border: none;\n",
              "      border-radius: 50%;\n",
              "      cursor: pointer;\n",
              "      display: none;\n",
              "      fill: #1967D2;\n",
              "      height: 32px;\n",
              "      padding: 0 0 0 0;\n",
              "      width: 32px;\n",
              "    }\n",
              "\n",
              "    .colab-df-convert:hover {\n",
              "      background-color: #E2EBFA;\n",
              "      box-shadow: 0px 1px 2px rgba(60, 64, 67, 0.3), 0px 1px 3px 1px rgba(60, 64, 67, 0.15);\n",
              "      fill: #174EA6;\n",
              "    }\n",
              "\n",
              "    [theme=dark] .colab-df-convert {\n",
              "      background-color: #3B4455;\n",
              "      fill: #D2E3FC;\n",
              "    }\n",
              "\n",
              "    [theme=dark] .colab-df-convert:hover {\n",
              "      background-color: #434B5C;\n",
              "      box-shadow: 0px 1px 3px 1px rgba(0, 0, 0, 0.15);\n",
              "      filter: drop-shadow(0px 1px 2px rgba(0, 0, 0, 0.3));\n",
              "      fill: #FFFFFF;\n",
              "    }\n",
              "  </style>\n",
              "\n",
              "      <script>\n",
              "        const buttonEl =\n",
              "          document.querySelector('#df-af630836-c7fa-426b-8d78-c4bc2986bc97 button.colab-df-convert');\n",
              "        buttonEl.style.display =\n",
              "          google.colab.kernel.accessAllowed ? 'block' : 'none';\n",
              "\n",
              "        async function convertToInteractive(key) {\n",
              "          const element = document.querySelector('#df-af630836-c7fa-426b-8d78-c4bc2986bc97');\n",
              "          const dataTable =\n",
              "            await google.colab.kernel.invokeFunction('convertToInteractive',\n",
              "                                                     [key], {});\n",
              "          if (!dataTable) return;\n",
              "\n",
              "          const docLinkHtml = 'Like what you see? Visit the ' +\n",
              "            '<a target=\"_blank\" href=https://colab.research.google.com/notebooks/data_table.ipynb>data table notebook</a>'\n",
              "            + ' to learn more about interactive tables.';\n",
              "          element.innerHTML = '';\n",
              "          dataTable['output_type'] = 'display_data';\n",
              "          await google.colab.output.renderOutput(dataTable, element);\n",
              "          const docLink = document.createElement('div');\n",
              "          docLink.innerHTML = docLinkHtml;\n",
              "          element.appendChild(docLink);\n",
              "        }\n",
              "      </script>\n",
              "    </div>\n",
              "  </div>\n",
              "  "
            ]
          },
          "metadata": {},
          "execution_count": 92
        }
      ],
      "source": [
        "\n",
        "df_res = pd.DataFrame({\"Model\" : \n",
        "                      [\"Naive\", \"Linear\", \"RNN Huber\", \"RNN MSE\", \"Seq2Seq\", \"Seq2Seq LSTM\", \n",
        "                       \"Seq2Seq LSTM Reg\", \"Conv1D\"],\n",
        "                       \"Loss\" : [score_naive, score_linear, score_huber[1], score_mse[1], score_seq2seq[1], \n",
        "                       score_seq2seq_LSTM[1], score_seq2seq_LSTM_reg[1] , score_conv1D_lstm]})\n",
        "\n",
        "df_res"
      ]
    }
  ],
  "metadata": {
    "accelerator": "GPU",
    "colab": {
      "provenance": []
    },
    "kernelspec": {
      "display_name": "tf2.10",
      "language": "python",
      "name": "tf2.10"
    },
    "language_info": {
      "codemirror_mode": {
        "name": "ipython",
        "version": 3
      },
      "file_extension": ".py",
      "mimetype": "text/x-python",
      "name": "python",
      "nbconvert_exporter": "python",
      "pygments_lexer": "ipython3",
      "version": "3.8.13"
    },
    "vscode": {
      "interpreter": {
        "hash": "31f2aee4e71d21fbe5cf8b01ff0e069b9275f58929596ceb00d14d90e3e16cd6"
      }
    }
  },
  "nbformat": 4,
  "nbformat_minor": 0
}
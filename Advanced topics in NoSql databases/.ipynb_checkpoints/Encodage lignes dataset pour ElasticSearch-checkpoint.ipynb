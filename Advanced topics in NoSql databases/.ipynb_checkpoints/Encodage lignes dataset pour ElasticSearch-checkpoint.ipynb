{
 "cells": [
  {
   "cell_type": "code",
   "execution_count": 7,
   "id": "73c42487",
   "metadata": {},
   "outputs": [],
   "source": [
    "with open(\"C:\\\\Users\\\\emine\\\\Documents\\\\Ecole\\\\A4\\\\S8\\\\Advanced_topics_in_NoSql_databases\\\\companies2.txt\", \"r\", encoding=\"utf-8\") as f:\n",
    "    lines = f.readlines()\n",
    "\n",
    "with open(\"C:\\\\Users\\\\emine\\\\Documents\\\\Ecole\\\\A4\\\\S8\\\\Advanced_topics_in_NoSql_databases\\\\companies2.txt\", \"w\", encoding=\"utf-8\") as f:\n",
    "    for i, line in enumerate(lines):\n",
    "        f.write('{\"index\":{\"_index\":\"companies2\",\"_id\":%d}}\\n' % (i+1))\n",
    "        f.write(line)"
   ]
  }
 ],
 "metadata": {
  "kernelspec": {
   "display_name": "Python 3 (ipykernel)",
   "language": "python",
   "name": "python3"
  },
  "language_info": {
   "codemirror_mode": {
    "name": "ipython",
    "version": 3
   },
   "file_extension": ".py",
   "mimetype": "text/x-python",
   "name": "python",
   "nbconvert_exporter": "python",
   "pygments_lexer": "ipython3",
   "version": "3.9.13"
  }
 },
 "nbformat": 4,
 "nbformat_minor": 5
}
